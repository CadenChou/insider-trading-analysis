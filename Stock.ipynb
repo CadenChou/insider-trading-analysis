{
  "nbformat": 4,
  "nbformat_minor": 0,
  "metadata": {
    "colab": {
      "provenance": [],
      "include_colab_link": true
    },
    "kernelspec": {
      "name": "python3",
      "display_name": "Python 3"
    },
    "language_info": {
      "name": "python"
    }
  },
  "cells": [
    {
      "cell_type": "markdown",
      "metadata": {
        "id": "view-in-github",
        "colab_type": "text"
      },
      "source": [
        "<a href=\"https://colab.research.google.com/github/CadenChou/insider-trading-analysis/blob/main/Stock.ipynb\" target=\"_parent\"><img src=\"https://colab.research.google.com/assets/colab-badge.svg\" alt=\"Open In Colab\"/></a>"
      ]
    },
    {
      "cell_type": "code",
      "execution_count": null,
      "metadata": {
        "id": "C3uaEvygl0JH",
        "colab": {
          "base_uri": "https://localhost:8080/"
        },
        "outputId": "1e54ddcd-507d-426b-b30a-740e1b806cf8"
      },
      "outputs": [
        {
          "output_type": "stream",
          "name": "stdout",
          "text": [
            "Requirement already satisfied: yfinance in /usr/local/lib/python3.11/dist-packages (0.2.52)\n",
            "Requirement already satisfied: python-dateutil in /usr/local/lib/python3.11/dist-packages (2.8.2)\n",
            "Requirement already satisfied: pandas>=1.3.0 in /usr/local/lib/python3.11/dist-packages (from yfinance) (2.2.2)\n",
            "Requirement already satisfied: numpy>=1.16.5 in /usr/local/lib/python3.11/dist-packages (from yfinance) (1.26.4)\n",
            "Requirement already satisfied: requests>=2.31 in /usr/local/lib/python3.11/dist-packages (from yfinance) (2.32.3)\n",
            "Requirement already satisfied: multitasking>=0.0.7 in /usr/local/lib/python3.11/dist-packages (from yfinance) (0.0.11)\n",
            "Requirement already satisfied: lxml>=4.9.1 in /usr/local/lib/python3.11/dist-packages (from yfinance) (5.3.0)\n",
            "Requirement already satisfied: platformdirs>=2.0.0 in /usr/local/lib/python3.11/dist-packages (from yfinance) (4.3.6)\n",
            "Requirement already satisfied: pytz>=2022.5 in /usr/local/lib/python3.11/dist-packages (from yfinance) (2025.1)\n",
            "Requirement already satisfied: frozendict>=2.3.4 in /usr/local/lib/python3.11/dist-packages (from yfinance) (2.4.6)\n",
            "Requirement already satisfied: peewee>=3.16.2 in /usr/local/lib/python3.11/dist-packages (from yfinance) (3.17.9)\n",
            "Requirement already satisfied: beautifulsoup4>=4.11.1 in /usr/local/lib/python3.11/dist-packages (from yfinance) (4.13.3)\n",
            "Requirement already satisfied: html5lib>=1.1 in /usr/local/lib/python3.11/dist-packages (from yfinance) (1.1)\n",
            "Requirement already satisfied: six>=1.5 in /usr/local/lib/python3.11/dist-packages (from python-dateutil) (1.17.0)\n",
            "Requirement already satisfied: soupsieve>1.2 in /usr/local/lib/python3.11/dist-packages (from beautifulsoup4>=4.11.1->yfinance) (2.6)\n",
            "Requirement already satisfied: typing-extensions>=4.0.0 in /usr/local/lib/python3.11/dist-packages (from beautifulsoup4>=4.11.1->yfinance) (4.12.2)\n",
            "Requirement already satisfied: webencodings in /usr/local/lib/python3.11/dist-packages (from html5lib>=1.1->yfinance) (0.5.1)\n",
            "Requirement already satisfied: tzdata>=2022.7 in /usr/local/lib/python3.11/dist-packages (from pandas>=1.3.0->yfinance) (2025.1)\n",
            "Requirement already satisfied: charset-normalizer<4,>=2 in /usr/local/lib/python3.11/dist-packages (from requests>=2.31->yfinance) (3.4.1)\n",
            "Requirement already satisfied: idna<4,>=2.5 in /usr/local/lib/python3.11/dist-packages (from requests>=2.31->yfinance) (3.10)\n",
            "Requirement already satisfied: urllib3<3,>=1.21.1 in /usr/local/lib/python3.11/dist-packages (from requests>=2.31->yfinance) (2.3.0)\n",
            "Requirement already satisfied: certifi>=2017.4.17 in /usr/local/lib/python3.11/dist-packages (from requests>=2.31->yfinance) (2025.1.31)\n"
          ]
        }
      ],
      "source": [
        "\n",
        "!pip install yfinance python-dateutil\n"
      ]
    },
    {
      "cell_type": "code",
      "source": [
        "import requests\n",
        "import pandas as pd\n",
        "import urllib.parse\n",
        "from datetime import datetime, timedelta\n",
        "from dateutil.relativedelta import relativedelta\n",
        "import yfinance as yf\n",
        "from bs4 import BeautifulSoup\n",
        "\n",
        "def fetch_insider_data():\n",
        "    \"\"\"\n",
        "    Fetch insider trading data from OpenInsider based on user inputs.\n",
        "    Returns a pandas DataFrame containing the scraped table.\n",
        "    Assumes that the table contains columns such as 'ticker', 'trade date', 'insider name', and 'price'.\n",
        "    \"\"\"\n",
        "    # -----------------------------\n",
        "    # Step 1: Get user inputs\n",
        "    # -----------------------------\n",
        "    trade_start_input = input(\"Enter trade start date (YYYY-MM-DD): \").strip()\n",
        "    trade_end_input = input(\"Enter trade end date (YYYY-MM-DD): \").strip()\n",
        "    insider_name = input(\"Enter insider name (press Enter to skip): \").strip()\n",
        "    trade_type = input(\"Enter trade type (purchase, sale, or both): \").strip().lower()\n",
        "\n",
        "    # -----------------------------\n",
        "    # Step 2: Convert dates to MM/DD/YYYY and construct tdr parameter\n",
        "    # -----------------------------\n",
        "    try:\n",
        "        trade_start_dt = datetime.strptime(trade_start_input, '%Y-%m-%d')\n",
        "        trade_end_dt = datetime.strptime(trade_end_input, '%Y-%m-%d')\n",
        "    except ValueError as e:\n",
        "        print(\"Error converting dates:\", e)\n",
        "        exit()\n",
        "\n",
        "    trade_start_str = trade_start_dt.strftime(\"%m/%d/%Y\")\n",
        "    trade_end_str = trade_end_dt.strftime(\"%m/%d/%Y\")\n",
        "    tdr_param = f\"{trade_start_str} - {trade_end_str}\"\n",
        "\n",
        "    # -----------------------------\n",
        "    # Step 3: Build the query URL\n",
        "    # -----------------------------\n",
        "    base_url = \"http://openinsider.com/screener\"\n",
        "    params = {\n",
        "        \"s\": \"\",\n",
        "        \"o\": \"\",\n",
        "        \"pl\": \"\",\n",
        "        \"ph\": \"\",\n",
        "        \"ll\": \"\",\n",
        "        \"lh\": \"\",\n",
        "        \"fd\": \"0\",\n",
        "        \"fdr\": \"\",\n",
        "        \"td\": \"-1\",\n",
        "        \"tdr\": tdr_param,\n",
        "        \"fdlyl\": \"\",\n",
        "        \"fdlyh\": \"\",\n",
        "        \"daysago\": \"\",\n",
        "        \"vl\": \"\",\n",
        "        \"vh\": \"\",\n",
        "        \"ocl\": \"\",\n",
        "        \"och\": \"\",\n",
        "        \"sic1\": \"-1\",\n",
        "        \"sicl\": \"100\",\n",
        "        \"sich\": \"9999\",\n",
        "        \"grp\": \"0\",\n",
        "        \"nfl\": \"\",\n",
        "        \"nfh\": \"\",\n",
        "        \"nil\": \"\",\n",
        "        \"nih\": \"\",\n",
        "        \"nol\": \"\",\n",
        "        \"noh\": \"\",\n",
        "        \"v2l\": \"\",\n",
        "        \"v2h\": \"\",\n",
        "        \"oc2l\": \"\",\n",
        "        \"oc2h\": \"\",\n",
        "        \"sortcol\": \"0\",\n",
        "        \"cnt\": \"1000\",\n",
        "        \"page\": \"1\"\n",
        "    }\n",
        "\n",
        "    if insider_name:\n",
        "        params[\"pn\"] = insider_name  # 'pn' is the insider name parameter\n",
        "\n",
        "    if trade_type == \"purchase\":\n",
        "        params[\"xp\"] = \"1\"\n",
        "    elif trade_type == \"sale\":\n",
        "        params[\"xs\"] = \"1\"\n",
        "    elif trade_type == \"both\":\n",
        "        params[\"xp\"] = \"1\"\n",
        "        params[\"xs\"] = \"1\"\n",
        "    else:\n",
        "        print(\"Invalid trade type. Please enter 'purchase', 'sale', or 'both'.\")\n",
        "        exit()\n",
        "\n",
        "    query_string = urllib.parse.urlencode(params)\n",
        "    url = f\"{base_url}?{query_string}\"\n",
        "    print(\"Fetching insider trading data from:\", url)\n",
        "\n",
        "    # -----------------------------\n",
        "    # Step 4: Fetch and parse the page\n",
        "    # -----------------------------\n",
        "    headers = {\"User-Agent\": \"Mozilla/5.0\"}\n",
        "    response = requests.get(url, headers=headers)\n",
        "    if response.status_code != 200:\n",
        "        print(f\"Failed to retrieve insider trading data. HTTP status code: {response.status_code}\")\n",
        "        exit()\n",
        "\n",
        "    soup = BeautifulSoup(response.text, \"html.parser\")\n",
        "    table = soup.find(\"table\", {\"class\": \"tinytable\"})\n",
        "    if not table:\n",
        "        print(\"Could not find the data table on the page.\")\n",
        "        exit()\n",
        "\n",
        "    rows = table.find_all(\"tr\")\n",
        "    if len(rows) < 2:\n",
        "        print(\"The table does not appear to have data rows.\")\n",
        "        exit()\n",
        "\n",
        "    # -----------------------------\n",
        "    # Step 5: Extract headers and data rows\n",
        "    # -----------------------------\n",
        "    header_row = rows[0]\n",
        "    column_names = [cell.text.strip() for cell in header_row.find_all(\"th\")]\n",
        "    if not column_names:  # Fallback if <th> tags are not used\n",
        "        column_names = [cell.text.strip() for cell in header_row.find_all(\"td\")]\n",
        "\n",
        "    data = []\n",
        "    for row in rows[1:]:\n",
        "        cols = row.find_all(\"td\")\n",
        "        if len(cols) == len(column_names):\n",
        "            data.append([col.text.strip() for col in cols])\n",
        "\n",
        "    if not data:\n",
        "        print(\"No insider trading data rows found.\")\n",
        "        exit()\n",
        "\n",
        "    df = pd.DataFrame(data, columns=column_names)\n",
        "    # Normalize column names: replace non-breaking spaces, strip, and lowercase.\n",
        "    df.columns = [col.strip().replace('\\xa0', ' ').lower() for col in df.columns]\n",
        "\n",
        "    print(\"\\nInsider Trading Data Preview:\")\n",
        "    print(df.head())\n",
        "    print(\"\\nColumns found:\", df.columns.tolist())\n",
        "\n",
        "    return df\n",
        "\n",
        "def get_price_on_or_after(df, target):\n",
        "    \"\"\"\n",
        "    Given a DataFrame with a DateTimeIndex and a target date,\n",
        "    return the closing price and actual date of the first trading day\n",
        "    on or after the target date.\n",
        "    \"\"\"\n",
        "    target_ts = pd.Timestamp(target)\n",
        "    available = df[df.index >= target_ts]\n",
        "    if not available.empty:\n",
        "        actual_date = available.index[0].date()\n",
        "        price = available.iloc[0]['Close']\n",
        "        if isinstance(price, pd.Series):\n",
        "            price = price.iloc[0]\n",
        "        return price, actual_date\n",
        "    return None, None\n",
        "\n",
        "def get_stock_prices(ticker, start_date):\n",
        "    \"\"\"\n",
        "    Given a stock ticker and a starting date (as a date object),\n",
        "    download historical data using yfinance and return a dictionary\n",
        "    of closing prices for several time offsets relative to start_date.\n",
        "    \"\"\"\n",
        "    offsets = {\n",
        "        \"starting date\": start_date,\n",
        "        \"3 days\": start_date + timedelta(days=3),\n",
        "        \"1 week\": start_date + timedelta(weeks=1),\n",
        "        \"2 weeks\": start_date + timedelta(weeks=2),\n",
        "        \"1 month\": start_date + relativedelta(months=1),\n",
        "        \"3 months\": start_date + relativedelta(months=3),\n",
        "        \"6 months\": start_date + relativedelta(months=6),\n",
        "        \"1 year\": start_date + relativedelta(years=1)\n",
        "    }\n",
        "    last_date = max(offsets.values()) + timedelta(days=5)\n",
        "\n",
        "    data = yf.download(\n",
        "        ticker,\n",
        "        start=start_date.strftime(\"%Y-%m-%d\"),\n",
        "        end=last_date.strftime(\"%Y-%m-%d\")\n",
        "    )\n",
        "\n",
        "    if data.empty:\n",
        "        print(f\"No historical data found for {ticker}.\")\n",
        "        return None\n",
        "\n",
        "    prices = {}\n",
        "    for label, target_date in offsets.items():\n",
        "        price, actual_date = get_price_on_or_after(data, target_date)\n",
        "        prices[label] = {\"target\": target_date, \"actual\": actual_date, \"price\": price}\n",
        "    return prices\n",
        "\n",
        "def main():\n",
        "    # Fetch insider trading data.\n",
        "    insider_df = fetch_insider_data()\n",
        "\n",
        "    # We expect the normalized columns to include 'ticker', 'trade date', and 'price'\n",
        "    if \"ticker\" not in insider_df.columns or \"trade date\" not in insider_df.columns or \"price\" not in insider_df.columns:\n",
        "        print(\"Expected columns 'ticker', 'trade date', and 'price' not found in data. Please check the DataFrame columns above.\")\n",
        "        return\n",
        "\n",
        "    # List to hold each enriched row (original insider row plus price details).\n",
        "    final_rows = []\n",
        "\n",
        "    # Offsets we expect (and the order we want them in the CSV).\n",
        "    offsets_list = [\"starting date\", \"3 days\", \"1 week\", \"2 weeks\", \"1 month\", \"3 months\", \"6 months\", \"1 year\"]\n",
        "\n",
        "    # Iterate over each insider trade row.\n",
        "    for idx, row in insider_df.iterrows():\n",
        "        ticker = row.get(\"ticker\")\n",
        "        trade_date_str = row.get(\"trade date\")\n",
        "        insider = row.get(\"insider name\") or \"N/A\"\n",
        "\n",
        "        # Copy the original row into a dictionary.\n",
        "        row_data = row.to_dict()\n",
        "\n",
        "        if not ticker or not trade_date_str:\n",
        "            print(f\"Row {idx} is missing ticker or trade date. Skipping.\")\n",
        "            continue\n",
        "\n",
        "        # Try parsing the trade date using multiple formats.\n",
        "        trade_date = None\n",
        "        for fmt in (\"%m/%d/%Y\", \"%Y-%m-%d\"):\n",
        "            try:\n",
        "                trade_date = datetime.strptime(trade_date_str, fmt).date()\n",
        "                break\n",
        "            except ValueError:\n",
        "                continue\n",
        "\n",
        "        if trade_date is None:\n",
        "            print(f\"Error parsing trade date '{trade_date_str}' for ticker {ticker}. Skipping.\")\n",
        "            continue\n",
        "\n",
        "        prices = get_stock_prices(ticker, trade_date)\n",
        "        if prices is None:\n",
        "            # If no price data, add None for all new columns.\n",
        "            for offset in offsets_list:\n",
        "                col_price = f\"{offset.replace(' ', '_')}_price\"\n",
        "                col_pct = f\"{offset.replace(' ', '_')}_percent_gain\"\n",
        "                row_data[col_price] = None\n",
        "                row_data[col_pct] = None\n",
        "            final_rows.append(row_data)\n",
        "            continue\n",
        "\n",
        "        # Retrieve base price (from yfinance \"starting date\").\n",
        "        base_info = prices.get(\"starting date\")\n",
        "        if base_info is None or base_info.get(\"price\") is None:\n",
        "            print(\"No starting price available from yfinance. Skipping net gain calculation.\")\n",
        "            for offset in offsets_list:\n",
        "                col_price = f\"{offset.replace(' ', '_')}_price\"\n",
        "                col_pct = f\"{offset.replace(' ', '_')}_percent_gain\"\n",
        "                row_data[col_price] = None\n",
        "                row_data[col_pct] = None\n",
        "            final_rows.append(row_data)\n",
        "            continue\n",
        "\n",
        "        base_price = base_info[\"price\"]\n",
        "\n",
        "        # --- New Filtering Step ---\n",
        "        # Compare the insider trade's reported price to the yfinance starting date price.\n",
        "        # We assume the insider trade's price is in the \"price\" field.\n",
        "        insider_price_str = row.get(\"price\", \"\")\n",
        "        try:\n",
        "            # Remove any $ or commas before conversion.\n",
        "            insider_price = float(insider_price_str.replace(\"$\", \"\").replace(\",\", \"\"))\n",
        "        except Exception as e:\n",
        "            print(f\"Skipping trade for {ticker} on {trade_date} because insider trade price '{insider_price_str}' is invalid.\")\n",
        "            continue\n",
        "\n",
        "        percent_diff = abs((base_price - insider_price) / insider_price) * 100\n",
        "        if percent_diff > 15:\n",
        "            print(f\"Skipping trade for {ticker} on {trade_date} because insider trade price ${insider_price:.2f} and yfinance price ${base_price:.2f} differ by {percent_diff:.2f}% (>15%).\")\n",
        "            continue\n",
        "\n",
        "        # For each offset, add the price and computed percent gain columns.\n",
        "        for offset in offsets_list:\n",
        "            info = prices.get(offset, {})\n",
        "            price = info.get(\"price\")\n",
        "            col_price = f\"{offset.replace(' ', '_')}_price\"\n",
        "            col_pct = f\"{offset.replace(' ', '_')}_percent_gain\"\n",
        "            row_data[col_price] = price\n",
        "            if price is not None:\n",
        "                if offset == \"starting date\":\n",
        "                    row_data[col_pct] = 0.0\n",
        "                else:\n",
        "                    net_gain = price - base_price\n",
        "                    percent_gain = (net_gain / base_price) * 100\n",
        "                    row_data[col_pct] = percent_gain\n",
        "            else:\n",
        "                row_data[col_pct] = None\n",
        "\n",
        "        final_rows.append(row_data)\n",
        "\n",
        "    # Create a new DataFrame with the enriched data.\n",
        "    final_df = pd.DataFrame(final_rows)\n",
        "\n",
        "    # --- Formatting the price and percent gain columns ---\n",
        "    for offset in offsets_list:\n",
        "        price_col = f\"{offset.replace(' ', '_')}_price\"\n",
        "        pct_col = f\"{offset.replace(' ', '_')}_percent_gain\"\n",
        "        final_df[price_col] = final_df[price_col].apply(\n",
        "            lambda x: f\"${float(x):.2f}\" if pd.notnull(x) else \"\"\n",
        "        )\n",
        "        final_df[pct_col] = final_df[pct_col].apply(\n",
        "            lambda x: f\"{float(x):.2f}%\" if pd.notnull(x) else \"\"\n",
        "        )\n",
        "\n",
        "    # Optionally, preview the final DataFrame.\n",
        "    print(\"Final Data Preview:\")\n",
        "    print(final_df.head())\n",
        "\n",
        "    # Write the final DataFrame to a CSV file.\n",
        "    output_filename = \"insider_trading_with_prices.csv\"\n",
        "    final_df.to_csv(output_filename, index=False)\n",
        "    print(f\"Data written to {output_filename}\")\n",
        "\n",
        "if __name__ == \"__main__\":\n",
        "    main()\n"
      ],
      "metadata": {
        "colab": {
          "base_uri": "https://localhost:8080/"
        },
        "id": "Wpc3fGvzRTRZ",
        "outputId": "391ec274-816c-42b6-96b0-2590d8cba49d"
      },
      "execution_count": 2,
      "outputs": [
        {
          "output_type": "stream",
          "name": "stdout",
          "text": [
            "Enter trade start date (YYYY-MM-DD): 2023-01-01\n",
            "Enter trade end date (YYYY-MM-DD): 2024-01-01\n",
            "Enter insider name (press Enter to skip): \n",
            "Enter trade type (purchase, sale, or both): purchase\n",
            "Fetching insider trading data from: http://openinsider.com/screener?s=&o=&pl=&ph=&ll=&lh=&fd=0&fdr=&td=-1&tdr=01%2F01%2F2023+-+01%2F01%2F2024&fdlyl=&fdlyh=&daysago=&vl=&vh=&ocl=&och=&sic1=-1&sicl=100&sich=9999&grp=0&nfl=&nfh=&nil=&nih=&nol=&noh=&v2l=&v2h=&oc2l=&oc2h=&sortcol=0&cnt=1000&page=1&xp=1\n"
          ]
        },
        {
          "output_type": "stream",
          "name": "stderr",
          "text": [
            "\r[*********************100%***********************]  1 of 1 completed"
          ]
        },
        {
          "output_type": "stream",
          "name": "stdout",
          "text": [
            "\n",
            "Insider Trading Data Preview:\n",
            "    x          filing date  trade date ticker  \\\n",
            "0  AM  2025-01-23 13:59:27  2023-12-12   RNGE   \n",
            "1   M  2025-01-16 09:01:15  2023-05-22   BLTH   \n",
            "2   A  2025-01-15 16:15:35  2023-09-13   BHRB   \n",
            "3   M  2025-01-06 07:35:16  2024-01-02   USEG   \n",
            "4   M  2024-12-19 14:38:09  2023-06-09    ONB   \n",
            "\n",
            "                               company name       insider name title  \\\n",
            "0                        Range Impact, Inc.  Loconti Joseph E.   10%   \n",
            "1          American Battery Materials, Inc.  Suckling Andrew P   Dir   \n",
            "2  Burke & Herbert Financial Services Corp.  Riojas Jose David   Dir   \n",
            "3                            Us Energy Corp   Smith Ryan Lewis   CEO   \n",
            "4                 Old National Bancorp /in/    Rudnick Ellen A   Dir   \n",
            "\n",
            "     trade type   price       qty      owned δown     value 1d 1w 1m 6m  \n",
            "0  P - Purchase   $0.17  +130,726  4,842,377  +3%  +$22,102              \n",
            "1  P - Purchase   $1.35   +11,112     11,112  New  +$15,001              \n",
            "2  P - Purchase  $48.66    +1,000     15,600  +7%  +$48,660              \n",
            "3  P - Purchase   $1.66    +1,005    872,550   0%   +$1,668              \n",
            "4  P - Purchase  $14.09       +64     62,698   0%     +$902              \n",
            "\n",
            "Columns found: ['x', 'filing date', 'trade date', 'ticker', 'company name', 'insider name', 'title', 'trade type', 'price', 'qty', 'owned', 'δown', 'value', '1d', '1w', '1m', '6m']\n"
          ]
        },
        {
          "output_type": "stream",
          "name": "stderr",
          "text": [
            "\n",
            "[*********************100%***********************]  1 of 1 completed\n",
            "[*********************100%***********************]  1 of 1 completed\n"
          ]
        },
        {
          "output_type": "stream",
          "name": "stdout",
          "text": [
            "Skipping trade for BLTH on 2023-05-22 because insider trade price $1.35 and yfinance price $11.70 differ by 766.67% (>15%).\n"
          ]
        },
        {
          "output_type": "stream",
          "name": "stderr",
          "text": [
            "\r[*********************100%***********************]  1 of 1 completed\n"
          ]
        },
        {
          "output_type": "stream",
          "name": "stdout",
          "text": [
            "Skipping trade for USEG on 2024-01-02 because insider trade price $1.66 and yfinance price $1.09 differ by 34.34% (>15%).\n"
          ]
        },
        {
          "output_type": "stream",
          "name": "stderr",
          "text": [
            "[*********************100%***********************]  1 of 1 completed\n",
            "[*********************100%***********************]  1 of 1 completed\n",
            "[*********************100%***********************]  1 of 1 completed\n",
            "[*********************100%***********************]  1 of 1 completed\n",
            "[*********************100%***********************]  1 of 1 completed\n",
            "[*********************100%***********************]  1 of 1 completed\n"
          ]
        },
        {
          "output_type": "stream",
          "name": "stdout",
          "text": [
            "Skipping trade for CALC on 2023-05-17 because insider trade price $2.68 and yfinance price $5.84 differ by 117.91% (>15%).\n"
          ]
        },
        {
          "output_type": "stream",
          "name": "stderr",
          "text": [
            "[*********************100%***********************]  1 of 1 completed\n",
            "[*********************100%***********************]  1 of 1 completed\n",
            "[*********************100%***********************]  1 of 1 completed\n",
            "[*********************100%***********************]  1 of 1 completed\n",
            "ERROR:yfinance:\n",
            "1 Failed download:\n",
            "ERROR:yfinance:['BIOE']: YFPricesMissingError('$%ticker%: possibly delisted; no price data found  (1d 2023-06-06 -> 2024-06-11) (Yahoo error = \"Data doesn\\'t exist for startDate = 1686024000, endDate = 1718078400\")')\n",
            "[*********************100%***********************]  1 of 1 completed\n"
          ]
        },
        {
          "output_type": "stream",
          "name": "stdout",
          "text": [
            "No historical data found for BIOE.\n"
          ]
        },
        {
          "output_type": "stream",
          "name": "stderr",
          "text": [
            "[*********************100%***********************]  1 of 1 completed\n",
            "[*********************100%***********************]  1 of 1 completed\n"
          ]
        },
        {
          "output_type": "stream",
          "name": "stdout",
          "text": [
            "Skipping trade for PROP on 2023-09-07 because insider trade price $3.05 and yfinance price $10.03 differ by 228.83% (>15%).\n"
          ]
        },
        {
          "output_type": "stream",
          "name": "stderr",
          "text": [
            "[*********************100%***********************]  1 of 1 completed\n",
            "[*********************100%***********************]  1 of 1 completed\n",
            "[*********************100%***********************]  1 of 1 completed\n"
          ]
        },
        {
          "output_type": "stream",
          "name": "stdout",
          "text": [
            "Skipping trade for SYRA on 2023-09-29 because insider trade price $0.92 and yfinance price $3.00 differ by 226.09% (>15%).\n",
            "Skipping trade for QDMI on 2023-02-01 because insider trade price $0.01 and yfinance price $1.00 differ by 9900.00% (>15%).\n"
          ]
        },
        {
          "output_type": "stream",
          "name": "stderr",
          "text": [
            "[*********************100%***********************]  1 of 1 completed\n",
            "[*********************100%***********************]  1 of 1 completed\n",
            "[*********************100%***********************]  1 of 1 completed\n",
            "[*********************100%***********************]  1 of 1 completed\n",
            "[*********************100%***********************]  1 of 1 completed\n"
          ]
        },
        {
          "output_type": "stream",
          "name": "stdout",
          "text": [
            "Skipping trade for QDMI on 2023-02-01 because insider trade price $0.01 and yfinance price $1.00 differ by 9900.00% (>15%).\n",
            "Skipping trade for QDMI on 2023-02-01 because insider trade price $0.01 and yfinance price $1.00 differ by 9900.00% (>15%).\n"
          ]
        },
        {
          "output_type": "stream",
          "name": "stderr",
          "text": [
            "[*********************100%***********************]  1 of 1 completed\n",
            "[*********************100%***********************]  1 of 1 completed\n",
            "[*********************100%***********************]  1 of 1 completed\n",
            "[*********************100%***********************]  1 of 1 completed\n",
            "[*********************100%***********************]  1 of 1 completed\n"
          ]
        },
        {
          "output_type": "stream",
          "name": "stdout",
          "text": [
            "Skipping trade for SCND on 2023-12-13 because insider trade price $2.00 and yfinance price $2.42 differ by 21.00% (>15%).\n",
            "Skipping trade for CTBI on 2024-01-02 because insider trade price $32.31 and yfinance price $42.23 differ by 30.71% (>15%).\n"
          ]
        },
        {
          "output_type": "stream",
          "name": "stderr",
          "text": [
            "[*********************100%***********************]  1 of 1 completed\n",
            "[*********************100%***********************]  1 of 1 completed\n",
            "[*********************100%***********************]  1 of 1 completed\n"
          ]
        },
        {
          "output_type": "stream",
          "name": "stdout",
          "text": [
            "Skipping trade for SERV on 2023-07-31 because insider trade price $4.00 and yfinance price $23.80 differ by 495.00% (>15%).\n",
            "Skipping trade for FLNT on 2023-12-11 because insider trade price $0.52 and yfinance price $2.88 differ by 453.85% (>15%).\n"
          ]
        },
        {
          "output_type": "stream",
          "name": "stderr",
          "text": [
            "\r[*********************100%***********************]  1 of 1 completed"
          ]
        },
        {
          "output_type": "stream",
          "name": "stdout",
          "text": [
            "Skipping trade for FLNT on 2023-12-11 because insider trade price $4.90 and yfinance price $2.88 differ by 41.22% (>15%).\n"
          ]
        },
        {
          "output_type": "stream",
          "name": "stderr",
          "text": [
            "\n",
            "\r[*********************100%***********************]  1 of 1 completed\n"
          ]
        },
        {
          "output_type": "stream",
          "name": "stdout",
          "text": [
            "Skipping trade for SCND on 2023-12-19 because insider trade price $2.00 and yfinance price $2.40 differ by 20.00% (>15%).\n"
          ]
        },
        {
          "output_type": "stream",
          "name": "stderr",
          "text": [
            "[*********************100%***********************]  1 of 1 completed\n",
            "[*********************100%***********************]  1 of 1 completed\n",
            "ERROR:yfinance:\n",
            "1 Failed download:\n",
            "ERROR:yfinance:['BIOE']: YFPricesMissingError('$%ticker%: possibly delisted; no price data found  (1d 2023-06-06 -> 2024-06-11) (Yahoo error = \"Data doesn\\'t exist for startDate = 1686024000, endDate = 1718078400\")')\n",
            "[*********************100%***********************]  1 of 1 completed\n",
            "[*********************100%***********************]  1 of 1 completed\n"
          ]
        },
        {
          "output_type": "stream",
          "name": "stdout",
          "text": [
            "No historical data found for BIOE.\n",
            "Skipping trade for PROP on 2023-09-07 because insider trade price $3.05 and yfinance price $10.03 differ by 228.83% (>15%).\n"
          ]
        },
        {
          "output_type": "stream",
          "name": "stderr",
          "text": [
            "[*********************100%***********************]  1 of 1 completed\n",
            "[*********************100%***********************]  1 of 1 completed\n",
            "[*********************100%***********************]  1 of 1 completed\n",
            "[*********************100%***********************]  1 of 1 completed\n",
            "[*********************100%***********************]  1 of 1 completed\n"
          ]
        },
        {
          "output_type": "stream",
          "name": "stdout",
          "text": [
            "Skipping trade for ASTC on 2023-05-23 because insider trade price $9.49 and yfinance price $11.41 differ by 20.23% (>15%).\n"
          ]
        },
        {
          "output_type": "stream",
          "name": "stderr",
          "text": [
            "[*********************100%***********************]  1 of 1 completed\n",
            "[*********************100%***********************]  1 of 1 completed\n",
            "[*********************100%***********************]  1 of 1 completed\n",
            "[*********************100%***********************]  1 of 1 completed\n",
            "[*********************100%***********************]  1 of 1 completed\n",
            "[*********************100%***********************]  1 of 1 completed\n",
            "[*********************100%***********************]  1 of 1 completed\n",
            "[*********************100%***********************]  1 of 1 completed\n"
          ]
        },
        {
          "output_type": "stream",
          "name": "stdout",
          "text": [
            "Skipping trade for RYES on 2023-12-07 because insider trade price $0.18 and yfinance price $0.22 differ by 22.22% (>15%).\n"
          ]
        },
        {
          "output_type": "stream",
          "name": "stderr",
          "text": [
            "[*********************100%***********************]  1 of 1 completed\n",
            "[*********************100%***********************]  1 of 1 completed\n",
            "[*********************100%***********************]  1 of 1 completed\n",
            "[*********************100%***********************]  1 of 1 completed\n",
            "[*********************100%***********************]  1 of 1 completed\n"
          ]
        },
        {
          "output_type": "stream",
          "name": "stdout",
          "text": [
            "Skipping trade for NORD on 2023-09-08 because insider trade price $1.00 and yfinance price $8.00 differ by 700.00% (>15%).\n"
          ]
        },
        {
          "output_type": "stream",
          "name": "stderr",
          "text": [
            "[*********************100%***********************]  1 of 1 completed\n",
            "[*********************100%***********************]  1 of 1 completed\n",
            "[*********************100%***********************]  1 of 1 completed\n"
          ]
        },
        {
          "output_type": "stream",
          "name": "stdout",
          "text": [
            "Skipping trade for SST on 2023-12-15 because insider trade price $1.42 and yfinance price $1.83 differ by 28.87% (>15%).\n"
          ]
        },
        {
          "output_type": "stream",
          "name": "stderr",
          "text": [
            "[*********************100%***********************]  1 of 1 completed\n",
            "[*********************100%***********************]  1 of 1 completed\n"
          ]
        },
        {
          "output_type": "stream",
          "name": "stdout",
          "text": [
            "Skipping trade for ASTC on 2023-03-15 because insider trade price $8.50 and yfinance price $10.61 differ by 24.82% (>15%).\n",
            "Skipping trade for TPB on 2023-03-14 because insider trade price $27.97 and yfinance price $20.11 differ by 28.11% (>15%).\n"
          ]
        },
        {
          "output_type": "stream",
          "name": "stderr",
          "text": [
            "\r[*********************100%***********************]  1 of 1 completed\n",
            "ERROR:yfinance:\n",
            "1 Failed download:\n",
            "ERROR:yfinance:['TLRS']: YFTzMissingError('$%ticker%: possibly delisted; no timezone found')\n",
            "[*********************100%***********************]  1 of 1 completed\n",
            "ERROR:yfinance:\n",
            "1 Failed download:\n",
            "ERROR:yfinance:['TLRS']: YFTzMissingError('$%ticker%: possibly delisted; no timezone found')\n",
            "[*********************100%***********************]  1 of 1 completed\n",
            "ERROR:yfinance:\n",
            "1 Failed download:\n",
            "ERROR:yfinance:['TLRS']: YFTzMissingError('$%ticker%: possibly delisted; no timezone found')\n",
            "[*********************100%***********************]  1 of 1 completed\n",
            "ERROR:yfinance:\n",
            "1 Failed download:\n",
            "ERROR:yfinance:['TLRS']: YFTzMissingError('$%ticker%: possibly delisted; no timezone found')\n",
            "[*********************100%***********************]  1 of 1 completed\n"
          ]
        },
        {
          "output_type": "stream",
          "name": "stdout",
          "text": [
            "No historical data found for TLRS.\n",
            "No historical data found for TLRS.\n",
            "No historical data found for TLRS.\n",
            "No historical data found for TLRS.\n"
          ]
        },
        {
          "output_type": "stream",
          "name": "stderr",
          "text": [
            "[*********************100%***********************]  1 of 1 completed\n",
            "[*********************100%***********************]  1 of 1 completed\n"
          ]
        },
        {
          "output_type": "stream",
          "name": "stdout",
          "text": [
            "Skipping trade for FLNT on 2023-03-14 because insider trade price $0.55 and yfinance price $7.20 differ by 1209.09% (>15%).\n"
          ]
        },
        {
          "output_type": "stream",
          "name": "stderr",
          "text": [
            "[*********************100%***********************]  1 of 1 completed\n",
            "[*********************100%***********************]  1 of 1 completed\n",
            "[*********************100%***********************]  1 of 1 completed\n"
          ]
        },
        {
          "output_type": "stream",
          "name": "stdout",
          "text": [
            "Skipping trade for BSFC on 2024-01-02 because insider trade price $0.12 and yfinance price $7.00 differ by 5733.33% (>15%).\n"
          ]
        },
        {
          "output_type": "stream",
          "name": "stderr",
          "text": [
            "[*********************100%***********************]  1 of 1 completed\n",
            "[*********************100%***********************]  1 of 1 completed\n"
          ]
        },
        {
          "output_type": "stream",
          "name": "stdout",
          "text": [
            "Skipping trade for FLNT on 2023-03-11 because insider trade price $0.60 and yfinance price $7.50 differ by 1150.00% (>15%).\n"
          ]
        },
        {
          "output_type": "stream",
          "name": "stderr",
          "text": [
            "[*********************100%***********************]  1 of 1 completed\n",
            "[*********************100%***********************]  1 of 1 completed\n"
          ]
        },
        {
          "output_type": "stream",
          "name": "stdout",
          "text": [
            "Skipping trade for FLNT on 2023-03-08 because insider trade price $0.61 and yfinance price $9.06 differ by 1385.25% (>15%).\n"
          ]
        },
        {
          "output_type": "stream",
          "name": "stderr",
          "text": [
            "[*********************100%***********************]  1 of 1 completed\n",
            "[*********************100%***********************]  1 of 1 completed\n",
            "[*********************100%***********************]  1 of 1 completed"
          ]
        },
        {
          "output_type": "stream",
          "name": "stdout",
          "text": [
            "Skipping trade for ADMQ on 2023-06-28 because insider trade price $0.05 and yfinance price $0.04 differ by 27.92% (>15%).\n"
          ]
        },
        {
          "output_type": "stream",
          "name": "stderr",
          "text": [
            "\n",
            "[*********************100%***********************]  1 of 1 completed\n",
            "[*********************100%***********************]  1 of 1 completed\n"
          ]
        },
        {
          "output_type": "stream",
          "name": "stdout",
          "text": [
            "Skipping trade for FLNT on 2023-03-07 because insider trade price $0.60 and yfinance price $8.64 differ by 1340.00% (>15%).\n",
            "Skipping trade for FLNT on 2023-03-04 because insider trade price $0.57 and yfinance price $8.88 differ by 1457.89% (>15%).\n"
          ]
        },
        {
          "output_type": "stream",
          "name": "stderr",
          "text": [
            "\r[*********************100%***********************]  1 of 1 completed\n",
            "ERROR:yfinance:\n",
            "1 Failed download:\n",
            "ERROR:yfinance:['FOMC']: YFTzMissingError('$%ticker%: possibly delisted; no timezone found')\n",
            "[*********************100%***********************]  1 of 1 completed\n",
            "ERROR:yfinance:\n",
            "1 Failed download:\n",
            "ERROR:yfinance:['FOMC']: YFTzMissingError('$%ticker%: possibly delisted; no timezone found')\n"
          ]
        },
        {
          "output_type": "stream",
          "name": "stdout",
          "text": [
            "No historical data found for FOMC.\n",
            "No historical data found for FOMC.\n"
          ]
        },
        {
          "output_type": "stream",
          "name": "stderr",
          "text": [
            "[*********************100%***********************]  1 of 1 completed\n",
            "[*********************100%***********************]  1 of 1 completed\n",
            "[*********************100%***********************]  1 of 1 completed\n",
            "[*********************100%***********************]  1 of 1 completed\n",
            "ERROR:yfinance:\n",
            "1 Failed download:\n",
            "ERROR:yfinance:['FOMC']: YFTzMissingError('$%ticker%: possibly delisted; no timezone found')\n",
            "[*********************100%***********************]  1 of 1 completed\n",
            "ERROR:yfinance:\n",
            "1 Failed download:\n",
            "ERROR:yfinance:['FOMC']: YFTzMissingError('$%ticker%: possibly delisted; no timezone found')\n",
            "[*********************100%***********************]  1 of 1 completed\n",
            "ERROR:yfinance:\n",
            "1 Failed download:\n",
            "ERROR:yfinance:['FOMC']: YFTzMissingError('$%ticker%: possibly delisted; no timezone found')\n",
            "[*********************100%***********************]  1 of 1 completed\n",
            "ERROR:yfinance:\n",
            "1 Failed download:\n",
            "ERROR:yfinance:['FOMC']: YFTzMissingError('$%ticker%: possibly delisted; no timezone found')\n"
          ]
        },
        {
          "output_type": "stream",
          "name": "stdout",
          "text": [
            "No historical data found for FOMC.\n",
            "No historical data found for FOMC.\n",
            "No historical data found for FOMC.\n",
            "No historical data found for FOMC.\n"
          ]
        },
        {
          "output_type": "stream",
          "name": "stderr",
          "text": [
            "[*********************100%***********************]  1 of 1 completed\n",
            "[*********************100%***********************]  1 of 1 completed\n",
            "[*********************100%***********************]  1 of 1 completed\n",
            "[*********************100%***********************]  1 of 1 completed\n",
            "[*********************100%***********************]  1 of 1 completed\n",
            "[*********************100%***********************]  1 of 1 completed\n",
            "[*********************100%***********************]  1 of 1 completed\n",
            "[*********************100%***********************]  1 of 1 completed\n",
            "[*********************100%***********************]  1 of 1 completed\n",
            "[*********************100%***********************]  1 of 1 completed\n",
            "[*********************100%***********************]  1 of 1 completed\n",
            "[*********************100%***********************]  1 of 1 completed\n",
            "[*********************100%***********************]  1 of 1 completed\n",
            "ERROR:yfinance:\n",
            "1 Failed download:\n",
            "ERROR:yfinance:['FOMC']: YFTzMissingError('$%ticker%: possibly delisted; no timezone found')\n",
            "[*********************100%***********************]  1 of 1 completed\n",
            "ERROR:yfinance:\n",
            "1 Failed download:\n",
            "ERROR:yfinance:['FOMC']: YFTzMissingError('$%ticker%: possibly delisted; no timezone found')\n",
            "[*********************100%***********************]  1 of 1 completed\n"
          ]
        },
        {
          "output_type": "stream",
          "name": "stdout",
          "text": [
            "No historical data found for FOMC.\n",
            "No historical data found for FOMC.\n"
          ]
        },
        {
          "output_type": "stream",
          "name": "stderr",
          "text": [
            "[*********************100%***********************]  1 of 1 completed\n",
            "[*********************100%***********************]  1 of 1 completed\n"
          ]
        },
        {
          "output_type": "stream",
          "name": "stdout",
          "text": [
            "Skipping trade for BSPK on 2023-12-04 because insider trade price $0.06 and yfinance price $0.10 differ by 63.33% (>15%).\n"
          ]
        },
        {
          "output_type": "stream",
          "name": "stderr",
          "text": [
            "[*********************100%***********************]  1 of 1 completed\n",
            "[*********************100%***********************]  1 of 1 completed\n"
          ]
        },
        {
          "output_type": "stream",
          "name": "stdout",
          "text": [
            "Skipping trade for ORGS on 2023-09-07 because insider trade price $0.58 and yfinance price $6.70 differ by 1055.17% (>15%).\n"
          ]
        },
        {
          "output_type": "stream",
          "name": "stderr",
          "text": [
            "\r[*********************100%***********************]  1 of 1 completed\n",
            "ERROR:yfinance:\n",
            "1 Failed download:\n",
            "ERROR:yfinance:['CURO']: YFTzMissingError('$%ticker%: possibly delisted; no timezone found')\n"
          ]
        },
        {
          "output_type": "stream",
          "name": "stdout",
          "text": [
            "No historical data found for CURO.\n"
          ]
        },
        {
          "output_type": "stream",
          "name": "stderr",
          "text": [
            "[*********************100%***********************]  1 of 1 completed\n",
            "[*********************100%***********************]  1 of 1 completed\n",
            "[*********************100%***********************]  1 of 1 completed\n"
          ]
        },
        {
          "output_type": "stream",
          "name": "stdout",
          "text": [
            "Skipping trade for CALX on 2023-08-14 because insider trade price $34.98 and yfinance price $41.15 differ by 17.64% (>15%).\n"
          ]
        },
        {
          "output_type": "stream",
          "name": "stderr",
          "text": [
            "[*********************100%***********************]  1 of 1 completed\n",
            "[*********************100%***********************]  1 of 1 completed\n",
            "[*********************100%***********************]  1 of 1 completed\n"
          ]
        },
        {
          "output_type": "stream",
          "name": "stdout",
          "text": [
            "Skipping trade for DFCO on 2023-11-30 because insider trade price $0.22 and yfinance price $0.19 differ by 15.91% (>15%).\n"
          ]
        },
        {
          "output_type": "stream",
          "name": "stderr",
          "text": [
            "\r[*********************100%***********************]  1 of 1 completed\n",
            "ERROR:yfinance:\n",
            "1 Failed download:\n",
            "ERROR:yfinance:['NVIV']: YFTzMissingError('$%ticker%: possibly delisted; no timezone found')\n",
            "[*********************100%***********************]  1 of 1 completed\n"
          ]
        },
        {
          "output_type": "stream",
          "name": "stdout",
          "text": [
            "No historical data found for NVIV.\n",
            "Skipping trade for BTTR on 2023-09-07 because insider trade price $0.13 and yfinance price $5.80 differ by 4361.54% (>15%).\n"
          ]
        },
        {
          "output_type": "stream",
          "name": "stderr",
          "text": [
            "[*********************100%***********************]  1 of 1 completed\n",
            "[*********************100%***********************]  1 of 1 completed\n"
          ]
        },
        {
          "output_type": "stream",
          "name": "stdout",
          "text": [
            "Skipping trade for CAPL on 2023-05-25 because insider trade price $18.19 and yfinance price $15.34 differ by 15.65% (>15%).\n"
          ]
        },
        {
          "output_type": "stream",
          "name": "stderr",
          "text": [
            "[*********************100%***********************]  1 of 1 completed\n",
            "[*********************100%***********************]  1 of 1 completed\n",
            "[*********************100%***********************]  1 of 1 completed\n",
            "[*********************100%***********************]  1 of 1 completed\n"
          ]
        },
        {
          "output_type": "stream",
          "name": "stdout",
          "text": [
            "Skipping trade for BUSE on 2023-12-29 because insider trade price $19.46 and yfinance price $23.60 differ by 21.28% (>15%).\n",
            "Skipping trade for BUSE on 2023-12-29 because insider trade price $17.19 and yfinance price $23.60 differ by 37.30% (>15%).\n",
            "Skipping trade for BUSE on 2023-12-29 because insider trade price $19.46 and yfinance price $23.60 differ by 21.28% (>15%).\n"
          ]
        },
        {
          "output_type": "stream",
          "name": "stderr",
          "text": [
            "[*********************100%***********************]  1 of 1 completed\n",
            "[*********************100%***********************]  1 of 1 completed\n",
            "[*********************100%***********************]  1 of 1 completed\n"
          ]
        },
        {
          "output_type": "stream",
          "name": "stdout",
          "text": [
            "Skipping trade for BUSE on 2023-12-29 because insider trade price $19.46 and yfinance price $23.60 differ by 21.28% (>15%).\n",
            "Skipping trade for BUSE on 2023-12-29 because insider trade price $19.46 and yfinance price $23.60 differ by 21.28% (>15%).\n"
          ]
        },
        {
          "output_type": "stream",
          "name": "stderr",
          "text": [
            "[*********************100%***********************]  1 of 1 completed\n",
            "[*********************100%***********************]  1 of 1 completed\n",
            "[*********************100%***********************]  1 of 1 completed\n",
            "[*********************100%***********************]  1 of 1 completed\n",
            "[*********************100%***********************]  1 of 1 completed\n",
            "[*********************100%***********************]  1 of 1 completed\n",
            "[*********************100%***********************]  1 of 1 completed\n",
            "[*********************100%***********************]  1 of 1 completed\n",
            "[*********************100%***********************]  1 of 1 completed\n"
          ]
        },
        {
          "output_type": "stream",
          "name": "stdout",
          "text": [
            "Skipping trade for SCND on 2023-12-20 because insider trade price $2.00 and yfinance price $2.40 differ by 20.00% (>15%).\n",
            "Skipping trade for SCND on 2023-12-19 because insider trade price $2.00 and yfinance price $2.40 differ by 20.00% (>15%).\n"
          ]
        },
        {
          "output_type": "stream",
          "name": "stderr",
          "text": [
            "[*********************100%***********************]  1 of 1 completed\n",
            "[*********************100%***********************]  1 of 1 completed\n",
            "[*********************100%***********************]  1 of 1 completed\n",
            "[*********************100%***********************]  1 of 1 completed\n",
            "[*********************100%***********************]  1 of 1 completed\n",
            "[*********************100%***********************]  1 of 1 completed\n"
          ]
        },
        {
          "output_type": "stream",
          "name": "stdout",
          "text": [
            "Skipping trade for SCND on 2023-12-13 because insider trade price $2.00 and yfinance price $2.42 differ by 21.00% (>15%).\n",
            "Skipping trade for INTZ on 2023-12-31 because insider trade price $0.22 and yfinance price $5.00 differ by 2172.73% (>15%).\n",
            "Skipping trade for INTZ on 2023-12-31 because insider trade price $0.22 and yfinance price $5.00 differ by 2172.73% (>15%).\n"
          ]
        },
        {
          "output_type": "stream",
          "name": "stderr",
          "text": [
            "[*********************100%***********************]  1 of 1 completed\n",
            "[*********************100%***********************]  1 of 1 completed\n",
            "[*********************100%***********************]  1 of 1 completed\n",
            "ERROR:yfinance:\n",
            "1 Failed download:\n",
            "ERROR:yfinance:['LSXMA']: YFTzMissingError('$%ticker%: possibly delisted; no timezone found')\n"
          ]
        },
        {
          "output_type": "stream",
          "name": "stdout",
          "text": [
            "No historical data found for LSXMA.\n"
          ]
        },
        {
          "output_type": "stream",
          "name": "stderr",
          "text": [
            "\r[*********************100%***********************]  1 of 1 completed\n",
            "ERROR:yfinance:\n",
            "1 Failed download:\n",
            "ERROR:yfinance:['LSXMK']: YFTzMissingError('$%ticker%: possibly delisted; no timezone found')\n",
            "[*********************100%***********************]  1 of 1 completed\n"
          ]
        },
        {
          "output_type": "stream",
          "name": "stdout",
          "text": [
            "No historical data found for LSXMK.\n"
          ]
        },
        {
          "output_type": "stream",
          "name": "stderr",
          "text": [
            "[*********************100%***********************]  1 of 1 completed\n",
            "[*********************100%***********************]  1 of 1 completed\n"
          ]
        },
        {
          "output_type": "stream",
          "name": "stdout",
          "text": [
            "Skipping trade for WVE on 2023-12-11 because insider trade price $5.00 and yfinance price $4.16 differ by 16.80% (>15%).\n",
            "Skipping trade for SCND on 2023-12-13 because insider trade price $2.00 and yfinance price $2.42 differ by 21.00% (>15%).\n"
          ]
        },
        {
          "output_type": "stream",
          "name": "stderr",
          "text": [
            "[*********************100%***********************]  1 of 1 completed\n",
            "[*********************100%***********************]  1 of 1 completed\n",
            "[*********************100%***********************]  1 of 1 completed\n"
          ]
        },
        {
          "output_type": "stream",
          "name": "stdout",
          "text": [
            "Skipping trade for MAGE on 2023-03-23 because insider trade price $0.14 and yfinance price $0.11 differ by 21.43% (>15%).\n"
          ]
        },
        {
          "output_type": "stream",
          "name": "stderr",
          "text": [
            "[*********************100%***********************]  1 of 1 completed\n",
            "[*********************100%***********************]  1 of 1 completed\n",
            "[*********************100%***********************]  1 of 1 completed\n",
            "[*********************100%***********************]  1 of 1 completed\n",
            "[*********************100%***********************]  1 of 1 completed\n",
            "[*********************100%***********************]  1 of 1 completed\n",
            "[*********************100%***********************]  1 of 1 completed\n",
            "[*********************100%***********************]  1 of 1 completed\n",
            "ERROR:yfinance:\n",
            "1 Failed download:\n",
            "ERROR:yfinance:['CMXC']: YFTzMissingError('$%ticker%: possibly delisted; no timezone found')\n",
            "[*********************100%***********************]  1 of 1 completed\n",
            "[*********************100%***********************]  1 of 1 completed\n",
            "ERROR:yfinance:\n",
            "1 Failed download:\n",
            "ERROR:yfinance:['CMXC']: YFTzMissingError('$%ticker%: possibly delisted; no timezone found')\n"
          ]
        },
        {
          "output_type": "stream",
          "name": "stdout",
          "text": [
            "No historical data found for CMXC.\n",
            "Skipping trade for VOXX on 2023-10-06 because insider trade price $10.00 and yfinance price $7.61 differ by 23.90% (>15%).\n",
            "No historical data found for CMXC.\n"
          ]
        },
        {
          "output_type": "stream",
          "name": "stderr",
          "text": [
            "[*********************100%***********************]  1 of 1 completed\n",
            "[*********************100%***********************]  1 of 1 completed\n",
            "[*********************100%***********************]  1 of 1 completed\n",
            "[*********************100%***********************]  1 of 1 completed\n",
            "[*********************100%***********************]  1 of 1 completed\n",
            "[*********************100%***********************]  1 of 1 completed\n",
            "[*********************100%***********************]  1 of 1 completed\n",
            "[*********************100%***********************]  1 of 1 completed\n",
            "[*********************100%***********************]  1 of 1 completed\n",
            "[*********************100%***********************]  1 of 1 completed\n",
            "ERROR:yfinance:\n",
            "1 Failed download:\n",
            "ERROR:yfinance:['LSXMK']: YFTzMissingError('$%ticker%: possibly delisted; no timezone found')\n",
            "[*********************100%***********************]  1 of 1 completed\n",
            "ERROR:yfinance:\n",
            "1 Failed download:\n",
            "ERROR:yfinance:['LSXMA']: YFTzMissingError('$%ticker%: possibly delisted; no timezone found')\n",
            "[*********************100%***********************]  1 of 1 completed\n",
            "<ipython-input-2-0f276d649fc8>:271: RuntimeWarning: divide by zero encountered in scalar divide\n",
            "  percent_diff = abs((base_price - insider_price) / insider_price) * 100\n",
            "[*********************100%***********************]  1 of 1 completed\n",
            "[*********************100%***********************]  1 of 1 completed\n"
          ]
        },
        {
          "output_type": "stream",
          "name": "stdout",
          "text": [
            "No historical data found for LSXMK.\n",
            "No historical data found for LSXMA.\n",
            "Skipping trade for SHWZ on 2023-12-29 because insider trade price $0.00 and yfinance price $0.61 differ by inf% (>15%).\n"
          ]
        },
        {
          "output_type": "stream",
          "name": "stderr",
          "text": [
            "[*********************100%***********************]  1 of 1 completed\n",
            "[*********************100%***********************]  1 of 1 completed\n",
            "[*********************100%***********************]  1 of 1 completed\n",
            "[*********************100%***********************]  1 of 1 completed\n",
            "[*********************100%***********************]  1 of 1 completed\n",
            "[*********************100%***********************]  1 of 1 completed\n",
            "[*********************100%***********************]  1 of 1 completed\n",
            "[*********************100%***********************]  1 of 1 completed\n"
          ]
        },
        {
          "output_type": "stream",
          "name": "stdout",
          "text": [
            "Skipping trade for LFT on 2024-01-02 because insider trade price $2.37 and yfinance price $1.99 differ by 16.23% (>15%).\n"
          ]
        },
        {
          "output_type": "stream",
          "name": "stderr",
          "text": [
            "[*********************100%***********************]  1 of 1 completed\n",
            "[*********************100%***********************]  1 of 1 completed\n",
            "[*********************100%***********************]  1 of 1 completed\n",
            "[*********************100%***********************]  1 of 1 completed\n",
            "[*********************100%***********************]  1 of 1 completed"
          ]
        },
        {
          "output_type": "stream",
          "name": "stdout",
          "text": [
            "Skipping trade for ZIVO on 2024-01-02 because insider trade price $1.20 and yfinance price $1.48 differ by 23.33% (>15%).\n"
          ]
        },
        {
          "output_type": "stream",
          "name": "stderr",
          "text": [
            "\n",
            "[*********************100%***********************]  1 of 1 completed\n",
            "[*********************100%***********************]  1 of 1 completed\n",
            "[*********************100%***********************]  1 of 1 completed\n"
          ]
        },
        {
          "output_type": "stream",
          "name": "stdout",
          "text": [
            "Skipping trade for STSS on 2024-01-02 because insider trade price $0.40 and yfinance price $8.82 differ by 2105.50% (>15%).\n"
          ]
        },
        {
          "output_type": "stream",
          "name": "stderr",
          "text": [
            "\r[*********************100%***********************]  1 of 1 completed\n",
            "ERROR:yfinance:\n",
            "1 Failed download:\n",
            "ERROR:yfinance:['CURO']: YFTzMissingError('$%ticker%: possibly delisted; no timezone found')\n",
            "[*********************100%***********************]  1 of 1 completed\n"
          ]
        },
        {
          "output_type": "stream",
          "name": "stdout",
          "text": [
            "No historical data found for CURO.\n"
          ]
        },
        {
          "output_type": "stream",
          "name": "stderr",
          "text": [
            "[*********************100%***********************]  1 of 1 completed\n",
            "[*********************100%***********************]  1 of 1 completed\n",
            "[*********************100%***********************]  1 of 1 completed\n"
          ]
        },
        {
          "output_type": "stream",
          "name": "stdout",
          "text": [
            "Skipping trade for EMMA on 2023-08-25 because insider trade price $0.13 and yfinance price $0.16 differ by 19.23% (>15%).\n"
          ]
        },
        {
          "output_type": "stream",
          "name": "stderr",
          "text": [
            "\r[*********************100%***********************]  1 of 1 completed\n",
            "ERROR:yfinance:\n",
            "1 Failed download:\n",
            "ERROR:yfinance:['GRDI']: YFTzMissingError('$%ticker%: possibly delisted; no timezone found')\n",
            "[*********************100%***********************]  1 of 1 completed\n"
          ]
        },
        {
          "output_type": "stream",
          "name": "stdout",
          "text": [
            "No historical data found for GRDI.\n"
          ]
        },
        {
          "output_type": "stream",
          "name": "stderr",
          "text": [
            "[*********************100%***********************]  1 of 1 completed\n",
            "[*********************100%***********************]  1 of 1 completed\n",
            "[*********************100%***********************]  1 of 1 completed\n"
          ]
        },
        {
          "output_type": "stream",
          "name": "stdout",
          "text": [
            "Skipping trade for TPL on 2024-01-02 because insider trade price $1604.61 and yfinance price $524.15 differ by 67.33% (>15%).\n"
          ]
        },
        {
          "output_type": "stream",
          "name": "stderr",
          "text": [
            "[*********************100%***********************]  1 of 1 completed\n",
            "[*********************100%***********************]  1 of 1 completed\n",
            "[*********************100%***********************]  1 of 1 completed\n",
            "[*********************100%***********************]  1 of 1 completed\n",
            "[*********************100%***********************]  1 of 1 completed\n",
            "[*********************100%***********************]  1 of 1 completed\n",
            "[*********************100%***********************]  1 of 1 completed\n",
            "[*********************100%***********************]  1 of 1 completed\n",
            "[*********************100%***********************]  1 of 1 completed\n",
            "[*********************100%***********************]  1 of 1 completed\n",
            "[*********************100%***********************]  1 of 1 completed\n",
            "ERROR:yfinance:\n",
            "1 Failed download:\n",
            "ERROR:yfinance:['EBIX']: YFTzMissingError('$%ticker%: possibly delisted; no timezone found')\n",
            "[*********************100%***********************]  1 of 1 completed\n"
          ]
        },
        {
          "output_type": "stream",
          "name": "stdout",
          "text": [
            "No historical data found for EBIX.\n"
          ]
        },
        {
          "output_type": "stream",
          "name": "stderr",
          "text": [
            "[*********************100%***********************]  1 of 1 completed\n",
            "[*********************100%***********************]  1 of 1 completed\n",
            "[*********************100%***********************]  1 of 1 completed\n",
            "[*********************100%***********************]  1 of 1 completed\n",
            "[*********************100%***********************]  1 of 1 completed\n"
          ]
        },
        {
          "output_type": "stream",
          "name": "stdout",
          "text": [
            "Skipping trade for GSAT on 2023-12-29 because insider trade price $1.93 and yfinance price $29.10 differ by 1407.77% (>15%).\n"
          ]
        },
        {
          "output_type": "stream",
          "name": "stderr",
          "text": [
            "[*********************100%***********************]  1 of 1 completed\n",
            "[*********************100%***********************]  1 of 1 completed\n"
          ]
        },
        {
          "output_type": "stream",
          "name": "stdout",
          "text": [
            "Skipping trade for LGVN on 2023-12-28 because insider trade price $1.43 and yfinance price $13.90 differ by 872.03% (>15%).\n"
          ]
        },
        {
          "output_type": "stream",
          "name": "stderr",
          "text": [
            "\r[*********************100%***********************]  1 of 1 completed\n",
            "<ipython-input-2-0f276d649fc8>:271: RuntimeWarning: divide by zero encountered in scalar divide\n",
            "  percent_diff = abs((base_price - insider_price) / insider_price) * 100\n"
          ]
        },
        {
          "output_type": "stream",
          "name": "stdout",
          "text": [
            "Skipping trade for SHGI on 2023-12-29 because insider trade price $0.00 and yfinance price $0.02 differ by inf% (>15%).\n"
          ]
        },
        {
          "output_type": "stream",
          "name": "stderr",
          "text": [
            "[*********************100%***********************]  1 of 1 completed\n",
            "[*********************100%***********************]  1 of 1 completed\n",
            "[*********************100%***********************]  1 of 1 completed\n",
            "[*********************100%***********************]  1 of 1 completed\n",
            "[*********************100%***********************]  1 of 1 completed\n",
            "[*********************100%***********************]  1 of 1 completed\n",
            "[*********************100%***********************]  1 of 1 completed\n",
            "[*********************100%***********************]  1 of 1 completed\n",
            "[*********************100%***********************]  1 of 1 completed\n",
            "[*********************100%***********************]  1 of 1 completed\n",
            "[*********************100%***********************]  1 of 1 completed\n",
            "[*********************100%***********************]  1 of 1 completed\n",
            "[*********************100%***********************]  1 of 1 completed\n",
            "[*********************100%***********************]  1 of 1 completed\n",
            "[*********************100%***********************]  1 of 1 completed\n",
            "[*********************100%***********************]  1 of 1 completed\n",
            "[*********************100%***********************]  1 of 1 completed\n",
            "[*********************100%***********************]  1 of 1 completed\n",
            "[*********************100%***********************]  1 of 1 completed\n",
            "[*********************100%***********************]  1 of 1 completed\n",
            "[*********************100%***********************]  1 of 1 completed\n",
            "[*********************100%***********************]  1 of 1 completed\n",
            "[*********************100%***********************]  1 of 1 completed\n",
            "[*********************100%***********************]  1 of 1 completed\n",
            "[*********************100%***********************]  1 of 1 completed\n",
            "[*********************100%***********************]  1 of 1 completed\n",
            "[*********************100%***********************]  1 of 1 completed\n",
            "[*********************100%***********************]  1 of 1 completed\n",
            "[*********************100%***********************]  1 of 1 completed\n",
            "[*********************100%***********************]  1 of 1 completed\n",
            "[*********************100%***********************]  1 of 1 completed\n",
            "[*********************100%***********************]  1 of 1 completed\n"
          ]
        },
        {
          "output_type": "stream",
          "name": "stdout",
          "text": [
            "Skipping trade for NA on 2024-01-01 because insider trade price $16500.00 and yfinance price $17.35 differ by 99.89% (>15%).\n"
          ]
        },
        {
          "output_type": "stream",
          "name": "stderr",
          "text": [
            "[*********************100%***********************]  1 of 1 completed\n",
            "[*********************100%***********************]  1 of 1 completed\n",
            "<ipython-input-2-0f276d649fc8>:271: RuntimeWarning: divide by zero encountered in scalar divide\n",
            "  percent_diff = abs((base_price - insider_price) / insider_price) * 100\n",
            "[*********************100%***********************]  1 of 1 completed\n"
          ]
        },
        {
          "output_type": "stream",
          "name": "stdout",
          "text": [
            "Skipping trade for TPL on 2023-12-29 because insider trade price $1572.45 and yfinance price $513.65 differ by 67.33% (>15%).\n",
            "Skipping trade for SHGI on 2023-12-29 because insider trade price $0.00 and yfinance price $0.02 differ by inf% (>15%).\n"
          ]
        },
        {
          "output_type": "stream",
          "name": "stderr",
          "text": [
            "[*********************100%***********************]  1 of 1 completed\n",
            "[*********************100%***********************]  1 of 1 completed\n",
            "[*********************100%***********************]  1 of 1 completed"
          ]
        },
        {
          "output_type": "stream",
          "name": "stdout",
          "text": [
            "Skipping trade for DSS on 2023-12-28 because insider trade price $0.15 and yfinance price $2.90 differ by 1833.33% (>15%).\n"
          ]
        },
        {
          "output_type": "stream",
          "name": "stderr",
          "text": [
            "\n",
            "[*********************100%***********************]  1 of 1 completed\n",
            "[*********************100%***********************]  1 of 1 completed\n",
            "[*********************100%***********************]  1 of 1 completed\n",
            "[*********************100%***********************]  1 of 1 completed\n"
          ]
        },
        {
          "output_type": "stream",
          "name": "stdout",
          "text": [
            "Skipping trade for BRST on 2023-12-28 because insider trade price $0.69 and yfinance price $1.00 differ by 44.93% (>15%).\n"
          ]
        },
        {
          "output_type": "stream",
          "name": "stderr",
          "text": [
            "[*********************100%***********************]  1 of 1 completed\n",
            "[*********************100%***********************]  1 of 1 completed\n",
            "[*********************100%***********************]  1 of 1 completed\n",
            "[*********************100%***********************]  1 of 1 completed\n",
            "[*********************100%***********************]  1 of 1 completed\n",
            "[*********************100%***********************]  1 of 1 completed\n",
            "[*********************100%***********************]  1 of 1 completed\n",
            "[*********************100%***********************]  1 of 1 completed\n"
          ]
        },
        {
          "output_type": "stream",
          "name": "stdout",
          "text": [
            "Skipping trade for LGVN on 2023-12-28 because insider trade price $1.35 and yfinance price $13.90 differ by 929.63% (>15%).\n",
            "Skipping trade for GSAT on 2023-12-20 because insider trade price $1.73 and yfinance price $25.65 differ by 1382.66% (>15%).\n"
          ]
        },
        {
          "output_type": "stream",
          "name": "stderr",
          "text": [
            "[*********************100%***********************]  1 of 1 completed\n",
            "[*********************100%***********************]  1 of 1 completed\n",
            "[*********************100%***********************]  1 of 1 completed\n",
            "[*********************100%***********************]  1 of 1 completed\n"
          ]
        },
        {
          "output_type": "stream",
          "name": "stdout",
          "text": [
            "Skipping trade for BMNM on 2023-12-29 because insider trade price $0.95 and yfinance price $0.71 differ by 25.26% (>15%).\n",
            "Skipping trade for BMNM on 2023-12-29 because insider trade price $1.00 and yfinance price $0.71 differ by 29.00% (>15%).\n"
          ]
        },
        {
          "output_type": "stream",
          "name": "stderr",
          "text": [
            "[*********************100%***********************]  1 of 1 completed\n",
            "[*********************100%***********************]  1 of 1 completed\n",
            "[*********************100%***********************]  1 of 1 completed\n",
            "[*********************100%***********************]  1 of 1 completed\n",
            "[*********************100%***********************]  1 of 1 completed\n"
          ]
        },
        {
          "output_type": "stream",
          "name": "stdout",
          "text": [
            "Skipping trade for STSS on 2023-12-28 because insider trade price $0.42 and yfinance price $9.15 differ by 2079.05% (>15%).\n"
          ]
        },
        {
          "output_type": "stream",
          "name": "stderr",
          "text": [
            "[*********************100%***********************]  1 of 1 completed\n",
            "[*********************100%***********************]  1 of 1 completed\n"
          ]
        },
        {
          "output_type": "stream",
          "name": "stdout",
          "text": [
            "Skipping trade for TPL on 2023-12-28 because insider trade price $1598.12 and yfinance price $522.03 differ by 67.33% (>15%).\n"
          ]
        },
        {
          "output_type": "stream",
          "name": "stderr",
          "text": [
            "\r[*********************100%***********************]  1 of 1 completed\n",
            "ERROR:yfinance:\n",
            "1 Failed download:\n",
            "ERROR:yfinance:['ADEX.']: YFTzMissingError('$%ticker%: possibly delisted; no timezone found')\n"
          ]
        },
        {
          "output_type": "stream",
          "name": "stdout",
          "text": [
            "No historical data found for ADEX..\n"
          ]
        },
        {
          "output_type": "stream",
          "name": "stderr",
          "text": [
            "[*********************100%***********************]  1 of 1 completed\n",
            "[*********************100%***********************]  1 of 1 completed"
          ]
        },
        {
          "output_type": "stream",
          "name": "stdout",
          "text": [
            "Skipping trade for IHT on 2023-12-27 because insider trade price $2254.45 and yfinance price $1.39 differ by 99.94% (>15%).\n"
          ]
        },
        {
          "output_type": "stream",
          "name": "stderr",
          "text": [
            "\n",
            "[*********************100%***********************]  1 of 1 completed\n",
            "[*********************100%***********************]  1 of 1 completed\n"
          ]
        },
        {
          "output_type": "stream",
          "name": "stdout",
          "text": [
            "Skipping trade for SRAX on 2023-12-26 because insider trade price $0.05 and yfinance price $0.03 differ by 40.00% (>15%).\n"
          ]
        },
        {
          "output_type": "stream",
          "name": "stderr",
          "text": [
            "[*********************100%***********************]  1 of 1 completed\n",
            "[*********************100%***********************]  1 of 1 completed\n",
            "[*********************100%***********************]  1 of 1 completed\n",
            "[*********************100%***********************]  1 of 1 completed\n"
          ]
        },
        {
          "output_type": "stream",
          "name": "stdout",
          "text": [
            "Skipping trade for ANNX on 2023-12-26 because insider trade price $2.88 and yfinance price $4.41 differ by 53.12% (>15%).\n"
          ]
        },
        {
          "output_type": "stream",
          "name": "stderr",
          "text": [
            "[*********************100%***********************]  1 of 1 completed\n",
            "[*********************100%***********************]  1 of 1 completed\n",
            "ERROR:yfinance:\n",
            "1 Failed download:\n",
            "ERROR:yfinance:['ASTR']: YFTzMissingError('$%ticker%: possibly delisted; no timezone found')\n",
            "[*********************100%***********************]  1 of 1 completed\n"
          ]
        },
        {
          "output_type": "stream",
          "name": "stdout",
          "text": [
            "No historical data found for ASTR.\n"
          ]
        },
        {
          "output_type": "stream",
          "name": "stderr",
          "text": [
            "\r[*********************100%***********************]  1 of 1 completed\n",
            "ERROR:yfinance:\n",
            "1 Failed download:\n",
            "ERROR:yfinance:['MACK']: YFTzMissingError('$%ticker%: possibly delisted; no timezone found')\n",
            "[*********************100%***********************]  1 of 1 completed\n"
          ]
        },
        {
          "output_type": "stream",
          "name": "stdout",
          "text": [
            "No historical data found for MACK.\n"
          ]
        },
        {
          "output_type": "stream",
          "name": "stderr",
          "text": [
            "[*********************100%***********************]  1 of 1 completed\n",
            "[*********************100%***********************]  1 of 1 completed\n",
            "[*********************100%***********************]  1 of 1 completed\n",
            "[*********************100%***********************]  1 of 1 completed\n"
          ]
        },
        {
          "output_type": "stream",
          "name": "stdout",
          "text": [
            "Skipping trade for PKTX on 2023-12-26 because insider trade price $0.02 and yfinance price $0.01 differ by 28.75% (>15%).\n"
          ]
        },
        {
          "output_type": "stream",
          "name": "stderr",
          "text": [
            "[*********************100%***********************]  1 of 1 completed\n",
            "[*********************100%***********************]  1 of 1 completed\n",
            "[*********************100%***********************]  1 of 1 completed\n",
            "[*********************100%***********************]  1 of 1 completed\n",
            "[*********************100%***********************]  1 of 1 completed\n",
            "[*********************100%***********************]  1 of 1 completed\n",
            "[*********************100%***********************]  1 of 1 completed\n"
          ]
        },
        {
          "output_type": "stream",
          "name": "stdout",
          "text": [
            "Skipping trade for TPL on 2023-12-27 because insider trade price $1637.03 and yfinance price $534.74 differ by 67.33% (>15%).\n"
          ]
        },
        {
          "output_type": "stream",
          "name": "stderr",
          "text": [
            "[*********************100%***********************]  1 of 1 completed\n",
            "[*********************100%***********************]  1 of 1 completed\n",
            "[*********************100%***********************]  1 of 1 completed\n",
            "[*********************100%***********************]  1 of 1 completed\n",
            "[*********************100%***********************]  1 of 1 completed\n",
            "[*********************100%***********************]  1 of 1 completed\n",
            "[*********************100%***********************]  1 of 1 completed\n",
            "[*********************100%***********************]  1 of 1 completed\n"
          ]
        },
        {
          "output_type": "stream",
          "name": "stdout",
          "text": [
            "Skipping trade for FFIE on 2023-12-21 because insider trade price $100.00 and yfinance price $43.68 differ by 56.32% (>15%).\n",
            "Skipping trade for SRG on 2023-12-11 because insider trade price $23.84 and yfinance price $9.06 differ by 62.00% (>15%).\n"
          ]
        },
        {
          "output_type": "stream",
          "name": "stderr",
          "text": [
            "[*********************100%***********************]  1 of 1 completed\n",
            "[*********************100%***********************]  1 of 1 completed\n",
            "[*********************100%***********************]  1 of 1 completed\n"
          ]
        },
        {
          "output_type": "stream",
          "name": "stdout",
          "text": [
            "Skipping trade for ALZN on 2023-12-22 because insider trade price $0.91 and yfinance price $9.02 differ by 891.21% (>15%).\n"
          ]
        },
        {
          "output_type": "stream",
          "name": "stderr",
          "text": [
            "[*********************100%***********************]  1 of 1 completed\n",
            "[*********************100%***********************]  1 of 1 completed\n",
            "[*********************100%***********************]  1 of 1 completed\n",
            "[*********************100%***********************]  1 of 1 completed\n",
            "[*********************100%***********************]  1 of 1 completed\n"
          ]
        },
        {
          "output_type": "stream",
          "name": "stdout",
          "text": [
            "Skipping trade for TPL on 2023-12-26 because insider trade price $1638.51 and yfinance price $535.23 differ by 67.33% (>15%).\n"
          ]
        },
        {
          "output_type": "stream",
          "name": "stderr",
          "text": [
            "[*********************100%***********************]  1 of 1 completed\n",
            "[*********************100%***********************]  1 of 1 completed\n",
            "[*********************100%***********************]  1 of 1 completed\n",
            "[*********************100%***********************]  1 of 1 completed\n",
            "[*********************100%***********************]  1 of 1 completed\n",
            "[*********************100%***********************]  1 of 1 completed\n",
            "[*********************100%***********************]  1 of 1 completed\n",
            "[*********************100%***********************]  1 of 1 completed\n",
            "[*********************100%***********************]  1 of 1 completed\n",
            "[*********************100%***********************]  1 of 1 completed\n",
            "[*********************100%***********************]  1 of 1 completed\n",
            "[*********************100%***********************]  1 of 1 completed\n",
            "[*********************100%***********************]  1 of 1 completed\n"
          ]
        },
        {
          "output_type": "stream",
          "name": "stdout",
          "text": [
            "Skipping trade for APHP on 2023-12-26 because insider trade price $0.05 and yfinance price $0.24 differ by 376.00% (>15%).\n"
          ]
        },
        {
          "output_type": "stream",
          "name": "stderr",
          "text": [
            "[*********************100%***********************]  1 of 1 completed\n",
            "[*********************100%***********************]  1 of 1 completed\n",
            "[*********************100%***********************]  1 of 1 completed\n",
            "[*********************100%***********************]  1 of 1 completed\n",
            "[*********************100%***********************]  1 of 1 completed\n",
            "[*********************100%***********************]  1 of 1 completed\n",
            "[*********************100%***********************]  1 of 1 completed\n",
            "[*********************100%***********************]  1 of 1 completed\n",
            "[*********************100%***********************]  1 of 1 completed\n",
            "[*********************100%***********************]  1 of 1 completed\n",
            "[*********************100%***********************]  1 of 1 completed\n",
            "[*********************100%***********************]  1 of 1 completed\n",
            "[*********************100%***********************]  1 of 1 completed\n",
            "[*********************100%***********************]  1 of 1 completed\n"
          ]
        },
        {
          "output_type": "stream",
          "name": "stdout",
          "text": [
            "Skipping trade for SYRS on 2023-12-21 because insider trade price $4.42 and yfinance price $5.78 differ by 30.77% (>15%).\n",
            "Skipping trade for CATX on 2023-12-21 because insider trade price $0.33 and yfinance price $3.40 differ by 930.30% (>15%).\n"
          ]
        },
        {
          "output_type": "stream",
          "name": "stderr",
          "text": [
            "[*********************100%***********************]  1 of 1 completed\n",
            "[*********************100%***********************]  1 of 1 completed\n",
            "[*********************100%***********************]  1 of 1 completed\n",
            "[*********************100%***********************]  1 of 1 completed\n",
            "[*********************100%***********************]  1 of 1 completed\n",
            "[*********************100%***********************]  1 of 1 completed\n",
            "[*********************100%***********************]  1 of 1 completed\n",
            "[*********************100%***********************]  1 of 1 completed\n",
            "[*********************100%***********************]  1 of 1 completed\n",
            "[*********************100%***********************]  1 of 1 completed\n",
            "[*********************100%***********************]  1 of 1 completed\n",
            "[*********************100%***********************]  1 of 1 completed\n",
            "[*********************100%***********************]  1 of 1 completed\n",
            "[*********************100%***********************]  1 of 1 completed\n"
          ]
        },
        {
          "output_type": "stream",
          "name": "stdout",
          "text": [
            "Skipping trade for WINV on 2023-12-22 because insider trade price $0.01 and yfinance price $10.99 differ by 109800.00% (>15%).\n"
          ]
        },
        {
          "output_type": "stream",
          "name": "stderr",
          "text": [
            "[*********************100%***********************]  1 of 1 completed\n",
            "[*********************100%***********************]  1 of 1 completed\n"
          ]
        },
        {
          "output_type": "stream",
          "name": "stdout",
          "text": [
            "Skipping trade for GOVX on 2023-12-22 because insider trade price $0.36 and yfinance price $5.47 differ by 1420.83% (>15%).\n"
          ]
        },
        {
          "output_type": "stream",
          "name": "stderr",
          "text": [
            "[*********************100%***********************]  1 of 1 completed\n",
            "[*********************100%***********************]  1 of 1 completed\n"
          ]
        },
        {
          "output_type": "stream",
          "name": "stdout",
          "text": [
            "Skipping trade for BNZI on 2023-12-21 because insider trade price $3.63 and yfinance price $180.00 differ by 4858.68% (>15%).\n"
          ]
        },
        {
          "output_type": "stream",
          "name": "stderr",
          "text": [
            "[*********************100%***********************]  1 of 1 completed\n",
            "[*********************100%***********************]  1 of 1 completed\n",
            "[*********************100%***********************]  1 of 1 completed\n",
            "[*********************100%***********************]  1 of 1 completed\n"
          ]
        },
        {
          "output_type": "stream",
          "name": "stdout",
          "text": [
            "Skipping trade for TPL on 2023-12-22 because insider trade price $1615.80 and yfinance price $527.81 differ by 67.33% (>15%).\n",
            "Skipping trade for BNZI on 2023-12-21 because insider trade price $3.45 and yfinance price $180.00 differ by 5117.39% (>15%).\n",
            "Skipping trade for RNGE on 2023-12-21 because insider trade price $0.15 and yfinance price $0.21 differ by 40.00% (>15%).\n"
          ]
        },
        {
          "output_type": "stream",
          "name": "stderr",
          "text": [
            "\r[*********************100%***********************]  1 of 1 completed\n"
          ]
        },
        {
          "output_type": "stream",
          "name": "stdout",
          "text": [
            "Skipping trade for RNGE on 2023-12-21 because insider trade price $0.15 and yfinance price $0.21 differ by 40.00% (>15%).\n"
          ]
        },
        {
          "output_type": "stream",
          "name": "stderr",
          "text": [
            "\r[*********************100%***********************]  1 of 1 completed\n",
            "ERROR:yfinance:\n",
            "1 Failed download:\n",
            "ERROR:yfinance:['SVFD']: YFTzMissingError('$%ticker%: possibly delisted; no timezone found')\n",
            "[*********************100%***********************]  1 of 1 completed\n",
            "ERROR:yfinance:\n",
            "1 Failed download:\n",
            "ERROR:yfinance:['SVFD']: YFTzMissingError('$%ticker%: possibly delisted; no timezone found')\n",
            "[*********************100%***********************]  1 of 1 completed\n",
            "ERROR:yfinance:\n",
            "1 Failed download:\n",
            "ERROR:yfinance:['SVFD']: YFTzMissingError('$%ticker%: possibly delisted; no timezone found')\n",
            "[*********************100%***********************]  1 of 1 completed\n",
            "ERROR:yfinance:\n",
            "1 Failed download:\n",
            "ERROR:yfinance:['SVFD']: YFTzMissingError('$%ticker%: possibly delisted; no timezone found')\n",
            "[*********************100%***********************]  1 of 1 completed\n",
            "ERROR:yfinance:\n",
            "1 Failed download:\n",
            "ERROR:yfinance:['SVFD']: YFTzMissingError('$%ticker%: possibly delisted; no timezone found')\n"
          ]
        },
        {
          "output_type": "stream",
          "name": "stdout",
          "text": [
            "No historical data found for SVFD.\n",
            "No historical data found for SVFD.\n",
            "No historical data found for SVFD.\n",
            "No historical data found for SVFD.\n",
            "No historical data found for SVFD.\n"
          ]
        },
        {
          "output_type": "stream",
          "name": "stderr",
          "text": [
            "\r[*********************100%***********************]  1 of 1 completed\n"
          ]
        },
        {
          "output_type": "stream",
          "name": "stdout",
          "text": [
            "Skipping trade for WHLR on 2023-12-20 because insider trade price $0.28 and yfinance price $5011.20 differ by 1789614.36% (>15%).\n"
          ]
        },
        {
          "output_type": "stream",
          "name": "stderr",
          "text": [
            "\r[*********************100%***********************]  1 of 1 completed\n",
            "ERROR:yfinance:\n",
            "1 Failed download:\n",
            "ERROR:yfinance:['STRC']: YFTzMissingError('$%ticker%: possibly delisted; no timezone found')\n"
          ]
        },
        {
          "output_type": "stream",
          "name": "stdout",
          "text": [
            "No historical data found for STRC.\n"
          ]
        },
        {
          "output_type": "stream",
          "name": "stderr",
          "text": [
            "[*********************100%***********************]  1 of 1 completed\n",
            "[*********************100%***********************]  1 of 1 completed\n",
            "[*********************100%***********************]  1 of 1 completed\n",
            "[*********************100%***********************]  1 of 1 completed\n"
          ]
        },
        {
          "output_type": "stream",
          "name": "stdout",
          "text": [
            "Skipping trade for STSS on 2023-12-22 because insider trade price $0.40 and yfinance price $9.17 differ by 2193.50% (>15%).\n",
            "Skipping trade for CCLD on 2023-12-20 because insider trade price $1.29 and yfinance price $1.09 differ by 15.50% (>15%).\n"
          ]
        },
        {
          "output_type": "stream",
          "name": "stderr",
          "text": [
            "[*********************100%***********************]  1 of 1 completed\n",
            "[*********************100%***********************]  1 of 1 completed\n",
            "[*********************100%***********************]  1 of 1 completed\n",
            "[*********************100%***********************]  1 of 1 completed\n",
            "[*********************100%***********************]  1 of 1 completed\n",
            "[*********************100%***********************]  1 of 1 completed\n",
            "<ipython-input-2-0f276d649fc8>:271: RuntimeWarning: divide by zero encountered in scalar divide\n",
            "  percent_diff = abs((base_price - insider_price) / insider_price) * 100\n",
            "[*********************100%***********************]  1 of 1 completed\n",
            "<ipython-input-2-0f276d649fc8>:271: RuntimeWarning: divide by zero encountered in scalar divide\n",
            "  percent_diff = abs((base_price - insider_price) / insider_price) * 100\n",
            "[*********************100%***********************]  1 of 1 completed\n",
            "<ipython-input-2-0f276d649fc8>:271: RuntimeWarning: divide by zero encountered in scalar divide\n",
            "  percent_diff = abs((base_price - insider_price) / insider_price) * 100\n",
            "[*********************100%***********************]  1 of 1 completed\n"
          ]
        },
        {
          "output_type": "stream",
          "name": "stdout",
          "text": [
            "Skipping trade for NB on 2023-12-22 because insider trade price $0.00 and yfinance price $3.20 differ by inf% (>15%).\n",
            "Skipping trade for NB on 2023-12-22 because insider trade price $0.00 and yfinance price $3.20 differ by inf% (>15%).\n",
            "Skipping trade for NB on 2023-12-22 because insider trade price $0.00 and yfinance price $3.20 differ by inf% (>15%).\n"
          ]
        },
        {
          "output_type": "stream",
          "name": "stderr",
          "text": [
            "[*********************100%***********************]  1 of 1 completed\n",
            "[*********************100%***********************]  1 of 1 completed\n",
            "[*********************100%***********************]  1 of 1 completed\n",
            "[*********************100%***********************]  1 of 1 completed\n",
            "[*********************100%***********************]  1 of 1 completed\n",
            "[*********************100%***********************]  1 of 1 completed\n"
          ]
        },
        {
          "output_type": "stream",
          "name": "stdout",
          "text": [
            "Skipping trade for CNFR on 2023-12-20 because insider trade price $6000.00 and yfinance price $1.17 differ by 99.98% (>15%).\n",
            "Skipping trade for CNFR on 2023-12-20 because insider trade price $6000.00 and yfinance price $1.17 differ by 99.98% (>15%).\n"
          ]
        },
        {
          "output_type": "stream",
          "name": "stderr",
          "text": [
            "[*********************100%***********************]  1 of 1 completed\n",
            "[*********************100%***********************]  1 of 1 completed\n"
          ]
        },
        {
          "output_type": "stream",
          "name": "stdout",
          "text": [
            "Skipping trade for TPL on 2023-12-21 because insider trade price $1618.02 and yfinance price $528.53 differ by 67.33% (>15%).\n"
          ]
        },
        {
          "output_type": "stream",
          "name": "stderr",
          "text": [
            "[*********************100%***********************]  1 of 1 completed\n",
            "[*********************100%***********************]  1 of 1 completed\n",
            "[*********************100%***********************]  1 of 1 completed\n",
            "[*********************100%***********************]  1 of 1 completed\n",
            "[*********************100%***********************]  1 of 1 completed\n",
            "[*********************100%***********************]  1 of 1 completed\n"
          ]
        },
        {
          "output_type": "stream",
          "name": "stdout",
          "text": [
            "Skipping trade for IHT on 2023-12-19 because insider trade price $2809.35 and yfinance price $1.39 differ by 99.95% (>15%).\n"
          ]
        },
        {
          "output_type": "stream",
          "name": "stderr",
          "text": [
            "[*********************100%***********************]  1 of 1 completed\n",
            "[*********************100%***********************]  1 of 1 completed\n",
            "[*********************100%***********************]  1 of 1 completed\n",
            "[*********************100%***********************]  1 of 1 completed\n",
            "[*********************100%***********************]  1 of 1 completed\n",
            "[*********************100%***********************]  1 of 1 completed\n",
            "[*********************100%***********************]  1 of 1 completed\n"
          ]
        },
        {
          "output_type": "stream",
          "name": "stdout",
          "text": [
            "Skipping trade for DV on 2023-11-30 because insider trade price $28.22 and yfinance price $33.20 differ by 17.65% (>15%).\n"
          ]
        },
        {
          "output_type": "stream",
          "name": "stderr",
          "text": [
            "\r[*********************100%***********************]  1 of 1 completed\n"
          ]
        },
        {
          "output_type": "stream",
          "name": "stdout",
          "text": [
            "Skipping trade for UNB on 2023-11-02 because insider trade price $3.19 and yfinance price $25.33 differ by 694.12% (>15%).\n"
          ]
        },
        {
          "output_type": "stream",
          "name": "stderr",
          "text": [
            "[*********************100%***********************]  1 of 1 completed\n",
            "[*********************100%***********************]  1 of 1 completed\n",
            "[*********************100%***********************]  1 of 1 completed\n"
          ]
        },
        {
          "output_type": "stream",
          "name": "stdout",
          "text": [
            "Skipping trade for CCLFX on 2023-12-19 because insider trade price $45179800.00 and yfinance price $9.42 differ by 100.00% (>15%).\n"
          ]
        },
        {
          "output_type": "stream",
          "name": "stderr",
          "text": [
            "\r[*********************100%***********************]  1 of 1 completed\n",
            "ERROR:yfinance:\n",
            "1 Failed download:\n",
            "ERROR:yfinance:['OCEL']: YFTzMissingError('$%ticker%: possibly delisted; no timezone found')\n",
            "[*********************100%***********************]  1 of 1 completed\n"
          ]
        },
        {
          "output_type": "stream",
          "name": "stdout",
          "text": [
            "No historical data found for OCEL.\n"
          ]
        },
        {
          "output_type": "stream",
          "name": "stderr",
          "text": [
            "[*********************100%***********************]  1 of 1 completed\n",
            "[*********************100%***********************]  1 of 1 completed\n"
          ]
        },
        {
          "output_type": "stream",
          "name": "stdout",
          "text": [
            "Skipping trade for SING on 2023-12-19 because insider trade price $5.00 and yfinance price $0.80 differ by 84.04% (>15%).\n"
          ]
        },
        {
          "output_type": "stream",
          "name": "stderr",
          "text": [
            "[*********************100%***********************]  1 of 1 completed\n",
            "[*********************100%***********************]  1 of 1 completed\n"
          ]
        },
        {
          "output_type": "stream",
          "name": "stdout",
          "text": [
            "Skipping trade for TPL on 2023-12-20 because insider trade price $1613.69 and yfinance price $527.12 differ by 67.33% (>15%).\n"
          ]
        },
        {
          "output_type": "stream",
          "name": "stderr",
          "text": [
            "[*********************100%***********************]  1 of 1 completed\n",
            "[*********************100%***********************]  1 of 1 completed\n",
            "[*********************100%***********************]  1 of 1 completed\n",
            "[*********************100%***********************]  1 of 1 completed\n",
            "[*********************100%***********************]  1 of 1 completed\n",
            "[*********************100%***********************]  1 of 1 completed\n",
            "[*********************100%***********************]  1 of 1 completed\n",
            "[*********************100%***********************]  1 of 1 completed\n",
            "[*********************100%***********************]  1 of 1 completed\n",
            "[*********************100%***********************]  1 of 1 completed\n",
            "[*********************100%***********************]  1 of 1 completed\n",
            "[*********************100%***********************]  1 of 1 completed\n",
            "[*********************100%***********************]  1 of 1 completed\n",
            "[*********************100%***********************]  1 of 1 completed\n",
            "[*********************100%***********************]  1 of 1 completed\n",
            "[*********************100%***********************]  1 of 1 completed\n",
            "[*********************100%***********************]  1 of 1 completed\n",
            "[*********************100%***********************]  1 of 1 completed\n",
            "[*********************100%***********************]  1 of 1 completed\n",
            "[*********************100%***********************]  1 of 1 completed\n"
          ]
        },
        {
          "output_type": "stream",
          "name": "stdout",
          "text": [
            "Skipping trade for GSAT on 2023-12-18 because insider trade price $1.69 and yfinance price $24.90 differ by 1373.37% (>15%).\n",
            "Skipping trade for ORC on 2023-12-20 because insider trade price $8.61 and yfinance price $6.86 differ by 20.28% (>15%).\n"
          ]
        },
        {
          "output_type": "stream",
          "name": "stderr",
          "text": [
            "[*********************100%***********************]  1 of 1 completed\n",
            "[*********************100%***********************]  1 of 1 completed\n",
            "[*********************100%***********************]  1 of 1 completed\n",
            "[*********************100%***********************]  1 of 1 completed\n",
            "[*********************100%***********************]  1 of 1 completed\n",
            "[*********************100%***********************]  1 of 1 completed\n",
            "[*********************100%***********************]  1 of 1 completed\n",
            "[*********************100%***********************]  1 of 1 completed\n",
            "[*********************100%***********************]  1 of 1 completed\n"
          ]
        },
        {
          "output_type": "stream",
          "name": "stdout",
          "text": [
            "Skipping trade for UPXI on 2023-12-15 because insider trade price $0.96 and yfinance price $17.66 differ by 1739.58% (>15%).\n",
            "Skipping trade for TPL on 2023-12-19 because insider trade price $1627.37 and yfinance price $531.59 differ by 67.33% (>15%).\n"
          ]
        },
        {
          "output_type": "stream",
          "name": "stderr",
          "text": [
            "\r[*********************100%***********************]  1 of 1 completed\n",
            "<ipython-input-2-0f276d649fc8>:271: RuntimeWarning: divide by zero encountered in scalar divide\n",
            "  percent_diff = abs((base_price - insider_price) / insider_price) * 100\n",
            "[*********************100%***********************]  1 of 1 completed\n"
          ]
        },
        {
          "output_type": "stream",
          "name": "stdout",
          "text": [
            "Skipping trade for ABQQ on 2023-12-20 because insider trade price $0.00 and yfinance price $0.00 differ by inf% (>15%).\n"
          ]
        },
        {
          "output_type": "stream",
          "name": "stderr",
          "text": [
            "[*********************100%***********************]  1 of 1 completed\n",
            "[*********************100%***********************]  1 of 1 completed\n"
          ]
        },
        {
          "output_type": "stream",
          "name": "stdout",
          "text": [
            "Skipping trade for FBRX on 2023-12-18 because insider trade price $0.75 and yfinance price $17.90 differ by 2286.67% (>15%).\n"
          ]
        },
        {
          "output_type": "stream",
          "name": "stderr",
          "text": [
            "[*********************100%***********************]  1 of 1 completed\n",
            "[*********************100%***********************]  1 of 1 completed\n",
            "[*********************100%***********************]  1 of 1 completed\n",
            "[*********************100%***********************]  1 of 1 completed\n",
            "[*********************100%***********************]  1 of 1 completed\n",
            "[*********************100%***********************]  1 of 1 completed\n"
          ]
        },
        {
          "output_type": "stream",
          "name": "stdout",
          "text": [
            "Skipping trade for CATX on 2023-12-18 because insider trade price $0.26 and yfinance price $2.60 differ by 900.00% (>15%).\n",
            "Skipping trade for CATX on 2023-12-18 because insider trade price $0.29 and yfinance price $2.60 differ by 796.55% (>15%).\n",
            "Skipping trade for CATX on 2023-12-15 because insider trade price $0.32 and yfinance price $2.70 differ by 743.75% (>15%).\n"
          ]
        },
        {
          "output_type": "stream",
          "name": "stderr",
          "text": [
            "[*********************100%***********************]  1 of 1 completed\n",
            "[*********************100%***********************]  1 of 1 completed\n",
            "[*********************100%***********************]  1 of 1 completed\n",
            "[*********************100%***********************]  1 of 1 completed\n",
            "[*********************100%***********************]  1 of 1 completed\n",
            "[*********************100%***********************]  1 of 1 completed\n",
            "[*********************100%***********************]  1 of 1 completed\n",
            "[*********************100%***********************]  1 of 1 completed\n",
            "[*********************100%***********************]  1 of 1 completed\n",
            "[*********************100%***********************]  1 of 1 completed\n",
            "[*********************100%***********************]  1 of 1 completed\n",
            "[*********************100%***********************]  1 of 1 completed\n",
            "[*********************100%***********************]  1 of 1 completed\n",
            "[*********************100%***********************]  1 of 1 completed\n",
            "[*********************100%***********************]  1 of 1 completed\n",
            "[*********************100%***********************]  1 of 1 completed\n",
            "[*********************100%***********************]  1 of 1 completed\n",
            "[*********************100%***********************]  1 of 1 completed\n",
            "[*********************100%***********************]  1 of 1 completed\n",
            "[*********************100%***********************]  1 of 1 completed\n",
            "[*********************100%***********************]  1 of 1 completed\n",
            "[*********************100%***********************]  1 of 1 completed\n"
          ]
        },
        {
          "output_type": "stream",
          "name": "stdout",
          "text": [
            "Skipping trade for CYAN on 2023-12-15 because insider trade price $1.00 and yfinance price $0.82 differ by 18.00% (>15%).\n"
          ]
        },
        {
          "output_type": "stream",
          "name": "stderr",
          "text": [
            "[*********************100%***********************]  1 of 1 completed\n",
            "[*********************100%***********************]  1 of 1 completed\n",
            "[*********************100%***********************]  1 of 1 completed\n",
            "[*********************100%***********************]  1 of 1 completed\n",
            "[*********************100%***********************]  1 of 1 completed\n",
            "[*********************100%***********************]  1 of 1 completed\n",
            "[*********************100%***********************]  1 of 1 completed\n",
            "[*********************100%***********************]  1 of 1 completed\n",
            "[*********************100%***********************]  1 of 1 completed\n",
            "[*********************100%***********************]  1 of 1 completed\n",
            "[*********************100%***********************]  1 of 1 completed\n",
            "[*********************100%***********************]  1 of 1 completed\n",
            "[*********************100%***********************]  1 of 1 completed\n",
            "[*********************100%***********************]  1 of 1 completed\n",
            "[*********************100%***********************]  1 of 1 completed\n",
            "[*********************100%***********************]  1 of 1 completed\n",
            "[*********************100%***********************]  1 of 1 completed\n",
            "[*********************100%***********************]  1 of 1 completed\n"
          ]
        },
        {
          "output_type": "stream",
          "name": "stdout",
          "text": [
            "Skipping trade for TPL on 2023-12-18 because insider trade price $1602.37 and yfinance price $523.42 differ by 67.33% (>15%).\n"
          ]
        },
        {
          "output_type": "stream",
          "name": "stderr",
          "text": [
            "[*********************100%***********************]  1 of 1 completed\n",
            "[*********************100%***********************]  1 of 1 completed\n"
          ]
        },
        {
          "output_type": "stream",
          "name": "stdout",
          "text": [
            "Skipping trade for TPL on 2023-12-15 because insider trade price $1597.23 and yfinance price $521.74 differ by 67.33% (>15%).\n"
          ]
        },
        {
          "output_type": "stream",
          "name": "stderr",
          "text": [
            "[*********************100%***********************]  1 of 1 completed\n",
            "[*********************100%***********************]  1 of 1 completed\n"
          ]
        },
        {
          "output_type": "stream",
          "name": "stdout",
          "text": [
            "Skipping trade for SONX on 2023-12-15 because insider trade price $0.10 and yfinance price $2.08 differ by 1980.00% (>15%).\n"
          ]
        },
        {
          "output_type": "stream",
          "name": "stderr",
          "text": [
            "[*********************100%***********************]  1 of 1 completed\n",
            "[*********************100%***********************]  1 of 1 completed\n",
            "[*********************100%***********************]  1 of 1 completed\n",
            "[*********************100%***********************]  1 of 1 completed\n"
          ]
        },
        {
          "output_type": "stream",
          "name": "stdout",
          "text": [
            "Skipping trade for EPIX on 2023-12-14 because insider trade price $2.30 and yfinance price $6.00 differ by 160.87% (>15%).\n"
          ]
        },
        {
          "output_type": "stream",
          "name": "stderr",
          "text": [
            "[*********************100%***********************]  1 of 1 completed\n",
            "[*********************100%***********************]  1 of 1 completed\n",
            "[*********************100%***********************]  1 of 1 completed\n",
            "[*********************100%***********************]  1 of 1 completed\n",
            "[*********************100%***********************]  1 of 1 completed\n",
            "[*********************100%***********************]  1 of 1 completed\n",
            "[*********************100%***********************]  1 of 1 completed\n",
            "[*********************100%***********************]  1 of 1 completed\n",
            "[*********************100%***********************]  1 of 1 completed\n",
            "[*********************100%***********************]  1 of 1 completed\n",
            "[*********************100%***********************]  1 of 1 completed\n"
          ]
        },
        {
          "output_type": "stream",
          "name": "stdout",
          "text": [
            "Skipping trade for SST on 2023-12-15 because insider trade price $1.42 and yfinance price $1.83 differ by 28.87% (>15%).\n"
          ]
        },
        {
          "output_type": "stream",
          "name": "stderr",
          "text": [
            "[*********************100%***********************]  1 of 1 completed\n",
            "[*********************100%***********************]  1 of 1 completed\n",
            "[*********************100%***********************]  1 of 1 completed\n",
            "[*********************100%***********************]  1 of 1 completed\n",
            "[*********************100%***********************]  1 of 1 completed\n",
            "ERROR:yfinance:\n",
            "1 Failed download:\n",
            "ERROR:yfinance:['ASXC']: YFTzMissingError('$%ticker%: possibly delisted; no timezone found')\n",
            "[*********************100%***********************]  1 of 1 completed\n"
          ]
        },
        {
          "output_type": "stream",
          "name": "stdout",
          "text": [
            "No historical data found for ASXC.\n"
          ]
        },
        {
          "output_type": "stream",
          "name": "stderr",
          "text": [
            "\r[*********************100%***********************]  1 of 1 completed\n",
            "ERROR:yfinance:\n",
            "1 Failed download:\n",
            "ERROR:yfinance:['TELL']: YFTzMissingError('$%ticker%: possibly delisted; no timezone found')\n",
            "[*********************100%***********************]  1 of 1 completed\n"
          ]
        },
        {
          "output_type": "stream",
          "name": "stdout",
          "text": [
            "No historical data found for TELL.\n",
            "Skipping trade for FLNT on 2023-12-14 because insider trade price $0.58 and yfinance price $3.48 differ by 500.00% (>15%).\n"
          ]
        },
        {
          "output_type": "stream",
          "name": "stderr",
          "text": [
            "[*********************100%***********************]  1 of 1 completed\n",
            "[*********************100%***********************]  1 of 1 completed\n",
            "[*********************100%***********************]  1 of 1 completed\n"
          ]
        },
        {
          "output_type": "stream",
          "name": "stdout",
          "text": [
            "Skipping trade for AMH on 2023-12-13 because insider trade price $24.31 and yfinance price $35.36 differ by 45.43% (>15%).\n",
            "Skipping trade for FLNT on 2023-12-14 because insider trade price $0.58 and yfinance price $3.48 differ by 500.00% (>15%).\n"
          ]
        },
        {
          "output_type": "stream",
          "name": "stderr",
          "text": [
            "\r[*********************100%***********************]  1 of 1 completed\n",
            "ERROR:yfinance:\n",
            "1 Failed download:\n",
            "ERROR:yfinance:['STRC']: YFTzMissingError('$%ticker%: possibly delisted; no timezone found')\n",
            "[*********************100%***********************]  1 of 1 completed\n",
            "ERROR:yfinance:\n",
            "1 Failed download:\n",
            "ERROR:yfinance:['STRC']: YFTzMissingError('$%ticker%: possibly delisted; no timezone found')\n",
            "[*********************100%***********************]  1 of 1 completed\n"
          ]
        },
        {
          "output_type": "stream",
          "name": "stdout",
          "text": [
            "No historical data found for STRC.\n",
            "No historical data found for STRC.\n"
          ]
        },
        {
          "output_type": "stream",
          "name": "stderr",
          "text": [
            "[*********************100%***********************]  1 of 1 completed\n",
            "[*********************100%***********************]  1 of 1 completed\n",
            "[*********************100%***********************]  1 of 1 completed\n",
            "[*********************100%***********************]  1 of 1 completed\n",
            "[*********************100%***********************]  1 of 1 completed"
          ]
        },
        {
          "output_type": "stream",
          "name": "stdout",
          "text": [
            "Skipping trade for JNVR on 2023-12-15 because insider trade price $1.69 and yfinance price $11.76 differ by 595.86% (>15%).\n",
            "Skipping trade for JNVR on 2023-12-04 because insider trade price $1.26 and yfinance price $9.44 differ by 649.21% (>15%).\n"
          ]
        },
        {
          "output_type": "stream",
          "name": "stderr",
          "text": [
            "\n",
            "[*********************100%***********************]  1 of 1 completed\n",
            "[*********************100%***********************]  1 of 1 completed\n",
            "[*********************100%***********************]  1 of 1 completed\n",
            "[*********************100%***********************]  1 of 1 completed\n",
            "[*********************100%***********************]  1 of 1 completed\n",
            "[*********************100%***********************]  1 of 1 completed\n",
            "[*********************100%***********************]  1 of 1 completed\n",
            "[*********************100%***********************]  1 of 1 completed\n",
            "[*********************100%***********************]  1 of 1 completed\n",
            "[*********************100%***********************]  1 of 1 completed\n",
            "[*********************100%***********************]  1 of 1 completed\n",
            "[*********************100%***********************]  1 of 1 completed\n"
          ]
        },
        {
          "output_type": "stream",
          "name": "stdout",
          "text": [
            "Skipping trade for OCUL on 2023-12-14 because insider trade price $3.25 and yfinance price $3.79 differ by 16.62% (>15%).\n"
          ]
        },
        {
          "output_type": "stream",
          "name": "stderr",
          "text": [
            "[*********************100%***********************]  1 of 1 completed\n",
            "[*********************100%***********************]  1 of 1 completed\n",
            "[*********************100%***********************]  1 of 1 completed\n",
            "[*********************100%***********************]  1 of 1 completed\n",
            "[*********************100%***********************]  1 of 1 completed\n",
            "[*********************100%***********************]  1 of 1 completed\n",
            "[*********************100%***********************]  1 of 1 completed\n"
          ]
        },
        {
          "output_type": "stream",
          "name": "stdout",
          "text": [
            "Skipping trade for CATX on 2023-12-14 because insider trade price $0.27 and yfinance price $2.80 differ by 937.04% (>15%).\n"
          ]
        },
        {
          "output_type": "stream",
          "name": "stderr",
          "text": [
            "[*********************100%***********************]  1 of 1 completed\n",
            "[*********************100%***********************]  1 of 1 completed\n"
          ]
        },
        {
          "output_type": "stream",
          "name": "stdout",
          "text": [
            "Skipping trade for ATNF on 2023-12-15 because insider trade price $0.19 and yfinance price $3.57 differ by 1780.00% (>15%).\n"
          ]
        },
        {
          "output_type": "stream",
          "name": "stderr",
          "text": [
            "[*********************100%***********************]  1 of 1 completed\n",
            "[*********************100%***********************]  1 of 1 completed\n",
            "[*********************100%***********************]  1 of 1 completed\n",
            "[*********************100%***********************]  1 of 1 completed\n",
            "<ipython-input-2-0f276d649fc8>:271: RuntimeWarning: divide by zero encountered in scalar divide\n",
            "  percent_diff = abs((base_price - insider_price) / insider_price) * 100\n"
          ]
        },
        {
          "output_type": "stream",
          "name": "stdout",
          "text": [
            "Skipping trade for NOTE on 2023-12-15 because insider trade price $0.57 and yfinance price $1.05 differ by 84.21% (>15%).\n",
            "Skipping trade for NOTE on 2023-12-18 because insider trade price $0.00 and yfinance price $1.02 differ by inf% (>15%).\n"
          ]
        },
        {
          "output_type": "stream",
          "name": "stderr",
          "text": [
            "[*********************100%***********************]  1 of 1 completed\n",
            "[*********************100%***********************]  1 of 1 completed\n",
            "[*********************100%***********************]  1 of 1 completed\n",
            "[*********************100%***********************]  1 of 1 completed\n"
          ]
        },
        {
          "output_type": "stream",
          "name": "stdout",
          "text": [
            "Skipping trade for ADMQ on 2023-12-14 because insider trade price $0.03 and yfinance price $0.04 differ by 17.33% (>15%).\n"
          ]
        },
        {
          "output_type": "stream",
          "name": "stderr",
          "text": [
            "[*********************100%***********************]  1 of 1 completed\n",
            "[*********************100%***********************]  1 of 1 completed\n",
            "[*********************100%***********************]  1 of 1 completed\n",
            "[*********************100%***********************]  1 of 1 completed\n",
            "[*********************100%***********************]  1 of 1 completed\n",
            "[*********************100%***********************]  1 of 1 completed\n"
          ]
        },
        {
          "output_type": "stream",
          "name": "stdout",
          "text": [
            "Skipping trade for TPL on 2023-12-15 because insider trade price $1597.23 and yfinance price $521.74 differ by 67.33% (>15%).\n"
          ]
        },
        {
          "output_type": "stream",
          "name": "stderr",
          "text": [
            "[*********************100%***********************]  1 of 1 completed\n",
            "[*********************100%***********************]  1 of 1 completed\n",
            "[*********************100%***********************]  1 of 1 completed\n",
            "[*********************100%***********************]  1 of 1 completed\n"
          ]
        },
        {
          "output_type": "stream",
          "name": "stdout",
          "text": [
            "Skipping trade for THAR on 2023-12-15 because insider trade price $0.50 and yfinance price $8.10 differ by 1520.00% (>15%).\n"
          ]
        },
        {
          "output_type": "stream",
          "name": "stderr",
          "text": [
            "[*********************100%***********************]  1 of 1 completed\n",
            "[*********************100%***********************]  1 of 1 completed\n",
            "[*********************100%***********************]  1 of 1 completed\n",
            "[*********************100%***********************]  1 of 1 completed\n",
            "[*********************100%***********************]  1 of 1 completed\n",
            "[*********************100%***********************]  1 of 1 completed\n",
            "[*********************100%***********************]  1 of 1 completed\n",
            "[*********************100%***********************]  1 of 1 completed\n",
            "<ipython-input-2-0f276d649fc8>:271: RuntimeWarning: divide by zero encountered in scalar divide\n",
            "  percent_diff = abs((base_price - insider_price) / insider_price) * 100\n",
            "[*********************100%***********************]  1 of 1 completed\n"
          ]
        },
        {
          "output_type": "stream",
          "name": "stdout",
          "text": [
            "Skipping trade for MOND on 2023-12-14 because insider trade price $0.00 and yfinance price $3.00 differ by inf% (>15%).\n"
          ]
        },
        {
          "output_type": "stream",
          "name": "stderr",
          "text": [
            "[*********************100%***********************]  1 of 1 completed\n",
            "[*********************100%***********************]  1 of 1 completed\n",
            "[*********************100%***********************]  1 of 1 completed\n",
            "[*********************100%***********************]  1 of 1 completed\n",
            "[*********************100%***********************]  1 of 1 completed\n",
            "[*********************100%***********************]  1 of 1 completed\n",
            "[*********************100%***********************]  1 of 1 completed\n",
            "[*********************100%***********************]  1 of 1 completed\n",
            "[*********************100%***********************]  1 of 1 completed\n",
            "[*********************100%***********************]  1 of 1 completed"
          ]
        },
        {
          "output_type": "stream",
          "name": "stdout",
          "text": [
            "Skipping trade for FBRX on 2023-12-13 because insider trade price $0.71 and yfinance price $17.50 differ by 2364.79% (>15%).\n"
          ]
        },
        {
          "output_type": "stream",
          "name": "stderr",
          "text": [
            "\n",
            "[*********************100%***********************]  1 of 1 completed\n",
            "[*********************100%***********************]  1 of 1 completed\n",
            "[*********************100%***********************]  1 of 1 completed\n"
          ]
        },
        {
          "output_type": "stream",
          "name": "stdout",
          "text": [
            "Skipping trade for BH on 2023-12-14 because insider trade price $335.56 and yfinance price $178.93 differ by 46.68% (>15%).\n"
          ]
        },
        {
          "output_type": "stream",
          "name": "stderr",
          "text": [
            "[*********************100%***********************]  1 of 1 completed\n",
            "[*********************100%***********************]  1 of 1 completed\n",
            "[*********************100%***********************]  1 of 1 completed\n",
            "[*********************100%***********************]  1 of 1 completed\n",
            "[*********************100%***********************]  1 of 1 completed\n"
          ]
        },
        {
          "output_type": "stream",
          "name": "stdout",
          "text": [
            "Skipping trade for PRKA on 2023-12-14 because insider trade price $0.25 and yfinance price $0.29 differ by 16.00% (>15%).\n"
          ]
        },
        {
          "output_type": "stream",
          "name": "stderr",
          "text": [
            "\r[*********************100%***********************]  1 of 1 completed\n"
          ]
        },
        {
          "output_type": "stream",
          "name": "stdout",
          "text": [
            "Skipping trade for SCND on 2023-12-13 because insider trade price $2.00 and yfinance price $2.42 differ by 21.00% (>15%).\n"
          ]
        },
        {
          "output_type": "stream",
          "name": "stderr",
          "text": [
            "[*********************100%***********************]  1 of 1 completed\n",
            "[*********************100%***********************]  1 of 1 completed\n",
            "[*********************100%***********************]  1 of 1 completed\n",
            "[*********************100%***********************]  1 of 1 completed\n",
            "[*********************100%***********************]  1 of 1 completed\n"
          ]
        },
        {
          "output_type": "stream",
          "name": "stdout",
          "text": [
            "Skipping trade for CTSO on 2023-12-13 because insider trade price $1.33 and yfinance price $1.75 differ by 31.58% (>15%).\n",
            "Skipping trade for CTSO on 2023-12-13 because insider trade price $1.33 and yfinance price $1.75 differ by 31.58% (>15%).\n",
            "Skipping trade for CTSO on 2023-12-13 because insider trade price $1.33 and yfinance price $1.75 differ by 31.58% (>15%).\n",
            "Skipping trade for CTSO on 2023-12-13 because insider trade price $1.33 and yfinance price $1.75 differ by 31.58% (>15%).\n"
          ]
        },
        {
          "output_type": "stream",
          "name": "stderr",
          "text": [
            "[*********************100%***********************]  1 of 1 completed\n",
            "[*********************100%***********************]  1 of 1 completed\n",
            "[*********************100%***********************]  1 of 1 completed\n",
            "[*********************100%***********************]  1 of 1 completed\n",
            "[*********************100%***********************]  1 of 1 completed\n"
          ]
        },
        {
          "output_type": "stream",
          "name": "stdout",
          "text": [
            "Skipping trade for CTSO on 2023-12-13 because insider trade price $1.33 and yfinance price $1.75 differ by 31.58% (>15%).\n",
            "Skipping trade for CTSO on 2023-12-13 because insider trade price $1.33 and yfinance price $1.75 differ by 31.58% (>15%).\n",
            "Skipping trade for CTSO on 2023-12-13 because insider trade price $1.33 and yfinance price $1.75 differ by 31.58% (>15%).\n",
            "Skipping trade for CTSO on 2023-12-13 because insider trade price $1.33 and yfinance price $1.75 differ by 31.58% (>15%).\n"
          ]
        },
        {
          "output_type": "stream",
          "name": "stderr",
          "text": [
            "\r[*********************100%***********************]  1 of 1 completed\n",
            "ERROR:yfinance:\n",
            "1 Failed download:\n",
            "ERROR:yfinance:['VWE']: YFTzMissingError('$%ticker%: possibly delisted; no timezone found')\n",
            "[*********************100%***********************]  1 of 1 completed\n"
          ]
        },
        {
          "output_type": "stream",
          "name": "stdout",
          "text": [
            "No historical data found for VWE.\n"
          ]
        },
        {
          "output_type": "stream",
          "name": "stderr",
          "text": [
            "[*********************100%***********************]  1 of 1 completed\n",
            "[*********************100%***********************]  1 of 1 completed\n"
          ]
        },
        {
          "output_type": "stream",
          "name": "stdout",
          "text": [
            "Skipping trade for CSPI on 2023-12-14 because insider trade price $18.18 and yfinance price $9.02 differ by 50.36% (>15%).\n"
          ]
        },
        {
          "output_type": "stream",
          "name": "stderr",
          "text": [
            "[*********************100%***********************]  1 of 1 completed\n",
            "[*********************100%***********************]  1 of 1 completed\n"
          ]
        },
        {
          "output_type": "stream",
          "name": "stdout",
          "text": [
            "Skipping trade for CLRO on 2023-12-14 because insider trade price $0.82 and yfinance price $0.57 differ by 30.61% (>15%).\n",
            "Skipping trade for CMG on 2023-12-15 because insider trade price $2284.81 and yfinance price $45.43 differ by 98.01% (>15%).\n"
          ]
        },
        {
          "output_type": "stream",
          "name": "stderr",
          "text": [
            "[*********************100%***********************]  1 of 1 completed\n",
            "[*********************100%***********************]  1 of 1 completed\n",
            "[*********************100%***********************]  1 of 1 completed\n",
            "[*********************100%***********************]  1 of 1 completed\n",
            "[*********************100%***********************]  1 of 1 completed\n",
            "ERROR:yfinance:\n",
            "1 Failed download:\n",
            "ERROR:yfinance:['OSG']: YFTzMissingError('$%ticker%: possibly delisted; no timezone found')\n",
            "[*********************100%***********************]  1 of 1 completed\n",
            "[*********************100%***********************]  1 of 1 completed\n"
          ]
        },
        {
          "output_type": "stream",
          "name": "stdout",
          "text": [
            "No historical data found for OSG.\n",
            "Skipping trade for INIS on 2023-12-14 because insider trade price $0.03 and yfinance price $0.05 differ by 66.67% (>15%).\n",
            "Skipping trade for INIS on 2023-12-14 because insider trade price $0.03 and yfinance price $0.05 differ by 66.67% (>15%).\n"
          ]
        },
        {
          "output_type": "stream",
          "name": "stderr",
          "text": [
            "[*********************100%***********************]  1 of 1 completed\n",
            "[*********************100%***********************]  1 of 1 completed\n",
            "[*********************100%***********************]  1 of 1 completed"
          ]
        },
        {
          "output_type": "stream",
          "name": "stdout",
          "text": [
            "Skipping trade for STRR on 2023-12-14 because insider trade price $1.04 and yfinance price $5.45 differ by 424.04% (>15%).\n"
          ]
        },
        {
          "output_type": "stream",
          "name": "stderr",
          "text": [
            "\n",
            "[*********************100%***********************]  1 of 1 completed\n",
            "[*********************100%***********************]  1 of 1 completed\n",
            "[*********************100%***********************]  1 of 1 completed\n",
            "[*********************100%***********************]  1 of 1 completed\n",
            "[*********************100%***********************]  1 of 1 completed\n",
            "[*********************100%***********************]  1 of 1 completed\n",
            "<ipython-input-2-0f276d649fc8>:271: RuntimeWarning: divide by zero encountered in scalar divide\n",
            "  percent_diff = abs((base_price - insider_price) / insider_price) * 100\n",
            "[*********************100%***********************]  1 of 1 completed\n"
          ]
        },
        {
          "output_type": "stream",
          "name": "stdout",
          "text": [
            "Skipping trade for ABQQ on 2023-12-14 because insider trade price $0.00 and yfinance price $0.00 differ by inf% (>15%).\n"
          ]
        },
        {
          "output_type": "stream",
          "name": "stderr",
          "text": [
            "[*********************100%***********************]  1 of 1 completed\n",
            "[*********************100%***********************]  1 of 1 completed\n"
          ]
        },
        {
          "output_type": "stream",
          "name": "stdout",
          "text": [
            "Skipping trade for TPL on 2023-12-14 because insider trade price $1603.95 and yfinance price $523.94 differ by 67.33% (>15%).\n"
          ]
        },
        {
          "output_type": "stream",
          "name": "stderr",
          "text": [
            "[*********************100%***********************]  1 of 1 completed\n",
            "[*********************100%***********************]  1 of 1 completed\n",
            "[*********************100%***********************]  1 of 1 completed\n",
            "[*********************100%***********************]  1 of 1 completed\n",
            "[*********************100%***********************]  1 of 1 completed\n",
            "[*********************100%***********************]  1 of 1 completed\n",
            "[*********************100%***********************]  1 of 1 completed\n",
            "[*********************100%***********************]  1 of 1 completed\n",
            "[*********************100%***********************]  1 of 1 completed\n",
            "[*********************100%***********************]  1 of 1 completed\n",
            "[*********************100%***********************]  1 of 1 completed\n",
            "[*********************100%***********************]  1 of 1 completed\n"
          ]
        },
        {
          "output_type": "stream",
          "name": "stdout",
          "text": [
            "Skipping trade for FAT on 2023-12-12 because insider trade price $5.25 and yfinance price $2.79 differ by 46.95% (>15%).\n"
          ]
        },
        {
          "output_type": "stream",
          "name": "stderr",
          "text": [
            "\r[*********************100%***********************]  1 of 1 completed\n",
            "ERROR:yfinance:\n",
            "1 Failed download:\n",
            "ERROR:yfinance:['MLCT']: YFTzMissingError('$%ticker%: possibly delisted; no timezone found')\n",
            "[*********************100%***********************]  1 of 1 completed\n"
          ]
        },
        {
          "output_type": "stream",
          "name": "stdout",
          "text": [
            "No historical data found for MLCT.\n"
          ]
        },
        {
          "output_type": "stream",
          "name": "stderr",
          "text": [
            "[*********************100%***********************]  1 of 1 completed\n",
            "[*********************100%***********************]  1 of 1 completed\n",
            "[*********************100%***********************]  1 of 1 completed\n",
            "[*********************100%***********************]  1 of 1 completed\n",
            "[*********************100%***********************]  1 of 1 completed\n",
            "[*********************100%***********************]  1 of 1 completed\n",
            "[*********************100%***********************]  1 of 1 completed\n",
            "[*********************100%***********************]  1 of 1 completed\n",
            "ERROR:yfinance:\n",
            "1 Failed download:\n",
            "ERROR:yfinance:['STRC']: YFTzMissingError('$%ticker%: possibly delisted; no timezone found')\n",
            "[*********************100%***********************]  1 of 1 completed\n"
          ]
        },
        {
          "output_type": "stream",
          "name": "stdout",
          "text": [
            "No historical data found for STRC.\n"
          ]
        },
        {
          "output_type": "stream",
          "name": "stderr",
          "text": [
            "[*********************100%***********************]  1 of 1 completed\n",
            "[*********************100%***********************]  1 of 1 completed\n",
            "[*********************100%***********************]  1 of 1 completed\n",
            "[*********************100%***********************]  1 of 1 completed\n"
          ]
        },
        {
          "output_type": "stream",
          "name": "stdout",
          "text": [
            "Skipping trade for CTHR on 2023-12-13 because insider trade price $0.40 and yfinance price $4.10 differ by 925.00% (>15%).\n"
          ]
        },
        {
          "output_type": "stream",
          "name": "stderr",
          "text": [
            "[*********************100%***********************]  1 of 1 completed\n",
            "[*********************100%***********************]  1 of 1 completed\n",
            "[*********************100%***********************]  1 of 1 completed\n",
            "[*********************100%***********************]  1 of 1 completed\n",
            "[*********************100%***********************]  1 of 1 completed\n",
            "[*********************100%***********************]  1 of 1 completed\n",
            "[*********************100%***********************]  1 of 1 completed\n",
            "[*********************100%***********************]  1 of 1 completed\n",
            "[*********************100%***********************]  1 of 1 completed\n",
            "[*********************100%***********************]  1 of 1 completed\n",
            "[*********************100%***********************]  1 of 1 completed\n"
          ]
        },
        {
          "output_type": "stream",
          "name": "stdout",
          "text": [
            "Skipping trade for BJDX on 2023-12-13 because insider trade price $3.07 and yfinance price $1204.00 differ by 39118.24% (>15%).\n",
            "Skipping trade for BJDX on 2023-12-13 because insider trade price $3.27 and yfinance price $1204.00 differ by 36719.57% (>15%).\n"
          ]
        },
        {
          "output_type": "stream",
          "name": "stderr",
          "text": [
            "[*********************100%***********************]  1 of 1 completed\n",
            "[*********************100%***********************]  1 of 1 completed\n",
            "[*********************100%***********************]  1 of 1 completed\n",
            "[*********************100%***********************]  1 of 1 completed\n",
            "[*********************100%***********************]  1 of 1 completed\n",
            "[*********************100%***********************]  1 of 1 completed\n",
            "[*********************100%***********************]  1 of 1 completed\n",
            "[*********************100%***********************]  1 of 1 completed\n",
            "ERROR:yfinance:\n",
            "1 Failed download:\n",
            "ERROR:yfinance:['TWOU']: YFTzMissingError('$%ticker%: possibly delisted; no timezone found')\n",
            "[*********************100%***********************]  1 of 1 completed\n",
            "[*********************100%***********************]  1 of 1 completed"
          ]
        },
        {
          "output_type": "stream",
          "name": "stdout",
          "text": [
            "No historical data found for TWOU.\n",
            "Skipping trade for ZIVO on 2023-12-13 because insider trade price $1.00 and yfinance price $1.49 differ by 49.00% (>15%).\n"
          ]
        },
        {
          "output_type": "stream",
          "name": "stderr",
          "text": [
            "\n",
            "[*********************100%***********************]  1 of 1 completed\n",
            "[*********************100%***********************]  1 of 1 completed\n",
            "[*********************100%***********************]  1 of 1 completed\n",
            "[*********************100%***********************]  1 of 1 completed\n",
            "[*********************100%***********************]  1 of 1 completed\n",
            "[*********************100%***********************]  1 of 1 completed\n"
          ]
        },
        {
          "output_type": "stream",
          "name": "stdout",
          "text": [
            "Skipping trade for SONX on 2023-12-13 because insider trade price $0.05 and yfinance price $2.08 differ by 4060.00% (>15%).\n"
          ]
        },
        {
          "output_type": "stream",
          "name": "stderr",
          "text": [
            "[*********************100%***********************]  1 of 1 completed\n",
            "[*********************100%***********************]  1 of 1 completed\n",
            "[*********************100%***********************]  1 of 1 completed\n",
            "[*********************100%***********************]  1 of 1 completed\n",
            "[*********************100%***********************]  1 of 1 completed\n",
            "[*********************100%***********************]  1 of 1 completed\n",
            "[*********************100%***********************]  1 of 1 completed\n",
            "[*********************100%***********************]  1 of 1 completed\n"
          ]
        },
        {
          "output_type": "stream",
          "name": "stdout",
          "text": [
            "Skipping trade for TPL on 2023-12-13 because insider trade price $1574.41 and yfinance price $514.29 differ by 67.33% (>15%).\n"
          ]
        },
        {
          "output_type": "stream",
          "name": "stderr",
          "text": [
            "[*********************100%***********************]  1 of 1 completed\n",
            "[*********************100%***********************]  1 of 1 completed\n",
            "[*********************100%***********************]  1 of 1 completed\n"
          ]
        },
        {
          "output_type": "stream",
          "name": "stdout",
          "text": [
            "Skipping trade for FLNT on 2023-12-12 because insider trade price $0.51 and yfinance price $3.06 differ by 500.00% (>15%).\n",
            "Skipping trade for FLNT on 2023-12-12 because insider trade price $0.52 and yfinance price $3.06 differ by 488.46% (>15%).\n"
          ]
        },
        {
          "output_type": "stream",
          "name": "stderr",
          "text": [
            "[*********************100%***********************]  1 of 1 completed\n",
            "[*********************100%***********************]  1 of 1 completed\n",
            "[*********************100%***********************]  1 of 1 completed\n",
            "[*********************100%***********************]  1 of 1 completed\n",
            "[*********************100%***********************]  1 of 1 completed\n",
            "[*********************100%***********************]  1 of 1 completed\n",
            "[*********************100%***********************]  1 of 1 completed\n",
            "[*********************100%***********************]  1 of 1 completed\n",
            "[*********************100%***********************]  1 of 1 completed\n"
          ]
        },
        {
          "output_type": "stream",
          "name": "stdout",
          "text": [
            "Skipping trade for ELYS on 2023-12-12 because insider trade price $0.16 and yfinance price $0.13 differ by 16.03% (>15%).\n"
          ]
        },
        {
          "output_type": "stream",
          "name": "stderr",
          "text": [
            "[*********************100%***********************]  1 of 1 completed\n",
            "[*********************100%***********************]  1 of 1 completed\n",
            "[*********************100%***********************]  1 of 1 completed\n",
            "[*********************100%***********************]  1 of 1 completed\n",
            "[*********************100%***********************]  1 of 1 completed\n",
            "[*********************100%***********************]  1 of 1 completed\n",
            "[*********************100%***********************]  1 of 1 completed\n"
          ]
        },
        {
          "output_type": "stream",
          "name": "stdout",
          "text": [
            "Skipping trade for LUXH on 2023-12-13 because insider trade price $4.56 and yfinance price $324.80 differ by 7022.81% (>15%).\n"
          ]
        },
        {
          "output_type": "stream",
          "name": "stderr",
          "text": [
            "\r[*********************100%***********************]  1 of 1 completed\n",
            "ERROR:yfinance:\n",
            "1 Failed download:\n",
            "ERROR:yfinance:['ACRX']: YFTzMissingError('$%ticker%: possibly delisted; no timezone found')\n",
            "[*********************100%***********************]  1 of 1 completed\n",
            "[*********************100%***********************]  1 of 1 completed\n"
          ]
        },
        {
          "output_type": "stream",
          "name": "stdout",
          "text": [
            "No historical data found for ACRX.\n"
          ]
        },
        {
          "output_type": "stream",
          "name": "stderr",
          "text": [
            "[*********************100%***********************]  1 of 1 completed\n",
            "[*********************100%***********************]  1 of 1 completed\n",
            "[*********************100%***********************]  1 of 1 completed\n",
            "[*********************100%***********************]  1 of 1 completed\n",
            "[*********************100%***********************]  1 of 1 completed\n",
            "[*********************100%***********************]  1 of 1 completed\n"
          ]
        },
        {
          "output_type": "stream",
          "name": "stdout",
          "text": [
            "Skipping trade for CTCX on 2023-12-11 because insider trade price $4.20 and yfinance price $3.53 differ by 15.95% (>15%).\n",
            "Skipping trade for CTCX on 2023-12-11 because insider trade price $4.20 and yfinance price $3.53 differ by 15.95% (>15%).\n",
            "Skipping trade for CTCX on 2023-12-11 because insider trade price $4.20 and yfinance price $3.53 differ by 15.95% (>15%).\n",
            "Skipping trade for CTCX on 2023-12-11 because insider trade price $4.20 and yfinance price $3.53 differ by 15.95% (>15%).\n"
          ]
        },
        {
          "output_type": "stream",
          "name": "stderr",
          "text": [
            "[*********************100%***********************]  1 of 1 completed\n",
            "[*********************100%***********************]  1 of 1 completed\n"
          ]
        },
        {
          "output_type": "stream",
          "name": "stdout",
          "text": [
            "Skipping trade for CTCX on 2023-12-11 because insider trade price $4.20 and yfinance price $3.53 differ by 15.95% (>15%).\n"
          ]
        },
        {
          "output_type": "stream",
          "name": "stderr",
          "text": [
            "[*********************100%***********************]  1 of 1 completed\n",
            "[*********************100%***********************]  1 of 1 completed\n",
            "[*********************100%***********************]  1 of 1 completed\n",
            "[*********************100%***********************]  1 of 1 completed\n",
            "[*********************100%***********************]  1 of 1 completed\n",
            "[*********************100%***********************]  1 of 1 completed\n",
            "[*********************100%***********************]  1 of 1 completed\n"
          ]
        },
        {
          "output_type": "stream",
          "name": "stdout",
          "text": [
            "Skipping trade for CLRO on 2023-12-11 because insider trade price $0.81 and yfinance price $0.56 differ by 30.60% (>15%).\n"
          ]
        },
        {
          "output_type": "stream",
          "name": "stderr",
          "text": [
            "[*********************100%***********************]  1 of 1 completed\n",
            "[*********************100%***********************]  1 of 1 completed\n",
            "[*********************100%***********************]  1 of 1 completed\n",
            "[*********************100%***********************]  1 of 1 completed\n"
          ]
        },
        {
          "output_type": "stream",
          "name": "stdout",
          "text": [
            "Skipping trade for BH on 2023-12-11 because insider trade price $219.20 and yfinance price $159.41 differ by 27.28% (>15%).\n"
          ]
        },
        {
          "output_type": "stream",
          "name": "stderr",
          "text": [
            "[*********************100%***********************]  1 of 1 completed\n",
            "[*********************100%***********************]  1 of 1 completed\n",
            "[*********************100%***********************]  1 of 1 completed\n",
            "[*********************100%***********************]  1 of 1 completed\n",
            "[*********************100%***********************]  1 of 1 completed\n"
          ]
        },
        {
          "output_type": "stream",
          "name": "stdout",
          "text": [
            "Skipping trade for MDRR on 2023-12-12 because insider trade price $5.34 and yfinance price $10.21 differ by 91.26% (>15%).\n"
          ]
        },
        {
          "output_type": "stream",
          "name": "stderr",
          "text": [
            "[*********************100%***********************]  1 of 1 completed\n",
            "[*********************100%***********************]  1 of 1 completed\n",
            "[*********************100%***********************]  1 of 1 completed\n",
            "[*********************100%***********************]  1 of 1 completed\n",
            "[*********************100%***********************]  1 of 1 completed\n",
            "[*********************100%***********************]  1 of 1 completed\n",
            "[*********************100%***********************]  1 of 1 completed\n",
            "[*********************100%***********************]  1 of 1 completed\n",
            "[*********************100%***********************]  1 of 1 completed\n",
            "[*********************100%***********************]  1 of 1 completed\n"
          ]
        },
        {
          "output_type": "stream",
          "name": "stdout",
          "text": [
            "Skipping trade for WVE on 2023-12-11 because insider trade price $5.00 and yfinance price $4.16 differ by 16.80% (>15%).\n"
          ]
        },
        {
          "output_type": "stream",
          "name": "stderr",
          "text": [
            "[*********************100%***********************]  1 of 1 completed\n",
            "[*********************100%***********************]  1 of 1 completed\n",
            "[*********************100%***********************]  1 of 1 completed\n",
            "ERROR:yfinance:\n",
            "1 Failed download:\n",
            "ERROR:yfinance:['MNKTQ']: YFTzMissingError('$%ticker%: possibly delisted; no timezone found')\n",
            "[*********************100%***********************]  1 of 1 completed\n",
            "[*********************100%***********************]  1 of 1 completed\n"
          ]
        },
        {
          "output_type": "stream",
          "name": "stdout",
          "text": [
            "No historical data found for MNKTQ.\n",
            "Skipping trade for MDRR on 2023-12-12 because insider trade price $23.46 and yfinance price $10.21 differ by 56.46% (>15%).\n"
          ]
        },
        {
          "output_type": "stream",
          "name": "stderr",
          "text": [
            "[*********************100%***********************]  1 of 1 completed\n",
            "[*********************100%***********************]  1 of 1 completed\n",
            "[*********************100%***********************]  1 of 1 completed\n",
            "[*********************100%***********************]  1 of 1 completed\n",
            "[*********************100%***********************]  1 of 1 completed\n",
            "[*********************100%***********************]  1 of 1 completed\n",
            "[*********************100%***********************]  1 of 1 completed\n",
            "[*********************100%***********************]  1 of 1 completed\n",
            "[*********************100%***********************]  1 of 1 completed\n",
            "[*********************100%***********************]  1 of 1 completed\n",
            "[*********************100%***********************]  1 of 1 completed\n",
            "[*********************100%***********************]  1 of 1 completed\n"
          ]
        },
        {
          "output_type": "stream",
          "name": "stdout",
          "text": [
            "Skipping trade for BOLT on 2023-06-06 because insider trade price $0.95 and yfinance price $1.62 differ by 70.53% (>15%).\n",
            "Skipping trade for TCBI on 2023-12-07 because insider trade price $18.54 and yfinance price $57.41 differ by 209.65% (>15%).\n"
          ]
        },
        {
          "output_type": "stream",
          "name": "stderr",
          "text": [
            "[*********************100%***********************]  1 of 1 completed\n",
            "[*********************100%***********************]  1 of 1 completed\n"
          ]
        },
        {
          "output_type": "stream",
          "name": "stdout",
          "text": [
            "Skipping trade for TPL on 2023-12-12 because insider trade price $1545.71 and yfinance price $504.91 differ by 67.33% (>15%).\n"
          ]
        },
        {
          "output_type": "stream",
          "name": "stderr",
          "text": [
            "[*********************100%***********************]  1 of 1 completed\n",
            "[*********************100%***********************]  1 of 1 completed\n",
            "[*********************100%***********************]  1 of 1 completed\n",
            "[*********************100%***********************]  1 of 1 completed\n",
            "[*********************100%***********************]  1 of 1 completed\n",
            "[*********************100%***********************]  1 of 1 completed\n",
            "[*********************100%***********************]  1 of 1 completed\n",
            "[*********************100%***********************]  1 of 1 completed\n",
            "[*********************100%***********************]  1 of 1 completed\n",
            "[*********************100%***********************]  1 of 1 completed\n",
            "[*********************100%***********************]  1 of 1 completed\n",
            "[*********************100%***********************]  1 of 1 completed\n",
            "[*********************100%***********************]  1 of 1 completed\n",
            "[*********************100%***********************]  1 of 1 completed\n"
          ]
        },
        {
          "output_type": "stream",
          "name": "stdout",
          "text": [
            "Skipping trade for FBRX on 2023-12-11 because insider trade price $0.65 and yfinance price $15.25 differ by 2246.15% (>15%).\n"
          ]
        },
        {
          "output_type": "stream",
          "name": "stderr",
          "text": [
            "\r[*********************100%***********************]  1 of 1 completed\n",
            "ERROR:yfinance:\n",
            "1 Failed download:\n",
            "ERROR:yfinance:['LIFE']: YFTzMissingError('$%ticker%: possibly delisted; no timezone found')\n",
            "[*********************100%***********************]  1 of 1 completed\n"
          ]
        },
        {
          "output_type": "stream",
          "name": "stdout",
          "text": [
            "No historical data found for LIFE.\n"
          ]
        },
        {
          "output_type": "stream",
          "name": "stderr",
          "text": [
            "[*********************100%***********************]  1 of 1 completed\n",
            "[*********************100%***********************]  1 of 1 completed\n",
            "[*********************100%***********************]  1 of 1 completed\n",
            "[*********************100%***********************]  1 of 1 completed\n",
            "[*********************100%***********************]  1 of 1 completed\n",
            "[*********************100%***********************]  1 of 1 completed\n",
            "[*********************100%***********************]  1 of 1 completed\n",
            "[*********************100%***********************]  1 of 1 completed\n",
            "[*********************100%***********************]  1 of 1 completed\n",
            "[*********************100%***********************]  1 of 1 completed\n",
            "[*********************100%***********************]  1 of 1 completed\n",
            "[*********************100%***********************]  1 of 1 completed\n",
            "[*********************100%***********************]  1 of 1 completed\n",
            "ERROR:yfinance:\n",
            "1 Failed download:\n",
            "ERROR:yfinance:['ROI']: YFTzMissingError('$%ticker%: possibly delisted; no timezone found')\n",
            "[*********************100%***********************]  1 of 1 completed\n",
            "[*********************100%***********************]  1 of 1 completed\n"
          ]
        },
        {
          "output_type": "stream",
          "name": "stdout",
          "text": [
            "No historical data found for ROI.\n"
          ]
        },
        {
          "output_type": "stream",
          "name": "stderr",
          "text": [
            "[*********************100%***********************]  1 of 1 completed\n",
            "[*********************100%***********************]  1 of 1 completed\n",
            "[*********************100%***********************]  1 of 1 completed\n",
            "[*********************100%***********************]  1 of 1 completed\n",
            "[*********************100%***********************]  1 of 1 completed\n"
          ]
        },
        {
          "output_type": "stream",
          "name": "stdout",
          "text": [
            "Skipping trade for MDRR on 2023-12-07 because insider trade price $23.45 and yfinance price $10.19 differ by 56.53% (>15%).\n"
          ]
        },
        {
          "output_type": "stream",
          "name": "stderr",
          "text": [
            "\r[*********************100%***********************]  1 of 1 completed\n",
            "ERROR:yfinance:\n",
            "1 Failed download:\n",
            "ERROR:yfinance:['SGE']: YFTzMissingError('$%ticker%: possibly delisted; no timezone found')\n",
            "[*********************100%***********************]  1 of 1 completed\n",
            "[*********************100%***********************]  1 of 1 completed\n",
            "ERROR:yfinance:\n",
            "1 Failed download:\n",
            "ERROR:yfinance:['NIR']: YFPricesMissingError('$%ticker%: possibly delisted; no price data found  (1d 2023-12-11 -> 2024-12-16)')\n"
          ]
        },
        {
          "output_type": "stream",
          "name": "stdout",
          "text": [
            "No historical data found for SGE.\n",
            "No historical data found for NIR.\n"
          ]
        },
        {
          "output_type": "stream",
          "name": "stderr",
          "text": [
            "[*********************100%***********************]  1 of 1 completed\n",
            "[*********************100%***********************]  1 of 1 completed\n",
            "[*********************100%***********************]  1 of 1 completed"
          ]
        },
        {
          "output_type": "stream",
          "name": "stdout",
          "text": [
            "Skipping trade for SDOT on 2023-12-12 because insider trade price $0.40 and yfinance price $3.95 differ by 887.50% (>15%).\n"
          ]
        },
        {
          "output_type": "stream",
          "name": "stderr",
          "text": [
            "\n",
            "[*********************100%***********************]  1 of 1 completed\n",
            "[*********************100%***********************]  1 of 1 completed\n",
            "[*********************100%***********************]  1 of 1 completed\n",
            "[*********************100%***********************]  1 of 1 completed\n",
            "<ipython-input-2-0f276d649fc8>:271: RuntimeWarning: divide by zero encountered in scalar divide\n",
            "  percent_diff = abs((base_price - insider_price) / insider_price) * 100\n",
            "[*********************100%***********************]  1 of 1 completed\n"
          ]
        },
        {
          "output_type": "stream",
          "name": "stdout",
          "text": [
            "Skipping trade for ABQQ on 2023-12-11 because insider trade price $0.00 and yfinance price $0.00 differ by inf% (>15%).\n",
            "Skipping trade for TPL on 2023-12-11 because insider trade price $1554.65 and yfinance price $507.83 differ by 67.33% (>15%).\n"
          ]
        },
        {
          "output_type": "stream",
          "name": "stderr",
          "text": [
            "[*********************100%***********************]  1 of 1 completed\n",
            "[*********************100%***********************]  1 of 1 completed\n",
            "[*********************100%***********************]  1 of 1 completed\n",
            "[*********************100%***********************]  1 of 1 completed\n",
            "[*********************100%***********************]  1 of 1 completed\n"
          ]
        },
        {
          "output_type": "stream",
          "name": "stdout",
          "text": [
            "Skipping trade for FLNT on 2023-12-08 because insider trade price $0.50 and yfinance price $2.94 differ by 488.00% (>15%).\n",
            "Skipping trade for FLNT on 2023-12-08 because insider trade price $0.51 and yfinance price $2.94 differ by 476.47% (>15%).\n"
          ]
        },
        {
          "output_type": "stream",
          "name": "stderr",
          "text": [
            "[*********************100%***********************]  1 of 1 completed\n",
            "[*********************100%***********************]  1 of 1 completed\n",
            "[*********************100%***********************]  1 of 1 completed\n",
            "[*********************100%***********************]  1 of 1 completed\n",
            "[*********************100%***********************]  1 of 1 completed\n",
            "[*********************100%***********************]  1 of 1 completed\n"
          ]
        },
        {
          "output_type": "stream",
          "name": "stdout",
          "text": [
            "Skipping trade for OLB on 2023-06-01 because insider trade price $0.75 and yfinance price $6.32 differ by 742.80% (>15%).\n"
          ]
        },
        {
          "output_type": "stream",
          "name": "stderr",
          "text": [
            "[*********************100%***********************]  1 of 1 completed\n",
            "[*********************100%***********************]  1 of 1 completed\n",
            "[*********************100%***********************]  1 of 1 completed\n",
            "[*********************100%***********************]  1 of 1 completed\n",
            "[*********************100%***********************]  1 of 1 completed\n"
          ]
        },
        {
          "output_type": "stream",
          "name": "stdout",
          "text": [
            "Skipping trade for MDRR on 2023-12-08 because insider trade price $5.25 and yfinance price $10.29 differ by 96.03% (>15%).\n",
            "Skipping trade for RYES on 2023-12-07 because insider trade price $0.18 and yfinance price $0.22 differ by 22.22% (>15%).\n",
            "Skipping trade for RYES on 2023-12-07 because insider trade price $0.18 and yfinance price $0.22 differ by 22.22% (>15%).\n"
          ]
        },
        {
          "output_type": "stream",
          "name": "stderr",
          "text": [
            "[*********************100%***********************]  1 of 1 completed\n",
            "[*********************100%***********************]  1 of 1 completed\n",
            "[*********************100%***********************]  1 of 1 completed\n"
          ]
        },
        {
          "output_type": "stream",
          "name": "stdout",
          "text": [
            "Skipping trade for MDRR on 2023-12-07 because insider trade price $5.25 and yfinance price $10.19 differ by 94.17% (>15%).\n",
            "Skipping trade for CTHR on 2023-12-07 because insider trade price $0.41 and yfinance price $4.20 differ by 924.39% (>15%).\n"
          ]
        },
        {
          "output_type": "stream",
          "name": "stderr",
          "text": [
            "[*********************100%***********************]  1 of 1 completed\n",
            "[*********************100%***********************]  1 of 1 completed\n",
            "[*********************100%***********************]  1 of 1 completed\n",
            "[*********************100%***********************]  1 of 1 completed\n",
            "[*********************100%***********************]  1 of 1 completed\n",
            "[*********************100%***********************]  1 of 1 completed\n",
            "[*********************100%***********************]  1 of 1 completed\n",
            "[*********************100%***********************]  1 of 1 completed\n",
            "[*********************100%***********************]  1 of 1 completed\n",
            "[*********************100%***********************]  1 of 1 completed\n",
            "[*********************100%***********************]  1 of 1 completed\n",
            "[*********************100%***********************]  1 of 1 completed\n",
            "[*********************100%***********************]  1 of 1 completed\n",
            "[*********************100%***********************]  1 of 1 completed\n",
            "[*********************100%***********************]  1 of 1 completed\n",
            "[*********************100%***********************]  1 of 1 completed\n",
            "[*********************100%***********************]  1 of 1 completed\n",
            "[*********************100%***********************]  1 of 1 completed\n"
          ]
        },
        {
          "output_type": "stream",
          "name": "stdout",
          "text": [
            "Skipping trade for SVVC on 2023-12-07 because insider trade price $0.30 and yfinance price $0.35 differ by 16.67% (>15%).\n"
          ]
        },
        {
          "output_type": "stream",
          "name": "stderr",
          "text": [
            "[*********************100%***********************]  1 of 1 completed\n",
            "[*********************100%***********************]  1 of 1 completed\n",
            "[*********************100%***********************]  1 of 1 completed\n",
            "ERROR:yfinance:\n",
            "1 Failed download:\n",
            "ERROR:yfinance:['MACK']: YFTzMissingError('$%ticker%: possibly delisted; no timezone found')\n",
            "[*********************100%***********************]  1 of 1 completed\n"
          ]
        },
        {
          "output_type": "stream",
          "name": "stdout",
          "text": [
            "No historical data found for MACK.\n"
          ]
        },
        {
          "output_type": "stream",
          "name": "stderr",
          "text": [
            "\r[*********************100%***********************]  1 of 1 completed\n",
            "ERROR:yfinance:\n",
            "1 Failed download:\n",
            "ERROR:yfinance:['NIR']: YFPricesMissingError('$%ticker%: possibly delisted; no price data found  (1d 2023-12-07 -> 2024-12-12)')\n",
            "[*********************100%***********************]  1 of 1 completed\n",
            "[*********************100%***********************]  1 of 1 completed\n"
          ]
        },
        {
          "output_type": "stream",
          "name": "stdout",
          "text": [
            "No historical data found for NIR.\n"
          ]
        },
        {
          "output_type": "stream",
          "name": "stderr",
          "text": [
            "[*********************100%***********************]  1 of 1 completed\n",
            "[*********************100%***********************]  1 of 1 completed\n",
            "[*********************100%***********************]  1 of 1 completed\n",
            "[*********************100%***********************]  1 of 1 completed\n",
            "[*********************100%***********************]  1 of 1 completed\n",
            "[*********************100%***********************]  1 of 1 completed\n",
            "[*********************100%***********************]  1 of 1 completed\n",
            "[*********************100%***********************]  1 of 1 completed\n",
            "[*********************100%***********************]  1 of 1 completed\n"
          ]
        },
        {
          "output_type": "stream",
          "name": "stdout",
          "text": [
            "Skipping trade for TPL on 2023-12-08 because insider trade price $1546.12 and yfinance price $505.05 differ by 67.33% (>15%).\n"
          ]
        },
        {
          "output_type": "stream",
          "name": "stderr",
          "text": [
            "[*********************100%***********************]  1 of 1 completed\n",
            "[*********************100%***********************]  1 of 1 completed\n",
            "[*********************100%***********************]  1 of 1 completed\n",
            "[*********************100%***********************]  1 of 1 completed\n",
            "[*********************100%***********************]  1 of 1 completed\n",
            "[*********************100%***********************]  1 of 1 completed\n",
            "[*********************100%***********************]  1 of 1 completed\n",
            "[*********************100%***********************]  1 of 1 completed\n"
          ]
        },
        {
          "output_type": "stream",
          "name": "stdout",
          "text": [
            "Skipping trade for FTCI on 2023-12-08 because insider trade price $0.75 and yfinance price $7.47 differ by 896.00% (>15%).\n"
          ]
        },
        {
          "output_type": "stream",
          "name": "stderr",
          "text": [
            "[*********************100%***********************]  1 of 1 completed\n",
            "[*********************100%***********************]  1 of 1 completed\n",
            "[*********************100%***********************]  1 of 1 completed\n",
            "[*********************100%***********************]  1 of 1 completed\n",
            "[*********************100%***********************]  1 of 1 completed\n",
            "[*********************100%***********************]  1 of 1 completed\n",
            "[*********************100%***********************]  1 of 1 completed\n",
            "[*********************100%***********************]  1 of 1 completed\n",
            "[*********************100%***********************]  1 of 1 completed\n"
          ]
        },
        {
          "output_type": "stream",
          "name": "stdout",
          "text": [
            "Skipping trade for MINM on 2023-12-06 because insider trade price $1.51 and yfinance price $2.90 differ by 92.05% (>15%).\n",
            "Skipping trade for MINM on 2023-12-06 because insider trade price $1.51 and yfinance price $2.90 differ by 92.05% (>15%).\n"
          ]
        },
        {
          "output_type": "stream",
          "name": "stderr",
          "text": [
            "[*********************100%***********************]  1 of 1 completed\n",
            "[*********************100%***********************]  1 of 1 completed\n"
          ]
        },
        {
          "output_type": "stream",
          "name": "stdout",
          "text": [
            "Skipping trade for FBRX on 2023-12-07 because insider trade price $0.60 and yfinance price $14.50 differ by 2316.67% (>15%).\n"
          ]
        },
        {
          "output_type": "stream",
          "name": "stderr",
          "text": [
            "[*********************100%***********************]  1 of 1 completed\n",
            "[*********************100%***********************]  1 of 1 completed\n",
            "[*********************100%***********************]  1 of 1 completed\n",
            "[*********************100%***********************]  1 of 1 completed\n",
            "[*********************100%***********************]  1 of 1 completed\n",
            "[*********************100%***********************]  1 of 1 completed\n",
            "[*********************100%***********************]  1 of 1 completed\n",
            "[*********************100%***********************]  1 of 1 completed\n",
            "[*********************100%***********************]  1 of 1 completed\n",
            "[*********************100%***********************]  1 of 1 completed\n",
            "ERROR:yfinance:\n",
            "1 Failed download:\n",
            "ERROR:yfinance:['ROI']: YFTzMissingError('$%ticker%: possibly delisted; no timezone found')\n",
            "[*********************100%***********************]  1 of 1 completed\n",
            "[*********************100%***********************]  1 of 1 completed\n"
          ]
        },
        {
          "output_type": "stream",
          "name": "stdout",
          "text": [
            "No historical data found for ROI.\n"
          ]
        },
        {
          "output_type": "stream",
          "name": "stderr",
          "text": [
            "[*********************100%***********************]  1 of 1 completed\n",
            "[*********************100%***********************]  1 of 1 completed\n",
            "[*********************100%***********************]  1 of 1 completed\n",
            "[*********************100%***********************]  1 of 1 completed\n",
            "[*********************100%***********************]  1 of 1 completed\n"
          ]
        },
        {
          "output_type": "stream",
          "name": "stdout",
          "text": [
            "Skipping trade for LFT on 2023-11-21 because insider trade price $2.10 and yfinance price $1.70 differ by 19.27% (>15%).\n"
          ]
        },
        {
          "output_type": "stream",
          "name": "stderr",
          "text": [
            "[*********************100%***********************]  1 of 1 completed\n",
            "[*********************100%***********************]  1 of 1 completed\n",
            "[*********************100%***********************]  1 of 1 completed\n",
            "[*********************100%***********************]  1 of 1 completed\n",
            "[*********************100%***********************]  1 of 1 completed\n",
            "[*********************100%***********************]  1 of 1 completed\n",
            "[*********************100%***********************]  1 of 1 completed\n",
            "[*********************100%***********************]  1 of 1 completed\n"
          ]
        },
        {
          "output_type": "stream",
          "name": "stdout",
          "text": [
            "Skipping trade for FLNT on 2023-12-06 because insider trade price $0.50 and yfinance price $3.00 differ by 500.00% (>15%).\n",
            "Skipping trade for TPL on 2023-12-07 because insider trade price $1516.52 and yfinance price $495.38 differ by 67.33% (>15%).\n"
          ]
        },
        {
          "output_type": "stream",
          "name": "stderr",
          "text": [
            "[*********************100%***********************]  1 of 1 completed\n",
            "[*********************100%***********************]  1 of 1 completed\n",
            "[*********************100%***********************]  1 of 1 completed\n",
            "[*********************100%***********************]  1 of 1 completed\n",
            "[*********************100%***********************]  1 of 1 completed\n",
            "[*********************100%***********************]  1 of 1 completed\n",
            "[*********************100%***********************]  1 of 1 completed"
          ]
        },
        {
          "output_type": "stream",
          "name": "stdout",
          "text": [
            "Skipping trade for SABS on 2023-12-07 because insider trade price $0.88 and yfinance price $8.88 differ by 909.09% (>15%).\n",
            "Skipping trade for MDRR on 2023-12-06 because insider trade price $5.23 and yfinance price $10.29 differ by 96.78% (>15%).\n"
          ]
        },
        {
          "output_type": "stream",
          "name": "stderr",
          "text": [
            "\n",
            "[*********************100%***********************]  1 of 1 completed\n",
            "[*********************100%***********************]  1 of 1 completed\n"
          ]
        },
        {
          "output_type": "stream",
          "name": "stdout",
          "text": [
            "Skipping trade for TCBI on 2023-12-05 because insider trade price $18.59 and yfinance price $56.72 differ by 205.11% (>15%).\n"
          ]
        },
        {
          "output_type": "stream",
          "name": "stderr",
          "text": [
            "[*********************100%***********************]  1 of 1 completed\n",
            "[*********************100%***********************]  1 of 1 completed\n",
            "[*********************100%***********************]  1 of 1 completed\n",
            "[*********************100%***********************]  1 of 1 completed\n",
            "[*********************100%***********************]  1 of 1 completed\n",
            "[*********************100%***********************]  1 of 1 completed\n",
            "[*********************100%***********************]  1 of 1 completed\n",
            "[*********************100%***********************]  1 of 1 completed\n",
            "[*********************100%***********************]  1 of 1 completed\n",
            "[*********************100%***********************]  1 of 1 completed\n",
            "[*********************100%***********************]  1 of 1 completed\n",
            "[*********************100%***********************]  1 of 1 completed\n",
            "[*********************100%***********************]  1 of 1 completed\n",
            "[*********************100%***********************]  1 of 1 completed\n",
            "[*********************100%***********************]  1 of 1 completed\n",
            "[*********************100%***********************]  1 of 1 completed\n",
            "[*********************100%***********************]  1 of 1 completed\n",
            "[*********************100%***********************]  1 of 1 completed\n",
            "[*********************100%***********************]  1 of 1 completed\n",
            "[*********************100%***********************]  1 of 1 completed\n",
            "[*********************100%***********************]  1 of 1 completed\n",
            "[*********************100%***********************]  1 of 1 completed\n",
            "[*********************100%***********************]  1 of 1 completed\n",
            "[*********************100%***********************]  1 of 1 completed"
          ]
        },
        {
          "output_type": "stream",
          "name": "stdout",
          "text": [
            "Skipping trade for UPXI on 2023-12-07 because insider trade price $0.94 and yfinance price $21.60 differ by 2197.87% (>15%).\n",
            "Skipping trade for CLRO on 2023-12-06 because insider trade price $0.79 and yfinance price $0.53 differ by 32.31% (>15%).\n"
          ]
        },
        {
          "output_type": "stream",
          "name": "stderr",
          "text": [
            "\n",
            "[*********************100%***********************]  1 of 1 completed\n",
            "[*********************100%***********************]  1 of 1 completed\n",
            "[*********************100%***********************]  1 of 1 completed\n",
            "[*********************100%***********************]  1 of 1 completed\n",
            "[*********************100%***********************]  1 of 1 completed\n",
            "[*********************100%***********************]  1 of 1 completed\n"
          ]
        },
        {
          "output_type": "stream",
          "name": "stdout",
          "text": [
            "Skipping trade for TPL on 2023-12-06 because insider trade price $1485.68 and yfinance price $485.30 differ by 67.33% (>15%).\n"
          ]
        },
        {
          "output_type": "stream",
          "name": "stderr",
          "text": [
            "[*********************100%***********************]  1 of 1 completed\n",
            "[*********************100%***********************]  1 of 1 completed\n",
            "[*********************100%***********************]  1 of 1 completed\n"
          ]
        },
        {
          "output_type": "stream",
          "name": "stdout",
          "text": [
            "Skipping trade for FLNT on 2023-12-05 because insider trade price $0.50 and yfinance price $3.06 differ by 512.00% (>15%).\n",
            "Skipping trade for FLNT on 2023-12-04 because insider trade price $0.52 and yfinance price $3.12 differ by 500.00% (>15%).\n"
          ]
        },
        {
          "output_type": "stream",
          "name": "stderr",
          "text": [
            "[*********************100%***********************]  1 of 1 completed\n",
            "[*********************100%***********************]  1 of 1 completed\n",
            "[*********************100%***********************]  1 of 1 completed\n",
            "[*********************100%***********************]  1 of 1 completed\n",
            "[*********************100%***********************]  1 of 1 completed\n",
            "[*********************100%***********************]  1 of 1 completed\n",
            "[*********************100%***********************]  1 of 1 completed\n",
            "[*********************100%***********************]  1 of 1 completed\n",
            "[*********************100%***********************]  1 of 1 completed\n",
            "[*********************100%***********************]  1 of 1 completed\n",
            "ERROR:yfinance:\n",
            "1 Failed download:\n",
            "ERROR:yfinance:['KA']: YFTzMissingError('$%ticker%: possibly delisted; no timezone found')\n"
          ]
        },
        {
          "output_type": "stream",
          "name": "stdout",
          "text": [
            "No historical data found for KA.\n"
          ]
        },
        {
          "output_type": "stream",
          "name": "stderr",
          "text": [
            "[*********************100%***********************]  1 of 1 completed\n",
            "[*********************100%***********************]  1 of 1 completed\n",
            "[*********************100%***********************]  1 of 1 completed\n",
            "[*********************100%***********************]  1 of 1 completed\n",
            "[*********************100%***********************]  1 of 1 completed\n",
            "[*********************100%***********************]  1 of 1 completed\n",
            "[*********************100%***********************]  1 of 1 completed\n",
            "[*********************100%***********************]  1 of 1 completed\n"
          ]
        },
        {
          "output_type": "stream",
          "name": "stdout",
          "text": [
            "Skipping trade for SVVC on 2023-12-04 because insider trade price $0.33 and yfinance price $0.28 differ by 15.15% (>15%).\n"
          ]
        },
        {
          "output_type": "stream",
          "name": "stderr",
          "text": [
            "[*********************100%***********************]  1 of 1 completed\n",
            "[*********************100%***********************]  1 of 1 completed\n",
            "[*********************100%***********************]  1 of 1 completed\n",
            "[*********************100%***********************]  1 of 1 completed\n",
            "[*********************100%***********************]  1 of 1 completed\n",
            "[*********************100%***********************]  1 of 1 completed\n",
            "[*********************100%***********************]  1 of 1 completed\n",
            "[*********************100%***********************]  1 of 1 completed\n",
            "[*********************100%***********************]  1 of 1 completed\n",
            "[*********************100%***********************]  1 of 1 completed\n",
            "[*********************100%***********************]  1 of 1 completed\n",
            "[*********************100%***********************]  1 of 1 completed\n",
            "[*********************100%***********************]  1 of 1 completed\n",
            "[*********************100%***********************]  1 of 1 completed\n",
            "[*********************100%***********************]  1 of 1 completed\n"
          ]
        },
        {
          "output_type": "stream",
          "name": "stdout",
          "text": [
            "Skipping trade for EYPT on 2023-12-04 because insider trade price $21.82 and yfinance price $18.34 differ by 15.95% (>15%).\n",
            "Final Data Preview:\n",
            "    x          filing date  trade date ticker  \\\n",
            "0  AM  2025-01-23 13:59:27  2023-12-12   RNGE   \n",
            "1   A  2025-01-15 16:15:35  2023-09-13   BHRB   \n",
            "2   M  2024-12-19 14:38:09  2023-06-09    ONB   \n",
            "3      2024-12-13 16:34:09  2023-06-05    MHI   \n",
            "4      2024-12-06 09:12:23  2023-10-09   TGEN   \n",
            "\n",
            "                               company name               insider name title  \\\n",
            "0                        Range Impact, Inc.          Loconti Joseph E.   10%   \n",
            "1  Burke & Herbert Financial Services Corp.          Riojas Jose David   Dir   \n",
            "2                 Old National Bancorp /in/            Rudnick Ellen A   Dir   \n",
            "3  Pioneer Municipal High Income Fund, Inc.  Bank of America Corp /de/   10%   \n",
            "4                              Tecogen Inc.               Lewis Earl R   Dir   \n",
            "\n",
            "     trade type   price       qty  ... 2_weeks_price 2_weeks_percent_gain  \\\n",
            "0  P - Purchase   $0.17  +130,726  ...         $0.37              105.56%   \n",
            "1  P - Purchase  $48.66    +1,000  ...        $45.00               -2.90%   \n",
            "2  P - Purchase  $14.09       +64  ...        $12.75               -2.26%   \n",
            "3  P - Purchase   $8.37      +628  ...         $7.94                1.58%   \n",
            "4  P - Purchase   $0.80    +2,000  ...         $0.92               16.46%   \n",
            "\n",
            "  1_month_price 1_month_percent_gain 3_months_price 3_months_percent_gain  \\\n",
            "0         $0.38              111.11%          $0.34                88.89%   \n",
            "1        $44.13               -4.77%         $52.44                13.17%   \n",
            "2        $13.66                4.74%         $14.42                10.57%   \n",
            "3         $8.02                2.65%          $7.47                -4.42%   \n",
            "4         $0.87               10.13%          $0.75                -5.06%   \n",
            "\n",
            "  6_months_price 6_months_percent_gain 1_year_price 1_year_percent_gain  \n",
            "0          $0.33                83.33%        $0.24              33.33%  \n",
            "1         $52.96                14.28%       $64.41              38.99%  \n",
            "2         $15.62                19.73%       $15.86              21.57%  \n",
            "3          $7.83                 0.16%        $8.76              12.18%  \n",
            "4          $0.70               -11.39%        $0.84               6.20%  \n",
            "\n",
            "[5 rows x 33 columns]\n",
            "Data written to insider_trading_with_prices.csv\n"
          ]
        }
      ]
    },
    {
      "cell_type": "code",
      "source": [
        "# Script to obtain insider trading data\n",
        "\n",
        "import requests\n",
        "import pandas as pd\n",
        "from bs4 import BeautifulSoup\n",
        "import urllib.parse\n",
        "from datetime import datetime\n",
        "\n",
        "# -----------------------------\n",
        "# Step 1: Get user inputs\n",
        "# -----------------------------\n",
        "trade_start_input = input(\"Enter trade start date (YYYY-MM-DD): \").strip()\n",
        "trade_end_input = input(\"Enter trade end date (YYYY-MM-DD): \").strip()\n",
        "insider_name = input(\"Enter insider name (press Enter to skip): \").strip()\n",
        "trade_type = input(\"Enter trade type (purchase, sale, or both): \").strip().lower()\n",
        "\n",
        "# -----------------------------\n",
        "# Step 2: Convert dates to MM/DD/YYYY and construct tdr parameter\n",
        "# -----------------------------\n",
        "try:\n",
        "    trade_start_dt = datetime.strptime(trade_start_input, '%Y-%m-%d')\n",
        "    trade_end_dt = datetime.strptime(trade_end_input, '%Y-%m-%d')\n",
        "except ValueError as e:  # Catch specific ValueError for date parsing\n",
        "    print(\"Error converting dates:\", e)\n",
        "    exit()\n",
        "\n",
        "trade_start_str = trade_start_dt.strftime(\"%m/%d/%Y\")\n",
        "trade_end_str = trade_end_dt.strftime(\"%m/%d/%Y\")\n",
        "# The tdr parameter takes the format \"MM/DD/YYYY - MM/DD/YYYY\"\n",
        "tdr_param = f\"{trade_start_str} - {trade_end_str}\"\n",
        "\n",
        "# -----------------------------\n",
        "# Step 3: Build the query URL\n",
        "# -----------------------------\n",
        "base_url = \"http://openinsider.com/screener\"\n",
        "params = {\n",
        "    \"s\": \"\",\n",
        "    \"o\": \"\",\n",
        "    \"pl\": \"\",\n",
        "    \"ph\": \"\",\n",
        "    \"ll\": \"\",\n",
        "    \"lh\": \"\",\n",
        "    \"fd\": \"0\",       # Filing Date parameter left as default\n",
        "    \"fdr\": \"\",\n",
        "    \"td\": \"-1\",      # Indicates that trade date filtering is active\n",
        "    \"tdr\": tdr_param,\n",
        "    \"fdlyl\": \"\",\n",
        "    \"fdlyh\": \"\",\n",
        "    \"daysago\": \"\",\n",
        "    \"vl\": \"\",\n",
        "    \"vh\": \"\",\n",
        "    \"ocl\": \"\",\n",
        "    \"och\": \"\",\n",
        "    \"sic1\": \"-1\",\n",
        "    \"sicl\": \"100\",\n",
        "    \"sich\": \"9999\",\n",
        "    \"grp\": \"0\",\n",
        "    \"nfl\": \"\",\n",
        "    \"nfh\": \"\",\n",
        "    \"nil\": \"\",\n",
        "    \"nih\": \"\",\n",
        "    \"nol\": \"\",\n",
        "    \"noh\": \"\",\n",
        "    \"v2l\": \"\",\n",
        "    \"v2h\": \"\",\n",
        "    \"oc2l\": \"\",\n",
        "    \"oc2h\": \"\",\n",
        "    \"sortcol\": \"0\",\n",
        "    \"cnt\": \"100\",\n",
        "    \"page\": \"1\"\n",
        "}\n",
        "\n",
        "if insider_name:\n",
        "    params[\"pn\"] = insider_name  # 'pn' is the insider name parameter\n",
        "\n",
        "if trade_type == \"purchase\":\n",
        "    params[\"xp\"] = \"1\"\n",
        "elif trade_type == \"sale\":\n",
        "    params[\"xs\"] = \"1\"\n",
        "elif trade_type == \"both\":\n",
        "    params[\"xp\"] = \"1\"\n",
        "    params[\"xs\"] = \"1\"\n",
        "else:\n",
        "    print(\"Invalid trade type. Please enter 'purchase', 'sale', or 'both'.\")\n",
        "    exit()\n",
        "\n",
        "\n",
        "# URL-encode the parameters and create the full URL.\n",
        "query_string = urllib.parse.urlencode(params)\n",
        "url = f\"{base_url}?{query_string}\"\n",
        "print(\"Fetching data from:\", url)\n",
        "\n",
        "# -----------------------------\n",
        "# Step 4: Fetch and parse the page\n",
        "# -----------------------------\n",
        "headers = {\"User-Agent\": \"Mozilla/5.0\"}\n",
        "response = requests.get(url, headers=headers)\n",
        "if response.status_code != 200:\n",
        "    print(f\"Failed to retrieve data. HTTP status code: {response.status_code}\")\n",
        "    exit()\n",
        "\n",
        "soup = BeautifulSoup(response.text, \"html.parser\")\n",
        "table = soup.find(\"table\", {\"class\": \"tinytable\"})\n",
        "if not table:\n",
        "    print(\"Could not find the data table on the page.\")\n",
        "    exit()\n",
        "\n",
        "rows = table.find_all(\"tr\")\n",
        "if len(rows) < 2:\n",
        "    print(\"The table does not appear to have data rows.\")\n",
        "    exit()\n",
        "\n",
        "# -----------------------------\n",
        "# Step 5: Extract headers and data rows\n",
        "# -----------------------------\n",
        "# Extract column labels from the header row.\n",
        "header_row = rows[0]\n",
        "column_names = [cell.text.strip() for cell in header_row.find_all(\"th\")]\n",
        "if not column_names:  # Fallback if <th> tags are not used\n",
        "    column_names = [cell.text.strip() for cell in header_row.find_all(\"td\")]\n",
        "\n",
        "# Now extract the data rows (skip the header row)\n",
        "data = []\n",
        "for row in rows[1:]:\n",
        "    cols = row.find_all(\"td\")\n",
        "    # Only add rows with the expected number of columns\n",
        "    if len(cols) == len(column_names):\n",
        "        data.append([col.text.strip() for col in cols])\n",
        "\n",
        "if not data:\n",
        "    print(\"No data rows found.\")\n",
        "    exit()\n",
        "\n",
        "# Create the DataFrame and strip any extra whitespace from column names.\n",
        "df = pd.DataFrame(data, columns=column_names)\n",
        "df.columns = [col.strip() for col in df.columns]\n",
        "\n",
        "# -----------------------------\n",
        "# Step 6: Display and save the DataFrame\n",
        "# -----------------------------\n",
        "print(\"\\nDataFrame preview:\")\n",
        "print(df.head())\n",
        "\n",
        "csv_filename = \"insider_trading_data.csv\"\n",
        "df.to_csv(csv_filename, index=False)\n",
        "print(f\"\\nCSV file saved as '{csv_filename}'\")"
      ],
      "metadata": {
        "colab": {
          "base_uri": "https://localhost:8080/"
        },
        "id": "FVwj-_U4vrjH",
        "outputId": "04426f7e-4f91-4577-fc69-1f3a9837857d"
      },
      "execution_count": null,
      "outputs": [
        {
          "name": "stdout",
          "output_type": "stream",
          "text": [
            "Enter trade start date (YYYY-MM-DD): 2023-01-01\n",
            "Enter trade end date (YYYY-MM-DD): 2024-01-01\n",
            "Enter insider name (press Enter to skip): \n",
            "Enter trade type (purchase, sale, both): purchase\n"
          ]
        },
        {
          "output_type": "stream",
          "name": "stderr",
          "text": [
            "<ipython-input-2-bcec4e894801>:43: FutureWarning: Passing literal html to 'read_html' is deprecated and will be removed in a future version. To read from a literal string, wrap it in a 'StringIO' object.\n",
            "  df = pd.read_html(str(table))[0]\n",
            "[*********************100%***********************]  1 of 1 completed\n",
            "[*********************100%***********************]  1 of 1 completed\n",
            "[*********************100%***********************]  1 of 1 completed\n"
          ]
        },
        {
          "output_type": "stream",
          "name": "stdout",
          "text": [
            "Error processing AEI: The truth value of a Series is ambiguous. Use a.empty, a.bool(), a.item(), a.any() or a.all().\n",
            "Error processing BSX: The truth value of a Series is ambiguous. Use a.empty, a.bool(), a.item(), a.any() or a.all().\n",
            "Error processing NSP: The truth value of a Series is ambiguous. Use a.empty, a.bool(), a.item(), a.any() or a.all().\n"
          ]
        },
        {
          "output_type": "stream",
          "name": "stderr",
          "text": [
            "[*********************100%***********************]  1 of 1 completed\n",
            "[*********************100%***********************]  1 of 1 completed\n"
          ]
        },
        {
          "output_type": "stream",
          "name": "stdout",
          "text": [
            "Error processing TCBX: The truth value of a Series is ambiguous. Use a.empty, a.bool(), a.item(), a.any() or a.all().\n",
            "Error processing ARCC: The truth value of a Series is ambiguous. Use a.empty, a.bool(), a.item(), a.any() or a.all().\n"
          ]
        },
        {
          "output_type": "stream",
          "name": "stderr",
          "text": [
            "[*********************100%***********************]  1 of 1 completed\n",
            "[*********************100%***********************]  1 of 1 completed\n"
          ]
        },
        {
          "output_type": "stream",
          "name": "stdout",
          "text": [
            "Error processing ZEOX: The truth value of a Series is ambiguous. Use a.empty, a.bool(), a.item(), a.any() or a.all().\n",
            "Error processing CASK: The truth value of a Series is ambiguous. Use a.empty, a.bool(), a.item(), a.any() or a.all().\n"
          ]
        },
        {
          "output_type": "stream",
          "name": "stderr",
          "text": [
            "[*********************100%***********************]  1 of 1 completed\n",
            "[*********************100%***********************]  1 of 1 completed\n"
          ]
        },
        {
          "output_type": "stream",
          "name": "stdout",
          "text": [
            "Error processing SLM: The truth value of a Series is ambiguous. Use a.empty, a.bool(), a.item(), a.any() or a.all().\n",
            "Error processing AREN: The truth value of a Series is ambiguous. Use a.empty, a.bool(), a.item(), a.any() or a.all().\n"
          ]
        },
        {
          "output_type": "stream",
          "name": "stderr",
          "text": [
            "[*********************100%***********************]  1 of 1 completed\n",
            "[*********************100%***********************]  1 of 1 completed\n"
          ]
        },
        {
          "output_type": "stream",
          "name": "stdout",
          "text": [
            "Error processing SXI: The truth value of a Series is ambiguous. Use a.empty, a.bool(), a.item(), a.any() or a.all().\n",
            "Error processing NWFL: The truth value of a Series is ambiguous. Use a.empty, a.bool(), a.item(), a.any() or a.all().\n"
          ]
        },
        {
          "output_type": "stream",
          "name": "stderr",
          "text": [
            "[*********************100%***********************]  1 of 1 completed\n",
            "[*********************100%***********************]  1 of 1 completed\n",
            "[*********************100%***********************]  1 of 1 completed\n"
          ]
        },
        {
          "output_type": "stream",
          "name": "stdout",
          "text": [
            "Error processing NWFL: The truth value of a Series is ambiguous. Use a.empty, a.bool(), a.item(), a.any() or a.all().\n",
            "Error processing PFX: The truth value of a Series is ambiguous. Use a.empty, a.bool(), a.item(), a.any() or a.all().\n"
          ]
        },
        {
          "output_type": "stream",
          "name": "stderr",
          "text": [
            "\r[*********************100%***********************]  1 of 1 completed\n"
          ]
        },
        {
          "output_type": "stream",
          "name": "stdout",
          "text": [
            "Error processing SFST: The truth value of a Series is ambiguous. Use a.empty, a.bool(), a.item(), a.any() or a.all().\n",
            "Error processing TPL: The truth value of a Series is ambiguous. Use a.empty, a.bool(), a.item(), a.any() or a.all().\n"
          ]
        },
        {
          "output_type": "stream",
          "name": "stderr",
          "text": [
            "[*********************100%***********************]  1 of 1 completed\n",
            "[*********************100%***********************]  1 of 1 completed\n"
          ]
        },
        {
          "output_type": "stream",
          "name": "stdout",
          "text": [
            "Error processing RCG: The truth value of a Series is ambiguous. Use a.empty, a.bool(), a.item(), a.any() or a.all().\n",
            "Error processing USEG: The truth value of a Series is ambiguous. Use a.empty, a.bool(), a.item(), a.any() or a.all().\n"
          ]
        },
        {
          "output_type": "stream",
          "name": "stderr",
          "text": [
            "[*********************100%***********************]  1 of 1 completed\n",
            "[*********************100%***********************]  1 of 1 completed\n",
            "[*********************100%***********************]  1 of 1 completed\n"
          ]
        },
        {
          "output_type": "stream",
          "name": "stdout",
          "text": [
            "Error processing TKO: The truth value of a Series is ambiguous. Use a.empty, a.bool(), a.item(), a.any() or a.all().\n",
            "Error processing TKO: The truth value of a Series is ambiguous. Use a.empty, a.bool(), a.item(), a.any() or a.all().\n",
            "Error processing TKO: The truth value of a Series is ambiguous. Use a.empty, a.bool(), a.item(), a.any() or a.all().\n"
          ]
        },
        {
          "output_type": "stream",
          "name": "stderr",
          "text": [
            "[*********************100%***********************]  1 of 1 completed\n",
            "[*********************100%***********************]  1 of 1 completed\n"
          ]
        },
        {
          "output_type": "stream",
          "name": "stdout",
          "text": [
            "Error processing BPRN: The truth value of a Series is ambiguous. Use a.empty, a.bool(), a.item(), a.any() or a.all().\n",
            "Error processing OVLY: The truth value of a Series is ambiguous. Use a.empty, a.bool(), a.item(), a.any() or a.all().\n"
          ]
        },
        {
          "output_type": "stream",
          "name": "stderr",
          "text": [
            "[*********************100%***********************]  1 of 1 completed\n",
            "[*********************100%***********************]  1 of 1 completed\n",
            "[*********************100%***********************]  1 of 1 completed\n"
          ]
        },
        {
          "output_type": "stream",
          "name": "stdout",
          "text": [
            "Error processing ENTA: The truth value of a Series is ambiguous. Use a.empty, a.bool(), a.item(), a.any() or a.all().\n",
            "Error processing CDXS: The truth value of a Series is ambiguous. Use a.empty, a.bool(), a.item(), a.any() or a.all().\n",
            "Error processing FLWS: The truth value of a Series is ambiguous. Use a.empty, a.bool(), a.item(), a.any() or a.all().\n"
          ]
        },
        {
          "output_type": "stream",
          "name": "stderr",
          "text": [
            "[*********************100%***********************]  1 of 1 completed\n",
            "[*********************100%***********************]  1 of 1 completed\n"
          ]
        },
        {
          "output_type": "stream",
          "name": "stdout",
          "text": [
            "Error processing PMN: The truth value of a Series is ambiguous. Use a.empty, a.bool(), a.item(), a.any() or a.all().\n",
            "Error processing SION: The truth value of a Series is ambiguous. Use a.empty, a.bool(), a.item(), a.any() or a.all().\n"
          ]
        },
        {
          "output_type": "stream",
          "name": "stderr",
          "text": [
            "[*********************100%***********************]  1 of 1 completed\n",
            "[*********************100%***********************]  1 of 1 completed\n"
          ]
        },
        {
          "output_type": "stream",
          "name": "stdout",
          "text": [
            "Error processing TTSH: The truth value of a Series is ambiguous. Use a.empty, a.bool(), a.item(), a.any() or a.all().\n",
            "Error processing LARK: The truth value of a Series is ambiguous. Use a.empty, a.bool(), a.item(), a.any() or a.all().\n"
          ]
        },
        {
          "output_type": "stream",
          "name": "stderr",
          "text": [
            "[*********************100%***********************]  1 of 1 completed\n",
            "[*********************100%***********************]  1 of 1 completed\n",
            "[*********************100%***********************]  1 of 1 completed\n"
          ]
        },
        {
          "output_type": "stream",
          "name": "stdout",
          "text": [
            "Error processing DOMH: The truth value of a Series is ambiguous. Use a.empty, a.bool(), a.item(), a.any() or a.all().\n",
            "Error processing EXP: The truth value of a Series is ambiguous. Use a.empty, a.bool(), a.item(), a.any() or a.all().\n",
            "Error processing DOMH: The truth value of a Series is ambiguous. Use a.empty, a.bool(), a.item(), a.any() or a.all().\n"
          ]
        },
        {
          "output_type": "stream",
          "name": "stderr",
          "text": [
            "[*********************100%***********************]  1 of 1 completed\n",
            "[*********************100%***********************]  1 of 1 completed\n",
            "[*********************100%***********************]  1 of 1 completed\n"
          ]
        },
        {
          "output_type": "stream",
          "name": "stdout",
          "text": [
            "Error processing ZNTL: The truth value of a Series is ambiguous. Use a.empty, a.bool(), a.item(), a.any() or a.all().\n",
            "Error processing DOMH: The truth value of a Series is ambiguous. Use a.empty, a.bool(), a.item(), a.any() or a.all().\n",
            "Error processing DOMH: The truth value of a Series is ambiguous. Use a.empty, a.bool(), a.item(), a.any() or a.all().\n"
          ]
        },
        {
          "output_type": "stream",
          "name": "stderr",
          "text": [
            "[*********************100%***********************]  1 of 1 completed\n",
            "[*********************100%***********************]  1 of 1 completed\n",
            "[*********************100%***********************]  1 of 1 completed\n",
            "[*********************100%***********************]  1 of 1 completed\n"
          ]
        },
        {
          "output_type": "stream",
          "name": "stdout",
          "text": [
            "Error processing DOMH: The truth value of a Series is ambiguous. Use a.empty, a.bool(), a.item(), a.any() or a.all().\n",
            "Error processing DOMH: The truth value of a Series is ambiguous. Use a.empty, a.bool(), a.item(), a.any() or a.all().\n",
            "Error processing UFI: The truth value of a Series is ambiguous. Use a.empty, a.bool(), a.item(), a.any() or a.all().\n",
            "Error processing DOMH: The truth value of a Series is ambiguous. Use a.empty, a.bool(), a.item(), a.any() or a.all().\n"
          ]
        },
        {
          "output_type": "stream",
          "name": "stderr",
          "text": [
            "[*********************100%***********************]  1 of 1 completed\n",
            "[*********************100%***********************]  1 of 1 completed\n"
          ]
        },
        {
          "output_type": "stream",
          "name": "stdout",
          "text": [
            "Error processing AMD: The truth value of a Series is ambiguous. Use a.empty, a.bool(), a.item(), a.any() or a.all().\n",
            "Error processing SRCO: The truth value of a Series is ambiguous. Use a.empty, a.bool(), a.item(), a.any() or a.all().\n"
          ]
        },
        {
          "output_type": "stream",
          "name": "stderr",
          "text": [
            "[*********************100%***********************]  1 of 1 completed\n",
            "[*********************100%***********************]  1 of 1 completed\n",
            "[*********************100%***********************]  1 of 1 completed"
          ]
        },
        {
          "output_type": "stream",
          "name": "stdout",
          "text": [
            "Error processing MTH: The truth value of a Series is ambiguous. Use a.empty, a.bool(), a.item(), a.any() or a.all().\n",
            "Error processing CBKM: The truth value of a Series is ambiguous. Use a.empty, a.bool(), a.item(), a.any() or a.all().\n"
          ]
        },
        {
          "output_type": "stream",
          "name": "stderr",
          "text": [
            "\n",
            "\r[*********************100%***********************]  1 of 1 completed\n",
            "ERROR:yfinance:\n",
            "1 Failed download:\n",
            "ERROR:yfinance:['ATII']: YFTzMissingError('$%ticker%: possibly delisted; no timezone found')\n",
            "[*********************100%***********************]  1 of 1 completed\n",
            "ERROR:yfinance:\n",
            "1 Failed download:\n",
            "ERROR:yfinance:['ATII']: YFTzMissingError('$%ticker%: possibly delisted; no timezone found')\n",
            "[*********************100%***********************]  1 of 1 completed\n"
          ]
        },
        {
          "output_type": "stream",
          "name": "stdout",
          "text": [
            "Error processing ECBK: The truth value of a Series is ambiguous. Use a.empty, a.bool(), a.item(), a.any() or a.all().\n",
            "Error processing AMCR: The truth value of a Series is ambiguous. Use a.empty, a.bool(), a.item(), a.any() or a.all().\n"
          ]
        },
        {
          "output_type": "stream",
          "name": "stderr",
          "text": [
            "[*********************100%***********************]  1 of 1 completed\n",
            "[*********************100%***********************]  1 of 1 completed\n"
          ]
        },
        {
          "output_type": "stream",
          "name": "stdout",
          "text": [
            "Error processing GMGI: The truth value of a Series is ambiguous. Use a.empty, a.bool(), a.item(), a.any() or a.all().\n",
            "Error processing MGLD: The truth value of a Series is ambiguous. Use a.empty, a.bool(), a.item(), a.any() or a.all().\n"
          ]
        },
        {
          "output_type": "stream",
          "name": "stderr",
          "text": [
            "[*********************100%***********************]  1 of 1 completed\n",
            "[*********************100%***********************]  1 of 1 completed\n"
          ]
        },
        {
          "output_type": "stream",
          "name": "stdout",
          "text": [
            "Error processing MAGN: The truth value of a Series is ambiguous. Use a.empty, a.bool(), a.item(), a.any() or a.all().\n",
            "Error processing QNTO: The truth value of a Series is ambiguous. Use a.empty, a.bool(), a.item(), a.any() or a.all().\n"
          ]
        },
        {
          "output_type": "stream",
          "name": "stderr",
          "text": [
            "[*********************100%***********************]  1 of 1 completed\n",
            "[*********************100%***********************]  1 of 1 completed\n"
          ]
        },
        {
          "output_type": "stream",
          "name": "stdout",
          "text": [
            "Error processing CMTV: The truth value of a Series is ambiguous. Use a.empty, a.bool(), a.item(), a.any() or a.all().\n",
            "Error processing PIIVX: The truth value of a Series is ambiguous. Use a.empty, a.bool(), a.item(), a.any() or a.all().\n"
          ]
        },
        {
          "output_type": "stream",
          "name": "stderr",
          "text": [
            "[*********************100%***********************]  1 of 1 completed\n",
            "[*********************100%***********************]  1 of 1 completed\n"
          ]
        },
        {
          "output_type": "stream",
          "name": "stdout",
          "text": [
            "Error processing KMT: The truth value of a Series is ambiguous. Use a.empty, a.bool(), a.item(), a.any() or a.all().\n",
            "Error processing TPL: The truth value of a Series is ambiguous. Use a.empty, a.bool(), a.item(), a.any() or a.all().\n"
          ]
        },
        {
          "output_type": "stream",
          "name": "stderr",
          "text": [
            "[*********************100%***********************]  1 of 1 completed\n",
            "[*********************100%***********************]  1 of 1 completed\n"
          ]
        },
        {
          "output_type": "stream",
          "name": "stdout",
          "text": [
            "Error processing RCG: The truth value of a Series is ambiguous. Use a.empty, a.bool(), a.item(), a.any() or a.all().\n",
            "Error processing NWPP: The truth value of a Series is ambiguous. Use a.empty, a.bool(), a.item(), a.any() or a.all().\n"
          ]
        },
        {
          "output_type": "stream",
          "name": "stderr",
          "text": [
            "[*********************100%***********************]  1 of 1 completed\n",
            "[*********************100%***********************]  1 of 1 completed\n"
          ]
        },
        {
          "output_type": "stream",
          "name": "stdout",
          "text": [
            "Error processing ATXG: The truth value of a Series is ambiguous. Use a.empty, a.bool(), a.item(), a.any() or a.all().\n",
            "Error processing OXY: The truth value of a Series is ambiguous. Use a.empty, a.bool(), a.item(), a.any() or a.all().\n"
          ]
        },
        {
          "output_type": "stream",
          "name": "stderr",
          "text": [
            "[*********************100%***********************]  1 of 1 completed\n",
            "[*********************100%***********************]  1 of 1 completed\n",
            "[*********************100%***********************]  1 of 1 completed\n"
          ]
        },
        {
          "output_type": "stream",
          "name": "stdout",
          "text": [
            "Error processing AWR: The truth value of a Series is ambiguous. Use a.empty, a.bool(), a.item(), a.any() or a.all().\n",
            "Error processing KALV: The truth value of a Series is ambiguous. Use a.empty, a.bool(), a.item(), a.any() or a.all().\n",
            "Error processing OCX: The truth value of a Series is ambiguous. Use a.empty, a.bool(), a.item(), a.any() or a.all().\n"
          ]
        },
        {
          "output_type": "stream",
          "name": "stderr",
          "text": [
            "[*********************100%***********************]  1 of 1 completed\n",
            "[*********************100%***********************]  1 of 1 completed\n",
            "[*********************100%***********************]  1 of 1 completed"
          ]
        },
        {
          "output_type": "stream",
          "name": "stdout",
          "text": [
            "Error processing MDBH: The truth value of a Series is ambiguous. Use a.empty, a.bool(), a.item(), a.any() or a.all().\n",
            "Error processing AUBN: The truth value of a Series is ambiguous. Use a.empty, a.bool(), a.item(), a.any() or a.all().\n"
          ]
        },
        {
          "output_type": "stream",
          "name": "stderr",
          "text": [
            "\n",
            "\r[*********************100%***********************]  1 of 1 completed\n"
          ]
        },
        {
          "output_type": "stream",
          "name": "stdout",
          "text": [
            "Error processing NVCT: The truth value of a Series is ambiguous. Use a.empty, a.bool(), a.item(), a.any() or a.all().\n",
            "Error processing BCDA: The truth value of a Series is ambiguous. Use a.empty, a.bool(), a.item(), a.any() or a.all().\n"
          ]
        },
        {
          "output_type": "stream",
          "name": "stderr",
          "text": [
            "[*********************100%***********************]  1 of 1 completed\n",
            "[*********************100%***********************]  1 of 1 completed\n",
            "[*********************100%***********************]  1 of 1 completed\n"
          ]
        },
        {
          "output_type": "stream",
          "name": "stdout",
          "text": [
            "Error processing FRD: The truth value of a Series is ambiguous. Use a.empty, a.bool(), a.item(), a.any() or a.all().\n",
            "Error processing OCX: The truth value of a Series is ambiguous. Use a.empty, a.bool(), a.item(), a.any() or a.all().\n",
            "Error processing SYNA: The truth value of a Series is ambiguous. Use a.empty, a.bool(), a.item(), a.any() or a.all().\n"
          ]
        },
        {
          "output_type": "stream",
          "name": "stderr",
          "text": [
            "[*********************100%***********************]  1 of 1 completed\n",
            "[*********************100%***********************]  1 of 1 completed\n"
          ]
        },
        {
          "output_type": "stream",
          "name": "stdout",
          "text": [
            "Error processing NINE: The truth value of a Series is ambiguous. Use a.empty, a.bool(), a.item(), a.any() or a.all().\n",
            "Error processing NINE: The truth value of a Series is ambiguous. Use a.empty, a.bool(), a.item(), a.any() or a.all().\n"
          ]
        },
        {
          "output_type": "stream",
          "name": "stderr",
          "text": [
            "[*********************100%***********************]  1 of 1 completed\n",
            "[*********************100%***********************]  1 of 1 completed\n",
            "[*********************100%***********************]  1 of 1 completed\n"
          ]
        },
        {
          "output_type": "stream",
          "name": "stdout",
          "text": [
            "Error processing HP: The truth value of a Series is ambiguous. Use a.empty, a.bool(), a.item(), a.any() or a.all().\n",
            "Error processing HP: The truth value of a Series is ambiguous. Use a.empty, a.bool(), a.item(), a.any() or a.all().\n",
            "Error processing ZBIO: The truth value of a Series is ambiguous. Use a.empty, a.bool(), a.item(), a.any() or a.all().\n"
          ]
        },
        {
          "output_type": "stream",
          "name": "stderr",
          "text": [
            "[*********************100%***********************]  1 of 1 completed\n",
            "[*********************100%***********************]  1 of 1 completed\n"
          ]
        },
        {
          "output_type": "stream",
          "name": "stdout",
          "text": [
            "Error processing DOW: The truth value of a Series is ambiguous. Use a.empty, a.bool(), a.item(), a.any() or a.all().\n",
            "Error processing FBK: The truth value of a Series is ambiguous. Use a.empty, a.bool(), a.item(), a.any() or a.all().\n"
          ]
        },
        {
          "output_type": "stream",
          "name": "stderr",
          "text": [
            "[*********************100%***********************]  1 of 1 completed\n",
            "[*********************100%***********************]  1 of 1 completed\n"
          ]
        },
        {
          "output_type": "stream",
          "name": "stdout",
          "text": [
            "Error processing TEX: The truth value of a Series is ambiguous. Use a.empty, a.bool(), a.item(), a.any() or a.all().\n",
            "Error processing FCF: The truth value of a Series is ambiguous. Use a.empty, a.bool(), a.item(), a.any() or a.all().\n"
          ]
        },
        {
          "output_type": "stream",
          "name": "stderr",
          "text": [
            "[*********************100%***********************]  1 of 1 completed\n",
            "[*********************100%***********************]  1 of 1 completed\n"
          ]
        },
        {
          "output_type": "stream",
          "name": "stdout",
          "text": [
            "Error processing REYN: The truth value of a Series is ambiguous. Use a.empty, a.bool(), a.item(), a.any() or a.all().\n",
            "Error processing BZH: The truth value of a Series is ambiguous. Use a.empty, a.bool(), a.item(), a.any() or a.all().\n"
          ]
        },
        {
          "output_type": "stream",
          "name": "stderr",
          "text": [
            "[*********************100%***********************]  1 of 1 completed\n",
            "[*********************100%***********************]  1 of 1 completed\n"
          ]
        },
        {
          "output_type": "stream",
          "name": "stdout",
          "text": [
            "Error processing TPL: The truth value of a Series is ambiguous. Use a.empty, a.bool(), a.item(), a.any() or a.all().\n",
            "Error processing THFF: The truth value of a Series is ambiguous. Use a.empty, a.bool(), a.item(), a.any() or a.all().\n"
          ]
        },
        {
          "output_type": "stream",
          "name": "stderr",
          "text": [
            "[*********************100%***********************]  1 of 1 completed\n",
            "[*********************100%***********************]  1 of 1 completed\n",
            "[*********************100%***********************]  1 of 1 completed\n"
          ]
        },
        {
          "output_type": "stream",
          "name": "stdout",
          "text": [
            "Error processing RCG: The truth value of a Series is ambiguous. Use a.empty, a.bool(), a.item(), a.any() or a.all().\n",
            "Error processing OSBC: The truth value of a Series is ambiguous. Use a.empty, a.bool(), a.item(), a.any() or a.all().\n"
          ]
        },
        {
          "output_type": "stream",
          "name": "stderr",
          "text": [
            "[*********************100%***********************]  1 of 1 completed\n",
            "[*********************100%***********************]  1 of 1 completed\n"
          ]
        },
        {
          "output_type": "stream",
          "name": "stdout",
          "text": [
            "Error processing SRBK: The truth value of a Series is ambiguous. Use a.empty, a.bool(), a.item(), a.any() or a.all().\n",
            "Error processing MRNS: The truth value of a Series is ambiguous. Use a.empty, a.bool(), a.item(), a.any() or a.all().\n",
            "Error processing NWPP: The truth value of a Series is ambiguous. Use a.empty, a.bool(), a.item(), a.any() or a.all().\n"
          ]
        },
        {
          "output_type": "stream",
          "name": "stderr",
          "text": [
            "[*********************100%***********************]  1 of 1 completed\n",
            "[*********************100%***********************]  1 of 1 completed\n"
          ]
        },
        {
          "output_type": "stream",
          "name": "stdout",
          "text": [
            "Error processing OCX: The truth value of a Series is ambiguous. Use a.empty, a.bool(), a.item(), a.any() or a.all().\n",
            "Error processing BZH: The truth value of a Series is ambiguous. Use a.empty, a.bool(), a.item(), a.any() or a.all().\n"
          ]
        },
        {
          "output_type": "stream",
          "name": "stderr",
          "text": [
            "[*********************100%***********************]  1 of 1 completed\n",
            "[*********************100%***********************]  1 of 1 completed\n",
            "[*********************100%***********************]  1 of 1 completed\n",
            "[*********************100%***********************]  1 of 1 completed\n",
            "[*********************100%***********************]  1 of 1 completed\n"
          ]
        },
        {
          "output_type": "stream",
          "name": "stdout",
          "text": [
            "Error processing CWBC: The truth value of a Series is ambiguous. Use a.empty, a.bool(), a.item(), a.any() or a.all().\n",
            "Error processing BZH: The truth value of a Series is ambiguous. Use a.empty, a.bool(), a.item(), a.any() or a.all().\n",
            "Error processing BZH: The truth value of a Series is ambiguous. Use a.empty, a.bool(), a.item(), a.any() or a.all().\n",
            "Error processing BZH: The truth value of a Series is ambiguous. Use a.empty, a.bool(), a.item(), a.any() or a.all().\n",
            "Error processing BZH: The truth value of a Series is ambiguous. Use a.empty, a.bool(), a.item(), a.any() or a.all().\n"
          ]
        },
        {
          "output_type": "stream",
          "name": "stderr",
          "text": [
            "[*********************100%***********************]  1 of 1 completed\n",
            "[*********************100%***********************]  1 of 1 completed\n",
            "[*********************100%***********************]  1 of 1 completed\n"
          ]
        },
        {
          "output_type": "stream",
          "name": "stdout",
          "text": [
            "Error processing MNR: The truth value of a Series is ambiguous. Use a.empty, a.bool(), a.item(), a.any() or a.all().\n",
            "Error processing AEI: The truth value of a Series is ambiguous. Use a.empty, a.bool(), a.item(), a.any() or a.all().\n",
            "Error processing SION: The truth value of a Series is ambiguous. Use a.empty, a.bool(), a.item(), a.any() or a.all().\n"
          ]
        },
        {
          "output_type": "stream",
          "name": "stderr",
          "text": [
            "[*********************100%***********************]  1 of 1 completed\n",
            "[*********************100%***********************]  1 of 1 completed\n",
            "ERROR:yfinance:Could not get exchangeTimezoneName for ticker 'MDU' reason: 'chart'\n",
            "[*********************100%***********************]  1 of 1 completed\n",
            "ERROR:yfinance:\n",
            "1 Failed download:\n",
            "ERROR:yfinance:['MDU']: YFTzMissingError('$%ticker%: possibly delisted; no timezone found')\n",
            "[*********************100%***********************]  1 of 1 completed\n"
          ]
        },
        {
          "output_type": "stream",
          "name": "stdout",
          "text": [
            "Error processing BDX: The truth value of a Series is ambiguous. Use a.empty, a.bool(), a.item(), a.any() or a.all().\n",
            "Error processing RAIN: The truth value of a Series is ambiguous. Use a.empty, a.bool(), a.item(), a.any() or a.all().\n",
            "Error processing SION: The truth value of a Series is ambiguous. Use a.empty, a.bool(), a.item(), a.any() or a.all().\n"
          ]
        },
        {
          "output_type": "stream",
          "name": "stderr",
          "text": [
            "[*********************100%***********************]  1 of 1 completed\n",
            "[*********************100%***********************]  1 of 1 completed\n",
            "[*********************100%***********************]  1 of 1 completed\n",
            "[*********************100%***********************]  1 of 1 completed\n",
            "[*********************100%***********************]  1 of 1 completed\n"
          ]
        },
        {
          "output_type": "stream",
          "name": "stdout",
          "text": [
            "Error processing EFSI: The truth value of a Series is ambiguous. Use a.empty, a.bool(), a.item(), a.any() or a.all().\n",
            "Error processing EFSI: The truth value of a Series is ambiguous. Use a.empty, a.bool(), a.item(), a.any() or a.all().\n",
            "Error processing EFSI: The truth value of a Series is ambiguous. Use a.empty, a.bool(), a.item(), a.any() or a.all().\n",
            "Error processing EFSI: The truth value of a Series is ambiguous. Use a.empty, a.bool(), a.item(), a.any() or a.all().\n",
            "Error processing EFSI: The truth value of a Series is ambiguous. Use a.empty, a.bool(), a.item(), a.any() or a.all().\n"
          ]
        },
        {
          "output_type": "stream",
          "name": "stderr",
          "text": [
            "[*********************100%***********************]  1 of 1 completed\n",
            "[*********************100%***********************]  1 of 1 completed\n",
            "[*********************100%***********************]  1 of 1 completed\n"
          ]
        },
        {
          "output_type": "stream",
          "name": "stdout",
          "text": [
            "Error processing QLYS: The truth value of a Series is ambiguous. Use a.empty, a.bool(), a.item(), a.any() or a.all().\n",
            "Error processing EFSI: The truth value of a Series is ambiguous. Use a.empty, a.bool(), a.item(), a.any() or a.all().\n",
            "Error processing EFSI: The truth value of a Series is ambiguous. Use a.empty, a.bool(), a.item(), a.any() or a.all().\n"
          ]
        },
        {
          "output_type": "stream",
          "name": "stderr",
          "text": [
            "[*********************100%***********************]  1 of 1 completed\n",
            "[*********************100%***********************]  1 of 1 completed\n",
            "[*********************100%***********************]  1 of 1 completed\n",
            "[*********************100%***********************]  1 of 1 completed\n"
          ]
        },
        {
          "output_type": "stream",
          "name": "stdout",
          "text": [
            "Error processing BHRB: The truth value of a Series is ambiguous. Use a.empty, a.bool(), a.item(), a.any() or a.all().\n",
            "Error processing EFSI: The truth value of a Series is ambiguous. Use a.empty, a.bool(), a.item(), a.any() or a.all().\n",
            "Error processing EFSI: The truth value of a Series is ambiguous. Use a.empty, a.bool(), a.item(), a.any() or a.all().\n",
            "Error processing EFSI: The truth value of a Series is ambiguous. Use a.empty, a.bool(), a.item(), a.any() or a.all().\n"
          ]
        },
        {
          "output_type": "stream",
          "name": "stderr",
          "text": [
            "[*********************100%***********************]  1 of 1 completed\n",
            "[*********************100%***********************]  1 of 1 completed\n",
            "[*********************100%***********************]  1 of 1 completed\n",
            "[*********************100%***********************]  1 of 1 completed\n",
            "[*********************100%***********************]  1 of 1 completed\n"
          ]
        },
        {
          "output_type": "stream",
          "name": "stdout",
          "text": [
            "Error processing HI: The truth value of a Series is ambiguous. Use a.empty, a.bool(), a.item(), a.any() or a.all().\n",
            "Error processing HI: The truth value of a Series is ambiguous. Use a.empty, a.bool(), a.item(), a.any() or a.all().\n",
            "Error processing HI: The truth value of a Series is ambiguous. Use a.empty, a.bool(), a.item(), a.any() or a.all().\n",
            "Error processing HI: The truth value of a Series is ambiguous. Use a.empty, a.bool(), a.item(), a.any() or a.all().\n",
            "Error processing EFSI: The truth value of a Series is ambiguous. Use a.empty, a.bool(), a.item(), a.any() or a.all().\n"
          ]
        },
        {
          "output_type": "stream",
          "name": "stderr",
          "text": [
            "\r[*********************100%***********************]  1 of 1 completed\n",
            "ERROR:yfinance:\n",
            "1 Failed download:\n",
            "ERROR:yfinance:['KFII']: YFTzMissingError('$%ticker%: possibly delisted; no timezone found')\n",
            "[*********************100%***********************]  1 of 1 completed\n",
            "[*********************100%***********************]  1 of 1 completed\n",
            "[*********************100%***********************]  1 of 1 completed\n"
          ]
        },
        {
          "output_type": "stream",
          "name": "stdout",
          "text": [
            "Error processing SION: The truth value of a Series is ambiguous. Use a.empty, a.bool(), a.item(), a.any() or a.all().\n",
            "Error processing SION: The truth value of a Series is ambiguous. Use a.empty, a.bool(), a.item(), a.any() or a.all().\n",
            "Error processing SION: The truth value of a Series is ambiguous. Use a.empty, a.bool(), a.item(), a.any() or a.all().\n"
          ]
        },
        {
          "output_type": "stream",
          "name": "stderr",
          "text": [
            "[*********************100%***********************]  1 of 1 completed\n",
            "[*********************100%***********************]  1 of 1 completed"
          ]
        },
        {
          "output_type": "stream",
          "name": "stdout",
          "text": [
            "Error processing TBBK: The truth value of a Series is ambiguous. Use a.empty, a.bool(), a.item(), a.any() or a.all().\n"
          ]
        },
        {
          "output_type": "stream",
          "name": "stderr",
          "text": [
            "\n",
            "\r[*********************100%***********************]  1 of 1 completed\n"
          ]
        },
        {
          "output_type": "stream",
          "name": "stdout",
          "text": [
            "Error processing MTCH: The truth value of a Series is ambiguous. Use a.empty, a.bool(), a.item(), a.any() or a.all().\n",
            "Error processing MTCH: The truth value of a Series is ambiguous. Use a.empty, a.bool(), a.item(), a.any() or a.all().\n"
          ]
        },
        {
          "output_type": "stream",
          "name": "stderr",
          "text": [
            "[*********************100%***********************]  1 of 1 completed\n",
            "[*********************100%***********************]  1 of 1 completed\n"
          ]
        },
        {
          "output_type": "stream",
          "name": "stdout",
          "text": [
            "Error processing EL: The truth value of a Series is ambiguous. Use a.empty, a.bool(), a.item(), a.any() or a.all().\n",
            "Error processing ASYS: The truth value of a Series is ambiguous. Use a.empty, a.bool(), a.item(), a.any() or a.all().\n"
          ]
        },
        {
          "output_type": "stream",
          "name": "stderr",
          "text": [
            "[*********************100%***********************]  1 of 1 completed\n",
            "[*********************100%***********************]  1 of 1 completed\n",
            "[*********************100%***********************]  1 of 1 completed\n",
            "[*********************100%***********************]  1 of 1 completed\n"
          ]
        },
        {
          "output_type": "stream",
          "name": "stdout",
          "text": [
            "Error processing EFSI: The truth value of a Series is ambiguous. Use a.empty, a.bool(), a.item(), a.any() or a.all().\n",
            "Error processing EFSI: The truth value of a Series is ambiguous. Use a.empty, a.bool(), a.item(), a.any() or a.all().\n",
            "Error processing EFSI: The truth value of a Series is ambiguous. Use a.empty, a.bool(), a.item(), a.any() or a.all().\n",
            "Error processing EFSI: The truth value of a Series is ambiguous. Use a.empty, a.bool(), a.item(), a.any() or a.all().\n"
          ]
        },
        {
          "output_type": "stream",
          "name": "stderr",
          "text": [
            "[*********************100%***********************]  1 of 1 completed\n",
            "[*********************100%***********************]  1 of 1 completed\n",
            "[*********************100%***********************]  1 of 1 completed\n",
            "[*********************100%***********************]  1 of 1 completed\n"
          ]
        },
        {
          "output_type": "stream",
          "name": "stdout",
          "text": [
            "Error processing EFSI: The truth value of a Series is ambiguous. Use a.empty, a.bool(), a.item(), a.any() or a.all().\n",
            "Error processing EFSI: The truth value of a Series is ambiguous. Use a.empty, a.bool(), a.item(), a.any() or a.all().\n",
            "Error processing EFSI: The truth value of a Series is ambiguous. Use a.empty, a.bool(), a.item(), a.any() or a.all().\n",
            "Error processing EFSI: The truth value of a Series is ambiguous. Use a.empty, a.bool(), a.item(), a.any() or a.all().\n"
          ]
        },
        {
          "output_type": "stream",
          "name": "stderr",
          "text": [
            "[*********************100%***********************]  1 of 1 completed\n",
            "[*********************100%***********************]  1 of 1 completed\n"
          ]
        },
        {
          "output_type": "stream",
          "name": "stdout",
          "text": [
            "Error processing EFSI: The truth value of a Series is ambiguous. Use a.empty, a.bool(), a.item(), a.any() or a.all().\n",
            "Error processing EFSI: The truth value of a Series is ambiguous. Use a.empty, a.bool(), a.item(), a.any() or a.all().\n"
          ]
        },
        {
          "output_type": "stream",
          "name": "stderr",
          "text": [
            "[*********************100%***********************]  1 of 1 completed\n",
            "[*********************100%***********************]  1 of 1 completed\n",
            "[*********************100%***********************]  1 of 1 completed\n"
          ]
        },
        {
          "output_type": "stream",
          "name": "stdout",
          "text": [
            "Error processing PEG: The truth value of a Series is ambiguous. Use a.empty, a.bool(), a.item(), a.any() or a.all().\n",
            "Error processing SRTS: The truth value of a Series is ambiguous. Use a.empty, a.bool(), a.item(), a.any() or a.all().\n",
            "Error processing SRTS: The truth value of a Series is ambiguous. Use a.empty, a.bool(), a.item(), a.any() or a.all().\n"
          ]
        },
        {
          "output_type": "stream",
          "name": "stderr",
          "text": [
            "[*********************100%***********************]  1 of 1 completed\n",
            "[*********************100%***********************]  1 of 1 completed\n"
          ]
        },
        {
          "output_type": "stream",
          "name": "stdout",
          "text": [
            "Error processing CZNC: The truth value of a Series is ambiguous. Use a.empty, a.bool(), a.item(), a.any() or a.all().\n",
            "Error processing CZNC: The truth value of a Series is ambiguous. Use a.empty, a.bool(), a.item(), a.any() or a.all().\n"
          ]
        },
        {
          "output_type": "stream",
          "name": "stderr",
          "text": [
            "[*********************100%***********************]  1 of 1 completed\n",
            "[*********************100%***********************]  1 of 1 completed\n"
          ]
        },
        {
          "output_type": "stream",
          "name": "stdout",
          "text": [
            "Error processing FNWD: The truth value of a Series is ambiguous. Use a.empty, a.bool(), a.item(), a.any() or a.all().\n",
            "Error processing FNWD: The truth value of a Series is ambiguous. Use a.empty, a.bool(), a.item(), a.any() or a.all().\n"
          ]
        },
        {
          "output_type": "stream",
          "name": "stderr",
          "text": [
            "[*********************100%***********************]  1 of 1 completed\n",
            "[*********************100%***********************]  1 of 1 completed\n"
          ]
        },
        {
          "output_type": "stream",
          "name": "stdout",
          "text": [
            "Error processing FNWD: The truth value of a Series is ambiguous. Use a.empty, a.bool(), a.item(), a.any() or a.all().\n",
            "Error processing OVLY: The truth value of a Series is ambiguous. Use a.empty, a.bool(), a.item(), a.any() or a.all().\n"
          ]
        },
        {
          "output_type": "stream",
          "name": "stderr",
          "text": [
            "[*********************100%***********************]  1 of 1 completed\n",
            "[*********************100%***********************]  1 of 1 completed\n"
          ]
        },
        {
          "output_type": "stream",
          "name": "stdout",
          "text": [
            "Error processing THR: The truth value of a Series is ambiguous. Use a.empty, a.bool(), a.item(), a.any() or a.all().\n",
            "Error processing TPL: The truth value of a Series is ambiguous. Use a.empty, a.bool(), a.item(), a.any() or a.all().\n"
          ]
        },
        {
          "output_type": "stream",
          "name": "stderr",
          "text": [
            "[*********************100%***********************]  1 of 1 completed\n",
            "[*********************100%***********************]  1 of 1 completed\n"
          ]
        },
        {
          "output_type": "stream",
          "name": "stdout",
          "text": [
            "Error processing RCG: The truth value of a Series is ambiguous. Use a.empty, a.bool(), a.item(), a.any() or a.all().\n",
            "Error processing BAFN: The truth value of a Series is ambiguous. Use a.empty, a.bool(), a.item(), a.any() or a.all().\n"
          ]
        },
        {
          "output_type": "stream",
          "name": "stderr",
          "text": [
            "[*********************100%***********************]  1 of 1 completed\n",
            "[*********************100%***********************]  1 of 1 completed\n"
          ]
        },
        {
          "output_type": "stream",
          "name": "stdout",
          "text": [
            "Error processing FMBM: The truth value of a Series is ambiguous. Use a.empty, a.bool(), a.item(), a.any() or a.all().\n",
            "Error processing FMBM: The truth value of a Series is ambiguous. Use a.empty, a.bool(), a.item(), a.any() or a.all().\n"
          ]
        },
        {
          "output_type": "stream",
          "name": "stderr",
          "text": [
            "[*********************100%***********************]  1 of 1 completed\n",
            "[*********************100%***********************]  1 of 1 completed\n"
          ]
        },
        {
          "output_type": "stream",
          "name": "stdout",
          "text": [
            "Error processing KRNY: The truth value of a Series is ambiguous. Use a.empty, a.bool(), a.item(), a.any() or a.all().\n",
            "Error processing PCT: The truth value of a Series is ambiguous. Use a.empty, a.bool(), a.item(), a.any() or a.all().\n"
          ]
        },
        {
          "output_type": "stream",
          "name": "stderr",
          "text": [
            "[*********************100%***********************]  1 of 1 completed\n",
            "[*********************100%***********************]  1 of 1 completed\n"
          ]
        },
        {
          "output_type": "stream",
          "name": "stdout",
          "text": [
            "Error processing ATXG: The truth value of a Series is ambiguous. Use a.empty, a.bool(), a.item(), a.any() or a.all().\n",
            "Error processing ATXG: The truth value of a Series is ambiguous. Use a.empty, a.bool(), a.item(), a.any() or a.all().\n"
          ]
        },
        {
          "output_type": "stream",
          "name": "stderr",
          "text": [
            "[*********************100%***********************]  1 of 1 completed\n",
            "[*********************100%***********************]  1 of 1 completed\n"
          ]
        },
        {
          "output_type": "stream",
          "name": "stdout",
          "text": [
            "Error processing NYC: The truth value of a Series is ambiguous. Use a.empty, a.bool(), a.item(), a.any() or a.all().\n",
            "Error processing PBF: The truth value of a Series is ambiguous. Use a.empty, a.bool(), a.item(), a.any() or a.all().\n"
          ]
        },
        {
          "output_type": "stream",
          "name": "stderr",
          "text": [
            "[*********************100%***********************]  1 of 1 completed\n",
            "[*********************100%***********************]  1 of 1 completed\n",
            "[*********************100%***********************]  1 of 1 completed\n"
          ]
        },
        {
          "output_type": "stream",
          "name": "stdout",
          "text": [
            "Error processing TKO: The truth value of a Series is ambiguous. Use a.empty, a.bool(), a.item(), a.any() or a.all().\n",
            "Error processing TKO: The truth value of a Series is ambiguous. Use a.empty, a.bool(), a.item(), a.any() or a.all().\n",
            "Error processing TKO: The truth value of a Series is ambiguous. Use a.empty, a.bool(), a.item(), a.any() or a.all().\n"
          ]
        },
        {
          "output_type": "stream",
          "name": "stderr",
          "text": [
            "\r[*********************100%***********************]  1 of 1 completed\n"
          ]
        },
        {
          "output_type": "stream",
          "name": "stdout",
          "text": [
            "Error processing AKRO: The truth value of a Series is ambiguous. Use a.empty, a.bool(), a.item(), a.any() or a.all().\n"
          ]
        },
        {
          "output_type": "stream",
          "name": "stderr",
          "text": [
            "[*********************100%***********************]  1 of 1 completed\n",
            "[*********************100%***********************]  1 of 1 completed\n"
          ]
        },
        {
          "output_type": "stream",
          "name": "stdout",
          "text": [
            "Error processing KEY: The truth value of a Series is ambiguous. Use a.empty, a.bool(), a.item(), a.any() or a.all().\n",
            "Error processing IQV: The truth value of a Series is ambiguous. Use a.empty, a.bool(), a.item(), a.any() or a.all().\n"
          ]
        },
        {
          "output_type": "stream",
          "name": "stderr",
          "text": [
            "[*********************100%***********************]  1 of 1 completed\n",
            "[*********************100%***********************]  1 of 1 completed\n",
            "[*********************100%***********************]  1 of 1 completed\n"
          ]
        },
        {
          "output_type": "stream",
          "name": "stdout",
          "text": [
            "Error processing ATXG: The truth value of a Series is ambiguous. Use a.empty, a.bool(), a.item(), a.any() or a.all().\n",
            "Error processing GMGI: The truth value of a Series is ambiguous. Use a.empty, a.bool(), a.item(), a.any() or a.all().\n",
            "Error processing GMGI: The truth value of a Series is ambiguous. Use a.empty, a.bool(), a.item(), a.any() or a.all().\n"
          ]
        },
        {
          "output_type": "stream",
          "name": "stderr",
          "text": [
            "[*********************100%***********************]  1 of 1 completed\n",
            "[*********************100%***********************]  1 of 1 completed\n",
            "[*********************100%***********************]  1 of 1 completed\n"
          ]
        },
        {
          "output_type": "stream",
          "name": "stdout",
          "text": [
            "Error processing DMLP: The truth value of a Series is ambiguous. Use a.empty, a.bool(), a.item(), a.any() or a.all().\n",
            "Error processing CASK: The truth value of a Series is ambiguous. Use a.empty, a.bool(), a.item(), a.any() or a.all().\n",
            "Error processing CASK: The truth value of a Series is ambiguous. Use a.empty, a.bool(), a.item(), a.any() or a.all().\n"
          ]
        },
        {
          "output_type": "stream",
          "name": "stderr",
          "text": [
            "[*********************100%***********************]  1 of 1 completed\n",
            "[*********************100%***********************]  1 of 1 completed\n",
            "[*********************100%***********************]  1 of 1 completed\n"
          ]
        },
        {
          "output_type": "stream",
          "name": "stdout",
          "text": [
            "Error processing FRST: The truth value of a Series is ambiguous. Use a.empty, a.bool(), a.item(), a.any() or a.all().\n",
            "Error processing FLWS: The truth value of a Series is ambiguous. Use a.empty, a.bool(), a.item(), a.any() or a.all().\n",
            "Error processing TTSH: The truth value of a Series is ambiguous. Use a.empty, a.bool(), a.item(), a.any() or a.all().\n"
          ]
        },
        {
          "output_type": "stream",
          "name": "stderr",
          "text": [
            "[*********************100%***********************]  1 of 1 completed\n",
            "[*********************100%***********************]  1 of 1 completed\n"
          ]
        },
        {
          "output_type": "stream",
          "name": "stdout",
          "text": [
            "Error processing FRST: The truth value of a Series is ambiguous. Use a.empty, a.bool(), a.item(), a.any() or a.all().\n",
            "Error processing BAH: The truth value of a Series is ambiguous. Use a.empty, a.bool(), a.item(), a.any() or a.all().\n"
          ]
        },
        {
          "output_type": "stream",
          "name": "stderr",
          "text": [
            "[*********************100%***********************]  1 of 1 completed\n",
            "[*********************100%***********************]  1 of 1 completed\n",
            "[*********************100%***********************]  1 of 1 completed"
          ]
        },
        {
          "output_type": "stream",
          "name": "stdout",
          "text": [
            "Error processing MKL: The truth value of a Series is ambiguous. Use a.empty, a.bool(), a.item(), a.any() or a.all().\n",
            "Error processing ATXG: The truth value of a Series is ambiguous. Use a.empty, a.bool(), a.item(), a.any() or a.all().\n"
          ]
        },
        {
          "output_type": "stream",
          "name": "stderr",
          "text": [
            "\n",
            "[*********************100%***********************]  1 of 1 completed\n"
          ]
        },
        {
          "output_type": "stream",
          "name": "stdout",
          "text": [
            "Error processing EL: The truth value of a Series is ambiguous. Use a.empty, a.bool(), a.item(), a.any() or a.all().\n",
            "Error processing TECX: The truth value of a Series is ambiguous. Use a.empty, a.bool(), a.item(), a.any() or a.all().\n"
          ]
        },
        {
          "output_type": "stream",
          "name": "stderr",
          "text": [
            "[*********************100%***********************]  1 of 1 completed\n",
            "[*********************100%***********************]  1 of 1 completed\n",
            "[*********************100%***********************]  1 of 1 completed\n"
          ]
        },
        {
          "output_type": "stream",
          "name": "stdout",
          "text": [
            "Error processing WTFC: The truth value of a Series is ambiguous. Use a.empty, a.bool(), a.item(), a.any() or a.all().\n",
            "Error processing TECX: The truth value of a Series is ambiguous. Use a.empty, a.bool(), a.item(), a.any() or a.all().\n",
            "Error processing EL: The truth value of a Series is ambiguous. Use a.empty, a.bool(), a.item(), a.any() or a.all().\n"
          ]
        },
        {
          "output_type": "stream",
          "name": "stderr",
          "text": [
            "[*********************100%***********************]  1 of 1 completed\n",
            "[*********************100%***********************]  1 of 1 completed\n"
          ]
        },
        {
          "output_type": "stream",
          "name": "stdout",
          "text": [
            "Error processing MRK: The truth value of a Series is ambiguous. Use a.empty, a.bool(), a.item(), a.any() or a.all().\n",
            "Error processing TCBI: The truth value of a Series is ambiguous. Use a.empty, a.bool(), a.item(), a.any() or a.all().\n"
          ]
        },
        {
          "output_type": "stream",
          "name": "stderr",
          "text": [
            "[*********************100%***********************]  1 of 1 completed\n",
            "[*********************100%***********************]  1 of 1 completed\n"
          ]
        },
        {
          "output_type": "stream",
          "name": "stdout",
          "text": [
            "Error processing MRK: The truth value of a Series is ambiguous. Use a.empty, a.bool(), a.item(), a.any() or a.all().\n",
            "Error processing REFLX: The truth value of a Series is ambiguous. Use a.empty, a.bool(), a.item(), a.any() or a.all().\n"
          ]
        },
        {
          "output_type": "stream",
          "name": "stderr",
          "text": [
            "[*********************100%***********************]  1 of 1 completed\n",
            "[*********************100%***********************]  1 of 1 completed\n"
          ]
        },
        {
          "output_type": "stream",
          "name": "stdout",
          "text": [
            "Error processing CBKM: The truth value of a Series is ambiguous. Use a.empty, a.bool(), a.item(), a.any() or a.all().\n",
            "Error processing CBKM: The truth value of a Series is ambiguous. Use a.empty, a.bool(), a.item(), a.any() or a.all().\n"
          ]
        },
        {
          "output_type": "stream",
          "name": "stderr",
          "text": [
            "[*********************100%***********************]  1 of 1 completed\n",
            "[*********************100%***********************]  1 of 1 completed\n"
          ]
        },
        {
          "output_type": "stream",
          "name": "stdout",
          "text": [
            "Error processing LFUS: The truth value of a Series is ambiguous. Use a.empty, a.bool(), a.item(), a.any() or a.all().\n",
            "Error processing NWFL: The truth value of a Series is ambiguous. Use a.empty, a.bool(), a.item(), a.any() or a.all().\n"
          ]
        },
        {
          "output_type": "stream",
          "name": "stderr",
          "text": [
            "\r[*********************100%***********************]  1 of 1 completed\n"
          ]
        },
        {
          "output_type": "stream",
          "name": "stdout",
          "text": [
            "Error processing MSBI: The truth value of a Series is ambiguous. Use a.empty, a.bool(), a.item(), a.any() or a.all().\n"
          ]
        },
        {
          "output_type": "stream",
          "name": "stderr",
          "text": [
            "\r[*********************100%***********************]  1 of 1 completed\n"
          ]
        },
        {
          "output_type": "stream",
          "name": "stdout",
          "text": [
            "Error processing NBTB: The truth value of a Series is ambiguous. Use a.empty, a.bool(), a.item(), a.any() or a.all().\n"
          ]
        },
        {
          "output_type": "stream",
          "name": "stderr",
          "text": [
            "[*********************100%***********************]  1 of 1 completed\n",
            "[*********************100%***********************]  1 of 1 completed\n",
            "[*********************100%***********************]  1 of 1 completed\n"
          ]
        },
        {
          "output_type": "stream",
          "name": "stdout",
          "text": [
            "Error processing FRAF: The truth value of a Series is ambiguous. Use a.empty, a.bool(), a.item(), a.any() or a.all().\n",
            "Error processing RCG: The truth value of a Series is ambiguous. Use a.empty, a.bool(), a.item(), a.any() or a.all().\n",
            "Error processing FNWD: The truth value of a Series is ambiguous. Use a.empty, a.bool(), a.item(), a.any() or a.all().\n"
          ]
        },
        {
          "output_type": "stream",
          "name": "stderr",
          "text": [
            "\r[*********************100%***********************]  1 of 1 completed\n"
          ]
        },
        {
          "output_type": "stream",
          "name": "stdout",
          "text": [
            "Error processing TPL: The truth value of a Series is ambiguous. Use a.empty, a.bool(), a.item(), a.any() or a.all().\n"
          ]
        },
        {
          "output_type": "stream",
          "name": "stderr",
          "text": [
            "\r[*********************100%***********************]  1 of 1 completed\n"
          ]
        },
        {
          "output_type": "stream",
          "name": "stdout",
          "text": [
            "Error processing TRST: The truth value of a Series is ambiguous. Use a.empty, a.bool(), a.item(), a.any() or a.all().\n"
          ]
        },
        {
          "output_type": "stream",
          "name": "stderr",
          "text": [
            "\r[*********************100%***********************]  1 of 1 completed\n"
          ]
        },
        {
          "output_type": "stream",
          "name": "stdout",
          "text": [
            "Error processing JUVF: The truth value of a Series is ambiguous. Use a.empty, a.bool(), a.item(), a.any() or a.all().\n"
          ]
        },
        {
          "output_type": "stream",
          "name": "stderr",
          "text": [
            "[*********************100%***********************]  1 of 1 completed\n",
            "[*********************100%***********************]  1 of 1 completed\n"
          ]
        },
        {
          "output_type": "stream",
          "name": "stdout",
          "text": [
            "Error processing MUR: The truth value of a Series is ambiguous. Use a.empty, a.bool(), a.item(), a.any() or a.all().\n",
            "Error processing MUR: The truth value of a Series is ambiguous. Use a.empty, a.bool(), a.item(), a.any() or a.all().\n"
          ]
        },
        {
          "output_type": "stream",
          "name": "stderr",
          "text": [
            "[*********************100%***********************]  1 of 1 completed\n",
            "[*********************100%***********************]  1 of 1 completed\n"
          ]
        },
        {
          "output_type": "stream",
          "name": "stdout",
          "text": [
            "Error processing DFCO: The truth value of a Series is ambiguous. Use a.empty, a.bool(), a.item(), a.any() or a.all().\n",
            "Error processing TLSI: The truth value of a Series is ambiguous. Use a.empty, a.bool(), a.item(), a.any() or a.all().\n"
          ]
        },
        {
          "output_type": "stream",
          "name": "stderr",
          "text": [
            "[*********************100%***********************]  1 of 1 completed\n",
            "[*********************100%***********************]  1 of 1 completed\n"
          ]
        },
        {
          "output_type": "stream",
          "name": "stdout",
          "text": [
            "Error processing TCBI: The truth value of a Series is ambiguous. Use a.empty, a.bool(), a.item(), a.any() or a.all().\n",
            "Error processing GDRZF: The truth value of a Series is ambiguous. Use a.empty, a.bool(), a.item(), a.any() or a.all().\n"
          ]
        },
        {
          "output_type": "stream",
          "name": "stderr",
          "text": [
            "[*********************100%***********************]  1 of 1 completed\n",
            "[*********************100%***********************]  1 of 1 completed\n",
            "[*********************100%***********************]  1 of 1 completed\n"
          ]
        },
        {
          "output_type": "stream",
          "name": "stdout",
          "text": [
            "Error processing ORRF: The truth value of a Series is ambiguous. Use a.empty, a.bool(), a.item(), a.any() or a.all().\n",
            "Error processing ORRF: The truth value of a Series is ambiguous. Use a.empty, a.bool(), a.item(), a.any() or a.all().\n",
            "Error processing MDBH: The truth value of a Series is ambiguous. Use a.empty, a.bool(), a.item(), a.any() or a.all().\n"
          ]
        },
        {
          "output_type": "stream",
          "name": "stderr",
          "text": [
            "[*********************100%***********************]  1 of 1 completed\n",
            "[*********************100%***********************]  1 of 1 completed\n"
          ]
        },
        {
          "output_type": "stream",
          "name": "stdout",
          "text": [
            "Error processing NAN: The truth value of a Series is ambiguous. Use a.empty, a.bool(), a.item(), a.any() or a.all().\n",
            "Error processing NWFL: The truth value of a Series is ambiguous. Use a.empty, a.bool(), a.item(), a.any() or a.all().\n"
          ]
        },
        {
          "output_type": "stream",
          "name": "stderr",
          "text": [
            "\r[*********************100%***********************]  1 of 1 completed\n"
          ]
        },
        {
          "output_type": "stream",
          "name": "stdout",
          "text": [
            "Error processing NWFL: The truth value of a Series is ambiguous. Use a.empty, a.bool(), a.item(), a.any() or a.all().\n"
          ]
        },
        {
          "output_type": "stream",
          "name": "stderr",
          "text": [
            "\r[*********************100%***********************]  1 of 1 completed\n",
            "ERROR:yfinance:\n",
            "1 Failed download:\n",
            "ERROR:yfinance:['PRTFT']: YFTzMissingError('$%ticker%: possibly delisted; no timezone found')\n",
            "[*********************100%***********************]  1 of 1 completed\n",
            "[*********************100%***********************]  1 of 1 completed\n"
          ]
        },
        {
          "output_type": "stream",
          "name": "stdout",
          "text": [
            "Error processing FRST: The truth value of a Series is ambiguous. Use a.empty, a.bool(), a.item(), a.any() or a.all().\n",
            "Error processing FRST: The truth value of a Series is ambiguous. Use a.empty, a.bool(), a.item(), a.any() or a.all().\n"
          ]
        },
        {
          "output_type": "stream",
          "name": "stderr",
          "text": [
            "\r[*********************100%***********************]  1 of 1 completed\n"
          ]
        },
        {
          "output_type": "stream",
          "name": "stdout",
          "text": [
            "Error processing RCG: The truth value of a Series is ambiguous. Use a.empty, a.bool(), a.item(), a.any() or a.all().\n"
          ]
        },
        {
          "output_type": "stream",
          "name": "stderr",
          "text": [
            "[*********************100%***********************]  1 of 1 completed\n",
            "[*********************100%***********************]  1 of 1 completed\n"
          ]
        },
        {
          "output_type": "stream",
          "name": "stdout",
          "text": [
            "Error processing FNB: The truth value of a Series is ambiguous. Use a.empty, a.bool(), a.item(), a.any() or a.all().\n",
            "Error processing TPL: The truth value of a Series is ambiguous. Use a.empty, a.bool(), a.item(), a.any() or a.all().\n"
          ]
        },
        {
          "output_type": "stream",
          "name": "stderr",
          "text": [
            "\r[*********************100%***********************]  1 of 1 completed\n"
          ]
        },
        {
          "output_type": "stream",
          "name": "stdout",
          "text": [
            "Error processing FNWD: The truth value of a Series is ambiguous. Use a.empty, a.bool(), a.item(), a.any() or a.all().\n"
          ]
        },
        {
          "output_type": "stream",
          "name": "stderr",
          "text": [
            "\r[*********************100%***********************]  1 of 1 completed\n"
          ]
        },
        {
          "output_type": "stream",
          "name": "stdout",
          "text": [
            "Error processing SHBI: The truth value of a Series is ambiguous. Use a.empty, a.bool(), a.item(), a.any() or a.all().\n"
          ]
        },
        {
          "output_type": "stream",
          "name": "stderr",
          "text": [
            "[*********************100%***********************]  1 of 1 completed\n",
            "[*********************100%***********************]  1 of 1 completed\n",
            "[*********************100%***********************]  1 of 1 completed\n",
            "[*********************100%***********************]  1 of 1 completed\n"
          ]
        },
        {
          "output_type": "stream",
          "name": "stdout",
          "text": [
            "Error processing OLN: The truth value of a Series is ambiguous. Use a.empty, a.bool(), a.item(), a.any() or a.all().\n",
            "Error processing FNWD: The truth value of a Series is ambiguous. Use a.empty, a.bool(), a.item(), a.any() or a.all().\n",
            "Error processing FNWD: The truth value of a Series is ambiguous. Use a.empty, a.bool(), a.item(), a.any() or a.all().\n",
            "Error processing FNWD: The truth value of a Series is ambiguous. Use a.empty, a.bool(), a.item(), a.any() or a.all().\n"
          ]
        },
        {
          "output_type": "stream",
          "name": "stderr",
          "text": [
            "[*********************100%***********************]  1 of 1 completed\n",
            "[*********************100%***********************]  1 of 1 completed\n"
          ]
        },
        {
          "output_type": "stream",
          "name": "stdout",
          "text": [
            "Error processing RRBI: The truth value of a Series is ambiguous. Use a.empty, a.bool(), a.item(), a.any() or a.all().\n",
            "Error processing QCRH: The truth value of a Series is ambiguous. Use a.empty, a.bool(), a.item(), a.any() or a.all().\n"
          ]
        },
        {
          "output_type": "stream",
          "name": "stderr",
          "text": [
            "[*********************100%***********************]  1 of 1 completed\n",
            "[*********************100%***********************]  1 of 1 completed\n"
          ]
        },
        {
          "output_type": "stream",
          "name": "stdout",
          "text": [
            "Error processing PWOD: The truth value of a Series is ambiguous. Use a.empty, a.bool(), a.item(), a.any() or a.all().\n",
            "Error processing CTTH: The truth value of a Series is ambiguous. Use a.empty, a.bool(), a.item(), a.any() or a.all().\n"
          ]
        },
        {
          "output_type": "stream",
          "name": "stderr",
          "text": [
            "[*********************100%***********************]  1 of 1 completed\n",
            "[*********************100%***********************]  1 of 1 completed\n"
          ]
        },
        {
          "output_type": "stream",
          "name": "stdout",
          "text": [
            "Error processing JBLU: The truth value of a Series is ambiguous. Use a.empty, a.bool(), a.item(), a.any() or a.all().\n",
            "Error processing USEG: The truth value of a Series is ambiguous. Use a.empty, a.bool(), a.item(), a.any() or a.all().\n"
          ]
        },
        {
          "output_type": "stream",
          "name": "stderr",
          "text": [
            "[*********************100%***********************]  1 of 1 completed\n",
            "[*********************100%***********************]  1 of 1 completed\n",
            "[*********************100%***********************]  1 of 1 completed\n"
          ]
        },
        {
          "output_type": "stream",
          "name": "stdout",
          "text": [
            "Error processing RKDA: The truth value of a Series is ambiguous. Use a.empty, a.bool(), a.item(), a.any() or a.all().\n",
            "Error processing RKDA: The truth value of a Series is ambiguous. Use a.empty, a.bool(), a.item(), a.any() or a.all().\n",
            "Error processing PBF: The truth value of a Series is ambiguous. Use a.empty, a.bool(), a.item(), a.any() or a.all().\n"
          ]
        },
        {
          "output_type": "stream",
          "name": "stderr",
          "text": [
            "[*********************100%***********************]  1 of 1 completed\n",
            "[*********************100%***********************]  1 of 1 completed\n"
          ]
        },
        {
          "output_type": "stream",
          "name": "stdout",
          "text": [
            "Error processing LCGMF: The truth value of a Series is ambiguous. Use a.empty, a.bool(), a.item(), a.any() or a.all().\n",
            "Error processing GMGI: The truth value of a Series is ambiguous. Use a.empty, a.bool(), a.item(), a.any() or a.all().\n"
          ]
        },
        {
          "output_type": "stream",
          "name": "stderr",
          "text": [
            "[*********************100%***********************]  1 of 1 completed\n",
            "[*********************100%***********************]  1 of 1 completed\n"
          ]
        },
        {
          "output_type": "stream",
          "name": "stdout",
          "text": [
            "Error processing LC: The truth value of a Series is ambiguous. Use a.empty, a.bool(), a.item(), a.any() or a.all().\n",
            "Error processing FBK: The truth value of a Series is ambiguous. Use a.empty, a.bool(), a.item(), a.any() or a.all().\n"
          ]
        },
        {
          "output_type": "stream",
          "name": "stderr",
          "text": [
            "[*********************100%***********************]  1 of 1 completed\n",
            "[*********************100%***********************]  1 of 1 completed\n"
          ]
        },
        {
          "output_type": "stream",
          "name": "stdout",
          "text": [
            "Error processing PNC: The truth value of a Series is ambiguous. Use a.empty, a.bool(), a.item(), a.any() or a.all().\n",
            "Error processing ZEOX: The truth value of a Series is ambiguous. Use a.empty, a.bool(), a.item(), a.any() or a.all().\n"
          ]
        },
        {
          "output_type": "stream",
          "name": "stderr",
          "text": [
            "[*********************100%***********************]  1 of 1 completed\n",
            "[*********************100%***********************]  1 of 1 completed\n"
          ]
        },
        {
          "output_type": "stream",
          "name": "stdout",
          "text": [
            "Error processing MBX: The truth value of a Series is ambiguous. Use a.empty, a.bool(), a.item(), a.any() or a.all().\n",
            "Error processing MBWM: The truth value of a Series is ambiguous. Use a.empty, a.bool(), a.item(), a.any() or a.all().\n"
          ]
        },
        {
          "output_type": "stream",
          "name": "stderr",
          "text": [
            "[*********************100%***********************]  1 of 1 completed\n",
            "[*********************100%***********************]  1 of 1 completed\n"
          ]
        },
        {
          "output_type": "stream",
          "name": "stdout",
          "text": [
            "Error processing AESI: The truth value of a Series is ambiguous. Use a.empty, a.bool(), a.item(), a.any() or a.all().\n",
            "Error processing ISBA: The truth value of a Series is ambiguous. Use a.empty, a.bool(), a.item(), a.any() or a.all().\n"
          ]
        },
        {
          "output_type": "stream",
          "name": "stderr",
          "text": [
            "[*********************100%***********************]  1 of 1 completed\n",
            "[*********************100%***********************]  1 of 1 completed\n",
            "[*********************100%***********************]  1 of 1 completed\n"
          ]
        },
        {
          "output_type": "stream",
          "name": "stdout",
          "text": [
            "Error processing ISBA: The truth value of a Series is ambiguous. Use a.empty, a.bool(), a.item(), a.any() or a.all().\n",
            "Error processing ISBA: The truth value of a Series is ambiguous. Use a.empty, a.bool(), a.item(), a.any() or a.all().\n",
            "Error processing ISBA: The truth value of a Series is ambiguous. Use a.empty, a.bool(), a.item(), a.any() or a.all().\n"
          ]
        },
        {
          "output_type": "stream",
          "name": "stderr",
          "text": [
            "[*********************100%***********************]  1 of 1 completed\n",
            "[*********************100%***********************]  1 of 1 completed\n"
          ]
        },
        {
          "output_type": "stream",
          "name": "stdout",
          "text": [
            "Error processing NXL: The truth value of a Series is ambiguous. Use a.empty, a.bool(), a.item(), a.any() or a.all().\n",
            "Error processing CBNA: The truth value of a Series is ambiguous. Use a.empty, a.bool(), a.item(), a.any() or a.all().\n"
          ]
        },
        {
          "output_type": "stream",
          "name": "stderr",
          "text": [
            "[*********************100%***********************]  1 of 1 completed\n",
            "[*********************100%***********************]  1 of 1 completed"
          ]
        },
        {
          "output_type": "stream",
          "name": "stdout",
          "text": [
            "Error processing BHRB: The truth value of a Series is ambiguous. Use a.empty, a.bool(), a.item(), a.any() or a.all().\n"
          ]
        },
        {
          "output_type": "stream",
          "name": "stderr",
          "text": [
            "\n",
            "\r[*********************100%***********************]  1 of 1 completed\n"
          ]
        },
        {
          "output_type": "stream",
          "name": "stdout",
          "text": [
            "Error processing FUNC: The truth value of a Series is ambiguous. Use a.empty, a.bool(), a.item(), a.any() or a.all().\n",
            "Error processing FUNC: The truth value of a Series is ambiguous. Use a.empty, a.bool(), a.item(), a.any() or a.all().\n"
          ]
        },
        {
          "output_type": "stream",
          "name": "stderr",
          "text": [
            "[*********************100%***********************]  1 of 1 completed\n",
            "[*********************100%***********************]  1 of 1 completed\n",
            "[*********************100%***********************]  1 of 1 completed\n"
          ]
        },
        {
          "output_type": "stream",
          "name": "stdout",
          "text": [
            "Error processing RGCO: The truth value of a Series is ambiguous. Use a.empty, a.bool(), a.item(), a.any() or a.all().\n",
            "Error processing RGCO: The truth value of a Series is ambiguous. Use a.empty, a.bool(), a.item(), a.any() or a.all().\n",
            "Error processing FUNC: The truth value of a Series is ambiguous. Use a.empty, a.bool(), a.item(), a.any() or a.all().\n"
          ]
        },
        {
          "output_type": "stream",
          "name": "stderr",
          "text": [
            "\r[*********************100%***********************]  1 of 1 completed\n"
          ]
        },
        {
          "output_type": "stream",
          "name": "stdout",
          "text": [
            "Error processing MPB: The truth value of a Series is ambiguous. Use a.empty, a.bool(), a.item(), a.any() or a.all().\n"
          ]
        },
        {
          "output_type": "stream",
          "name": "stderr",
          "text": [
            "[*********************100%***********************]  1 of 1 completed\n",
            "[*********************100%***********************]  1 of 1 completed\n"
          ]
        },
        {
          "output_type": "stream",
          "name": "stdout",
          "text": [
            "Error processing CAT: The truth value of a Series is ambiguous. Use a.empty, a.bool(), a.item(), a.any() or a.all().\n",
            "Error processing RCG: The truth value of a Series is ambiguous. Use a.empty, a.bool(), a.item(), a.any() or a.all().\n"
          ]
        },
        {
          "output_type": "stream",
          "name": "stderr",
          "text": [
            "[*********************100%***********************]  1 of 1 completed\n",
            "[*********************100%***********************]  1 of 1 completed\n"
          ]
        },
        {
          "output_type": "stream",
          "name": "stdout",
          "text": [
            "Error processing TPL: The truth value of a Series is ambiguous. Use a.empty, a.bool(), a.item(), a.any() or a.all().\n",
            "Error processing MAV: The truth value of a Series is ambiguous. Use a.empty, a.bool(), a.item(), a.any() or a.all().\n"
          ]
        },
        {
          "output_type": "stream",
          "name": "stderr",
          "text": [
            "[*********************100%***********************]  1 of 1 completed\n",
            "[*********************100%***********************]  1 of 1 completed\n",
            "[*********************100%***********************]  1 of 1 completed\n"
          ]
        },
        {
          "output_type": "stream",
          "name": "stdout",
          "text": [
            "Error processing FDBC: The truth value of a Series is ambiguous. Use a.empty, a.bool(), a.item(), a.any() or a.all().\n",
            "Error processing TKO: The truth value of a Series is ambiguous. Use a.empty, a.bool(), a.item(), a.any() or a.all().\n",
            "Error processing TKO: The truth value of a Series is ambiguous. Use a.empty, a.bool(), a.item(), a.any() or a.all().\n"
          ]
        },
        {
          "output_type": "stream",
          "name": "stderr",
          "text": [
            "[*********************100%***********************]  1 of 1 completed\n",
            "[*********************100%***********************]  1 of 1 completed\n"
          ]
        },
        {
          "output_type": "stream",
          "name": "stdout",
          "text": [
            "Error processing NYC: The truth value of a Series is ambiguous. Use a.empty, a.bool(), a.item(), a.any() or a.all().\n",
            "Error processing TKO: The truth value of a Series is ambiguous. Use a.empty, a.bool(), a.item(), a.any() or a.all().\n"
          ]
        },
        {
          "output_type": "stream",
          "name": "stderr",
          "text": [
            "\r[*********************100%***********************]  1 of 1 completed\n",
            "ERROR:yfinance:\n",
            "1 Failed download:\n",
            "ERROR:yfinance:['DMAA']: YFTzMissingError('$%ticker%: possibly delisted; no timezone found')\n",
            "[*********************100%***********************]  1 of 1 completed\n",
            "ERROR:yfinance:\n",
            "1 Failed download:\n",
            "ERROR:yfinance:['DMAA']: YFTzMissingError('$%ticker%: possibly delisted; no timezone found')\n",
            "[*********************100%***********************]  1 of 1 completed\n",
            "[*********************100%***********************]  1 of 1 completed\n"
          ]
        },
        {
          "output_type": "stream",
          "name": "stdout",
          "text": [
            "Error processing MBWM: The truth value of a Series is ambiguous. Use a.empty, a.bool(), a.item(), a.any() or a.all().\n",
            "Error processing DMLP: The truth value of a Series is ambiguous. Use a.empty, a.bool(), a.item(), a.any() or a.all().\n"
          ]
        },
        {
          "output_type": "stream",
          "name": "stderr",
          "text": [
            "[*********************100%***********************]  1 of 1 completed\n",
            "[*********************100%***********************]  1 of 1 completed\n",
            "[*********************100%***********************]  1 of 1 completed\n"
          ]
        },
        {
          "output_type": "stream",
          "name": "stdout",
          "text": [
            "Error processing PETS: The truth value of a Series is ambiguous. Use a.empty, a.bool(), a.item(), a.any() or a.all().\n",
            "Error processing GMGI: The truth value of a Series is ambiguous. Use a.empty, a.bool(), a.item(), a.any() or a.all().\n",
            "Error processing NXL: The truth value of a Series is ambiguous. Use a.empty, a.bool(), a.item(), a.any() or a.all().\n"
          ]
        },
        {
          "output_type": "stream",
          "name": "stderr",
          "text": [
            "[*********************100%***********************]  1 of 1 completed\n",
            "[*********************100%***********************]  1 of 1 completed"
          ]
        },
        {
          "output_type": "stream",
          "name": "stdout",
          "text": [
            "Error processing SMBK: The truth value of a Series is ambiguous. Use a.empty, a.bool(), a.item(), a.any() or a.all().\n",
            "Error processing SOPA: The truth value of a Series is ambiguous. Use a.empty, a.bool(), a.item(), a.any() or a.all().\n"
          ]
        },
        {
          "output_type": "stream",
          "name": "stderr",
          "text": [
            "\n",
            "[*********************100%***********************]  1 of 1 completed\n",
            "[*********************100%***********************]  1 of 1 completed\n"
          ]
        },
        {
          "output_type": "stream",
          "name": "stdout",
          "text": [
            "Error processing FLWS: The truth value of a Series is ambiguous. Use a.empty, a.bool(), a.item(), a.any() or a.all().\n",
            "Error processing OCX: The truth value of a Series is ambiguous. Use a.empty, a.bool(), a.item(), a.any() or a.all().\n"
          ]
        },
        {
          "output_type": "stream",
          "name": "stderr",
          "text": [
            "[*********************100%***********************]  1 of 1 completed\n",
            "[*********************100%***********************]  1 of 1 completed\n",
            "[*********************100%***********************]  1 of 1 completed\n"
          ]
        },
        {
          "output_type": "stream",
          "name": "stdout",
          "text": [
            "Error processing ZNTL: The truth value of a Series is ambiguous. Use a.empty, a.bool(), a.item(), a.any() or a.all().\n",
            "Error processing ZNTL: The truth value of a Series is ambiguous. Use a.empty, a.bool(), a.item(), a.any() or a.all().\n",
            "Error processing TTSH: The truth value of a Series is ambiguous. Use a.empty, a.bool(), a.item(), a.any() or a.all().\n"
          ]
        },
        {
          "output_type": "stream",
          "name": "stderr",
          "text": [
            "[*********************100%***********************]  1 of 1 completed\n",
            "[*********************100%***********************]  1 of 1 completed\n"
          ]
        },
        {
          "output_type": "stream",
          "name": "stdout",
          "text": [
            "Error processing ZNTL: The truth value of a Series is ambiguous. Use a.empty, a.bool(), a.item(), a.any() or a.all().\n",
            "Error processing IBKR: The truth value of a Series is ambiguous. Use a.empty, a.bool(), a.item(), a.any() or a.all().\n"
          ]
        },
        {
          "output_type": "stream",
          "name": "stderr",
          "text": [
            "[*********************100%***********************]  1 of 1 completed\n",
            "[*********************100%***********************]  1 of 1 completed"
          ]
        },
        {
          "output_type": "stream",
          "name": "stdout",
          "text": [
            "Error processing DCOM: The truth value of a Series is ambiguous. Use a.empty, a.bool(), a.item(), a.any() or a.all().\n"
          ]
        },
        {
          "output_type": "stream",
          "name": "stderr",
          "text": [
            "\n",
            "\r[*********************100%***********************]  1 of 1 completed\n"
          ]
        },
        {
          "output_type": "stream",
          "name": "stdout",
          "text": [
            "Error processing CGTX: The truth value of a Series is ambiguous. Use a.empty, a.bool(), a.item(), a.any() or a.all().\n",
            "Error processing TCBI: The truth value of a Series is ambiguous. Use a.empty, a.bool(), a.item(), a.any() or a.all().\n"
          ]
        },
        {
          "output_type": "stream",
          "name": "stderr",
          "text": [
            "[*********************100%***********************]  1 of 1 completed\n",
            "[*********************100%***********************]  1 of 1 completed\n",
            "[*********************100%***********************]  1 of 1 completed"
          ]
        },
        {
          "output_type": "stream",
          "name": "stdout",
          "text": [
            "Error processing AZTA: The truth value of a Series is ambiguous. Use a.empty, a.bool(), a.item(), a.any() or a.all().\n",
            "Error processing AREN: The truth value of a Series is ambiguous. Use a.empty, a.bool(), a.item(), a.any() or a.all().\n"
          ]
        },
        {
          "output_type": "stream",
          "name": "stderr",
          "text": [
            "\n",
            "[*********************100%***********************]  1 of 1 completed"
          ]
        },
        {
          "output_type": "stream",
          "name": "stdout",
          "text": [
            "Error processing FRAF: The truth value of a Series is ambiguous. Use a.empty, a.bool(), a.item(), a.any() or a.all().\n"
          ]
        },
        {
          "output_type": "stream",
          "name": "stderr",
          "text": [
            "\n",
            "\r[*********************100%***********************]  1 of 1 completed\n"
          ]
        },
        {
          "output_type": "stream",
          "name": "stdout",
          "text": [
            "Error processing BUSE: The truth value of a Series is ambiguous. Use a.empty, a.bool(), a.item(), a.any() or a.all().\n",
            "Error processing BUSE: The truth value of a Series is ambiguous. Use a.empty, a.bool(), a.item(), a.any() or a.all().\n"
          ]
        },
        {
          "output_type": "stream",
          "name": "stderr",
          "text": [
            "\r[*********************100%***********************]  1 of 1 completed\n"
          ]
        },
        {
          "output_type": "stream",
          "name": "stdout",
          "text": [
            "Error processing ASRV: The truth value of a Series is ambiguous. Use a.empty, a.bool(), a.item(), a.any() or a.all().\n"
          ]
        },
        {
          "output_type": "stream",
          "name": "stderr",
          "text": [
            "\r[*********************100%***********************]  1 of 1 completed\n"
          ]
        },
        {
          "output_type": "stream",
          "name": "stdout",
          "text": [
            "Error processing NWBI: The truth value of a Series is ambiguous. Use a.empty, a.bool(), a.item(), a.any() or a.all().\n"
          ]
        },
        {
          "output_type": "stream",
          "name": "stderr",
          "text": [
            "[*********************100%***********************]  1 of 1 completed\n",
            "[*********************100%***********************]  1 of 1 completed\n"
          ]
        },
        {
          "output_type": "stream",
          "name": "stdout",
          "text": [
            "Error processing CZFS: The truth value of a Series is ambiguous. Use a.empty, a.bool(), a.item(), a.any() or a.all().\n",
            "Error processing IOR: The truth value of a Series is ambiguous. Use a.empty, a.bool(), a.item(), a.any() or a.all().\n"
          ]
        },
        {
          "output_type": "stream",
          "name": "stderr",
          "text": [
            "[*********************100%***********************]  1 of 1 completed\n",
            "[*********************100%***********************]  1 of 1 completed\n"
          ]
        },
        {
          "output_type": "stream",
          "name": "stdout",
          "text": [
            "Error processing FRST: The truth value of a Series is ambiguous. Use a.empty, a.bool(), a.item(), a.any() or a.all().\n",
            "Error processing RCG: The truth value of a Series is ambiguous. Use a.empty, a.bool(), a.item(), a.any() or a.all().\n"
          ]
        },
        {
          "output_type": "stream",
          "name": "stderr",
          "text": [
            "[*********************100%***********************]  1 of 1 completed\n",
            "[*********************100%***********************]  1 of 1 completed\n"
          ]
        },
        {
          "output_type": "stream",
          "name": "stdout",
          "text": [
            "Error processing MBCN: The truth value of a Series is ambiguous. Use a.empty, a.bool(), a.item(), a.any() or a.all().\n",
            "Error processing TPL: The truth value of a Series is ambiguous. Use a.empty, a.bool(), a.item(), a.any() or a.all().\n"
          ]
        },
        {
          "output_type": "stream",
          "name": "stderr",
          "text": [
            "\r[*********************100%***********************]  1 of 1 completed\n"
          ]
        },
        {
          "output_type": "stream",
          "name": "stdout",
          "text": [
            "Error processing RVP: The truth value of a Series is ambiguous. Use a.empty, a.bool(), a.item(), a.any() or a.all().\n"
          ]
        },
        {
          "output_type": "stream",
          "name": "stderr",
          "text": [
            "[*********************100%***********************]  1 of 1 completed\n",
            "[*********************100%***********************]  1 of 1 completed\n"
          ]
        },
        {
          "output_type": "stream",
          "name": "stdout",
          "text": [
            "Error processing UVSP: The truth value of a Series is ambiguous. Use a.empty, a.bool(), a.item(), a.any() or a.all().\n",
            "Error processing FNWD: The truth value of a Series is ambiguous. Use a.empty, a.bool(), a.item(), a.any() or a.all().\n"
          ]
        },
        {
          "output_type": "stream",
          "name": "stderr",
          "text": [
            "[*********************100%***********************]  1 of 1 completed\n",
            "[*********************100%***********************]  1 of 1 completed\n"
          ]
        },
        {
          "output_type": "stream",
          "name": "stdout",
          "text": [
            "Error processing MODV: The truth value of a Series is ambiguous. Use a.empty, a.bool(), a.item(), a.any() or a.all().\n",
            "Error processing IMNM: The truth value of a Series is ambiguous. Use a.empty, a.bool(), a.item(), a.any() or a.all().\n"
          ]
        },
        {
          "output_type": "stream",
          "name": "stderr",
          "text": [
            "[*********************100%***********************]  1 of 1 completed\n",
            "[*********************100%***********************]  1 of 1 completed\n"
          ]
        },
        {
          "output_type": "stream",
          "name": "stdout",
          "text": [
            "Error processing FGMC: The truth value of a Series is ambiguous. Use a.empty, a.bool(), a.item(), a.any() or a.all().\n",
            "Error processing BBNX: The truth value of a Series is ambiguous. Use a.empty, a.bool(), a.item(), a.any() or a.all().\n"
          ]
        },
        {
          "output_type": "stream",
          "name": "stderr",
          "text": [
            "[*********************100%***********************]  1 of 1 completed\n",
            "[*********************100%***********************]  1 of 1 completed\n"
          ]
        },
        {
          "output_type": "stream",
          "name": "stdout",
          "text": [
            "Error processing KALV: The truth value of a Series is ambiguous. Use a.empty, a.bool(), a.item(), a.any() or a.all().\n",
            "Error processing TERN: The truth value of a Series is ambiguous. Use a.empty, a.bool(), a.item(), a.any() or a.all().\n"
          ]
        },
        {
          "output_type": "stream",
          "name": "stderr",
          "text": [
            "[*********************100%***********************]  1 of 1 completed\n",
            "[*********************100%***********************]  1 of 1 completed\n"
          ]
        },
        {
          "output_type": "stream",
          "name": "stdout",
          "text": [
            "Error processing SIRI: The truth value of a Series is ambiguous. Use a.empty, a.bool(), a.item(), a.any() or a.all().\n",
            "Error processing TERN: The truth value of a Series is ambiguous. Use a.empty, a.bool(), a.item(), a.any() or a.all().\n"
          ]
        },
        {
          "output_type": "stream",
          "name": "stderr",
          "text": [
            "[*********************100%***********************]  1 of 1 completed\n",
            "[*********************100%***********************]  1 of 1 completed\n"
          ]
        },
        {
          "output_type": "stream",
          "name": "stdout",
          "text": [
            "Error processing CTOS: The truth value of a Series is ambiguous. Use a.empty, a.bool(), a.item(), a.any() or a.all().\n",
            "Error processing MTSR: The truth value of a Series is ambiguous. Use a.empty, a.bool(), a.item(), a.any() or a.all().\n"
          ]
        },
        {
          "output_type": "stream",
          "name": "stderr",
          "text": [
            "\r[*********************100%***********************]  1 of 1 completed\n"
          ]
        },
        {
          "output_type": "stream",
          "name": "stdout",
          "text": [
            "Error processing CTOS: The truth value of a Series is ambiguous. Use a.empty, a.bool(), a.item(), a.any() or a.all().\n"
          ]
        },
        {
          "output_type": "stream",
          "name": "stderr",
          "text": [
            "[*********************100%***********************]  1 of 1 completed\n",
            "[*********************100%***********************]  1 of 1 completed\n",
            "[*********************100%***********************]  1 of 1 completed"
          ]
        },
        {
          "output_type": "stream",
          "name": "stdout",
          "text": [
            "Error processing NSC: The truth value of a Series is ambiguous. Use a.empty, a.bool(), a.item(), a.any() or a.all().\n",
            "Error processing GIFT: The truth value of a Series is ambiguous. Use a.empty, a.bool(), a.item(), a.any() or a.all().\n"
          ]
        },
        {
          "output_type": "stream",
          "name": "stderr",
          "text": [
            "\n",
            "[*********************100%***********************]  1 of 1 completed\n",
            "[*********************100%***********************]  1 of 1 completed\n"
          ]
        },
        {
          "output_type": "stream",
          "name": "stdout",
          "text": [
            "Error processing MTSR: The truth value of a Series is ambiguous. Use a.empty, a.bool(), a.item(), a.any() or a.all().\n",
            "Error processing MTSR: The truth value of a Series is ambiguous. Use a.empty, a.bool(), a.item(), a.any() or a.all().\n",
            "Error processing INR: The truth value of a Series is ambiguous. Use a.empty, a.bool(), a.item(), a.any() or a.all().\n"
          ]
        },
        {
          "output_type": "stream",
          "name": "stderr",
          "text": [
            "[*********************100%***********************]  1 of 1 completed\n",
            "[*********************100%***********************]  1 of 1 completed\n",
            "[*********************100%***********************]  1 of 1 completed\n"
          ]
        },
        {
          "output_type": "stream",
          "name": "stdout",
          "text": [
            "Error processing INR: The truth value of a Series is ambiguous. Use a.empty, a.bool(), a.item(), a.any() or a.all().\n",
            "Error processing INR: The truth value of a Series is ambiguous. Use a.empty, a.bool(), a.item(), a.any() or a.all().\n",
            "Error processing INR: The truth value of a Series is ambiguous. Use a.empty, a.bool(), a.item(), a.any() or a.all().\n"
          ]
        },
        {
          "output_type": "stream",
          "name": "stderr",
          "text": [
            "\r[*********************100%***********************]  1 of 1 completed\n",
            "ERROR:yfinance:\n",
            "1 Failed download:\n",
            "ERROR:yfinance:['BPSK']: YFTzMissingError('$%ticker%: possibly delisted; no timezone found')\n",
            "[*********************100%***********************]  1 of 1 completed\n",
            "[*********************100%***********************]  1 of 1 completed\n",
            "[*********************100%***********************]  1 of 1 completed\n"
          ]
        },
        {
          "output_type": "stream",
          "name": "stdout",
          "text": [
            "Error processing ETNB: The truth value of a Series is ambiguous. Use a.empty, a.bool(), a.item(), a.any() or a.all().\n",
            "Error processing MDBH: The truth value of a Series is ambiguous. Use a.empty, a.bool(), a.item(), a.any() or a.all().\n",
            "Error processing BBNX: The truth value of a Series is ambiguous. Use a.empty, a.bool(), a.item(), a.any() or a.all().\n"
          ]
        },
        {
          "output_type": "stream",
          "name": "stderr",
          "text": [
            "\r[*********************100%***********************]  1 of 1 completed\n"
          ]
        },
        {
          "output_type": "stream",
          "name": "stdout",
          "text": [
            "Error processing TRNS: The truth value of a Series is ambiguous. Use a.empty, a.bool(), a.item(), a.any() or a.all().\n"
          ]
        },
        {
          "output_type": "stream",
          "name": "stderr",
          "text": [
            "[*********************100%***********************]  1 of 1 completed\n",
            "[*********************100%***********************]  1 of 1 completed\n"
          ]
        },
        {
          "output_type": "stream",
          "name": "stdout",
          "text": [
            "Error processing ASH: The truth value of a Series is ambiguous. Use a.empty, a.bool(), a.item(), a.any() or a.all().\n",
            "Error processing ASH: The truth value of a Series is ambiguous. Use a.empty, a.bool(), a.item(), a.any() or a.all().\n"
          ]
        },
        {
          "output_type": "stream",
          "name": "stderr",
          "text": [
            "[*********************100%***********************]  1 of 1 completed\n",
            "[*********************100%***********************]  1 of 1 completed\n"
          ]
        },
        {
          "output_type": "stream",
          "name": "stdout",
          "text": [
            "Error processing ATLO: The truth value of a Series is ambiguous. Use a.empty, a.bool(), a.item(), a.any() or a.all().\n",
            "Error processing PBF: The truth value of a Series is ambiguous. Use a.empty, a.bool(), a.item(), a.any() or a.all().\n"
          ]
        },
        {
          "output_type": "stream",
          "name": "stderr",
          "text": [
            "\r[*********************100%***********************]  1 of 1 completed\n"
          ]
        },
        {
          "output_type": "stream",
          "name": "stdout",
          "text": [
            "Error processing AROW: The truth value of a Series is ambiguous. Use a.empty, a.bool(), a.item(), a.any() or a.all().\n"
          ]
        },
        {
          "output_type": "stream",
          "name": "stderr",
          "text": [
            "[*********************100%***********************]  1 of 1 completed\n",
            "[*********************100%***********************]  1 of 1 completed\n"
          ]
        },
        {
          "output_type": "stream",
          "name": "stdout",
          "text": [
            "Error processing ENX: The truth value of a Series is ambiguous. Use a.empty, a.bool(), a.item(), a.any() or a.all().\n",
            "Error processing MIO: The truth value of a Series is ambiguous. Use a.empty, a.bool(), a.item(), a.any() or a.all().\n"
          ]
        },
        {
          "output_type": "stream",
          "name": "stderr",
          "text": [
            "[*********************100%***********************]  1 of 1 completed\n",
            "[*********************100%***********************]  1 of 1 completed\n"
          ]
        },
        {
          "output_type": "stream",
          "name": "stdout",
          "text": [
            "Error processing MAV: The truth value of a Series is ambiguous. Use a.empty, a.bool(), a.item(), a.any() or a.all().\n",
            "Error processing FDBC: The truth value of a Series is ambiguous. Use a.empty, a.bool(), a.item(), a.any() or a.all().\n"
          ]
        },
        {
          "output_type": "stream",
          "name": "stderr",
          "text": [
            "[*********************100%***********************]  1 of 1 completed\n",
            "[*********************100%***********************]  1 of 1 completed\n"
          ]
        },
        {
          "output_type": "stream",
          "name": "stdout",
          "text": [
            "Error processing NWFL: The truth value of a Series is ambiguous. Use a.empty, a.bool(), a.item(), a.any() or a.all().\n",
            "Error processing CFFN: The truth value of a Series is ambiguous. Use a.empty, a.bool(), a.item(), a.any() or a.all().\n"
          ]
        },
        {
          "output_type": "stream",
          "name": "stderr",
          "text": [
            "[*********************100%***********************]  1 of 1 completed\n",
            "[*********************100%***********************]  1 of 1 completed\n"
          ]
        },
        {
          "output_type": "stream",
          "name": "stdout",
          "text": [
            "Error processing RCG: The truth value of a Series is ambiguous. Use a.empty, a.bool(), a.item(), a.any() or a.all().\n",
            "Error processing TPL: The truth value of a Series is ambiguous. Use a.empty, a.bool(), a.item(), a.any() or a.all().\n"
          ]
        },
        {
          "output_type": "stream",
          "name": "stderr",
          "text": [
            "[*********************100%***********************]  1 of 1 completed\n",
            "[*********************100%***********************]  1 of 1 completed\n"
          ]
        },
        {
          "output_type": "stream",
          "name": "stdout",
          "text": [
            "Error processing GCBC: The truth value of a Series is ambiguous. Use a.empty, a.bool(), a.item(), a.any() or a.all().\n",
            "Error processing USEG: The truth value of a Series is ambiguous. Use a.empty, a.bool(), a.item(), a.any() or a.all().\n"
          ]
        },
        {
          "output_type": "stream",
          "name": "stderr",
          "text": [
            "[*********************100%***********************]  1 of 1 completed\n",
            "[*********************100%***********************]  1 of 1 completed\n"
          ]
        },
        {
          "output_type": "stream",
          "name": "stdout",
          "text": [
            "Error processing CRK: The truth value of a Series is ambiguous. Use a.empty, a.bool(), a.item(), a.any() or a.all().\n",
            "Error processing CDXS: The truth value of a Series is ambiguous. Use a.empty, a.bool(), a.item(), a.any() or a.all().\n"
          ]
        },
        {
          "output_type": "stream",
          "name": "stderr",
          "text": [
            "[*********************100%***********************]  1 of 1 completed\n",
            "[*********************100%***********************]  1 of 1 completed\n"
          ]
        },
        {
          "output_type": "stream",
          "name": "stdout",
          "text": [
            "Error processing KDP: The truth value of a Series is ambiguous. Use a.empty, a.bool(), a.item(), a.any() or a.all().\n",
            "Error processing VGAS: The truth value of a Series is ambiguous. Use a.empty, a.bool(), a.item(), a.any() or a.all().\n"
          ]
        },
        {
          "output_type": "stream",
          "name": "stderr",
          "text": [
            "\r[*********************100%***********************]  1 of 1 completed\n"
          ]
        },
        {
          "output_type": "stream",
          "name": "stdout",
          "text": [
            "Error processing ETST: The truth value of a Series is ambiguous. Use a.empty, a.bool(), a.item(), a.any() or a.all().\n"
          ]
        },
        {
          "output_type": "stream",
          "name": "stderr",
          "text": [
            "\r[*********************100%***********************]  1 of 1 completed\n",
            "ERROR:yfinance:\n",
            "1 Failed download:\n",
            "ERROR:yfinance:['SVCC']: YFTzMissingError('$%ticker%: possibly delisted; no timezone found')\n",
            "[*********************100%***********************]  1 of 1 completed\n",
            "ERROR:yfinance:\n",
            "1 Failed download:\n",
            "ERROR:yfinance:['SVCC']: YFTzMissingError('$%ticker%: possibly delisted; no timezone found')\n",
            "[*********************100%***********************]  1 of 1 completed\n",
            "ERROR:yfinance:\n",
            "1 Failed download:\n",
            "ERROR:yfinance:['SVCC']: YFTzMissingError('$%ticker%: possibly delisted; no timezone found')\n",
            "[*********************100%***********************]  1 of 1 completed\n",
            "[*********************100%***********************]  1 of 1 completed\n"
          ]
        },
        {
          "output_type": "stream",
          "name": "stdout",
          "text": [
            "Error processing WULF: The truth value of a Series is ambiguous. Use a.empty, a.bool(), a.item(), a.any() or a.all().\n",
            "Error processing AUBN: The truth value of a Series is ambiguous. Use a.empty, a.bool(), a.item(), a.any() or a.all().\n"
          ]
        },
        {
          "output_type": "stream",
          "name": "stderr",
          "text": [
            "[*********************100%***********************]  1 of 1 completed\n",
            "[*********************100%***********************]  1 of 1 completed\n"
          ]
        },
        {
          "output_type": "stream",
          "name": "stdout",
          "text": [
            "Error processing TLSI: The truth value of a Series is ambiguous. Use a.empty, a.bool(), a.item(), a.any() or a.all().\n",
            "Error processing OTLC: The truth value of a Series is ambiguous. Use a.empty, a.bool(), a.item(), a.any() or a.all().\n"
          ]
        },
        {
          "output_type": "stream",
          "name": "stderr",
          "text": [
            "[*********************100%***********************]  1 of 1 completed\n",
            "[*********************100%***********************]  1 of 1 completed\n"
          ]
        },
        {
          "output_type": "stream",
          "name": "stdout",
          "text": [
            "Error processing PCSA: The truth value of a Series is ambiguous. Use a.empty, a.bool(), a.item(), a.any() or a.all().\n",
            "Error processing OCX: The truth value of a Series is ambiguous. Use a.empty, a.bool(), a.item(), a.any() or a.all().\n"
          ]
        },
        {
          "output_type": "stream",
          "name": "stderr",
          "text": [
            "[*********************100%***********************]  1 of 1 completed\n",
            "[*********************100%***********************]  1 of 1 completed\n"
          ]
        },
        {
          "output_type": "stream",
          "name": "stdout",
          "text": [
            "Error processing RGLS: The truth value of a Series is ambiguous. Use a.empty, a.bool(), a.item(), a.any() or a.all().\n",
            "Error processing RGLS: The truth value of a Series is ambiguous. Use a.empty, a.bool(), a.item(), a.any() or a.all().\n"
          ]
        },
        {
          "output_type": "stream",
          "name": "stderr",
          "text": [
            "[*********************100%***********************]  1 of 1 completed\n",
            "[*********************100%***********************]  1 of 1 completed\n"
          ]
        },
        {
          "output_type": "stream",
          "name": "stdout",
          "text": [
            "Error processing TBTC: The truth value of a Series is ambiguous. Use a.empty, a.bool(), a.item(), a.any() or a.all().\n",
            "Error processing KFS: The truth value of a Series is ambiguous. Use a.empty, a.bool(), a.item(), a.any() or a.all().\n"
          ]
        },
        {
          "output_type": "stream",
          "name": "stderr",
          "text": [
            "[*********************100%***********************]  1 of 1 completed\n",
            "[*********************100%***********************]  1 of 1 completed\n"
          ]
        },
        {
          "output_type": "stream",
          "name": "stdout",
          "text": [
            "Error processing KFS: The truth value of a Series is ambiguous. Use a.empty, a.bool(), a.item(), a.any() or a.all().\n",
            "Error processing BATRA: The truth value of a Series is ambiguous. Use a.empty, a.bool(), a.item(), a.any() or a.all().\n"
          ]
        },
        {
          "output_type": "stream",
          "name": "stderr",
          "text": [
            "[*********************100%***********************]  1 of 1 completed\n",
            "[*********************100%***********************]  1 of 1 completed\n"
          ]
        },
        {
          "output_type": "stream",
          "name": "stdout",
          "text": [
            "Error processing NWFL: The truth value of a Series is ambiguous. Use a.empty, a.bool(), a.item(), a.any() or a.all().\n",
            "Error processing OVLY: The truth value of a Series is ambiguous. Use a.empty, a.bool(), a.item(), a.any() or a.all().\n"
          ]
        },
        {
          "output_type": "stream",
          "name": "stderr",
          "text": [
            "[*********************100%***********************]  1 of 1 completed\n",
            "[*********************100%***********************]  1 of 1 completed\n"
          ]
        },
        {
          "output_type": "stream",
          "name": "stdout",
          "text": [
            "Error processing BHRB: The truth value of a Series is ambiguous. Use a.empty, a.bool(), a.item(), a.any() or a.all().\n",
            "Error processing NWBI: The truth value of a Series is ambiguous. Use a.empty, a.bool(), a.item(), a.any() or a.all().\n"
          ]
        },
        {
          "output_type": "stream",
          "name": "stderr",
          "text": [
            "[*********************100%***********************]  1 of 1 completed\n",
            "[*********************100%***********************]  1 of 1 completed\n"
          ]
        },
        {
          "output_type": "stream",
          "name": "stdout",
          "text": [
            "Error processing NRIM: The truth value of a Series is ambiguous. Use a.empty, a.bool(), a.item(), a.any() or a.all().\n",
            "Error processing PIIVX: The truth value of a Series is ambiguous. Use a.empty, a.bool(), a.item(), a.any() or a.all().\n"
          ]
        },
        {
          "output_type": "stream",
          "name": "stderr",
          "text": [
            "[*********************100%***********************]  1 of 1 completed\n",
            "[*********************100%***********************]  1 of 1 completed\n"
          ]
        },
        {
          "output_type": "stream",
          "name": "stdout",
          "text": [
            "Error processing TRST: The truth value of a Series is ambiguous. Use a.empty, a.bool(), a.item(), a.any() or a.all().\n",
            "Error processing FRD: The truth value of a Series is ambiguous. Use a.empty, a.bool(), a.item(), a.any() or a.all().\n"
          ]
        },
        {
          "output_type": "stream",
          "name": "stderr",
          "text": [
            "[*********************100%***********************]  1 of 1 completed\n",
            "[*********************100%***********************]  1 of 1 completed\n"
          ]
        },
        {
          "output_type": "stream",
          "name": "stdout",
          "text": [
            "Error processing CSQ: The truth value of a Series is ambiguous. Use a.empty, a.bool(), a.item(), a.any() or a.all().\n",
            "Error processing TPL: The truth value of a Series is ambiguous. Use a.empty, a.bool(), a.item(), a.any() or a.all().\n"
          ]
        },
        {
          "output_type": "stream",
          "name": "stderr",
          "text": [
            "\r[*********************100%***********************]  1 of 1 completed\n"
          ]
        },
        {
          "output_type": "stream",
          "name": "stdout",
          "text": [
            "Error processing RCG: The truth value of a Series is ambiguous. Use a.empty, a.bool(), a.item(), a.any() or a.all().\n"
          ]
        },
        {
          "output_type": "stream",
          "name": "stderr",
          "text": [
            "\r[*********************100%***********************]  1 of 1 completed\n",
            "ERROR:yfinance:\n",
            "1 Failed download:\n",
            "ERROR:yfinance:['PRTFT']: YFTzMissingError('$%ticker%: possibly delisted; no timezone found')\n",
            "[*********************100%***********************]  1 of 1 completed\n",
            "[*********************100%***********************]  1 of 1 completed\n"
          ]
        },
        {
          "output_type": "stream",
          "name": "stdout",
          "text": [
            "Error processing COSM: The truth value of a Series is ambiguous. Use a.empty, a.bool(), a.item(), a.any() or a.all().\n",
            "Error processing FFIE: The truth value of a Series is ambiguous. Use a.empty, a.bool(), a.item(), a.any() or a.all().\n"
          ]
        },
        {
          "output_type": "stream",
          "name": "stderr",
          "text": [
            "[*********************100%***********************]  1 of 1 completed\n",
            "[*********************100%***********************]  1 of 1 completed\n",
            "[*********************100%***********************]  1 of 1 completed"
          ]
        },
        {
          "output_type": "stream",
          "name": "stdout",
          "text": [
            "Error processing NYC: The truth value of a Series is ambiguous. Use a.empty, a.bool(), a.item(), a.any() or a.all().\n",
            "Error processing TKO: The truth value of a Series is ambiguous. Use a.empty, a.bool(), a.item(), a.any() or a.all().\n",
            "Error processing TKO: The truth value of a Series is ambiguous. Use a.empty, a.bool(), a.item(), a.any() or a.all().\n"
          ]
        },
        {
          "output_type": "stream",
          "name": "stderr",
          "text": [
            "\n",
            "[*********************100%***********************]  1 of 1 completed\n",
            "[*********************100%***********************]  1 of 1 completed\n"
          ]
        },
        {
          "output_type": "stream",
          "name": "stdout",
          "text": [
            "Error processing TKO: The truth value of a Series is ambiguous. Use a.empty, a.bool(), a.item(), a.any() or a.all().\n",
            "Error processing BCDA: The truth value of a Series is ambiguous. Use a.empty, a.bool(), a.item(), a.any() or a.all().\n"
          ]
        },
        {
          "output_type": "stream",
          "name": "stderr",
          "text": [
            "[*********************100%***********************]  1 of 1 completed\n",
            "[*********************100%***********************]  1 of 1 completed\n"
          ]
        },
        {
          "output_type": "stream",
          "name": "stdout",
          "text": [
            "Error processing BMNM: The truth value of a Series is ambiguous. Use a.empty, a.bool(), a.item(), a.any() or a.all().\n",
            "Error processing ADBE: The truth value of a Series is ambiguous. Use a.empty, a.bool(), a.item(), a.any() or a.all().\n"
          ]
        },
        {
          "output_type": "stream",
          "name": "stderr",
          "text": [
            "\r[*********************100%***********************]  1 of 1 completed\n"
          ]
        },
        {
          "output_type": "stream",
          "name": "stdout",
          "text": [
            "Error processing TTSH: The truth value of a Series is ambiguous. Use a.empty, a.bool(), a.item(), a.any() or a.all().\n"
          ]
        },
        {
          "output_type": "stream",
          "name": "stderr",
          "text": [
            "[*********************100%***********************]  1 of 1 completed\n",
            "[*********************100%***********************]  1 of 1 completed\n",
            "[*********************100%***********************]  1 of 1 completed\n"
          ]
        },
        {
          "output_type": "stream",
          "name": "stdout",
          "text": [
            "Error processing BALL: The truth value of a Series is ambiguous. Use a.empty, a.bool(), a.item(), a.any() or a.all().\n",
            "Error processing FLWS: The truth value of a Series is ambiguous. Use a.empty, a.bool(), a.item(), a.any() or a.all().\n"
          ]
        },
        {
          "output_type": "stream",
          "name": "stderr",
          "text": [
            "\r[*********************100%***********************]  1 of 1 completed\n"
          ]
        },
        {
          "output_type": "stream",
          "name": "stdout",
          "text": [
            "Error processing MBWM: The truth value of a Series is ambiguous. Use a.empty, a.bool(), a.item(), a.any() or a.all().\n",
            "Error processing GM: The truth value of a Series is ambiguous. Use a.empty, a.bool(), a.item(), a.any() or a.all().\n"
          ]
        },
        {
          "output_type": "stream",
          "name": "stderr",
          "text": [
            "[*********************100%***********************]  1 of 1 completed\n",
            "[*********************100%***********************]  1 of 1 completed\n",
            "[*********************100%***********************]  1 of 1 completed\n",
            "[*********************100%***********************]  1 of 1 completed\n",
            "[*********************100%***********************]  1 of 1 completed\n"
          ]
        },
        {
          "output_type": "stream",
          "name": "stdout",
          "text": [
            "Error processing SFD: The truth value of a Series is ambiguous. Use a.empty, a.bool(), a.item(), a.any() or a.all().\n",
            "Error processing SFD: The truth value of a Series is ambiguous. Use a.empty, a.bool(), a.item(), a.any() or a.all().\n",
            "Error processing SFD: The truth value of a Series is ambiguous. Use a.empty, a.bool(), a.item(), a.any() or a.all().\n",
            "Error processing SFD: The truth value of a Series is ambiguous. Use a.empty, a.bool(), a.item(), a.any() or a.all().\n",
            "Error processing SFD: The truth value of a Series is ambiguous. Use a.empty, a.bool(), a.item(), a.any() or a.all().\n"
          ]
        },
        {
          "output_type": "stream",
          "name": "stderr",
          "text": [
            "[*********************100%***********************]  1 of 1 completed\n",
            "[*********************100%***********************]  1 of 1 completed\n",
            "[*********************100%***********************]  1 of 1 completed\n",
            "[*********************100%***********************]  1 of 1 completed\n",
            "[*********************100%***********************]  1 of 1 completed"
          ]
        },
        {
          "output_type": "stream",
          "name": "stdout",
          "text": [
            "Error processing SFD: The truth value of a Series is ambiguous. Use a.empty, a.bool(), a.item(), a.any() or a.all().\n",
            "Error processing SFD: The truth value of a Series is ambiguous. Use a.empty, a.bool(), a.item(), a.any() or a.all().\n",
            "Error processing SFD: The truth value of a Series is ambiguous. Use a.empty, a.bool(), a.item(), a.any() or a.all().\n",
            "Error processing SFD: The truth value of a Series is ambiguous. Use a.empty, a.bool(), a.item(), a.any() or a.all().\n"
          ]
        },
        {
          "output_type": "stream",
          "name": "stderr",
          "text": [
            "\n",
            "[*********************100%***********************]  1 of 1 completed"
          ]
        },
        {
          "output_type": "stream",
          "name": "stdout",
          "text": [
            "Error processing SFD: The truth value of a Series is ambiguous. Use a.empty, a.bool(), a.item(), a.any() or a.all().\n",
            "Error processing CSBB: The truth value of a Series is ambiguous. Use a.empty, a.bool(), a.item(), a.any() or a.all().\n"
          ]
        },
        {
          "output_type": "stream",
          "name": "stderr",
          "text": [
            "\n",
            "[*********************100%***********************]  1 of 1 completed\n",
            "[*********************100%***********************]  1 of 1 completed\n",
            "[*********************100%***********************]  1 of 1 completed\n"
          ]
        },
        {
          "output_type": "stream",
          "name": "stdout",
          "text": [
            "Error processing SNV: The truth value of a Series is ambiguous. Use a.empty, a.bool(), a.item(), a.any() or a.all().\n",
            "Error processing PBF: The truth value of a Series is ambiguous. Use a.empty, a.bool(), a.item(), a.any() or a.all().\n",
            "Error processing TCBI: The truth value of a Series is ambiguous. Use a.empty, a.bool(), a.item(), a.any() or a.all().\n"
          ]
        },
        {
          "output_type": "stream",
          "name": "stderr",
          "text": [
            "\r[*********************100%***********************]  1 of 1 completed\n"
          ]
        },
        {
          "output_type": "stream",
          "name": "stdout",
          "text": [
            "Error processing CRBU: The truth value of a Series is ambiguous. Use a.empty, a.bool(), a.item(), a.any() or a.all().\n"
          ]
        },
        {
          "output_type": "stream",
          "name": "stderr",
          "text": [
            "[*********************100%***********************]  1 of 1 completed\n",
            "[*********************100%***********************]  1 of 1 completed\n"
          ]
        },
        {
          "output_type": "stream",
          "name": "stdout",
          "text": [
            "Error processing FFIN: The truth value of a Series is ambiguous. Use a.empty, a.bool(), a.item(), a.any() or a.all().\n",
            "Error processing KDOZF: The truth value of a Series is ambiguous. Use a.empty, a.bool(), a.item(), a.any() or a.all().\n"
          ]
        },
        {
          "output_type": "stream",
          "name": "stderr",
          "text": [
            "[*********************100%***********************]  1 of 1 completed\n",
            "[*********************100%***********************]  1 of 1 completed\n"
          ]
        },
        {
          "output_type": "stream",
          "name": "stdout",
          "text": [
            "Error processing VCRDX: The truth value of a Series is ambiguous. Use a.empty, a.bool(), a.item(), a.any() or a.all().\n",
            "Error processing MFON: The truth value of a Series is ambiguous. Use a.empty, a.bool(), a.item(), a.any() or a.all().\n"
          ]
        },
        {
          "output_type": "stream",
          "name": "stderr",
          "text": [
            "[*********************100%***********************]  1 of 1 completed\n",
            "[*********************100%***********************]  1 of 1 completed\n"
          ]
        },
        {
          "output_type": "stream",
          "name": "stdout",
          "text": [
            "Error processing TPL: The truth value of a Series is ambiguous. Use a.empty, a.bool(), a.item(), a.any() or a.all().\n",
            "Error processing RCG: The truth value of a Series is ambiguous. Use a.empty, a.bool(), a.item(), a.any() or a.all().\n"
          ]
        },
        {
          "output_type": "stream",
          "name": "stderr",
          "text": [
            "\r[*********************100%***********************]  1 of 1 completed\n"
          ]
        },
        {
          "output_type": "stream",
          "name": "stdout",
          "text": [
            "Error processing MSBI: The truth value of a Series is ambiguous. Use a.empty, a.bool(), a.item(), a.any() or a.all().\n"
          ]
        },
        {
          "output_type": "stream",
          "name": "stderr",
          "text": [
            "[*********************100%***********************]  1 of 1 completed\n",
            "[*********************100%***********************]  1 of 1 completed\n",
            "[*********************100%***********************]  1 of 1 completed\n"
          ]
        },
        {
          "output_type": "stream",
          "name": "stdout",
          "text": [
            "Error processing RLI: The truth value of a Series is ambiguous. Use a.empty, a.bool(), a.item(), a.any() or a.all().\n",
            "Error processing BHRB: The truth value of a Series is ambiguous. Use a.empty, a.bool(), a.item(), a.any() or a.all().\n",
            "Error processing MDBH: The truth value of a Series is ambiguous. Use a.empty, a.bool(), a.item(), a.any() or a.all()."
          ]
        },
        {
          "output_type": "stream",
          "name": "stderr",
          "text": [
            "\r[*********************100%***********************]  1 of 1 completed\n"
          ]
        },
        {
          "output_type": "stream",
          "name": "stdout",
          "text": [
            "\n",
            "Error processing TLSI: The truth value of a Series is ambiguous. Use a.empty, a.bool(), a.item(), a.any() or a.all().\n"
          ]
        },
        {
          "output_type": "stream",
          "name": "stderr",
          "text": [
            "[*********************100%***********************]  1 of 1 completed\n",
            "[*********************100%***********************]  1 of 1 completed\n",
            "[*********************100%***********************]  1 of 1 completed\n"
          ]
        },
        {
          "output_type": "stream",
          "name": "stdout",
          "text": [
            "Error processing XRAY: The truth value of a Series is ambiguous. Use a.empty, a.bool(), a.item(), a.any() or a.all().\n",
            "Error processing TLSI: The truth value of a Series is ambiguous. Use a.empty, a.bool(), a.item(), a.any() or a.all().\n",
            "Error processing TLSI: The truth value of a Series is ambiguous. Use a.empty, a.bool(), a.item(), a.any() or a.all().\n"
          ]
        },
        {
          "output_type": "stream",
          "name": "stderr",
          "text": [
            "[*********************100%***********************]  1 of 1 completed\n",
            "[*********************100%***********************]  1 of 1 completed\n",
            "[*********************100%***********************]  1 of 1 completed\n"
          ]
        },
        {
          "output_type": "stream",
          "name": "stdout",
          "text": [
            "Error processing SUNS: The truth value of a Series is ambiguous. Use a.empty, a.bool(), a.item(), a.any() or a.all().\n",
            "Error processing NXL: The truth value of a Series is ambiguous. Use a.empty, a.bool(), a.item(), a.any() or a.all().\n",
            "Error processing PCSA: The truth value of a Series is ambiguous. Use a.empty, a.bool(), a.item(), a.any() or a.all().\n"
          ]
        },
        {
          "output_type": "stream",
          "name": "stderr",
          "text": [
            "[*********************100%***********************]  1 of 1 completed\n",
            "[*********************100%***********************]  1 of 1 completed\n",
            "[*********************100%***********************]  1 of 1 completed\n"
          ]
        },
        {
          "output_type": "stream",
          "name": "stdout",
          "text": [
            "Error processing RCEL: The truth value of a Series is ambiguous. Use a.empty, a.bool(), a.item(), a.any() or a.all().\n",
            "Error processing PCSA: The truth value of a Series is ambiguous. Use a.empty, a.bool(), a.item(), a.any() or a.all().\n",
            "Error processing PCSA: The truth value of a Series is ambiguous. Use a.empty, a.bool(), a.item(), a.any() or a.all().\n"
          ]
        },
        {
          "output_type": "stream",
          "name": "stderr",
          "text": [
            "[*********************100%***********************]  1 of 1 completed\n",
            "[*********************100%***********************]  1 of 1 completed\n"
          ]
        },
        {
          "output_type": "stream",
          "name": "stdout",
          "text": [
            "Error processing FROPX: The truth value of a Series is ambiguous. Use a.empty, a.bool(), a.item(), a.any() or a.all().\n",
            "Error processing ALLY: The truth value of a Series is ambiguous. Use a.empty, a.bool(), a.item(), a.any() or a.all().\n"
          ]
        },
        {
          "output_type": "stream",
          "name": "stderr",
          "text": [
            "[*********************100%***********************]  1 of 1 completed\n",
            "[*********************100%***********************]  1 of 1 completed\n"
          ]
        },
        {
          "output_type": "stream",
          "name": "stdout",
          "text": [
            "Error processing BATRA: The truth value of a Series is ambiguous. Use a.empty, a.bool(), a.item(), a.any() or a.all().\n",
            "Error processing GRX: The truth value of a Series is ambiguous. Use a.empty, a.bool(), a.item(), a.any() or a.all().\n"
          ]
        },
        {
          "output_type": "stream",
          "name": "stderr",
          "text": [
            "[*********************100%***********************]  1 of 1 completed\n",
            "[*********************100%***********************]  1 of 1 completed"
          ]
        },
        {
          "output_type": "stream",
          "name": "stdout",
          "text": [
            "Error processing MIO: The truth value of a Series is ambiguous. Use a.empty, a.bool(), a.item(), a.any() or a.all().\n"
          ]
        },
        {
          "output_type": "stream",
          "name": "stderr",
          "text": [
            "\n",
            "\r[*********************100%***********************]  1 of 1 completed\n"
          ]
        },
        {
          "output_type": "stream",
          "name": "stdout",
          "text": [
            "Error processing PFBX: The truth value of a Series is ambiguous. Use a.empty, a.bool(), a.item(), a.any() or a.all().\n",
            "Error processing TPL: The truth value of a Series is ambiguous. Use a.empty, a.bool(), a.item(), a.any() or a.all().\n"
          ]
        },
        {
          "output_type": "stream",
          "name": "stderr",
          "text": [
            "[*********************100%***********************]  1 of 1 completed\n",
            "[*********************100%***********************]  1 of 1 completed\n"
          ]
        },
        {
          "output_type": "stream",
          "name": "stdout",
          "text": [
            "Error processing RCG: The truth value of a Series is ambiguous. Use a.empty, a.bool(), a.item(), a.any() or a.all().\n",
            "Error processing ANIX: The truth value of a Series is ambiguous. Use a.empty, a.bool(), a.item(), a.any() or a.all().\n"
          ]
        },
        {
          "output_type": "stream",
          "name": "stderr",
          "text": [
            "[*********************100%***********************]  1 of 1 completed\n",
            "[*********************100%***********************]  1 of 1 completed\n"
          ]
        },
        {
          "output_type": "stream",
          "name": "stdout",
          "text": [
            "Error processing OVID: The truth value of a Series is ambiguous. Use a.empty, a.bool(), a.item(), a.any() or a.all().\n",
            "Error processing AEI: The truth value of a Series is ambiguous. Use a.empty, a.bool(), a.item(), a.any() or a.all().\n"
          ]
        },
        {
          "output_type": "stream",
          "name": "stderr",
          "text": [
            "[*********************100%***********************]  1 of 1 completed\n",
            "[*********************100%***********************]  1 of 1 completed\n"
          ]
        },
        {
          "output_type": "stream",
          "name": "stdout",
          "text": [
            "Error processing USEG: The truth value of a Series is ambiguous. Use a.empty, a.bool(), a.item(), a.any() or a.all().\n",
            "Error processing LCTX: The truth value of a Series is ambiguous. Use a.empty, a.bool(), a.item(), a.any() or a.all().\n"
          ]
        },
        {
          "output_type": "stream",
          "name": "stderr",
          "text": [
            "[*********************100%***********************]  1 of 1 completed\n",
            "[*********************100%***********************]  1 of 1 completed\n"
          ]
        },
        {
          "output_type": "stream",
          "name": "stdout",
          "text": [
            "Error processing TREX: The truth value of a Series is ambiguous. Use a.empty, a.bool(), a.item(), a.any() or a.all().\n",
            "Error processing RVP: The truth value of a Series is ambiguous. Use a.empty, a.bool(), a.item(), a.any() or a.all().\n"
          ]
        },
        {
          "output_type": "stream",
          "name": "stderr",
          "text": [
            "[*********************100%***********************]  1 of 1 completed\n",
            "[*********************100%***********************]  1 of 1 completed\n"
          ]
        },
        {
          "output_type": "stream",
          "name": "stdout",
          "text": [
            "Error processing OPK: The truth value of a Series is ambiguous. Use a.empty, a.bool(), a.item(), a.any() or a.all().\n",
            "Error processing PMT: The truth value of a Series is ambiguous. Use a.empty, a.bool(), a.item(), a.any() or a.all().\n"
          ]
        },
        {
          "output_type": "stream",
          "name": "stderr",
          "text": [
            "[*********************100%***********************]  1 of 1 completed\n",
            "[*********************100%***********************]  1 of 1 completed\n",
            "[*********************100%***********************]  1 of 1 completed\n",
            "[*********************100%***********************]  1 of 1 completed\n",
            "[*********************100%***********************]  1 of 1 completed\n"
          ]
        },
        {
          "output_type": "stream",
          "name": "stdout",
          "text": [
            "Error processing ISBA: The truth value of a Series is ambiguous. Use a.empty, a.bool(), a.item(), a.any() or a.all().\n",
            "Error processing ISBA: The truth value of a Series is ambiguous. Use a.empty, a.bool(), a.item(), a.any() or a.all().\n",
            "Error processing ISBA: The truth value of a Series is ambiguous. Use a.empty, a.bool(), a.item(), a.any() or a.all().\n",
            "Error processing ISBA: The truth value of a Series is ambiguous. Use a.empty, a.bool(), a.item(), a.any() or a.all().\n",
            "Error processing ISBA: The truth value of a Series is ambiguous. Use a.empty, a.bool(), a.item(), a.any() or a.all().\n"
          ]
        },
        {
          "output_type": "stream",
          "name": "stderr",
          "text": [
            "[*********************100%***********************]  1 of 1 completed\n",
            "[*********************100%***********************]  1 of 1 completed\n"
          ]
        },
        {
          "output_type": "stream",
          "name": "stdout",
          "text": [
            "Error processing ISBA: The truth value of a Series is ambiguous. Use a.empty, a.bool(), a.item(), a.any() or a.all().\n",
            "Error processing XALFX: The truth value of a Series is ambiguous. Use a.empty, a.bool(), a.item(), a.any() or a.all().\n"
          ]
        },
        {
          "output_type": "stream",
          "name": "stderr",
          "text": [
            "[*********************100%***********************]  1 of 1 completed\n",
            "[*********************100%***********************]  1 of 1 completed\n"
          ]
        },
        {
          "output_type": "stream",
          "name": "stdout",
          "text": [
            "Error processing TCBI: The truth value of a Series is ambiguous. Use a.empty, a.bool(), a.item(), a.any() or a.all().\n",
            "Error processing PMFAX: The truth value of a Series is ambiguous. Use a.empty, a.bool(), a.item(), a.any() or a.all().\n"
          ]
        },
        {
          "output_type": "stream",
          "name": "stderr",
          "text": [
            "[*********************100%***********************]  1 of 1 completed\n",
            "[*********************100%***********************]  1 of 1 completed\n"
          ]
        },
        {
          "output_type": "stream",
          "name": "stdout",
          "text": [
            "Error processing IMNN: The truth value of a Series is ambiguous. Use a.empty, a.bool(), a.item(), a.any() or a.all().\n",
            "Error processing PETS: The truth value of a Series is ambiguous. Use a.empty, a.bool(), a.item(), a.any() or a.all().\n"
          ]
        },
        {
          "output_type": "stream",
          "name": "stderr",
          "text": [
            "[*********************100%***********************]  1 of 1 completed\n",
            "[*********************100%***********************]  1 of 1 completed\n"
          ]
        },
        {
          "output_type": "stream",
          "name": "stdout",
          "text": [
            "Error processing MSBI: The truth value of a Series is ambiguous. Use a.empty, a.bool(), a.item(), a.any() or a.all().\n",
            "Error processing BWFG: The truth value of a Series is ambiguous. Use a.empty, a.bool(), a.item(), a.any() or a.all().\n"
          ]
        },
        {
          "output_type": "stream",
          "name": "stderr",
          "text": [
            "[*********************100%***********************]  1 of 1 completed\n",
            "[*********************100%***********************]  1 of 1 completed\n"
          ]
        },
        {
          "output_type": "stream",
          "name": "stdout",
          "text": [
            "Error processing CODA: The truth value of a Series is ambiguous. Use a.empty, a.bool(), a.item(), a.any() or a.all().\n",
            "Error processing MSBI: The truth value of a Series is ambiguous. Use a.empty, a.bool(), a.item(), a.any() or a.all().\n"
          ]
        },
        {
          "output_type": "stream",
          "name": "stderr",
          "text": [
            "[*********************100%***********************]  1 of 1 completed\n",
            "[*********************100%***********************]  1 of 1 completed\n"
          ]
        },
        {
          "output_type": "stream",
          "name": "stdout",
          "text": [
            "Error processing UCASU: The truth value of a Series is ambiguous. Use a.empty, a.bool(), a.item(), a.any() or a.all().\n",
            "Error processing ETST: The truth value of a Series is ambiguous. Use a.empty, a.bool(), a.item(), a.any() or a.all().\n"
          ]
        },
        {
          "output_type": "stream",
          "name": "stderr",
          "text": [
            "[*********************100%***********************]  1 of 1 completed\n",
            "[*********************100%***********************]  1 of 1 completed\n"
          ]
        },
        {
          "output_type": "stream",
          "name": "stdout",
          "text": [
            "Error processing MPB: The truth value of a Series is ambiguous. Use a.empty, a.bool(), a.item(), a.any() or a.all().\n",
            "Error processing RCG: The truth value of a Series is ambiguous. Use a.empty, a.bool(), a.item(), a.any() or a.all().\n"
          ]
        },
        {
          "output_type": "stream",
          "name": "stderr",
          "text": [
            "[*********************100%***********************]  1 of 1 completed\n",
            "[*********************100%***********************]  1 of 1 completed\n"
          ]
        },
        {
          "output_type": "stream",
          "name": "stdout",
          "text": [
            "Error processing PIIVX: The truth value of a Series is ambiguous. Use a.empty, a.bool(), a.item(), a.any() or a.all().\n",
            "Error processing TPL: The truth value of a Series is ambiguous. Use a.empty, a.bool(), a.item(), a.any() or a.all().\n"
          ]
        },
        {
          "output_type": "stream",
          "name": "stderr",
          "text": [
            "[*********************100%***********************]  1 of 1 completed\n",
            "[*********************100%***********************]  1 of 1 completed\n",
            "[*********************100%***********************]  1 of 1 completed\n"
          ]
        },
        {
          "output_type": "stream",
          "name": "stdout",
          "text": [
            "Error processing NYC: The truth value of a Series is ambiguous. Use a.empty, a.bool(), a.item(), a.any() or a.all().\n",
            "Error processing TKO: The truth value of a Series is ambiguous. Use a.empty, a.bool(), a.item(), a.any() or a.all().\n",
            "Error processing TKO: The truth value of a Series is ambiguous. Use a.empty, a.bool(), a.item(), a.any() or a.all().\n"
          ]
        },
        {
          "output_type": "stream",
          "name": "stderr",
          "text": [
            "[*********************100%***********************]  1 of 1 completed\n",
            "[*********************100%***********************]  1 of 1 completed\n"
          ]
        },
        {
          "output_type": "stream",
          "name": "stdout",
          "text": [
            "Error processing TKO: The truth value of a Series is ambiguous. Use a.empty, a.bool(), a.item(), a.any() or a.all().\n",
            "Error processing SHRG: The truth value of a Series is ambiguous. Use a.empty, a.bool(), a.item(), a.any() or a.all().\n"
          ]
        },
        {
          "output_type": "stream",
          "name": "stderr",
          "text": [
            "[*********************100%***********************]  1 of 1 completed\n",
            "[*********************100%***********************]  1 of 1 completed\n"
          ]
        },
        {
          "output_type": "stream",
          "name": "stdout",
          "text": [
            "Error processing REFLX: The truth value of a Series is ambiguous. Use a.empty, a.bool(), a.item(), a.any() or a.all().\n",
            "Error processing RLI: The truth value of a Series is ambiguous. Use a.empty, a.bool(), a.item(), a.any() or a.all().\n"
          ]
        },
        {
          "output_type": "stream",
          "name": "stderr",
          "text": [
            "[*********************100%***********************]  1 of 1 completed\n",
            "[*********************100%***********************]  1 of 1 completed\n",
            "[*********************100%***********************]  1 of 1 completed\n"
          ]
        },
        {
          "output_type": "stream",
          "name": "stdout",
          "text": [
            "Error processing RLI: The truth value of a Series is ambiguous. Use a.empty, a.bool(), a.item(), a.any() or a.all().\n",
            "Error processing RLI: The truth value of a Series is ambiguous. Use a.empty, a.bool(), a.item(), a.any() or a.all().\n",
            "Error processing RLI: The truth value of a Series is ambiguous. Use a.empty, a.bool(), a.item(), a.any() or a.all().\n"
          ]
        },
        {
          "output_type": "stream",
          "name": "stderr",
          "text": [
            "[*********************100%***********************]  1 of 1 completed\n",
            "[*********************100%***********************]  1 of 1 completed\n"
          ]
        },
        {
          "output_type": "stream",
          "name": "stdout",
          "text": [
            "Error processing LOOP: The truth value of a Series is ambiguous. Use a.empty, a.bool(), a.item(), a.any() or a.all().\n",
            "Error processing ALLY: The truth value of a Series is ambiguous. Use a.empty, a.bool(), a.item(), a.any() or a.all().\n"
          ]
        },
        {
          "output_type": "stream",
          "name": "stderr",
          "text": [
            "[*********************100%***********************]  1 of 1 completed\n",
            "[*********************100%***********************]  1 of 1 completed\n"
          ]
        },
        {
          "output_type": "stream",
          "name": "stdout",
          "text": [
            "Error processing VLY: The truth value of a Series is ambiguous. Use a.empty, a.bool(), a.item(), a.any() or a.all().\n",
            "Error processing MAMO: The truth value of a Series is ambiguous. Use a.empty, a.bool(), a.item(), a.any() or a.all().\n"
          ]
        },
        {
          "output_type": "stream",
          "name": "stderr",
          "text": [
            "[*********************100%***********************]  1 of 1 completed\n",
            "[*********************100%***********************]  1 of 1 completed\n"
          ]
        },
        {
          "output_type": "stream",
          "name": "stdout",
          "text": [
            "Error processing MDBH: The truth value of a Series is ambiguous. Use a.empty, a.bool(), a.item(), a.any() or a.all().\n",
            "Error processing NBBK: The truth value of a Series is ambiguous. Use a.empty, a.bool(), a.item(), a.any() or a.all().\n"
          ]
        },
        {
          "output_type": "stream",
          "name": "stderr",
          "text": [
            "[*********************100%***********************]  1 of 1 completed\n",
            "[*********************100%***********************]  1 of 1 completed\n"
          ]
        },
        {
          "output_type": "stream",
          "name": "stdout",
          "text": [
            "Error processing MIO: The truth value of a Series is ambiguous. Use a.empty, a.bool(), a.item(), a.any() or a.all().\n",
            "Error processing MAV: The truth value of a Series is ambiguous. Use a.empty, a.bool(), a.item(), a.any() or a.all().\n"
          ]
        },
        {
          "output_type": "stream",
          "name": "stderr",
          "text": [
            "[*********************100%***********************]  1 of 1 completed\n",
            "[*********************100%***********************]  1 of 1 completed\n"
          ]
        },
        {
          "output_type": "stream",
          "name": "stdout",
          "text": [
            "Error processing TPL: The truth value of a Series is ambiguous. Use a.empty, a.bool(), a.item(), a.any() or a.all().\n",
            "Error processing RCG: The truth value of a Series is ambiguous. Use a.empty, a.bool(), a.item(), a.any() or a.all().\n"
          ]
        },
        {
          "output_type": "stream",
          "name": "stderr",
          "text": [
            "[*********************100%***********************]  1 of 1 completed\n",
            "[*********************100%***********************]  1 of 1 completed\n",
            "[*********************100%***********************]  1 of 1 completed\n"
          ]
        },
        {
          "output_type": "stream",
          "name": "stdout",
          "text": [
            "Error processing CPEFX: The truth value of a Series is ambiguous. Use a.empty, a.bool(), a.item(), a.any() or a.all().\n",
            "Error processing ANIX: The truth value of a Series is ambiguous. Use a.empty, a.bool(), a.item(), a.any() or a.all().\n",
            "Error processing ETST: The truth value of a Series is ambiguous. Use a.empty, a.bool(), a.item(), a.any() or a.all().\n"
          ]
        },
        {
          "output_type": "stream",
          "name": "stderr",
          "text": [
            "[*********************100%***********************]  1 of 1 completed\n",
            "[*********************100%***********************]  1 of 1 completed\n"
          ]
        },
        {
          "output_type": "stream",
          "name": "stdout",
          "text": [
            "Error processing TTSH: The truth value of a Series is ambiguous. Use a.empty, a.bool(), a.item(), a.any() or a.all().\n",
            "Error processing NXL: The truth value of a Series is ambiguous. Use a.empty, a.bool(), a.item(), a.any() or a.all().\n"
          ]
        },
        {
          "output_type": "stream",
          "name": "stderr",
          "text": [
            "[*********************100%***********************]  1 of 1 completed\n",
            "[*********************100%***********************]  1 of 1 completed\n",
            "[*********************100%***********************]  1 of 1 completed\n",
            "[*********************100%***********************]  1 of 1 completed\n"
          ]
        },
        {
          "output_type": "stream",
          "name": "stdout",
          "text": [
            "Error processing LAKE: The truth value of a Series is ambiguous. Use a.empty, a.bool(), a.item(), a.any() or a.all().\n",
            "Error processing LAKE: The truth value of a Series is ambiguous. Use a.empty, a.bool(), a.item(), a.any() or a.all().\n",
            "Error processing LAKE: The truth value of a Series is ambiguous. Use a.empty, a.bool(), a.item(), a.any() or a.all().\n"
          ]
        },
        {
          "output_type": "stream",
          "name": "stderr",
          "text": [
            "[*********************100%***********************]  1 of 1 completed\n",
            "[*********************100%***********************]  1 of 1 completed\n",
            "[*********************100%***********************]  1 of 1 completed\n"
          ]
        },
        {
          "output_type": "stream",
          "name": "stdout",
          "text": [
            "Error processing LAKE: The truth value of a Series is ambiguous. Use a.empty, a.bool(), a.item(), a.any() or a.all().\n",
            "Error processing LAKE: The truth value of a Series is ambiguous. Use a.empty, a.bool(), a.item(), a.any() or a.all().\n",
            "Error processing LAKE: The truth value of a Series is ambiguous. Use a.empty, a.bool(), a.item(), a.any() or a.all().\n",
            "Error processing LAKE: The truth value of a Series is ambiguous. Use a.empty, a.bool(), a.item(), a.any() or a.all().\n"
          ]
        },
        {
          "output_type": "stream",
          "name": "stderr",
          "text": [
            "[*********************100%***********************]  1 of 1 completed\n",
            "[*********************100%***********************]  1 of 1 completed\n",
            "[*********************100%***********************]  1 of 1 completed"
          ]
        },
        {
          "output_type": "stream",
          "name": "stdout",
          "text": [
            "Error processing PBF: The truth value of a Series is ambiguous. Use a.empty, a.bool(), a.item(), a.any() or a.all().\n",
            "Error processing BATRA: The truth value of a Series is ambiguous. Use a.empty, a.bool(), a.item(), a.any() or a.all().\n",
            "Error processing GRX: The truth value of a Series is ambiguous. Use a.empty, a.bool(), a.item(), a.any() or a.all().\n"
          ]
        },
        {
          "output_type": "stream",
          "name": "stderr",
          "text": [
            "\n",
            "[*********************100%***********************]  1 of 1 completed\n",
            "[*********************100%***********************]  1 of 1 completed\n"
          ]
        },
        {
          "output_type": "stream",
          "name": "stdout",
          "text": [
            "Error processing RCG: The truth value of a Series is ambiguous. Use a.empty, a.bool(), a.item(), a.any() or a.all().\n",
            "Error processing NBBK: The truth value of a Series is ambiguous. Use a.empty, a.bool(), a.item(), a.any() or a.all().\n"
          ]
        },
        {
          "output_type": "stream",
          "name": "stderr",
          "text": [
            "[*********************100%***********************]  1 of 1 completed\n",
            "[*********************100%***********************]  1 of 1 completed\n"
          ]
        },
        {
          "output_type": "stream",
          "name": "stdout",
          "text": [
            "Error processing WYTC: The truth value of a Series is ambiguous. Use a.empty, a.bool(), a.item(), a.any() or a.all().\n",
            "Error processing TPL: The truth value of a Series is ambiguous. Use a.empty, a.bool(), a.item(), a.any() or a.all().\n"
          ]
        },
        {
          "output_type": "stream",
          "name": "stderr",
          "text": [
            "[*********************100%***********************]  1 of 1 completed\n",
            "[*********************100%***********************]  1 of 1 completed\n"
          ]
        },
        {
          "output_type": "stream",
          "name": "stdout",
          "text": [
            "Error processing GABC: The truth value of a Series is ambiguous. Use a.empty, a.bool(), a.item(), a.any() or a.all().\n",
            "Error processing GABC: The truth value of a Series is ambiguous. Use a.empty, a.bool(), a.item(), a.any() or a.all().\n"
          ]
        },
        {
          "output_type": "stream",
          "name": "stderr",
          "text": [
            "[*********************100%***********************]  1 of 1 completed\n",
            "[*********************100%***********************]  1 of 1 completed\n",
            "[*********************100%***********************]  1 of 1 completed\n"
          ]
        },
        {
          "output_type": "stream",
          "name": "stdout",
          "text": [
            "Error processing STRW: The truth value of a Series is ambiguous. Use a.empty, a.bool(), a.item(), a.any() or a.all().\n",
            "Error processing NYC: The truth value of a Series is ambiguous. Use a.empty, a.bool(), a.item(), a.any() or a.all().\n",
            "Error processing GDRZF: The truth value of a Series is ambiguous. Use a.empty, a.bool(), a.item(), a.any() or a.all().\n"
          ]
        },
        {
          "output_type": "stream",
          "name": "stderr",
          "text": [
            "\r[*********************100%***********************]  1 of 1 completed\n"
          ]
        },
        {
          "output_type": "stream",
          "name": "stdout",
          "text": [
            "Error processing AEI: The truth value of a Series is ambiguous. Use a.empty, a.bool(), a.item(), a.any() or a.all().\n",
            "CSV file created successfully!\n"
          ]
        }
      ]
    },
    {
      "cell_type": "code",
      "source": [
        "# Script to get the price of a stock at some time points after a given date\n",
        "\n",
        "import datetime\n",
        "from dateutil.relativedelta import relativedelta\n",
        "import pandas as pd\n",
        "import yfinance as yf\n",
        "\n",
        "def get_price_on_or_after(df, target):\n",
        "    \"\"\"\n",
        "    Given a DataFrame with a DateTimeIndex and a target date,\n",
        "    return the closing price and actual date of the first trading day\n",
        "    on or after the target date.\n",
        "    \"\"\"\n",
        "    target_ts = pd.Timestamp(target)\n",
        "    available = df[df.index >= target_ts]\n",
        "    if not available.empty:\n",
        "        actual_date = available.index[0].date()\n",
        "        price = available.iloc[0]['Close']\n",
        "        # If the price is a Series (due to MultiIndex columns), extract the scalar.\n",
        "        if isinstance(price, pd.Series):\n",
        "            price = price.iloc[0]\n",
        "        return price, actual_date\n",
        "    return None, None\n",
        "\n",
        "def main():\n",
        "    # Request user input.\n",
        "    ticker_sym = input(\"Enter stock ticker (e.g., AAPL): \")\n",
        "    start_str = input(\"Enter starting date (YYYY-MM-DD): \")\n",
        "\n",
        "    # Convert the input date string into a date object.\n",
        "    try:\n",
        "        start_date = datetime.datetime.strptime(start_str, \"%Y-%m-%d\").date()\n",
        "    except ValueError:\n",
        "        print(\"Invalid date format. Please use YYYY-MM-DD.\")\n",
        "        return\n",
        "\n",
        "    # Compute target dates relative to the starting date.\n",
        "    offsets = {\n",
        "        \"Starting Date\": start_date,\n",
        "        \"3 Days\": start_date + datetime.timedelta(days=3),\n",
        "        \"1 Week\": start_date + datetime.timedelta(weeks=1),\n",
        "        \"2 Weeks\": start_date + datetime.timedelta(weeks=2),\n",
        "        \"1 Month\": start_date + relativedelta(months=1),\n",
        "        \"3 Months\": start_date + relativedelta(months=3),\n",
        "        \"6 Months\": start_date + relativedelta(months=6),\n",
        "        \"1 Year\": start_date + relativedelta(years=1)\n",
        "    }\n",
        "\n",
        "    # Download historical data from the starting date until a few days after the furthest target date.\n",
        "    last_date = max(offsets.values()) + datetime.timedelta(days=5)\n",
        "    data = yf.download(\n",
        "        ticker_sym,\n",
        "        start=start_date.strftime(\"%Y-%m-%d\"),\n",
        "        end=last_date.strftime(\"%Y-%m-%d\")\n",
        "    )\n",
        "\n",
        "    if data.empty:\n",
        "        print(\"No historical data found. Please check the ticker and date range.\")\n",
        "        return\n",
        "\n",
        "    print(f\"\\nPrices for {ticker_sym}:\")\n",
        "    for label, target_date in offsets.items():\n",
        "        price, actual_date = get_price_on_or_after(data, target_date)\n",
        "        if price is not None:\n",
        "            print(f\"{label} (target: {target_date}, actual: {actual_date}): ${price:.2f}\")\n",
        "        else:\n",
        "            print(f\"{label} (target: {target_date}): No data available.\")\n",
        "\n",
        "# Run the main function.\n",
        "main()\n"
      ],
      "metadata": {
        "id": "-zOzU4L5eEBd",
        "colab": {
          "base_uri": "https://localhost:8080/"
        },
        "outputId": "bc985712-f4ab-4c63-e6df-25857beb99b1"
      },
      "execution_count": null,
      "outputs": [
        {
          "name": "stdout",
          "output_type": "stream",
          "text": [
            "Enter stock ticker (e.g., AAPL): aapl\n",
            "Enter starting date (YYYY-MM-DD): 2022-01-01\n"
          ]
        },
        {
          "output_type": "stream",
          "name": "stderr",
          "text": [
            "\r[*********************100%***********************]  1 of 1 completed"
          ]
        },
        {
          "output_type": "stream",
          "name": "stdout",
          "text": [
            "\n",
            "Prices for aapl:\n",
            "Starting Date (target: 2022-01-01, actual: 2022-01-03): $178.88\n",
            "3 Days (target: 2022-01-04, actual: 2022-01-04): $176.61\n",
            "1 Week (target: 2022-01-08, actual: 2022-01-10): $169.23\n",
            "2 Weeks (target: 2022-01-15, actual: 2022-01-18): $166.88\n",
            "1 Month (target: 2022-02-01, actual: 2022-02-01): $171.61\n",
            "3 Months (target: 2022-04-01, actual: 2022-04-01): $171.53\n",
            "6 Months (target: 2022-07-01, actual: 2022-07-01): $136.92\n",
            "1 Year (target: 2023-01-01, actual: 2023-01-03): $123.63\n"
          ]
        },
        {
          "output_type": "stream",
          "name": "stderr",
          "text": [
            "\n"
          ]
        }
      ]
    },
    {
      "cell_type": "markdown",
      "source": [
        "TODO\n",
        "\n",
        "Note: \"time step\" = an arbitrary time (e.g. 1 week) after trade\n",
        "* EDA\n",
        "    - Call .describe() on each column of data\n",
        "* Structure of data\n",
        "    - Rows: Insider trades\n",
        "        - Can group by insider name and examine mean of percent gain at each time step\n",
        "    - Cols: Insider trade info + stock price/percent gains at each time step\n",
        "\n",
        "\n"
      ],
      "metadata": {
        "id": "EMe1RLo6eT_a"
      }
    },
    {
      "cell_type": "code",
      "source": [
        "!pip install yfinance python-dateutil bs4 requests\n"
      ],
      "metadata": {
        "colab": {
          "base_uri": "https://localhost:8080/"
        },
        "id": "dfVjE2bpUiWI",
        "outputId": "79af1b9b-9c9f-469a-f320-f56a2f627790"
      },
      "execution_count": null,
      "outputs": [
        {
          "output_type": "stream",
          "name": "stdout",
          "text": [
            "Requirement already satisfied: yfinance in /usr/local/lib/python3.11/dist-packages (0.2.52)\n",
            "Requirement already satisfied: python-dateutil in /usr/local/lib/python3.11/dist-packages (2.8.2)\n",
            "Collecting bs4\n",
            "  Downloading bs4-0.0.2-py2.py3-none-any.whl.metadata (411 bytes)\n",
            "Requirement already satisfied: requests in /usr/local/lib/python3.11/dist-packages (2.32.3)\n",
            "Requirement already satisfied: pandas>=1.3.0 in /usr/local/lib/python3.11/dist-packages (from yfinance) (2.2.2)\n",
            "Requirement already satisfied: numpy>=1.16.5 in /usr/local/lib/python3.11/dist-packages (from yfinance) (1.26.4)\n",
            "Requirement already satisfied: multitasking>=0.0.7 in /usr/local/lib/python3.11/dist-packages (from yfinance) (0.0.11)\n",
            "Requirement already satisfied: lxml>=4.9.1 in /usr/local/lib/python3.11/dist-packages (from yfinance) (5.3.0)\n",
            "Requirement already satisfied: platformdirs>=2.0.0 in /usr/local/lib/python3.11/dist-packages (from yfinance) (4.3.6)\n",
            "Requirement already satisfied: pytz>=2022.5 in /usr/local/lib/python3.11/dist-packages (from yfinance) (2025.1)\n",
            "Requirement already satisfied: frozendict>=2.3.4 in /usr/local/lib/python3.11/dist-packages (from yfinance) (2.4.6)\n",
            "Requirement already satisfied: peewee>=3.16.2 in /usr/local/lib/python3.11/dist-packages (from yfinance) (3.17.9)\n",
            "Requirement already satisfied: beautifulsoup4>=4.11.1 in /usr/local/lib/python3.11/dist-packages (from yfinance) (4.13.3)\n",
            "Requirement already satisfied: html5lib>=1.1 in /usr/local/lib/python3.11/dist-packages (from yfinance) (1.1)\n",
            "Requirement already satisfied: six>=1.5 in /usr/local/lib/python3.11/dist-packages (from python-dateutil) (1.17.0)\n",
            "Requirement already satisfied: charset-normalizer<4,>=2 in /usr/local/lib/python3.11/dist-packages (from requests) (3.4.1)\n",
            "Requirement already satisfied: idna<4,>=2.5 in /usr/local/lib/python3.11/dist-packages (from requests) (3.10)\n",
            "Requirement already satisfied: urllib3<3,>=1.21.1 in /usr/local/lib/python3.11/dist-packages (from requests) (2.3.0)\n",
            "Requirement already satisfied: certifi>=2017.4.17 in /usr/local/lib/python3.11/dist-packages (from requests) (2025.1.31)\n",
            "Requirement already satisfied: soupsieve>1.2 in /usr/local/lib/python3.11/dist-packages (from beautifulsoup4>=4.11.1->yfinance) (2.6)\n",
            "Requirement already satisfied: typing-extensions>=4.0.0 in /usr/local/lib/python3.11/dist-packages (from beautifulsoup4>=4.11.1->yfinance) (4.12.2)\n",
            "Requirement already satisfied: webencodings in /usr/local/lib/python3.11/dist-packages (from html5lib>=1.1->yfinance) (0.5.1)\n",
            "Requirement already satisfied: tzdata>=2022.7 in /usr/local/lib/python3.11/dist-packages (from pandas>=1.3.0->yfinance) (2025.1)\n",
            "Downloading bs4-0.0.2-py2.py3-none-any.whl (1.2 kB)\n",
            "Installing collected packages: bs4\n",
            "Successfully installed bs4-0.0.2\n"
          ]
        }
      ]
    },
    {
      "cell_type": "code",
      "source": [
        "# Test script to examine stock price at fixed time points after insider trade\n",
        "\n",
        "import requests\n",
        "import pandas as pd\n",
        "import urllib.parse\n",
        "from datetime import datetime, timedelta\n",
        "from dateutil.relativedelta import relativedelta\n",
        "import yfinance as yf\n",
        "from bs4 import BeautifulSoup\n",
        "\n",
        "def fetch_insider_data():\n",
        "    \"\"\"\n",
        "    Fetch insider trading data from OpenInsider based on user inputs.\n",
        "    Returns a pandas DataFrame containing the scraped table.\n",
        "    Assumes that the table contains columns such as 'ticker', 'trade date', and 'insider name'.\n",
        "    \"\"\"\n",
        "    # -----------------------------\n",
        "    # Step 1: Get user inputs\n",
        "    # -----------------------------\n",
        "    trade_start_input = input(\"Enter trade start date (YYYY-MM-DD): \").strip()\n",
        "    trade_end_input = input(\"Enter trade end date (YYYY-MM-DD): \").strip()\n",
        "    insider_name = input(\"Enter insider name (press Enter to skip): \").strip()\n",
        "    trade_type = input(\"Enter trade type (purchase, sale, or both): \").strip().lower()\n",
        "\n",
        "    # -----------------------------\n",
        "    # Step 2: Convert dates to MM/DD/YYYY and construct tdr parameter\n",
        "    # -----------------------------\n",
        "    try:\n",
        "        trade_start_dt = datetime.strptime(trade_start_input, '%Y-%m-%d')\n",
        "        trade_end_dt = datetime.strptime(trade_end_input, '%Y-%m-%d')\n",
        "    except ValueError as e:\n",
        "        print(\"Error converting dates:\", e)\n",
        "        exit()\n",
        "\n",
        "    trade_start_str = trade_start_dt.strftime(\"%m/%d/%Y\")\n",
        "    trade_end_str = trade_end_dt.strftime(\"%m/%d/%Y\")\n",
        "    tdr_param = f\"{trade_start_str} - {trade_end_str}\"\n",
        "\n",
        "    # -----------------------------\n",
        "    # Step 3: Build the query URL\n",
        "    # -----------------------------\n",
        "    base_url = \"http://openinsider.com/screener\"\n",
        "    params = {\n",
        "        \"s\": \"\",\n",
        "        \"o\": \"\",\n",
        "        \"pl\": \"\",\n",
        "        \"ph\": \"\",\n",
        "        \"ll\": \"\",\n",
        "        \"lh\": \"\",\n",
        "        \"fd\": \"0\",\n",
        "        \"fdr\": \"\",\n",
        "        \"td\": \"-1\",\n",
        "        \"tdr\": tdr_param,\n",
        "        \"fdlyl\": \"\",\n",
        "        \"fdlyh\": \"\",\n",
        "        \"daysago\": \"\",\n",
        "        \"vl\": \"\",\n",
        "        \"vh\": \"\",\n",
        "        \"ocl\": \"\",\n",
        "        \"och\": \"\",\n",
        "        \"sic1\": \"-1\",\n",
        "        \"sicl\": \"100\",\n",
        "        \"sich\": \"9999\",\n",
        "        \"grp\": \"0\",\n",
        "        \"nfl\": \"\",\n",
        "        \"nfh\": \"\",\n",
        "        \"nil\": \"\",\n",
        "        \"nih\": \"\",\n",
        "        \"nol\": \"\",\n",
        "        \"noh\": \"\",\n",
        "        \"v2l\": \"\",\n",
        "        \"v2h\": \"\",\n",
        "        \"oc2l\": \"\",\n",
        "        \"oc2h\": \"\",\n",
        "        \"sortcol\": \"0\",\n",
        "        \"cnt\": \"100\",\n",
        "        \"page\": \"1\"\n",
        "    }\n",
        "\n",
        "    if insider_name:\n",
        "        params[\"pn\"] = insider_name  # 'pn' is the insider name parameter\n",
        "\n",
        "    if trade_type == \"purchase\":\n",
        "        params[\"xp\"] = \"1\"\n",
        "    elif trade_type == \"sale\":\n",
        "        params[\"xs\"] = \"1\"\n",
        "    elif trade_type == \"both\":\n",
        "        params[\"xp\"] = \"1\"\n",
        "        params[\"xs\"] = \"1\"\n",
        "    else:\n",
        "        print(\"Invalid trade type. Please enter 'purchase', 'sale', or 'both'.\")\n",
        "        exit()\n",
        "\n",
        "    query_string = urllib.parse.urlencode(params)\n",
        "    url = f\"{base_url}?{query_string}\"\n",
        "    print(\"Fetching insider trading data from:\", url)\n",
        "\n",
        "    # -----------------------------\n",
        "    # Step 4: Fetch and parse the page\n",
        "    # -----------------------------\n",
        "    headers = {\"User-Agent\": \"Mozilla/5.0\"}\n",
        "    response = requests.get(url, headers=headers)\n",
        "    if response.status_code != 200:\n",
        "        print(f\"Failed to retrieve insider trading data. HTTP status code: {response.status_code}\")\n",
        "        exit()\n",
        "\n",
        "    soup = BeautifulSoup(response.text, \"html.parser\")\n",
        "    table = soup.find(\"table\", {\"class\": \"tinytable\"})\n",
        "    if not table:\n",
        "        print(\"Could not find the data table on the page.\")\n",
        "        exit()\n",
        "\n",
        "    rows = table.find_all(\"tr\")\n",
        "    if len(rows) < 2:\n",
        "        print(\"The table does not appear to have data rows.\")\n",
        "        exit()\n",
        "\n",
        "    # -----------------------------\n",
        "    # Step 5: Extract headers and data rows\n",
        "    # -----------------------------\n",
        "    header_row = rows[0]\n",
        "    column_names = [cell.text.strip() for cell in header_row.find_all(\"th\")]\n",
        "    if not column_names:  # Fallback if <th> tags are not used\n",
        "        column_names = [cell.text.strip() for cell in header_row.find_all(\"td\")]\n",
        "\n",
        "    data = []\n",
        "    for row in rows[1:]:\n",
        "        cols = row.find_all(\"td\")\n",
        "        if len(cols) == len(column_names):\n",
        "            data.append([col.text.strip() for col in cols])\n",
        "\n",
        "    if not data:\n",
        "        print(\"No insider trading data rows found.\")\n",
        "        exit()\n",
        "\n",
        "    df = pd.DataFrame(data, columns=column_names)\n",
        "    # Normalize column names: replace non-breaking spaces, strip, and lowercase.\n",
        "    df.columns = [col.strip().replace('\\xa0', ' ').lower() for col in df.columns]\n",
        "\n",
        "    print(\"\\nInsider Trading Data Preview:\")\n",
        "    print(df.head())\n",
        "    print(\"\\nColumns found:\", df.columns.tolist())\n",
        "\n",
        "    return df\n",
        "\n",
        "def get_price_on_or_after(df, target):\n",
        "    \"\"\"\n",
        "    Given a DataFrame with a DateTimeIndex and a target date,\n",
        "    return the closing price and actual date of the first trading day\n",
        "    on or after the target date.\n",
        "    \"\"\"\n",
        "    target_ts = pd.Timestamp(target)\n",
        "    available = df[df.index >= target_ts]\n",
        "    if not available.empty:\n",
        "        actual_date = available.index[0].date()\n",
        "        price = available.iloc[0]['Close']\n",
        "        if isinstance(price, pd.Series):\n",
        "            price = price.iloc[0]\n",
        "        return price, actual_date\n",
        "    return None, None\n",
        "\n",
        "def get_stock_prices(ticker, start_date):\n",
        "    \"\"\"\n",
        "    Given a stock ticker and a starting date (as a date object),\n",
        "    download historical data using yfinance and return a dictionary\n",
        "    of closing prices for several time offsets relative to start_date.\n",
        "    \"\"\"\n",
        "    offsets = {\n",
        "        \"starting date\": start_date,\n",
        "        \"3 days\": start_date + timedelta(days=3),\n",
        "        \"1 week\": start_date + timedelta(weeks=1),\n",
        "        \"2 weeks\": start_date + timedelta(weeks=2),\n",
        "        \"1 month\": start_date + relativedelta(months=1),\n",
        "        \"3 months\": start_date + relativedelta(months=3),\n",
        "        \"6 months\": start_date + relativedelta(months=6),\n",
        "        \"1 year\": start_date + relativedelta(years=1)\n",
        "    }\n",
        "    last_date = max(offsets.values()) + timedelta(days=5)\n",
        "\n",
        "    data = yf.download(\n",
        "        ticker,\n",
        "        start=start_date.strftime(\"%Y-%m-%d\"),\n",
        "        end=last_date.strftime(\"%Y-%m-%d\")\n",
        "    )\n",
        "\n",
        "    if data.empty:\n",
        "        print(f\"No historical data found for {ticker}.\")\n",
        "        return None\n",
        "\n",
        "    prices = {}\n",
        "    for label, target_date in offsets.items():\n",
        "        price, actual_date = get_price_on_or_after(data, target_date)\n",
        "        prices[label] = {\"target\": target_date, \"actual\": actual_date, \"price\": price}\n",
        "    return prices\n",
        "\n",
        "def main():\n",
        "    # Fetch insider trading data.\n",
        "    insider_df = fetch_insider_data()\n",
        "    print(\"\\nInsider Trading Data Preview:\\n\")\n",
        "    print(insider_df.info())\n",
        "\n",
        "\n",
        "    # We expect the normalized columns to include 'ticker' and 'trade date'\n",
        "    if \"ticker\" not in insider_df.columns or \"trade date\" not in insider_df.columns:\n",
        "        print(\"Expected columns 'ticker' and 'trade date' not found in data. Please check the DataFrame columns above.\")\n",
        "        return\n",
        "\n",
        "    # Iterate over each row in the insider data.\n",
        "    for idx, row in insider_df.iterrows():\n",
        "        ticker = row.get(\"ticker\")\n",
        "        trade_date_str = row.get(\"trade date\")\n",
        "        insider = row.get(\"insider name\") or \"N/A\"\n",
        "\n",
        "        if not ticker or not trade_date_str:\n",
        "            print(f\"Row {idx} is missing ticker or trade date. Skipping.\")\n",
        "            continue\n",
        "\n",
        "        # Try parsing the trade date using multiple formats.\n",
        "        trade_date = None\n",
        "        for fmt in (\"%m/%d/%Y\", \"%Y-%m-%d\"):\n",
        "            try:\n",
        "                trade_date = datetime.strptime(trade_date_str, fmt).date()\n",
        "                break\n",
        "            except ValueError:\n",
        "                continue\n",
        "\n",
        "        if trade_date is None:\n",
        "            print(f\"Error parsing trade date '{trade_date_str}' for ticker {ticker}. Skipping.\")\n",
        "            continue\n",
        "\n",
        "        # Print a visual barrier and header for this query.\n",
        "        print(\"\\n\" + \"=\" * 60)\n",
        "        print(f\"Ticker: {ticker} | Trade Date: {trade_date} | Insider: {insider}\")\n",
        "\n",
        "        prices = get_stock_prices(ticker, trade_date)\n",
        "        if prices is None:\n",
        "            continue\n",
        "\n",
        "        base_info = prices.get(\"starting date\")\n",
        "        if base_info is None or base_info.get(\"price\") is None:\n",
        "            print(\"No starting price available. Skipping net gain calculation.\")\n",
        "            continue\n",
        "\n",
        "        base_price = base_info[\"price\"]\n",
        "        print(f\"Starting Date Price: ${base_price:.2f}\\n\")\n",
        "\n",
        "        net_gain_occurred = False\n",
        "\n",
        "        # Loop over all offsets (skipping the base 'starting date' in the net gain details).\n",
        "        for label, info in prices.items():\n",
        "            if label.lower() == \"starting date\":\n",
        "                # Already printed the base price.\n",
        "                continue\n",
        "\n",
        "            price = info.get(\"price\")\n",
        "            target_date = info.get(\"target\")\n",
        "            actual_date = info.get(\"actual\")\n",
        "            if price is None:\n",
        "                print(f\"{label.title()} (target: {target_date}, actual: {actual_date}): No data available.\")\n",
        "            else:\n",
        "                net_gain = price - base_price\n",
        "                percent_gain = (net_gain / base_price) * 100\n",
        "                # Use a green check if net gain is positive, else a red X.\n",
        "                symbol = \"✅\" if net_gain > 0 else \"❌\"\n",
        "                if net_gain > 0:\n",
        "                    net_gain_occurred = True\n",
        "                print(f\"{label.title()} (target: {target_date}, actual: {actual_date}): Price: ${price:.2f} | Net Gain: ${net_gain:.2f} | Percent Gain %{percent_gain:.2f} {symbol}\")\n",
        "\n",
        "        overall_symbol = \"✅\" if net_gain_occurred else \"❌\"\n",
        "        print(f\"\\nOverall Net Gain Occurred? {overall_symbol}\")\n",
        "        print(\"=\" * 60 + \"\\n\")\n",
        "\n",
        "if __name__ == \"__main__\":\n",
        "    main()\n"
      ],
      "metadata": {
        "colab": {
          "base_uri": "https://localhost:8080/"
        },
        "id": "EH1kGCqcTy6i",
        "outputId": "29fc92aa-9626-40e0-f751-00d4de552358"
      },
      "execution_count": null,
      "outputs": [
        {
          "output_type": "stream",
          "name": "stdout",
          "text": [
            "Enter trade start date (YYYY-MM-DD): 2020-05-01\n",
            "Enter trade end date (YYYY-MM-DD): 2021-05-01\n",
            "Enter insider name (press Enter to skip): \n",
            "Enter trade type (purchase, sale, or both): both\n",
            "Fetching insider trading data from: http://openinsider.com/screener?s=&o=&pl=&ph=&ll=&lh=&fd=0&fdr=&td=-1&tdr=05%2F01%2F2020+-+05%2F01%2F2021&fdlyl=&fdlyh=&daysago=&vl=&vh=&ocl=&och=&sic1=-1&sicl=100&sich=9999&grp=0&nfl=&nfh=&nil=&nih=&nol=&noh=&v2l=&v2h=&oc2l=&oc2h=&sortcol=0&cnt=100&page=1&xp=1&xs=1\n"
          ]
        },
        {
          "output_type": "stream",
          "name": "stderr",
          "text": [
            "\r[*********************100%***********************]  1 of 1 completed"
          ]
        },
        {
          "output_type": "stream",
          "name": "stdout",
          "text": [
            "\n",
            "Insider Trading Data Preview:\n",
            "   x          filing date  trade date ticker  \\\n",
            "0     2025-01-17 21:49:11  2020-06-24   DAKT   \n",
            "1  M  2024-12-13 16:16:33  2020-06-10    VCV   \n",
            "2  M  2024-12-13 16:16:33  2020-06-10    VCV   \n",
            "3  M  2024-12-13 09:20:29  2021-04-16   CMTV   \n",
            "4  M  2024-10-25 16:30:03  2020-12-11   VTRS   \n",
            "\n",
            "                                      company name               insider name  \\\n",
            "0                              Daktronics Inc /sd/             Gatzke Carla S   \n",
            "1  Invesco California Value Municipal Income Trust  Bank of America Corp /de/   \n",
            "2  Invesco California Value Municipal Income Trust  Bank of America Corp /de/   \n",
            "3                            Community Bancorp /vt          Moore Jeffrey Lee   \n",
            "4                                      Viatris Inc               Korman Harry   \n",
            "\n",
            "                         title    trade type   price     qty    owned   δown  \\\n",
            "0  Secretary, VP of Human Reso  P - Purchase   $4.32    +435  842,940     0%   \n",
            "1                          10%      S - Sale  $11.90  -3,407    3,869   -47%   \n",
            "2                          10%  P - Purchase  $12.49  +7,276    3,869  -214%   \n",
            "3                          Dir  P - Purchase  $19.92  +4,400   15,419   +40%   \n",
            "4                          Dir  P - Purchase  $13.91  +4,403   94,960    +5%   \n",
            "\n",
            "      value 1d 1w 1m 6m  \n",
            "0   +$1,879              \n",
            "1  -$40,559              \n",
            "2  +$90,862              \n",
            "3  +$87,649              \n",
            "4  +$61,252              \n",
            "\n",
            "Columns found: ['x', 'filing date', 'trade date', 'ticker', 'company name', 'insider name', 'title', 'trade type', 'price', 'qty', 'owned', 'δown', 'value', '1d', '1w', '1m', '6m']\n",
            "\n",
            "Insider Trading Data Preview:\n",
            "\n",
            "<class 'pandas.core.frame.DataFrame'>\n",
            "RangeIndex: 100 entries, 0 to 99\n",
            "Data columns (total 17 columns):\n",
            " #   Column        Non-Null Count  Dtype \n",
            "---  ------        --------------  ----- \n",
            " 0   x             100 non-null    object\n",
            " 1   filing date   100 non-null    object\n",
            " 2   trade date    100 non-null    object\n",
            " 3   ticker        100 non-null    object\n",
            " 4   company name  100 non-null    object\n",
            " 5   insider name  100 non-null    object\n",
            " 6   title         100 non-null    object\n",
            " 7   trade type    100 non-null    object\n",
            " 8   price         100 non-null    object\n",
            " 9   qty           100 non-null    object\n",
            " 10  owned         100 non-null    object\n",
            " 11  δown          100 non-null    object\n",
            " 12  value         100 non-null    object\n",
            " 13  1d            100 non-null    object\n",
            " 14  1w            100 non-null    object\n",
            " 15  1m            100 non-null    object\n",
            " 16  6m            100 non-null    object\n",
            "dtypes: object(17)\n",
            "memory usage: 13.4+ KB\n",
            "None\n",
            "\n",
            "============================================================\n",
            "Ticker: DAKT | Trade Date: 2020-06-24 | Insider: Gatzke Carla S\n",
            "Starting Date Price: $4.10\n",
            "\n",
            "3 Days (target: 2020-06-27, actual: 2020-06-29): Price: $4.29 | Net Gain: $0.19 | Percent Gain %4.63 ✅\n",
            "1 Week (target: 2020-07-01, actual: 2020-07-01): Price: $4.28 | Net Gain: $0.18 | Percent Gain %4.39 ✅\n",
            "2 Weeks (target: 2020-07-08, actual: 2020-07-08): Price: $4.17 | Net Gain: $0.07 | Percent Gain %1.71 ✅\n",
            "1 Month (target: 2020-07-24, actual: 2020-07-24): Price: $4.20 | Net Gain: $0.10 | Percent Gain %2.44 ✅\n",
            "3 Months (target: 2020-09-24, actual: 2020-09-24): Price: $4.05 | Net Gain: $-0.05 | Percent Gain %-1.22 ❌\n",
            "6 Months (target: 2020-12-24, actual: 2020-12-24): Price: $4.80 | Net Gain: $0.70 | Percent Gain %17.07 ✅\n",
            "1 Year (target: 2021-06-24, actual: 2021-06-24): Price: $6.63 | Net Gain: $2.53 | Percent Gain %61.71 ✅\n",
            "\n",
            "Overall Net Gain Occurred? ✅\n",
            "============================================================\n",
            "\n",
            "\n",
            "============================================================\n",
            "Ticker: VCV | Trade Date: 2020-06-10 | Insider: Bank of America Corp /de/\n"
          ]
        },
        {
          "output_type": "stream",
          "name": "stderr",
          "text": [
            "\n",
            "[*********************100%***********************]  1 of 1 completed\n",
            "[*********************100%***********************]  1 of 1 completed\n"
          ]
        },
        {
          "output_type": "stream",
          "name": "stdout",
          "text": [
            "Starting Date Price: $9.27\n",
            "\n",
            "3 Days (target: 2020-06-13, actual: 2020-06-15): Price: $9.34 | Net Gain: $0.07 | Percent Gain %0.71 ✅\n",
            "1 Week (target: 2020-06-17, actual: 2020-06-17): Price: $9.30 | Net Gain: $0.03 | Percent Gain %0.28 ✅\n",
            "2 Weeks (target: 2020-06-24, actual: 2020-06-24): Price: $9.32 | Net Gain: $0.04 | Percent Gain %0.46 ✅\n",
            "1 Month (target: 2020-07-10, actual: 2020-07-10): Price: $9.55 | Net Gain: $0.27 | Percent Gain %2.95 ✅\n",
            "3 Months (target: 2020-09-10, actual: 2020-09-10): Price: $10.01 | Net Gain: $0.74 | Percent Gain %7.97 ✅\n",
            "6 Months (target: 2020-12-10, actual: 2020-12-10): Price: $10.55 | Net Gain: $1.28 | Percent Gain %13.79 ✅\n",
            "1 Year (target: 2021-06-10, actual: 2021-06-10): Price: $11.51 | Net Gain: $2.24 | Percent Gain %24.14 ✅\n",
            "\n",
            "Overall Net Gain Occurred? ✅\n",
            "============================================================\n",
            "\n",
            "\n",
            "============================================================\n",
            "Ticker: VCV | Trade Date: 2020-06-10 | Insider: Bank of America Corp /de/\n",
            "Starting Date Price: $9.27\n",
            "\n",
            "3 Days (target: 2020-06-13, actual: 2020-06-15): Price: $9.34 | Net Gain: $0.07 | Percent Gain %0.71 ✅\n",
            "1 Week (target: 2020-06-17, actual: 2020-06-17): Price: $9.30 | Net Gain: $0.03 | Percent Gain %0.28 ✅\n",
            "2 Weeks (target: 2020-06-24, actual: 2020-06-24): Price: $9.32 | Net Gain: $0.04 | Percent Gain %0.46 ✅\n",
            "1 Month (target: 2020-07-10, actual: 2020-07-10): Price: $9.55 | Net Gain: $0.27 | Percent Gain %2.95 ✅\n",
            "3 Months (target: 2020-09-10, actual: 2020-09-10): Price: $10.01 | Net Gain: $0.74 | Percent Gain %7.97 ✅\n",
            "6 Months (target: 2020-12-10, actual: 2020-12-10): Price: $10.55 | Net Gain: $1.28 | Percent Gain %13.79 ✅\n",
            "1 Year (target: 2021-06-10, actual: 2021-06-10): Price: $11.51 | Net Gain: $2.24 | Percent Gain %24.14 ✅\n",
            "\n",
            "Overall Net Gain Occurred? ✅\n",
            "============================================================\n",
            "\n",
            "\n",
            "============================================================\n",
            "Ticker: CMTV | Trade Date: 2021-04-16 | Insider: Moore Jeffrey Lee\n"
          ]
        },
        {
          "output_type": "stream",
          "name": "stderr",
          "text": [
            "[*********************100%***********************]  1 of 1 completed\n",
            "[*********************100%***********************]  1 of 1 completed"
          ]
        },
        {
          "output_type": "stream",
          "name": "stdout",
          "text": [
            "Starting Date Price: $15.33\n",
            "\n",
            "3 Days (target: 2021-04-19, actual: 2021-04-19): Price: $15.33 | Net Gain: $0.00 | Percent Gain %0.00 ❌\n",
            "1 Week (target: 2021-04-23, actual: 2021-04-23): Price: $16.16 | Net Gain: $0.83 | Percent Gain %5.41 ✅\n",
            "2 Weeks (target: 2021-04-30, actual: 2021-04-30): Price: $15.74 | Net Gain: $0.41 | Percent Gain %2.65 ✅\n",
            "1 Month (target: 2021-05-16, actual: 2021-05-17): Price: $15.44 | Net Gain: $0.11 | Percent Gain %0.70 ✅\n",
            "3 Months (target: 2021-07-16, actual: 2021-07-16): Price: $16.34 | Net Gain: $1.01 | Percent Gain %6.57 ✅\n",
            "6 Months (target: 2021-10-16, actual: 2021-10-18): Price: $16.32 | Net Gain: $0.98 | Percent Gain %6.42 ✅\n",
            "1 Year (target: 2022-04-16, actual: 2022-04-18): Price: $19.99 | Net Gain: $4.65 | Percent Gain %30.33 ✅\n",
            "\n",
            "Overall Net Gain Occurred? ✅\n",
            "============================================================\n",
            "\n",
            "\n",
            "============================================================\n",
            "Ticker: VTRS | Trade Date: 2020-12-11 | Insider: Korman Harry\n",
            "Starting Date Price: $14.89\n"
          ]
        },
        {
          "output_type": "stream",
          "name": "stderr",
          "text": [
            "\n",
            "[*********************100%***********************]  1 of 1 completed\n",
            "[*********************100%***********************]  1 of 1 completed\n",
            "ERROR:yfinance:\n",
            "1 Failed download:\n",
            "ERROR:yfinance:['XW']: YFPricesMissingError('$%ticker%: possibly delisted; no price data found  (1d 2020-08-11 -> 2021-08-16)')\n",
            "[*********************100%***********************]  1 of 1 completed\n"
          ]
        },
        {
          "output_type": "stream",
          "name": "stdout",
          "text": [
            "\n",
            "3 Days (target: 2020-12-14, actual: 2020-12-14): Price: $14.89 | Net Gain: $-0.01 | Percent Gain %-0.06 ❌\n",
            "1 Week (target: 2020-12-18, actual: 2020-12-18): Price: $15.25 | Net Gain: $0.35 | Percent Gain %2.36 ✅\n",
            "2 Weeks (target: 2020-12-25, actual: 2020-12-28): Price: $15.24 | Net Gain: $0.34 | Percent Gain %2.31 ✅\n",
            "1 Month (target: 2021-01-11, actual: 2021-01-11): Price: $15.86 | Net Gain: $0.97 | Percent Gain %6.52 ✅\n",
            "3 Months (target: 2021-03-11, actual: 2021-03-11): Price: $12.11 | Net Gain: $-2.78 | Percent Gain %-18.69 ❌\n",
            "6 Months (target: 2021-06-11, actual: 2021-06-11): Price: $13.61 | Net Gain: $-1.29 | Percent Gain %-8.64 ❌\n",
            "1 Year (target: 2021-12-11, actual: 2021-12-13): Price: $11.03 | Net Gain: $-3.86 | Percent Gain %-25.94 ❌\n",
            "\n",
            "Overall Net Gain Occurred? ✅\n",
            "============================================================\n",
            "\n",
            "\n",
            "============================================================\n",
            "Ticker: CZFS | Trade Date: 2020-10-28 | Insider: Landy R Joseph\n",
            "Starting Date Price: $36.88\n",
            "\n",
            "3 Days (target: 2020-10-31, actual: 2020-11-02): Price: $38.96 | Net Gain: $2.08 | Percent Gain %5.63 ✅\n",
            "1 Week (target: 2020-11-04, actual: 2020-11-04): Price: $38.54 | Net Gain: $1.65 | Percent Gain %4.48 ✅\n",
            "2 Weeks (target: 2020-11-11, actual: 2020-11-11): Price: $39.26 | Net Gain: $2.37 | Percent Gain %6.44 ✅\n",
            "1 Month (target: 2020-11-28, actual: 2020-11-30): Price: $39.43 | Net Gain: $2.54 | Percent Gain %6.90 ✅\n",
            "3 Months (target: 2021-01-28, actual: 2021-01-28): Price: $47.98 | Net Gain: $11.09 | Percent Gain %30.08 ✅\n",
            "6 Months (target: 2021-04-28, actual: 2021-04-28): Price: $53.50 | Net Gain: $16.62 | Percent Gain %45.06 ✅\n",
            "1 Year (target: 2021-10-28, actual: 2021-10-28): Price: $53.96 | Net Gain: $17.08 | Percent Gain %46.31 ✅\n",
            "\n",
            "Overall Net Gain Occurred? ✅\n",
            "============================================================\n",
            "\n",
            "\n",
            "============================================================\n",
            "Ticker: XW | Trade Date: 2020-08-11 | Insider: Landy R Joseph\n",
            "No historical data found for XW.\n",
            "\n",
            "============================================================\n",
            "Ticker: CZFS | Trade Date: 2020-08-03 | Insider: Landy R Joseph\n",
            "Starting Date Price: $41.14\n",
            "\n",
            "3 Days (target: 2020-08-06, actual: 2020-08-06): Price: $40.93 | Net Gain: $-0.21 | Percent Gain %-0.51 ❌\n",
            "1 Week (target: 2020-08-10, actual: 2020-08-10): Price: $40.93 | Net Gain: $-0.21 | Percent Gain %-0.51 ❌\n",
            "2 Weeks (target: 2020-08-17, actual: 2020-08-17): Price: $40.72 | Net Gain: $-0.42 | Percent Gain %-1.02 ❌\n",
            "1 Month (target: 2020-09-03, actual: 2020-09-03): Price: $39.46 | Net Gain: $-1.68 | Percent Gain %-4.08 ❌\n",
            "3 Months (target: 2020-11-03, actual: 2020-11-03): Price: $38.54 | Net Gain: $-2.61 | Percent Gain %-6.34 ❌\n",
            "6 Months (target: 2021-02-03, actual: 2021-02-03): Price: $47.08 | Net Gain: $5.93 | Percent Gain %14.42 ✅\n",
            "1 Year (target: 2021-08-03, actual: 2021-08-03): Price: $54.12 | Net Gain: $12.98 | Percent Gain %31.55 ✅\n",
            "\n",
            "Overall Net Gain Occurred? ✅\n",
            "============================================================\n",
            "\n",
            "\n",
            "============================================================\n",
            "Ticker: CZFS | Trade Date: 2020-07-31 | Insider: Landy R Joseph\n"
          ]
        },
        {
          "output_type": "stream",
          "name": "stderr",
          "text": [
            "[*********************100%***********************]  1 of 1 completed\n",
            "[*********************100%***********************]  1 of 1 completed\n"
          ]
        },
        {
          "output_type": "stream",
          "name": "stdout",
          "text": [
            "Starting Date Price: $41.14\n",
            "\n",
            "3 Days (target: 2020-08-03, actual: 2020-08-03): Price: $41.14 | Net Gain: $0.00 | Percent Gain %0.00 ❌\n",
            "1 Week (target: 2020-08-07, actual: 2020-08-07): Price: $40.93 | Net Gain: $-0.21 | Percent Gain %-0.51 ❌\n",
            "2 Weeks (target: 2020-08-14, actual: 2020-08-14): Price: $40.93 | Net Gain: $-0.21 | Percent Gain %-0.51 ❌\n",
            "1 Month (target: 2020-08-31, actual: 2020-08-31): Price: $39.46 | Net Gain: $-1.68 | Percent Gain %-4.08 ❌\n",
            "3 Months (target: 2020-10-31, actual: 2020-11-02): Price: $38.96 | Net Gain: $-2.18 | Percent Gain %-5.31 ❌\n",
            "6 Months (target: 2021-01-31, actual: 2021-02-01): Price: $48.79 | Net Gain: $7.64 | Percent Gain %18.58 ✅\n",
            "1 Year (target: 2021-07-31, actual: 2021-08-02): Price: $54.38 | Net Gain: $13.24 | Percent Gain %32.18 ✅\n",
            "\n",
            "Overall Net Gain Occurred? ✅\n",
            "============================================================\n",
            "\n",
            "\n",
            "============================================================\n",
            "Ticker: FTAI | Trade Date: 2020-11-20 | Insider: Tuchman Martin\n",
            "Starting Date Price: $14.44\n",
            "\n",
            "3 Days (target: 2020-11-23, actual: 2020-11-23): Price: $15.14 | Net Gain: $0.69 | Percent Gain %4.80 ✅\n",
            "1 Week (target: 2020-11-27, actual: 2020-11-27): Price: $15.34 | Net Gain: $0.90 | Percent Gain %6.20 ✅\n",
            "2 Weeks (target: 2020-12-04, actual: 2020-12-04): Price: $16.65 | Net Gain: $2.21 | Percent Gain %15.31 ✅\n",
            "1 Month (target: 2020-12-20, actual: 2020-12-21): Price: $16.33 | Net Gain: $1.89 | Percent Gain %13.06 ✅\n",
            "3 Months (target: 2021-02-20, actual: 2021-02-22): Price: $19.12 | Net Gain: $4.68 | Percent Gain %32.42 ✅\n",
            "6 Months (target: 2021-05-20, actual: 2021-05-20): Price: $20.87 | Net Gain: $6.43 | Percent Gain %44.52 ✅\n",
            "1 Year (target: 2021-11-20, actual: 2021-11-22): Price: $18.31 | Net Gain: $3.87 | Percent Gain %26.79 ✅\n",
            "\n",
            "Overall Net Gain Occurred? ✅\n",
            "============================================================\n",
            "\n",
            "\n",
            "============================================================\n",
            "Ticker: AGAE | Trade Date: 2020-12-14 | Insider: Knighted Pastures LLC\n"
          ]
        },
        {
          "output_type": "stream",
          "name": "stderr",
          "text": [
            "[*********************100%***********************]  1 of 1 completed\n",
            "[*********************100%***********************]  1 of 1 completed\n"
          ]
        },
        {
          "output_type": "stream",
          "name": "stdout",
          "text": [
            "Starting Date Price: $1.51\n",
            "\n",
            "3 Days (target: 2020-12-17, actual: 2020-12-17): Price: $1.48 | Net Gain: $-0.03 | Percent Gain %-1.99 ❌\n",
            "1 Week (target: 2020-12-21, actual: 2020-12-21): Price: $1.52 | Net Gain: $0.01 | Percent Gain %0.66 ✅\n",
            "2 Weeks (target: 2020-12-28, actual: 2020-12-28): Price: $1.78 | Net Gain: $0.27 | Percent Gain %17.88 ✅\n",
            "1 Month (target: 2021-01-14, actual: 2021-01-14): Price: $1.65 | Net Gain: $0.14 | Percent Gain %9.27 ✅\n",
            "3 Months (target: 2021-03-14, actual: 2021-03-15): Price: $2.79 | Net Gain: $1.28 | Percent Gain %84.77 ✅\n",
            "6 Months (target: 2021-06-14, actual: 2021-06-14): Price: $2.27 | Net Gain: $0.76 | Percent Gain %50.33 ✅\n",
            "1 Year (target: 2021-12-14, actual: 2021-12-14): Price: $1.75 | Net Gain: $0.24 | Percent Gain %15.89 ✅\n",
            "\n",
            "Overall Net Gain Occurred? ✅\n",
            "============================================================\n",
            "\n",
            "\n",
            "============================================================\n",
            "Ticker: TDG | Trade Date: 2020-09-10 | Insider: Santana Michele\n",
            "Starting Date Price: $443.67\n",
            "\n",
            "3 Days (target: 2020-09-13, actual: 2020-09-14): Price: $450.63 | Net Gain: $6.96 | Percent Gain %1.57 ✅\n",
            "1 Week (target: 2020-09-17, actual: 2020-09-17): Price: $461.03 | Net Gain: $17.36 | Percent Gain %3.91 ✅\n",
            "2 Weeks (target: 2020-09-24, actual: 2020-09-24): Price: $426.02 | Net Gain: $-17.65 | Percent Gain %-3.98 ❌\n",
            "1 Month (target: 2020-10-10, actual: 2020-10-12): Price: $431.71 | Net Gain: $-11.97 | Percent Gain %-2.70 ❌\n",
            "3 Months (target: 2020-12-10, actual: 2020-12-10): Price: $533.87 | Net Gain: $90.20 | Percent Gain %20.33 ✅\n",
            "6 Months (target: 2021-03-10, actual: 2021-03-10): Price: $532.42 | Net Gain: $88.74 | Percent Gain %20.00 ✅\n",
            "1 Year (target: 2021-09-10, actual: 2021-09-10): Price: $532.58 | Net Gain: $88.91 | Percent Gain %20.04 ✅\n",
            "\n",
            "Overall Net Gain Occurred? ✅\n",
            "============================================================\n",
            "\n",
            "\n",
            "============================================================\n",
            "Ticker: AGM | Trade Date: 2020-06-30 | Insider: Dobrinski Everett M\n"
          ]
        },
        {
          "output_type": "stream",
          "name": "stderr",
          "text": [
            "[*********************100%***********************]  1 of 1 completed\n",
            "[*********************100%***********************]  1 of 1 completed\n"
          ]
        },
        {
          "output_type": "stream",
          "name": "stdout",
          "text": [
            "Starting Date Price: $55.15\n",
            "\n",
            "3 Days (target: 2020-07-03, actual: 2020-07-06): Price: $53.24 | Net Gain: $-1.90 | Percent Gain %-3.45 ❌\n",
            "1 Week (target: 2020-07-07, actual: 2020-07-07): Price: $51.95 | Net Gain: $-3.20 | Percent Gain %-5.80 ❌\n",
            "2 Weeks (target: 2020-07-14, actual: 2020-07-14): Price: $51.18 | Net Gain: $-3.97 | Percent Gain %-7.20 ❌\n",
            "1 Month (target: 2020-07-30, actual: 2020-07-30): Price: $51.72 | Net Gain: $-3.43 | Percent Gain %-6.22 ❌\n",
            "3 Months (target: 2020-09-30, actual: 2020-09-30): Price: $55.49 | Net Gain: $0.34 | Percent Gain %0.63 ✅\n",
            "6 Months (target: 2020-12-30, actual: 2020-12-30): Price: $65.30 | Net Gain: $10.15 | Percent Gain %18.41 ✅\n",
            "1 Year (target: 2021-06-30, actual: 2021-06-30): Price: $88.65 | Net Gain: $33.50 | Percent Gain %60.75 ✅\n",
            "\n",
            "Overall Net Gain Occurred? ✅\n",
            "============================================================\n",
            "\n",
            "\n",
            "============================================================\n",
            "Ticker: BGS | Trade Date: 2021-01-27 | Insider: Schum Ellen M\n",
            "Starting Date Price: $30.65\n",
            "\n",
            "3 Days (target: 2021-01-30, actual: 2021-02-01): Price: $27.88 | Net Gain: $-2.78 | Percent Gain %-9.06 ❌\n",
            "1 Week (target: 2021-02-03, actual: 2021-02-03): Price: $24.52 | Net Gain: $-6.13 | Percent Gain %-20.00 ❌\n",
            "2 Weeks (target: 2021-02-10, actual: 2021-02-10): Price: $24.64 | Net Gain: $-6.01 | Percent Gain %-19.61 ❌\n",
            "1 Month (target: 2021-02-27, actual: 2021-03-01): Price: $22.99 | Net Gain: $-7.66 | Percent Gain %-24.99 ❌\n",
            "3 Months (target: 2021-04-27, actual: 2021-04-27): Price: $21.97 | Net Gain: $-8.68 | Percent Gain %-28.33 ❌\n",
            "6 Months (target: 2021-07-27, actual: 2021-07-27): Price: $22.93 | Net Gain: $-7.73 | Percent Gain %-25.21 ❌\n",
            "1 Year (target: 2022-01-27, actual: 2022-01-27): Price: $24.47 | Net Gain: $-6.18 | Percent Gain %-20.16 ❌\n",
            "\n",
            "Overall Net Gain Occurred? ❌\n",
            "============================================================\n",
            "\n",
            "\n",
            "============================================================\n",
            "Ticker: JELD | Trade Date: 2020-11-05 | Insider: Wendt Roderick\n"
          ]
        },
        {
          "output_type": "stream",
          "name": "stderr",
          "text": [
            "[*********************100%***********************]  1 of 1 completed\n",
            "[*********************100%***********************]  1 of 1 completed\n"
          ]
        },
        {
          "output_type": "stream",
          "name": "stdout",
          "text": [
            "Starting Date Price: $24.48\n",
            "\n",
            "3 Days (target: 2020-11-08, actual: 2020-11-09): Price: $21.22 | Net Gain: $-3.26 | Percent Gain %-13.32 ❌\n",
            "1 Week (target: 2020-11-12, actual: 2020-11-12): Price: $22.51 | Net Gain: $-1.97 | Percent Gain %-8.05 ❌\n",
            "2 Weeks (target: 2020-11-19, actual: 2020-11-19): Price: $24.30 | Net Gain: $-0.18 | Percent Gain %-0.74 ❌\n",
            "1 Month (target: 2020-12-05, actual: 2020-12-07): Price: $24.72 | Net Gain: $0.24 | Percent Gain %0.98 ✅\n",
            "3 Months (target: 2021-02-05, actual: 2021-02-05): Price: $28.00 | Net Gain: $3.52 | Percent Gain %14.38 ✅\n",
            "6 Months (target: 2021-05-05, actual: 2021-05-05): Price: $29.62 | Net Gain: $5.14 | Percent Gain %21.00 ✅\n",
            "1 Year (target: 2021-11-05, actual: 2021-11-05): Price: $27.26 | Net Gain: $2.78 | Percent Gain %11.36 ✅\n",
            "\n",
            "Overall Net Gain Occurred? ✅\n",
            "============================================================\n",
            "\n",
            "\n",
            "============================================================\n",
            "Ticker: FMBM | Trade Date: 2020-05-07 | Insider: Keeler Anne B\n",
            "Starting Date Price: $15.29\n",
            "\n",
            "3 Days (target: 2020-05-10, actual: 2020-05-11): Price: $14.85 | Net Gain: $-0.44 | Percent Gain %-2.87 ❌\n",
            "1 Week (target: 2020-05-14, actual: 2020-05-14): Price: $14.41 | Net Gain: $-0.88 | Percent Gain %-5.77 ❌\n",
            "2 Weeks (target: 2020-05-21, actual: 2020-05-21): Price: $14.62 | Net Gain: $-0.68 | Percent Gain %-4.42 ❌\n",
            "1 Month (target: 2020-06-07, actual: 2020-06-08): Price: $15.77 | Net Gain: $0.48 | Percent Gain %3.11 ✅\n",
            "3 Months (target: 2020-08-07, actual: 2020-08-07): Price: $16.06 | Net Gain: $0.76 | Percent Gain %5.00 ✅\n",
            "6 Months (target: 2020-11-07, actual: 2020-11-09): Price: $21.08 | Net Gain: $5.79 | Percent Gain %37.84 ✅\n",
            "1 Year (target: 2021-05-07, actual: 2021-05-07): Price: $23.97 | Net Gain: $8.68 | Percent Gain %56.75 ✅\n",
            "\n",
            "Overall Net Gain Occurred? ✅\n",
            "============================================================\n",
            "\n",
            "\n",
            "============================================================\n",
            "Ticker: MARA | Trade Date: 2020-12-15 | Insider: Thiel Frederick G\n"
          ]
        },
        {
          "output_type": "stream",
          "name": "stderr",
          "text": [
            "[*********************100%***********************]  1 of 1 completed\n",
            "[*********************100%***********************]  1 of 1 completed"
          ]
        },
        {
          "output_type": "stream",
          "name": "stdout",
          "text": [
            "Starting Date Price: $7.07\n",
            "\n",
            "3 Days (target: 2020-12-18, actual: 2020-12-18): Price: $9.31 | Net Gain: $2.24 | Percent Gain %31.68 ✅\n",
            "1 Week (target: 2020-12-22, actual: 2020-12-22): Price: $13.97 | Net Gain: $6.90 | Percent Gain %97.60 ✅\n",
            "2 Weeks (target: 2020-12-29, actual: 2020-12-29): Price: $11.76 | Net Gain: $4.69 | Percent Gain %66.34 ✅\n",
            "1 Month (target: 2021-01-15, actual: 2021-01-15): Price: $22.39 | Net Gain: $15.32 | Percent Gain %216.69 ✅\n",
            "3 Months (target: 2021-03-15, actual: 2021-03-15): Price: $43.10 | Net Gain: $36.03 | Percent Gain %509.62 ✅\n",
            "6 Months (target: 2021-06-15, actual: 2021-06-15): Price: $30.67 | Net Gain: $23.60 | Percent Gain %333.80 ✅\n",
            "1 Year (target: 2021-12-15, actual: 2021-12-15): Price: $38.73 | Net Gain: $31.66 | Percent Gain %447.81 ✅\n",
            "\n",
            "Overall Net Gain Occurred? ✅\n",
            "============================================================\n",
            "\n",
            "\n",
            "============================================================\n",
            "Ticker: USLM | Trade Date: 2021-03-12 | Insider: Stone Timothy Wade\n"
          ]
        },
        {
          "output_type": "stream",
          "name": "stderr",
          "text": [
            "\n",
            "\r[*********************100%***********************]  1 of 1 completed\n"
          ]
        },
        {
          "output_type": "stream",
          "name": "stdout",
          "text": [
            "Starting Date Price: $29.35\n",
            "\n",
            "3 Days (target: 2021-03-15, actual: 2021-03-15): Price: $28.59 | Net Gain: $-0.76 | Percent Gain %-2.59 ❌\n",
            "1 Week (target: 2021-03-19, actual: 2021-03-19): Price: $28.90 | Net Gain: $-0.45 | Percent Gain %-1.52 ❌\n",
            "2 Weeks (target: 2021-03-26, actual: 2021-03-26): Price: $26.71 | Net Gain: $-2.63 | Percent Gain %-8.97 ❌\n",
            "1 Month (target: 2021-04-12, actual: 2021-04-12): Price: $28.78 | Net Gain: $-0.56 | Percent Gain %-1.92 ❌\n",
            "3 Months (target: 2021-06-12, actual: 2021-06-14): Price: $27.56 | Net Gain: $-1.79 | Percent Gain %-6.10 ❌\n",
            "6 Months (target: 2021-09-12, actual: 2021-09-13): Price: $26.60 | Net Gain: $-2.75 | Percent Gain %-9.36 ❌\n",
            "1 Year (target: 2022-03-12, actual: 2022-03-14): Price: $22.83 | Net Gain: $-6.52 | Percent Gain %-22.20 ❌\n",
            "\n",
            "Overall Net Gain Occurred? ❌\n",
            "============================================================\n",
            "\n",
            "\n",
            "============================================================\n",
            "Ticker: NTRS | Trade Date: 2020-05-05 | Insider: Prado Becerra Jose Luis\n",
            "Starting Date Price: $62.94\n",
            "\n",
            "3 Days (target: 2020-05-08, actual: 2020-05-08): Price: $65.45 | Net Gain: $2.52 | Percent Gain %4.00 ✅\n",
            "1 Week (target: 2020-05-12, actual: 2020-05-12): Price: $62.75 | Net Gain: $-0.19 | Percent Gain %-0.30 ❌\n",
            "2 Weeks (target: 2020-05-19, actual: 2020-05-19): Price: $63.19 | Net Gain: $0.26 | Percent Gain %0.41 ✅\n",
            "1 Month (target: 2020-06-05, actual: 2020-06-05): Price: $78.12 | Net Gain: $15.18 | Percent Gain %24.13 ✅\n",
            "3 Months (target: 2020-08-05, actual: 2020-08-05): Price: $69.80 | Net Gain: $6.86 | Percent Gain %10.90 ✅\n",
            "6 Months (target: 2020-11-05, actual: 2020-11-05): Price: $71.45 | Net Gain: $8.51 | Percent Gain %13.53 ✅\n",
            "1 Year (target: 2021-05-05, actual: 2021-05-05): Price: $104.34 | Net Gain: $41.40 | Percent Gain %65.78 ✅\n",
            "\n",
            "Overall Net Gain Occurred? ✅\n",
            "============================================================\n",
            "\n",
            "\n",
            "============================================================\n",
            "Ticker: SILK | Trade Date: 2021-03-02 | Insider: Rogers Erica J.\n"
          ]
        },
        {
          "output_type": "stream",
          "name": "stderr",
          "text": [
            "\r[*********************100%***********************]  1 of 1 completed\n",
            "ERROR:yfinance:\n",
            "1 Failed download:\n",
            "ERROR:yfinance:['SILK']: YFTzMissingError('$%ticker%: possibly delisted; no timezone found')\n",
            "[*********************100%***********************]  1 of 1 completed\n"
          ]
        },
        {
          "output_type": "stream",
          "name": "stdout",
          "text": [
            "No historical data found for SILK.\n",
            "\n",
            "============================================================\n",
            "Ticker: DSGN | Trade Date: 2021-03-30 | Insider: William Arsani\n",
            "Starting Date Price: $29.52\n",
            "\n",
            "3 Days (target: 2021-04-02, actual: 2021-04-05): Price: $29.42 | Net Gain: $-0.10 | Percent Gain %-0.34 ❌\n",
            "1 Week (target: 2021-04-06, actual: 2021-04-06): Price: $29.78 | Net Gain: $0.26 | Percent Gain %0.88 ✅\n",
            "2 Weeks (target: 2021-04-13, actual: 2021-04-13): Price: $23.10 | Net Gain: $-6.42 | Percent Gain %-21.75 ❌\n",
            "1 Month (target: 2021-04-30, actual: 2021-04-30): Price: $26.23 | Net Gain: $-3.29 | Percent Gain %-11.14 ❌\n",
            "3 Months (target: 2021-06-30, actual: 2021-06-30): Price: $19.89 | Net Gain: $-9.63 | Percent Gain %-32.62 ❌\n",
            "6 Months (target: 2021-09-30, actual: 2021-09-30): Price: $14.69 | Net Gain: $-14.83 | Percent Gain %-50.24 ❌\n",
            "1 Year (target: 2022-03-30, actual: 2022-03-30): Price: $16.01 | Net Gain: $-13.51 | Percent Gain %-45.77 ❌\n",
            "\n",
            "Overall Net Gain Occurred? ✅\n",
            "============================================================\n",
            "\n",
            "\n",
            "============================================================\n",
            "Ticker: TYL | Trade Date: 2020-06-02 | Insider: Womble Dustin R\n"
          ]
        },
        {
          "output_type": "stream",
          "name": "stderr",
          "text": [
            "[*********************100%***********************]  1 of 1 completed\n",
            "[*********************100%***********************]  1 of 1 completed\n"
          ]
        },
        {
          "output_type": "stream",
          "name": "stdout",
          "text": [
            "Starting Date Price: $382.66\n",
            "\n",
            "3 Days (target: 2020-06-05, actual: 2020-06-05): Price: $358.43 | Net Gain: $-24.23 | Percent Gain %-6.33 ❌\n",
            "1 Week (target: 2020-06-09, actual: 2020-06-09): Price: $355.61 | Net Gain: $-27.05 | Percent Gain %-7.07 ❌\n",
            "2 Weeks (target: 2020-06-16, actual: 2020-06-16): Price: $342.80 | Net Gain: $-39.86 | Percent Gain %-10.42 ❌\n",
            "1 Month (target: 2020-07-02, actual: 2020-07-02): Price: $355.22 | Net Gain: $-27.44 | Percent Gain %-7.17 ❌\n",
            "3 Months (target: 2020-09-02, actual: 2020-09-02): Price: $349.78 | Net Gain: $-32.88 | Percent Gain %-8.59 ❌\n",
            "6 Months (target: 2020-12-02, actual: 2020-12-02): Price: $418.17 | Net Gain: $35.51 | Percent Gain %9.28 ✅\n",
            "1 Year (target: 2021-06-02, actual: 2021-06-02): Price: $400.99 | Net Gain: $18.33 | Percent Gain %4.79 ✅\n",
            "\n",
            "Overall Net Gain Occurred? ✅\n",
            "============================================================\n",
            "\n",
            "\n",
            "============================================================\n",
            "Ticker: TYL | Trade Date: 2020-12-08 | Insider: Womble Dustin R\n",
            "Starting Date Price: $447.44\n",
            "\n",
            "3 Days (target: 2020-12-11, actual: 2020-12-11): Price: $450.80 | Net Gain: $3.36 | Percent Gain %0.75 ✅\n",
            "1 Week (target: 2020-12-15, actual: 2020-12-15): Price: $452.34 | Net Gain: $4.90 | Percent Gain %1.10 ✅\n",
            "2 Weeks (target: 2020-12-22, actual: 2020-12-22): Price: $438.52 | Net Gain: $-8.92 | Percent Gain %-1.99 ❌\n",
            "1 Month (target: 2021-01-08, actual: 2021-01-08): Price: $436.39 | Net Gain: $-11.05 | Percent Gain %-2.47 ❌\n",
            "3 Months (target: 2021-03-08, actual: 2021-03-08): Price: $398.28 | Net Gain: $-49.16 | Percent Gain %-10.99 ❌\n",
            "6 Months (target: 2021-06-08, actual: 2021-06-08): Price: $413.17 | Net Gain: $-34.27 | Percent Gain %-7.66 ❌\n",
            "1 Year (target: 2021-12-08, actual: 2021-12-08): Price: $529.97 | Net Gain: $82.53 | Percent Gain %18.44 ✅\n",
            "\n",
            "Overall Net Gain Occurred? ✅\n",
            "============================================================\n",
            "\n",
            "\n",
            "============================================================\n",
            "Ticker: TYL | Trade Date: 2020-05-20 | Insider: Womble Dustin R\n"
          ]
        },
        {
          "output_type": "stream",
          "name": "stderr",
          "text": [
            "[*********************100%***********************]  1 of 1 completed\n",
            "[*********************100%***********************]  1 of 1 completed\n"
          ]
        },
        {
          "output_type": "stream",
          "name": "stdout",
          "text": [
            "Starting Date Price: $361.63\n",
            "\n",
            "3 Days (target: 2020-05-23, actual: 2020-05-26): Price: $352.78 | Net Gain: $-8.85 | Percent Gain %-2.45 ❌\n",
            "1 Week (target: 2020-05-27, actual: 2020-05-27): Price: $365.00 | Net Gain: $3.37 | Percent Gain %0.93 ✅\n",
            "2 Weeks (target: 2020-06-03, actual: 2020-06-03): Price: $378.15 | Net Gain: $16.52 | Percent Gain %4.57 ✅\n",
            "1 Month (target: 2020-06-20, actual: 2020-06-22): Price: $338.30 | Net Gain: $-23.33 | Percent Gain %-6.45 ❌\n",
            "3 Months (target: 2020-08-20, actual: 2020-08-20): Price: $339.50 | Net Gain: $-22.13 | Percent Gain %-6.12 ❌\n",
            "6 Months (target: 2020-11-20, actual: 2020-11-20): Price: $414.47 | Net Gain: $52.84 | Percent Gain %14.61 ✅\n",
            "1 Year (target: 2021-05-20, actual: 2021-05-20): Price: $403.52 | Net Gain: $41.89 | Percent Gain %11.58 ✅\n",
            "\n",
            "Overall Net Gain Occurred? ✅\n",
            "============================================================\n",
            "\n",
            "\n",
            "============================================================\n",
            "Ticker: FNGR | Trade Date: 2020-05-01 | Insider: Li Li\n",
            "Starting Date Price: $0.20\n",
            "\n",
            "3 Days (target: 2020-05-04, actual: 2020-05-04): Price: $0.18 | Net Gain: $-0.02 | Percent Gain %-10.00 ❌\n",
            "1 Week (target: 2020-05-08, actual: 2020-05-08): Price: $0.40 | Net Gain: $0.20 | Percent Gain %100.00 ✅\n",
            "2 Weeks (target: 2020-05-15, actual: 2020-05-15): Price: $0.25 | Net Gain: $0.05 | Percent Gain %25.00 ✅\n",
            "1 Month (target: 2020-06-01, actual: 2020-06-01): Price: $0.45 | Net Gain: $0.25 | Percent Gain %125.00 ✅\n",
            "3 Months (target: 2020-08-01, actual: 2020-08-03): Price: $3.98 | Net Gain: $3.78 | Percent Gain %1890.00 ✅\n",
            "6 Months (target: 2020-11-01, actual: 2020-11-02): Price: $5.74 | Net Gain: $5.54 | Percent Gain %2770.00 ✅\n",
            "1 Year (target: 2021-05-01, actual: 2021-05-03): Price: $8.14 | Net Gain: $7.94 | Percent Gain %3970.00 ✅\n",
            "\n",
            "Overall Net Gain Occurred? ✅\n",
            "============================================================\n",
            "\n",
            "\n",
            "============================================================\n",
            "Ticker: MRKR | Trade Date: 2021-03-16 | Insider: Eansor Norman David\n"
          ]
        },
        {
          "output_type": "stream",
          "name": "stderr",
          "text": [
            "[*********************100%***********************]  1 of 1 completed\n",
            "[*********************100%***********************]  1 of 1 completed\n"
          ]
        },
        {
          "output_type": "stream",
          "name": "stdout",
          "text": [
            "Starting Date Price: $18.60\n",
            "\n",
            "3 Days (target: 2021-03-19, actual: 2021-03-19): Price: $24.20 | Net Gain: $5.60 | Percent Gain %30.11 ✅\n",
            "1 Week (target: 2021-03-23, actual: 2021-03-23): Price: $25.80 | Net Gain: $7.20 | Percent Gain %38.71 ✅\n",
            "2 Weeks (target: 2021-03-30, actual: 2021-03-30): Price: $21.60 | Net Gain: $3.00 | Percent Gain %16.13 ✅\n",
            "1 Month (target: 2021-04-16, actual: 2021-04-16): Price: $20.50 | Net Gain: $1.90 | Percent Gain %10.22 ✅\n",
            "3 Months (target: 2021-06-16, actual: 2021-06-16): Price: $32.60 | Net Gain: $14.00 | Percent Gain %75.27 ✅\n",
            "6 Months (target: 2021-09-16, actual: 2021-09-16): Price: $17.90 | Net Gain: $-0.70 | Percent Gain %-3.76 ❌\n",
            "1 Year (target: 2022-03-16, actual: 2022-03-16): Price: $4.10 | Net Gain: $-14.50 | Percent Gain %-77.96 ❌\n",
            "\n",
            "Overall Net Gain Occurred? ✅\n",
            "============================================================\n",
            "\n",
            "\n",
            "============================================================\n",
            "Ticker: RVYL | Trade Date: 2020-11-13 | Insider: Nisan Fredi\n",
            "Starting Date Price: $31.80\n",
            "\n",
            "3 Days (target: 2020-11-16, actual: 2020-11-16): Price: $31.20 | Net Gain: $-0.60 | Percent Gain %-1.89 ❌\n",
            "1 Week (target: 2020-11-20, actual: 2020-11-20): Price: $38.40 | Net Gain: $6.60 | Percent Gain %20.75 ✅\n",
            "2 Weeks (target: 2020-11-27, actual: 2020-11-27): Price: $64.20 | Net Gain: $32.40 | Percent Gain %101.89 ✅\n",
            "1 Month (target: 2020-12-13, actual: 2020-12-14): Price: $48.00 | Net Gain: $16.20 | Percent Gain %50.94 ✅\n",
            "3 Months (target: 2021-02-13, actual: 2021-02-16): Price: $132.00 | Net Gain: $100.20 | Percent Gain %315.09 ✅\n",
            "6 Months (target: 2021-05-13, actual: 2021-05-13): Price: $81.50 | Net Gain: $49.70 | Percent Gain %156.29 ✅\n",
            "1 Year (target: 2021-11-13, actual: 2021-11-15): Price: $66.00 | Net Gain: $34.20 | Percent Gain %107.55 ✅\n",
            "\n",
            "Overall Net Gain Occurred? ✅\n",
            "============================================================\n",
            "\n",
            "\n",
            "============================================================\n",
            "Ticker: BIOL | Trade Date: 2020-06-08 | Insider: Schuler Education Foundation\n"
          ]
        },
        {
          "output_type": "stream",
          "name": "stderr",
          "text": [
            "\r[*********************100%***********************]  1 of 1 completed\n",
            "ERROR:yfinance:\n",
            "1 Failed download:\n",
            "ERROR:yfinance:['BIOL']: YFTzMissingError('$%ticker%: possibly delisted; no timezone found')\n"
          ]
        },
        {
          "output_type": "stream",
          "name": "stdout",
          "text": [
            "No historical data found for BIOL.\n",
            "\n",
            "============================================================\n",
            "Ticker: CISO | Trade Date: 2020-12-22 | Insider: McCain Andrew K\n"
          ]
        },
        {
          "output_type": "stream",
          "name": "stderr",
          "text": [
            "\r[*********************100%***********************]  1 of 1 completed\n",
            "ERROR:yfinance:\n",
            "1 Failed download:\n",
            "ERROR:yfinance:['CISO']: YFPricesMissingError('$%ticker%: possibly delisted; no price data found  (1d 2020-12-22 -> 2021-12-27) (Yahoo error = \"Data doesn\\'t exist for startDate = 1608613200, endDate = 1640581200\")')\n",
            "[*********************100%***********************]  1 of 1 completed\n"
          ]
        },
        {
          "output_type": "stream",
          "name": "stdout",
          "text": [
            "No historical data found for CISO.\n",
            "\n",
            "============================================================\n",
            "Ticker: VPLM | Trade Date: 2020-12-17 | Insider: Baggio Barbara\n",
            "Starting Date Price: $0.01\n",
            "\n",
            "3 Days (target: 2020-12-20, actual: 2020-12-21): Price: $0.01 | Net Gain: $-0.00 | Percent Gain %-3.95 ❌\n",
            "1 Week (target: 2020-12-24, actual: 2020-12-24): Price: $0.01 | Net Gain: $-0.00 | Percent Gain %-8.95 ❌\n",
            "2 Weeks (target: 2020-12-31, actual: 2020-12-31): Price: $0.01 | Net Gain: $-0.00 | Percent Gain %-12.28 ❌\n",
            "1 Month (target: 2021-01-17, actual: 2021-01-19): Price: $0.01 | Net Gain: $0.00 | Percent Gain %2.63 ✅\n",
            "3 Months (target: 2021-03-17, actual: 2021-03-17): Price: $0.02 | Net Gain: $0.00 | Percent Gain %38.60 ✅\n",
            "6 Months (target: 2021-06-17, actual: 2021-06-17): Price: $0.02 | Net Gain: $0.01 | Percent Gain %110.53 ✅\n",
            "1 Year (target: 2021-12-17, actual: 2021-12-17): Price: $0.01 | Net Gain: $0.00 | Percent Gain %5.26 ✅\n",
            "\n",
            "Overall Net Gain Occurred? ✅\n",
            "============================================================\n",
            "\n",
            "\n",
            "============================================================\n",
            "Ticker: UGRO | Trade Date: 2021-02-17 | Insider: Wilks Lewis\n"
          ]
        },
        {
          "output_type": "stream",
          "name": "stderr",
          "text": [
            "[*********************100%***********************]  1 of 1 completed\n",
            "[*********************100%***********************]  1 of 1 completed\n",
            "[*********************100%***********************]  1 of 1 completed\n",
            "[*********************100%***********************]  1 of 1 completed\n"
          ]
        },
        {
          "output_type": "stream",
          "name": "stdout",
          "text": [
            "Starting Date Price: $10.80\n",
            "\n",
            "3 Days (target: 2021-02-20, actual: 2021-02-22): Price: $9.97 | Net Gain: $-0.83 | Percent Gain %-7.69 ❌\n",
            "1 Week (target: 2021-02-24, actual: 2021-02-24): Price: $8.84 | Net Gain: $-1.96 | Percent Gain %-18.15 ❌\n",
            "2 Weeks (target: 2021-03-03, actual: 2021-03-03): Price: $8.27 | Net Gain: $-2.53 | Percent Gain %-23.43 ❌\n",
            "1 Month (target: 2021-03-17, actual: 2021-03-17): Price: $9.27 | Net Gain: $-1.53 | Percent Gain %-14.17 ❌\n",
            "3 Months (target: 2021-05-17, actual: 2021-05-17): Price: $7.91 | Net Gain: $-2.89 | Percent Gain %-26.76 ❌\n",
            "6 Months (target: 2021-08-17, actual: 2021-08-17): Price: $10.11 | Net Gain: $-0.69 | Percent Gain %-6.39 ❌\n",
            "1 Year (target: 2022-02-17, actual: 2022-02-17): Price: $11.02 | Net Gain: $0.22 | Percent Gain %2.04 ✅\n",
            "\n",
            "Overall Net Gain Occurred? ✅\n",
            "============================================================\n",
            "\n",
            "\n",
            "============================================================\n",
            "Ticker: VPLM | Trade Date: 2021-01-05 | Insider: Baggio Barbara\n",
            "Starting Date Price: $0.01\n",
            "\n",
            "3 Days (target: 2021-01-08, actual: 2021-01-08): Price: $0.01 | Net Gain: $-0.00 | Percent Gain %-0.97 ❌\n",
            "1 Week (target: 2021-01-12, actual: 2021-01-12): Price: $0.01 | Net Gain: $-0.00 | Percent Gain %-3.10 ❌\n",
            "2 Weeks (target: 2021-01-19, actual: 2021-01-19): Price: $0.01 | Net Gain: $0.00 | Percent Gain %13.37 ✅\n",
            "1 Month (target: 2021-02-05, actual: 2021-02-05): Price: $0.02 | Net Gain: $0.01 | Percent Gain %78.29 ✅\n",
            "3 Months (target: 2021-04-05, actual: 2021-04-05): Price: $0.02 | Net Gain: $0.01 | Percent Gain %122.87 ✅\n",
            "6 Months (target: 2021-07-05, actual: 2021-07-06): Price: $0.02 | Net Gain: $0.01 | Percent Gain %72.48 ✅\n",
            "1 Year (target: 2022-01-05, actual: 2022-01-05): Price: $0.01 | Net Gain: $0.00 | Percent Gain %16.28 ✅\n",
            "\n",
            "Overall Net Gain Occurred? ✅\n",
            "============================================================\n",
            "\n",
            "\n",
            "============================================================\n",
            "Ticker: VPLM | Trade Date: 2020-12-17 | Insider: Baggio Barbara\n",
            "Starting Date Price: $0.01\n",
            "\n",
            "3 Days (target: 2020-12-20, actual: 2020-12-21): Price: $0.01 | Net Gain: $-0.00 | Percent Gain %-3.95 ❌\n",
            "1 Week (target: 2020-12-24, actual: 2020-12-24): Price: $0.01 | Net Gain: $-0.00 | Percent Gain %-8.95 ❌\n",
            "2 Weeks (target: 2020-12-31, actual: 2020-12-31): Price: $0.01 | Net Gain: $-0.00 | Percent Gain %-12.28 ❌\n",
            "1 Month (target: 2021-01-17, actual: 2021-01-19): Price: $0.01 | Net Gain: $0.00 | Percent Gain %2.63 ✅\n",
            "3 Months (target: 2021-03-17, actual: 2021-03-17): Price: $0.02 | Net Gain: $0.00 | Percent Gain %38.60 ✅\n",
            "6 Months (target: 2021-06-17, actual: 2021-06-17): Price: $0.02 | Net Gain: $0.01 | Percent Gain %110.53 ✅\n",
            "1 Year (target: 2021-12-17, actual: 2021-12-17): Price: $0.01 | Net Gain: $0.00 | Percent Gain %5.26 ✅\n",
            "\n",
            "Overall Net Gain Occurred? ✅\n",
            "============================================================\n",
            "\n",
            "\n",
            "============================================================\n",
            "Ticker: VPLM | Trade Date: 2020-06-30 | Insider: Baggio Barbara\n",
            "Starting Date Price: $0.01\n"
          ]
        },
        {
          "output_type": "stream",
          "name": "stderr",
          "text": [
            "\r[*********************100%***********************]  1 of 1 completed\n"
          ]
        },
        {
          "output_type": "stream",
          "name": "stdout",
          "text": [
            "\n",
            "3 Days (target: 2020-07-03, actual: 2020-07-06): Price: $0.01 | Net Gain: $-0.00 | Percent Gain %-2.20 ❌\n",
            "1 Week (target: 2020-07-07, actual: 2020-07-07): Price: $0.01 | Net Gain: $-0.00 | Percent Gain %-1.00 ❌\n",
            "2 Weeks (target: 2020-07-14, actual: 2020-07-14): Price: $0.01 | Net Gain: $0.00 | Percent Gain %0.00 ❌\n",
            "1 Month (target: 2020-07-30, actual: 2020-07-30): Price: $0.01 | Net Gain: $-0.00 | Percent Gain %-3.50 ❌\n",
            "3 Months (target: 2020-09-30, actual: 2020-09-30): Price: $0.04 | Net Gain: $0.03 | Percent Gain %319.00 ✅\n",
            "6 Months (target: 2020-12-30, actual: 2020-12-30): Price: $0.01 | Net Gain: $0.00 | Percent Gain %7.00 ✅\n",
            "1 Year (target: 2021-06-30, actual: 2021-06-30): Price: $0.02 | Net Gain: $0.01 | Percent Gain %89.00 ✅\n",
            "\n",
            "Overall Net Gain Occurred? ✅\n",
            "============================================================\n",
            "\n",
            "\n",
            "============================================================\n",
            "Ticker: VPLM | Trade Date: 2020-05-21 | Insider: Baggio Barbara\n",
            "Starting Date Price: $0.01\n",
            "\n",
            "3 Days (target: 2020-05-24, actual: 2020-05-26): Price: $0.01 | Net Gain: $-0.00 | Percent Gain %-1.82 ❌\n",
            "1 Week (target: 2020-05-28, actual: 2020-05-28): Price: $0.01 | Net Gain: $0.00 | Percent Gain %0.00 ❌\n",
            "2 Weeks (target: 2020-06-04, actual: 2020-06-04): Price: $0.01 | Net Gain: $-0.00 | Percent Gain %-9.09 ❌\n",
            "1 Month (target: 2020-06-21, actual: 2020-06-22): Price: $0.01 | Net Gain: $-0.00 | Percent Gain %-9.36 ❌\n",
            "3 Months (target: 2020-08-21, actual: 2020-08-21): Price: $0.01 | Net Gain: $0.00 | Percent Gain %26.36 ✅\n",
            "6 Months (target: 2020-11-21, actual: 2020-11-23): Price: $0.01 | Net Gain: $0.00 | Percent Gain %30.00 ✅\n",
            "1 Year (target: 2021-05-21, actual: 2021-05-21): Price: $0.02 | Net Gain: $0.01 | Percent Gain %76.36 ✅\n",
            "\n",
            "Overall Net Gain Occurred? ✅\n",
            "============================================================\n",
            "\n",
            "\n",
            "============================================================\n",
            "Ticker: TXN | Trade Date: 2021-03-09 | Insider: Flessner Kyle M\n"
          ]
        },
        {
          "output_type": "stream",
          "name": "stderr",
          "text": [
            "[*********************100%***********************]  1 of 1 completed\n",
            "[*********************100%***********************]  1 of 1 completed\n"
          ]
        },
        {
          "output_type": "stream",
          "name": "stdout",
          "text": [
            "Starting Date Price: $152.39\n",
            "\n",
            "3 Days (target: 2021-03-12, actual: 2021-03-12): Price: $155.27 | Net Gain: $2.87 | Percent Gain %1.88 ✅\n",
            "1 Week (target: 2021-03-16, actual: 2021-03-16): Price: $158.46 | Net Gain: $6.06 | Percent Gain %3.98 ✅\n",
            "2 Weeks (target: 2021-03-23, actual: 2021-03-23): Price: $159.93 | Net Gain: $7.53 | Percent Gain %4.94 ✅\n",
            "1 Month (target: 2021-04-09, actual: 2021-04-09): Price: $174.82 | Net Gain: $22.43 | Percent Gain %14.72 ✅\n",
            "3 Months (target: 2021-06-09, actual: 2021-06-09): Price: $167.71 | Net Gain: $15.31 | Percent Gain %10.05 ✅\n",
            "6 Months (target: 2021-09-09, actual: 2021-09-09): Price: $170.47 | Net Gain: $18.08 | Percent Gain %11.86 ✅\n",
            "1 Year (target: 2022-03-09, actual: 2022-03-09): Price: $157.99 | Net Gain: $5.60 | Percent Gain %3.67 ✅\n",
            "\n",
            "Overall Net Gain Occurred? ✅\n",
            "============================================================\n",
            "\n",
            "\n",
            "============================================================\n",
            "Ticker: MSGS | Trade Date: 2020-05-27 | Insider: Dolan Leinauer Corby\n",
            "Starting Date Price: $162.00\n",
            "\n",
            "3 Days (target: 2020-05-30, actual: 2020-06-01): Price: $161.57 | Net Gain: $-0.43 | Percent Gain %-0.27 ❌\n",
            "1 Week (target: 2020-06-03, actual: 2020-06-03): Price: $169.28 | Net Gain: $7.28 | Percent Gain %4.49 ✅\n",
            "2 Weeks (target: 2020-06-10, actual: 2020-06-10): Price: $162.82 | Net Gain: $0.81 | Percent Gain %0.50 ✅\n",
            "1 Month (target: 2020-06-27, actual: 2020-06-29): Price: $140.72 | Net Gain: $-21.28 | Percent Gain %-13.14 ❌\n",
            "3 Months (target: 2020-08-27, actual: 2020-08-27): Price: $159.63 | Net Gain: $-2.38 | Percent Gain %-1.47 ❌\n",
            "6 Months (target: 2020-11-27, actual: 2020-11-27): Price: $164.83 | Net Gain: $2.83 | Percent Gain %1.75 ✅\n",
            "1 Year (target: 2021-05-27, actual: 2021-05-27): Price: $178.75 | Net Gain: $16.74 | Percent Gain %10.34 ✅\n",
            "\n",
            "Overall Net Gain Occurred? ✅\n",
            "============================================================\n",
            "\n",
            "\n",
            "============================================================\n",
            "Ticker: MSGE | Trade Date: 2020-05-27 | Insider: Dolan Leinauer Corby\n"
          ]
        },
        {
          "output_type": "stream",
          "name": "stderr",
          "text": [
            "\r[*********************100%***********************]  1 of 1 completed\n",
            "ERROR:yfinance:\n",
            "1 Failed download:\n",
            "ERROR:yfinance:['MSGE']: YFPricesMissingError('$%ticker%: possibly delisted; no price data found  (1d 2020-05-27 -> 2021-06-01) (Yahoo error = \"Data doesn\\'t exist for startDate = 1590552000, endDate = 1622520000\")')\n",
            "[*********************100%***********************]  1 of 1 completed\n",
            "[*********************100%***********************]  1 of 1 completed\n"
          ]
        },
        {
          "output_type": "stream",
          "name": "stdout",
          "text": [
            "No historical data found for MSGE.\n",
            "\n",
            "============================================================\n",
            "Ticker: EVER | Trade Date: 2021-02-09 | Insider: Mendal Jayme\n",
            "Starting Date Price: $50.00\n",
            "\n",
            "3 Days (target: 2021-02-12, actual: 2021-02-12): Price: $50.94 | Net Gain: $0.94 | Percent Gain %1.88 ✅\n",
            "1 Week (target: 2021-02-16, actual: 2021-02-16): Price: $50.61 | Net Gain: $0.61 | Percent Gain %1.22 ✅\n",
            "2 Weeks (target: 2021-02-23, actual: 2021-02-23): Price: $49.75 | Net Gain: $-0.25 | Percent Gain %-0.50 ❌\n",
            "1 Month (target: 2021-03-09, actual: 2021-03-09): Price: $41.25 | Net Gain: $-8.75 | Percent Gain %-17.50 ❌\n",
            "3 Months (target: 2021-05-09, actual: 2021-05-10): Price: $31.01 | Net Gain: $-18.99 | Percent Gain %-37.98 ❌\n",
            "6 Months (target: 2021-08-09, actual: 2021-08-09): Price: $24.11 | Net Gain: $-25.89 | Percent Gain %-51.78 ❌\n",
            "1 Year (target: 2022-02-09, actual: 2022-02-09): Price: $15.45 | Net Gain: $-34.55 | Percent Gain %-69.10 ❌\n",
            "\n",
            "Overall Net Gain Occurred? ✅\n",
            "============================================================\n",
            "\n",
            "\n",
            "============================================================\n",
            "Ticker: EVER | Trade Date: 2020-07-06 | Insider: Mendal Jayme\n",
            "Starting Date Price: $60.00\n",
            "\n",
            "3 Days (target: 2020-07-09, actual: 2020-07-09): Price: $62.79 | Net Gain: $2.79 | Percent Gain %4.65 ✅\n",
            "1 Week (target: 2020-07-13, actual: 2020-07-13): Price: $58.19 | Net Gain: $-1.81 | Percent Gain %-3.02 ❌\n",
            "2 Weeks (target: 2020-07-20, actual: 2020-07-20): Price: $55.77 | Net Gain: $-4.23 | Percent Gain %-7.05 ❌\n",
            "1 Month (target: 2020-08-06, actual: 2020-08-06): Price: $40.11 | Net Gain: $-19.89 | Percent Gain %-33.15 ❌\n",
            "3 Months (target: 2020-10-06, actual: 2020-10-06): Price: $39.40 | Net Gain: $-20.60 | Percent Gain %-34.33 ❌\n",
            "6 Months (target: 2021-01-06, actual: 2021-01-06): Price: $37.72 | Net Gain: $-22.28 | Percent Gain %-37.13 ❌\n",
            "1 Year (target: 2021-07-06, actual: 2021-07-06): Price: $32.11 | Net Gain: $-27.89 | Percent Gain %-46.48 ❌\n",
            "\n",
            "Overall Net Gain Occurred? ✅\n",
            "============================================================\n",
            "\n",
            "\n",
            "============================================================\n",
            "Ticker: SNCR | Trade Date: 2021-02-22 | Insider: Harris Laurie\n"
          ]
        },
        {
          "output_type": "stream",
          "name": "stderr",
          "text": [
            "[*********************100%***********************]  1 of 1 completed\n",
            "[*********************100%***********************]  1 of 1 completed\n",
            "[*********************100%***********************]  1 of 1 completed\n"
          ]
        },
        {
          "output_type": "stream",
          "name": "stdout",
          "text": [
            "Starting Date Price: $44.19\n",
            "\n",
            "3 Days (target: 2021-02-25, actual: 2021-02-25): Price: $41.04 | Net Gain: $-3.15 | Percent Gain %-7.13 ❌\n",
            "1 Week (target: 2021-03-01, actual: 2021-03-01): Price: $41.49 | Net Gain: $-2.70 | Percent Gain %-6.11 ❌\n",
            "2 Weeks (target: 2021-03-08, actual: 2021-03-08): Price: $35.55 | Net Gain: $-8.64 | Percent Gain %-19.55 ❌\n",
            "1 Month (target: 2021-03-22, actual: 2021-03-22): Price: $36.90 | Net Gain: $-7.29 | Percent Gain %-16.50 ❌\n",
            "3 Months (target: 2021-05-22, actual: 2021-05-24): Price: $25.38 | Net Gain: $-18.81 | Percent Gain %-42.57 ❌\n",
            "6 Months (target: 2021-08-22, actual: 2021-08-23): Price: $23.31 | Net Gain: $-20.88 | Percent Gain %-47.25 ❌\n",
            "1 Year (target: 2022-02-22, actual: 2022-02-22): Price: $15.39 | Net Gain: $-28.80 | Percent Gain %-65.17 ❌\n",
            "\n",
            "Overall Net Gain Occurred? ❌\n",
            "============================================================\n",
            "\n",
            "\n",
            "============================================================\n",
            "Ticker: FNGR | Trade Date: 2021-02-02 | Insider: Cheong Chee Ming\n",
            "Starting Date Price: $15.00\n",
            "\n",
            "3 Days (target: 2021-02-05, actual: 2021-02-05): Price: $16.00 | Net Gain: $1.00 | Percent Gain %6.67 ✅\n",
            "1 Week (target: 2021-02-09, actual: 2021-02-09): Price: $14.14 | Net Gain: $-0.86 | Percent Gain %-5.73 ❌\n",
            "2 Weeks (target: 2021-02-16, actual: 2021-02-16): Price: $10.21 | Net Gain: $-4.79 | Percent Gain %-31.93 ❌\n",
            "1 Month (target: 2021-03-02, actual: 2021-03-02): Price: $11.54 | Net Gain: $-3.46 | Percent Gain %-23.07 ❌\n",
            "3 Months (target: 2021-05-02, actual: 2021-05-03): Price: $8.14 | Net Gain: $-6.86 | Percent Gain %-45.73 ❌\n",
            "6 Months (target: 2021-08-02, actual: 2021-08-02): Price: $6.09 | Net Gain: $-8.91 | Percent Gain %-59.40 ❌\n",
            "1 Year (target: 2022-02-02, actual: 2022-02-02): Price: $4.43 | Net Gain: $-10.57 | Percent Gain %-70.47 ❌\n",
            "\n",
            "Overall Net Gain Occurred? ✅\n",
            "============================================================\n",
            "\n",
            "\n",
            "============================================================\n",
            "Ticker: AKAM | Trade Date: 2020-07-31 | Insider: Blumofe Robert\n",
            "Starting Date Price: $112.44\n",
            "\n",
            "3 Days (target: 2020-08-03, actual: 2020-08-03): Price: $112.98 | Net Gain: $0.54 | Percent Gain %0.48 ✅\n",
            "1 Week (target: 2020-08-07, actual: 2020-08-07): Price: $109.22 | Net Gain: $-3.22 | Percent Gain %-2.86 ❌\n",
            "2 Weeks (target: 2020-08-14, actual: 2020-08-14): Price: $107.90 | Net Gain: $-4.54 | Percent Gain %-4.04 ❌\n",
            "1 Month (target: 2020-08-31, actual: 2020-08-31): Price: $116.43 | Net Gain: $3.99 | Percent Gain %3.55 ✅\n",
            "3 Months (target: 2020-10-31, actual: 2020-11-02): Price: $95.81 | Net Gain: $-16.63 | Percent Gain %-14.79 ❌\n",
            "6 Months (target: 2021-01-31, actual: 2021-02-01): Price: $111.65 | Net Gain: $-0.79 | Percent Gain %-0.70 ❌\n",
            "1 Year (target: 2021-07-31, actual: 2021-08-02): Price: $118.90 | Net Gain: $6.46 | Percent Gain %5.75 ✅\n",
            "\n",
            "Overall Net Gain Occurred? ✅\n",
            "============================================================\n",
            "\n",
            "\n",
            "============================================================\n",
            "Ticker: SANA | Trade Date: 2021-02-03 | Insider: Bilenker Joshua H.\n"
          ]
        },
        {
          "output_type": "stream",
          "name": "stderr",
          "text": [
            "\r[*********************100%***********************]  1 of 1 completed\n"
          ]
        },
        {
          "output_type": "stream",
          "name": "stdout",
          "text": [
            "Starting Date Price: $35.10\n",
            "\n",
            "3 Days (target: 2021-02-06, actual: 2021-02-08): Price: $38.20 | Net Gain: $3.10 | Percent Gain %8.83 ✅\n",
            "1 Week (target: 2021-02-10, actual: 2021-02-10): Price: $43.50 | Net Gain: $8.40 | Percent Gain %23.93 ✅\n",
            "2 Weeks (target: 2021-02-17, actual: 2021-02-17): Price: $35.00 | Net Gain: $-0.10 | Percent Gain %-0.28 ❌\n",
            "1 Month (target: 2021-03-03, actual: 2021-03-03): Price: $24.48 | Net Gain: $-10.62 | Percent Gain %-30.26 ❌\n",
            "3 Months (target: 2021-05-03, actual: 2021-05-03): Price: $20.43 | Net Gain: $-14.67 | Percent Gain %-41.79 ❌\n",
            "6 Months (target: 2021-08-03, actual: 2021-08-03): Price: $17.61 | Net Gain: $-17.49 | Percent Gain %-49.83 ❌\n",
            "1 Year (target: 2022-02-03, actual: 2022-02-03): Price: $7.64 | Net Gain: $-27.46 | Percent Gain %-78.23 ❌\n",
            "\n",
            "Overall Net Gain Occurred? ✅\n",
            "============================================================\n",
            "\n",
            "\n",
            "============================================================\n",
            "Ticker: VAQC | Trade Date: 2021-03-09 | Insider: Vector Acquisition Partners Ii, L.P.\n"
          ]
        },
        {
          "output_type": "stream",
          "name": "stderr",
          "text": [
            "\r[*********************100%***********************]  1 of 1 completed\n",
            "ERROR:yfinance:\n",
            "1 Failed download:\n",
            "ERROR:yfinance:['VAQC']: YFTzMissingError('$%ticker%: possibly delisted; no timezone found')\n",
            "[*********************100%***********************]  1 of 1 completed\n"
          ]
        },
        {
          "output_type": "stream",
          "name": "stdout",
          "text": [
            "No historical data found for VAQC.\n",
            "\n",
            "============================================================\n",
            "Ticker: BMEA | Trade Date: 2021-04-15 | Insider: Erdtmann Rainer M\n",
            "Starting Date Price: $18.60\n",
            "\n",
            "3 Days (target: 2021-04-18, actual: 2021-04-19): Price: $17.00 | Net Gain: $-1.60 | Percent Gain %-8.60 ❌\n",
            "1 Week (target: 2021-04-22, actual: 2021-04-22): Price: $17.61 | Net Gain: $-0.99 | Percent Gain %-5.32 ❌\n",
            "2 Weeks (target: 2021-04-29, actual: 2021-04-29): Price: $16.97 | Net Gain: $-1.63 | Percent Gain %-8.76 ❌\n",
            "1 Month (target: 2021-05-15, actual: 2021-05-17): Price: $16.04 | Net Gain: $-2.56 | Percent Gain %-13.76 ❌\n",
            "3 Months (target: 2021-07-15, actual: 2021-07-15): Price: $14.23 | Net Gain: $-4.37 | Percent Gain %-23.49 ❌\n",
            "6 Months (target: 2021-10-15, actual: 2021-10-15): Price: $11.63 | Net Gain: $-6.97 | Percent Gain %-37.47 ❌\n",
            "1 Year (target: 2022-04-15, actual: 2022-04-18): Price: $4.19 | Net Gain: $-14.41 | Percent Gain %-77.47 ❌\n",
            "\n",
            "Overall Net Gain Occurred? ❌\n",
            "============================================================\n",
            "\n",
            "\n",
            "============================================================\n",
            "Ticker: JAKK | Trade Date: 2021-03-08 | Insider: Rosen Lawrence I\n"
          ]
        },
        {
          "output_type": "stream",
          "name": "stderr",
          "text": [
            "[*********************100%***********************]  1 of 1 completed\n",
            "[*********************100%***********************]  1 of 1 completed\n"
          ]
        },
        {
          "output_type": "stream",
          "name": "stdout",
          "text": [
            "Starting Date Price: $7.61\n",
            "\n",
            "3 Days (target: 2021-03-11, actual: 2021-03-11): Price: $8.57 | Net Gain: $0.96 | Percent Gain %12.61 ✅\n",
            "1 Week (target: 2021-03-15, actual: 2021-03-15): Price: $9.14 | Net Gain: $1.53 | Percent Gain %20.11 ✅\n",
            "2 Weeks (target: 2021-03-22, actual: 2021-03-22): Price: $8.41 | Net Gain: $0.80 | Percent Gain %10.51 ✅\n",
            "1 Month (target: 2021-04-08, actual: 2021-04-08): Price: $7.22 | Net Gain: $-0.39 | Percent Gain %-5.12 ❌\n",
            "3 Months (target: 2021-06-08, actual: 2021-06-08): Price: $10.50 | Net Gain: $2.89 | Percent Gain %37.98 ✅\n",
            "6 Months (target: 2021-09-08, actual: 2021-09-08): Price: $13.06 | Net Gain: $5.45 | Percent Gain %71.62 ✅\n",
            "1 Year (target: 2022-03-08, actual: 2022-03-08): Price: $14.71 | Net Gain: $7.10 | Percent Gain %93.30 ✅\n",
            "\n",
            "Overall Net Gain Occurred? ✅\n",
            "============================================================\n",
            "\n",
            "\n",
            "============================================================\n",
            "Ticker: USLM | Trade Date: 2021-02-22 | Insider: Inberdon Enterprises Ltd\n",
            "Starting Date Price: $27.77\n",
            "\n",
            "3 Days (target: 2021-02-25, actual: 2021-02-25): Price: $27.43 | Net Gain: $-0.34 | Percent Gain %-1.24 ❌\n",
            "1 Week (target: 2021-03-01, actual: 2021-03-01): Price: $28.60 | Net Gain: $0.83 | Percent Gain %2.99 ✅\n",
            "2 Weeks (target: 2021-03-08, actual: 2021-03-08): Price: $29.49 | Net Gain: $1.72 | Percent Gain %6.19 ✅\n",
            "1 Month (target: 2021-03-22, actual: 2021-03-22): Price: $27.96 | Net Gain: $0.19 | Percent Gain %0.67 ✅\n",
            "3 Months (target: 2021-05-22, actual: 2021-05-24): Price: $27.13 | Net Gain: $-0.64 | Percent Gain %-2.32 ❌\n",
            "6 Months (target: 2021-08-22, actual: 2021-08-23): Price: $28.72 | Net Gain: $0.95 | Percent Gain %3.40 ✅\n",
            "1 Year (target: 2022-02-22, actual: 2022-02-22): Price: $23.27 | Net Gain: $-4.50 | Percent Gain %-16.21 ❌\n",
            "\n",
            "Overall Net Gain Occurred? ✅\n",
            "============================================================\n",
            "\n",
            "\n",
            "============================================================\n",
            "Ticker: FAST | Trade Date: 2020-05-18 | Insider: Lundquist Nicholas J\n"
          ]
        },
        {
          "output_type": "stream",
          "name": "stderr",
          "text": [
            "\r[*********************100%***********************]  1 of 1 completed\n"
          ]
        },
        {
          "output_type": "stream",
          "name": "stdout",
          "text": [
            "Starting Date Price: $34.49\n",
            "\n",
            "3 Days (target: 2020-05-21, actual: 2020-05-21): Price: $34.17 | Net Gain: $-0.32 | Percent Gain %-0.92 ❌\n",
            "1 Week (target: 2020-05-25, actual: 2020-05-26): Price: $35.06 | Net Gain: $0.57 | Percent Gain %1.66 ✅\n",
            "2 Weeks (target: 2020-06-01, actual: 2020-06-01): Price: $35.89 | Net Gain: $1.40 | Percent Gain %4.07 ✅\n",
            "1 Month (target: 2020-06-18, actual: 2020-06-18): Price: $37.07 | Net Gain: $2.58 | Percent Gain %7.47 ✅\n",
            "3 Months (target: 2020-08-18, actual: 2020-08-18): Price: $42.67 | Net Gain: $8.18 | Percent Gain %23.71 ✅\n",
            "6 Months (target: 2020-11-18, actual: 2020-11-18): Price: $42.50 | Net Gain: $8.01 | Percent Gain %23.21 ✅\n",
            "1 Year (target: 2021-05-18, actual: 2021-05-18): Price: $47.70 | Net Gain: $13.21 | Percent Gain %38.29 ✅\n",
            "\n",
            "Overall Net Gain Occurred? ✅\n",
            "============================================================\n",
            "\n",
            "\n",
            "============================================================\n",
            "Ticker: HOMB | Trade Date: 2021-02-08 | Insider: Ashley Richard H\n"
          ]
        },
        {
          "output_type": "stream",
          "name": "stderr",
          "text": [
            "[*********************100%***********************]  1 of 1 completed\n",
            "[*********************100%***********************]  1 of 1 completed\n"
          ]
        },
        {
          "output_type": "stream",
          "name": "stdout",
          "text": [
            "Starting Date Price: $20.02\n",
            "\n",
            "3 Days (target: 2021-02-11, actual: 2021-02-11): Price: $20.56 | Net Gain: $0.53 | Percent Gain %2.66 ✅\n",
            "1 Week (target: 2021-02-15, actual: 2021-02-16): Price: $21.07 | Net Gain: $1.05 | Percent Gain %5.24 ✅\n",
            "2 Weeks (target: 2021-02-22, actual: 2021-02-22): Price: $21.46 | Net Gain: $1.43 | Percent Gain %7.16 ✅\n",
            "1 Month (target: 2021-03-08, actual: 2021-03-08): Price: $24.56 | Net Gain: $4.53 | Percent Gain %22.65 ✅\n",
            "3 Months (target: 2021-05-08, actual: 2021-05-10): Price: $24.96 | Net Gain: $4.94 | Percent Gain %24.66 ✅\n",
            "6 Months (target: 2021-08-08, actual: 2021-08-09): Price: $19.50 | Net Gain: $-0.52 | Percent Gain %-2.61 ❌\n",
            "1 Year (target: 2022-02-08, actual: 2022-02-08): Price: $22.21 | Net Gain: $2.19 | Percent Gain %10.93 ✅\n",
            "\n",
            "Overall Net Gain Occurred? ✅\n",
            "============================================================\n",
            "\n",
            "\n",
            "============================================================\n",
            "Ticker: JBHT | Trade Date: 2020-05-28 | Insider: Garrison Earl Wayne\n",
            "Starting Date Price: $114.07\n",
            "\n",
            "3 Days (target: 2020-05-31, actual: 2020-06-01): Price: $110.89 | Net Gain: $-3.19 | Percent Gain %-2.79 ❌\n",
            "1 Week (target: 2020-06-04, actual: 2020-06-04): Price: $112.84 | Net Gain: $-1.23 | Percent Gain %-1.08 ❌\n",
            "2 Weeks (target: 2020-06-11, actual: 2020-06-11): Price: $108.18 | Net Gain: $-5.89 | Percent Gain %-5.16 ❌\n",
            "1 Month (target: 2020-06-28, actual: 2020-06-29): Price: $115.22 | Net Gain: $1.15 | Percent Gain %1.01 ✅\n",
            "3 Months (target: 2020-08-28, actual: 2020-08-28): Price: $136.30 | Net Gain: $22.22 | Percent Gain %19.48 ✅\n",
            "6 Months (target: 2020-11-28, actual: 2020-11-30): Price: $130.35 | Net Gain: $16.28 | Percent Gain %14.27 ✅\n",
            "1 Year (target: 2021-05-28, actual: 2021-05-28): Price: $165.91 | Net Gain: $51.84 | Percent Gain %45.45 ✅\n",
            "\n",
            "Overall Net Gain Occurred? ✅\n",
            "============================================================\n",
            "\n",
            "\n",
            "============================================================\n",
            "Ticker: EVER | Trade Date: 2021-02-05 | Insider: Wagner John Brandon\n"
          ]
        },
        {
          "output_type": "stream",
          "name": "stderr",
          "text": [
            "[*********************100%***********************]  1 of 1 completed\n",
            "[*********************100%***********************]  1 of 1 completed\n",
            "[*********************100%***********************]  1 of 1 completed\n"
          ]
        },
        {
          "output_type": "stream",
          "name": "stdout",
          "text": [
            "Starting Date Price: $48.32\n",
            "\n",
            "3 Days (target: 2021-02-08, actual: 2021-02-08): Price: $48.63 | Net Gain: $0.31 | Percent Gain %0.64 ✅\n",
            "1 Week (target: 2021-02-12, actual: 2021-02-12): Price: $50.94 | Net Gain: $2.62 | Percent Gain %5.42 ✅\n",
            "2 Weeks (target: 2021-02-19, actual: 2021-02-19): Price: $48.15 | Net Gain: $-0.17 | Percent Gain %-0.35 ❌\n",
            "1 Month (target: 2021-03-05, actual: 2021-03-05): Price: $40.94 | Net Gain: $-7.38 | Percent Gain %-15.27 ❌\n",
            "3 Months (target: 2021-05-05, actual: 2021-05-05): Price: $33.20 | Net Gain: $-15.12 | Percent Gain %-31.29 ❌\n",
            "6 Months (target: 2021-08-05, actual: 2021-08-05): Price: $24.30 | Net Gain: $-24.02 | Percent Gain %-49.71 ❌\n",
            "1 Year (target: 2022-02-05, actual: 2022-02-07): Price: $16.37 | Net Gain: $-31.95 | Percent Gain %-66.12 ❌\n",
            "\n",
            "Overall Net Gain Occurred? ✅\n",
            "============================================================\n",
            "\n",
            "\n",
            "============================================================\n",
            "Ticker: EVER | Trade Date: 2020-12-22 | Insider: Wagner John Brandon\n",
            "Starting Date Price: $39.54\n",
            "\n",
            "3 Days (target: 2020-12-25, actual: 2020-12-28): Price: $37.91 | Net Gain: $-1.63 | Percent Gain %-4.12 ❌\n",
            "1 Week (target: 2020-12-29, actual: 2020-12-29): Price: $37.38 | Net Gain: $-2.16 | Percent Gain %-5.46 ❌\n",
            "2 Weeks (target: 2021-01-05, actual: 2021-01-05): Price: $37.42 | Net Gain: $-2.12 | Percent Gain %-5.36 ❌\n",
            "1 Month (target: 2021-01-22, actual: 2021-01-22): Price: $40.63 | Net Gain: $1.09 | Percent Gain %2.76 ✅\n",
            "3 Months (target: 2021-03-22, actual: 2021-03-22): Price: $37.62 | Net Gain: $-1.92 | Percent Gain %-4.86 ❌\n",
            "6 Months (target: 2021-06-22, actual: 2021-06-22): Price: $34.67 | Net Gain: $-4.87 | Percent Gain %-12.32 ❌\n",
            "1 Year (target: 2021-12-22, actual: 2021-12-22): Price: $16.08 | Net Gain: $-23.46 | Percent Gain %-59.33 ❌\n",
            "\n",
            "Overall Net Gain Occurred? ✅\n",
            "============================================================\n",
            "\n",
            "\n",
            "============================================================\n",
            "Ticker: TTSH | Trade Date: 2020-11-13 | Insider: Kinder Joseph\n",
            "Starting Date Price: $3.26\n",
            "\n",
            "3 Days (target: 2020-11-16, actual: 2020-11-16): Price: $3.62 | Net Gain: $0.36 | Percent Gain %11.02 ✅\n",
            "1 Week (target: 2020-11-20, actual: 2020-11-20): Price: $4.15 | Net Gain: $0.88 | Percent Gain %27.12 ✅\n",
            "2 Weeks (target: 2020-11-27, actual: 2020-11-27): Price: $4.15 | Net Gain: $0.88 | Percent Gain %27.12 ✅\n",
            "1 Month (target: 2020-12-13, actual: 2020-12-14): Price: $3.83 | Net Gain: $0.56 | Percent Gain %17.23 ✅\n",
            "3 Months (target: 2021-02-13, actual: 2021-02-16): Price: $6.89 | Net Gain: $3.63 | Percent Gain %111.30 ✅\n",
            "6 Months (target: 2021-05-13, actual: 2021-05-13): Price: $6.22 | Net Gain: $2.96 | Percent Gain %90.68 ✅\n",
            "1 Year (target: 2021-11-13, actual: 2021-11-15): Price: $7.76 | Net Gain: $4.50 | Percent Gain %137.85 ✅\n",
            "\n",
            "Overall Net Gain Occurred? ✅\n",
            "============================================================\n",
            "\n",
            "\n",
            "============================================================\n",
            "Ticker: NFE | Trade Date: 2020-09-14 | Insider: Griffin C. William\n"
          ]
        },
        {
          "output_type": "stream",
          "name": "stderr",
          "text": [
            "\r[*********************100%***********************]  1 of 1 completed\n"
          ]
        },
        {
          "output_type": "stream",
          "name": "stdout",
          "text": [
            "Starting Date Price: $28.64\n",
            "\n",
            "3 Days (target: 2020-09-17, actual: 2020-09-17): Price: $30.27 | Net Gain: $1.64 | Percent Gain %5.72 ✅\n",
            "1 Week (target: 2020-09-21, actual: 2020-09-21): Price: $33.11 | Net Gain: $4.48 | Percent Gain %15.63 ✅\n",
            "2 Weeks (target: 2020-09-28, actual: 2020-09-28): Price: $35.90 | Net Gain: $7.26 | Percent Gain %25.35 ✅\n",
            "1 Month (target: 2020-10-14, actual: 2020-10-14): Price: $45.13 | Net Gain: $16.49 | Percent Gain %57.60 ✅\n",
            "3 Months (target: 2020-12-14, actual: 2020-12-14): Price: $47.37 | Net Gain: $18.74 | Percent Gain %65.43 ✅\n",
            "6 Months (target: 2021-03-14, actual: 2021-03-15): Price: $37.52 | Net Gain: $8.88 | Percent Gain %31.01 ✅\n",
            "1 Year (target: 2021-09-14, actual: 2021-09-14): Price: $25.02 | Net Gain: $-3.62 | Percent Gain %-12.64 ❌\n",
            "\n",
            "Overall Net Gain Occurred? ✅\n",
            "============================================================\n",
            "\n",
            "\n",
            "============================================================\n",
            "Ticker: TWOA | Trade Date: 2021-03-29 | Insider: Hartz Kevin\n"
          ]
        },
        {
          "output_type": "stream",
          "name": "stderr",
          "text": [
            "\r[*********************100%***********************]  1 of 1 completed\n",
            "ERROR:yfinance:\n",
            "1 Failed download:\n",
            "ERROR:yfinance:['TWOA']: YFTzMissingError('$%ticker%: possibly delisted; no timezone found')\n",
            "[*********************100%***********************]  1 of 1 completed\n",
            "ERROR:yfinance:\n",
            "1 Failed download:\n",
            "ERROR:yfinance:['TWOA']: YFTzMissingError('$%ticker%: possibly delisted; no timezone found')\n",
            "[*********************100%***********************]  1 of 1 completed\n",
            "ERROR:yfinance:\n",
            "1 Failed download:\n",
            "ERROR:yfinance:['TWOA']: YFTzMissingError('$%ticker%: possibly delisted; no timezone found')\n",
            "[*********************100%***********************]  1 of 1 completed\n",
            "ERROR:yfinance:\n",
            "1 Failed download:\n",
            "ERROR:yfinance:['TWOA']: YFTzMissingError('$%ticker%: possibly delisted; no timezone found')\n",
            "[*********************100%***********************]  1 of 1 completed\n"
          ]
        },
        {
          "output_type": "stream",
          "name": "stdout",
          "text": [
            "No historical data found for TWOA.\n",
            "\n",
            "============================================================\n",
            "Ticker: TWOA | Trade Date: 2021-03-29 | Insider: Steckenrider Troy III\n",
            "No historical data found for TWOA.\n",
            "\n",
            "============================================================\n",
            "Ticker: TWOA | Trade Date: 2021-03-29 | Insider: Two Sponsor\n",
            "No historical data found for TWOA.\n",
            "\n",
            "============================================================\n",
            "Ticker: TWOA | Trade Date: 2021-03-29 | Insider: Gupta Gautam\n",
            "No historical data found for TWOA.\n",
            "\n",
            "============================================================\n",
            "Ticker: RVYL | Trade Date: 2020-11-25 | Insider: Errez Ben\n",
            "Starting Date Price: $57.00\n",
            "\n",
            "3 Days (target: 2020-11-28, actual: 2020-11-30): Price: $69.60 | Net Gain: $12.60 | Percent Gain %22.11 ✅\n",
            "1 Week (target: 2020-12-02, actual: 2020-12-02): Price: $56.40 | Net Gain: $-0.60 | Percent Gain %-1.05 ❌\n",
            "2 Weeks (target: 2020-12-09, actual: 2020-12-09): Price: $50.40 | Net Gain: $-6.60 | Percent Gain %-11.58 ❌\n",
            "1 Month (target: 2020-12-25, actual: 2020-12-28): Price: $62.40 | Net Gain: $5.40 | Percent Gain %9.47 ✅\n",
            "3 Months (target: 2021-02-25, actual: 2021-02-25): Price: $124.50 | Net Gain: $67.50 | Percent Gain %118.42 ✅\n",
            "6 Months (target: 2021-05-25, actual: 2021-05-25): Price: $100.80 | Net Gain: $43.80 | Percent Gain %76.84 ✅\n",
            "1 Year (target: 2021-11-25, actual: 2021-11-26): Price: $53.70 | Net Gain: $-3.30 | Percent Gain %-5.79 ❌\n",
            "\n",
            "Overall Net Gain Occurred? ✅\n",
            "============================================================\n",
            "\n",
            "\n",
            "============================================================\n",
            "Ticker: CLSD | Trade Date: 2021-02-10 | Insider: Thorp Clay\n"
          ]
        },
        {
          "output_type": "stream",
          "name": "stderr",
          "text": [
            "[*********************100%***********************]  1 of 1 completed\n",
            "[*********************100%***********************]  1 of 1 completed\n"
          ]
        },
        {
          "output_type": "stream",
          "name": "stdout",
          "text": [
            "Starting Date Price: $4.25\n",
            "\n",
            "3 Days (target: 2021-02-13, actual: 2021-02-16): Price: $3.86 | Net Gain: $-0.39 | Percent Gain %-9.18 ❌\n",
            "1 Week (target: 2021-02-17, actual: 2021-02-17): Price: $3.58 | Net Gain: $-0.67 | Percent Gain %-15.76 ❌\n",
            "2 Weeks (target: 2021-02-24, actual: 2021-02-24): Price: $3.49 | Net Gain: $-0.76 | Percent Gain %-17.88 ❌\n",
            "1 Month (target: 2021-03-10, actual: 2021-03-10): Price: $3.52 | Net Gain: $-0.73 | Percent Gain %-17.18 ❌\n",
            "3 Months (target: 2021-05-10, actual: 2021-05-10): Price: $2.56 | Net Gain: $-1.69 | Percent Gain %-39.76 ❌\n",
            "6 Months (target: 2021-08-10, actual: 2021-08-10): Price: $4.94 | Net Gain: $0.69 | Percent Gain %16.24 ✅\n",
            "1 Year (target: 2022-02-10, actual: 2022-02-10): Price: $1.72 | Net Gain: $-2.53 | Percent Gain %-59.65 ❌\n",
            "\n",
            "Overall Net Gain Occurred? ✅\n",
            "============================================================\n",
            "\n",
            "\n",
            "============================================================\n",
            "Ticker: FMBM | Trade Date: 2021-02-12 | Insider: Wilkerson Aubrey M.\n",
            "Starting Date Price: $22.07\n",
            "\n",
            "3 Days (target: 2021-02-15, actual: 2021-02-16): Price: $22.07 | Net Gain: $0.00 | Percent Gain %0.00 ❌\n",
            "1 Week (target: 2021-02-19, actual: 2021-02-19): Price: $22.41 | Net Gain: $0.34 | Percent Gain %1.52 ✅\n",
            "2 Weeks (target: 2021-02-26, actual: 2021-02-26): Price: $22.28 | Net Gain: $0.21 | Percent Gain %0.95 ✅\n",
            "1 Month (target: 2021-03-12, actual: 2021-03-12): Price: $23.96 | Net Gain: $1.89 | Percent Gain %8.57 ✅\n",
            "3 Months (target: 2021-05-12, actual: 2021-05-12): Price: $23.84 | Net Gain: $1.77 | Percent Gain %8.00 ✅\n",
            "6 Months (target: 2021-08-12, actual: 2021-08-12): Price: $24.62 | Net Gain: $2.55 | Percent Gain %11.55 ✅\n",
            "1 Year (target: 2022-02-12, actual: 2022-02-14): Price: $27.01 | Net Gain: $4.94 | Percent Gain %22.39 ✅\n",
            "\n",
            "Overall Net Gain Occurred? ✅\n",
            "============================================================\n",
            "\n",
            "\n",
            "============================================================\n",
            "Ticker: PCPC | Trade Date: 2020-12-14 | Insider: Dobkin Eric S\n"
          ]
        },
        {
          "output_type": "stream",
          "name": "stderr",
          "text": [
            "\r[*********************100%***********************]  1 of 1 completed\n",
            "ERROR:yfinance:\n",
            "1 Failed download:\n",
            "ERROR:yfinance:['PCPC']: YFTzMissingError('$%ticker%: possibly delisted; no timezone found')\n",
            "[*********************100%***********************]  1 of 1 completed\n",
            "[*********************100%***********************]  1 of 1 completed\n"
          ]
        },
        {
          "output_type": "stream",
          "name": "stdout",
          "text": [
            "No historical data found for PCPC.\n",
            "\n",
            "============================================================\n",
            "Ticker: MFON | Trade Date: 2020-05-04 | Insider: Akin Thomas B\n",
            "Starting Date Price: $0.70\n",
            "\n",
            "3 Days (target: 2020-05-07, actual: 2020-05-07): Price: $0.89 | Net Gain: $0.19 | Percent Gain %27.14 ✅\n",
            "1 Week (target: 2020-05-11, actual: 2020-05-11): Price: $0.87 | Net Gain: $0.17 | Percent Gain %24.29 ✅\n",
            "2 Weeks (target: 2020-05-18, actual: 2020-05-18): Price: $0.86 | Net Gain: $0.16 | Percent Gain %22.86 ✅\n",
            "1 Month (target: 2020-06-04, actual: 2020-06-04): Price: $0.79 | Net Gain: $0.09 | Percent Gain %12.86 ✅\n",
            "3 Months (target: 2020-08-04, actual: 2020-08-04): Price: $0.76 | Net Gain: $0.06 | Percent Gain %8.57 ✅\n",
            "6 Months (target: 2020-11-04, actual: 2020-11-04): Price: $0.91 | Net Gain: $0.21 | Percent Gain %30.00 ✅\n",
            "1 Year (target: 2021-05-04, actual: 2021-05-04): Price: $1.75 | Net Gain: $1.05 | Percent Gain %150.00 ✅\n",
            "\n",
            "Overall Net Gain Occurred? ✅\n",
            "============================================================\n",
            "\n",
            "\n",
            "============================================================\n",
            "Ticker: EVER | Trade Date: 2021-02-25 | Insider: Brainard David\n",
            "Starting Date Price: $49.82\n",
            "\n",
            "3 Days (target: 2021-02-28, actual: 2021-03-01): Price: $49.57 | Net Gain: $-0.25 | Percent Gain %-0.50 ❌\n",
            "1 Week (target: 2021-03-04, actual: 2021-03-04): Price: $40.81 | Net Gain: $-9.01 | Percent Gain %-18.09 ❌\n",
            "2 Weeks (target: 2021-03-11, actual: 2021-03-11): Price: $41.87 | Net Gain: $-7.95 | Percent Gain %-15.96 ❌\n",
            "1 Month (target: 2021-03-25, actual: 2021-03-25): Price: $34.51 | Net Gain: $-15.31 | Percent Gain %-30.73 ❌\n",
            "3 Months (target: 2021-05-25, actual: 2021-05-25): Price: $29.80 | Net Gain: $-20.02 | Percent Gain %-40.18 ❌\n",
            "6 Months (target: 2021-08-25, actual: 2021-08-25): Price: $18.79 | Net Gain: $-31.03 | Percent Gain %-62.28 ❌\n",
            "1 Year (target: 2022-02-25, actual: 2022-02-25): Price: $13.98 | Net Gain: $-35.84 | Percent Gain %-71.94 ❌\n",
            "\n",
            "Overall Net Gain Occurred? ❌\n",
            "============================================================\n",
            "\n",
            "\n",
            "============================================================\n",
            "Ticker: RMCF | Trade Date: 2020-10-20 | Insider: Sarlls Robert J\n"
          ]
        },
        {
          "output_type": "stream",
          "name": "stderr",
          "text": [
            "[*********************100%***********************]  1 of 1 completed\n",
            "[*********************100%***********************]  1 of 1 completed\n"
          ]
        },
        {
          "output_type": "stream",
          "name": "stdout",
          "text": [
            "Starting Date Price: $3.05\n",
            "\n",
            "3 Days (target: 2020-10-23, actual: 2020-10-23): Price: $2.96 | Net Gain: $-0.09 | Percent Gain %-2.95 ❌\n",
            "1 Week (target: 2020-10-27, actual: 2020-10-27): Price: $2.77 | Net Gain: $-0.28 | Percent Gain %-9.18 ❌\n",
            "2 Weeks (target: 2020-11-03, actual: 2020-11-03): Price: $2.88 | Net Gain: $-0.17 | Percent Gain %-5.57 ❌\n",
            "1 Month (target: 2020-11-20, actual: 2020-11-20): Price: $3.56 | Net Gain: $0.51 | Percent Gain %16.72 ✅\n",
            "3 Months (target: 2021-01-20, actual: 2021-01-20): Price: $4.65 | Net Gain: $1.60 | Percent Gain %52.46 ✅\n",
            "6 Months (target: 2021-04-20, actual: 2021-04-20): Price: $6.05 | Net Gain: $3.00 | Percent Gain %98.36 ✅\n",
            "1 Year (target: 2021-10-20, actual: 2021-10-20): Price: $8.34 | Net Gain: $5.29 | Percent Gain %173.44 ✅\n",
            "\n",
            "Overall Net Gain Occurred? ✅\n",
            "============================================================\n",
            "\n",
            "\n",
            "============================================================\n",
            "Ticker: ARCH | Trade Date: 2021-03-01 | Insider: Slone Deck\n"
          ]
        },
        {
          "output_type": "stream",
          "name": "stderr",
          "text": [
            "\r[*********************100%***********************]  1 of 1 completed\n"
          ]
        },
        {
          "output_type": "stream",
          "name": "stdout",
          "text": [
            "Starting Date Price: $38.42\n",
            "\n",
            "3 Days (target: 2021-03-04, actual: 2021-03-04): Price: $38.69 | Net Gain: $0.27 | Percent Gain %0.70 ✅\n",
            "1 Week (target: 2021-03-08, actual: 2021-03-08): Price: $40.07 | Net Gain: $1.65 | Percent Gain %4.28 ✅\n",
            "2 Weeks (target: 2021-03-15, actual: 2021-03-15): Price: $39.85 | Net Gain: $1.43 | Percent Gain %3.71 ✅\n",
            "1 Month (target: 2021-04-01, actual: 2021-04-01): Price: $34.49 | Net Gain: $-3.93 | Percent Gain %-10.24 ❌\n",
            "3 Months (target: 2021-06-01, actual: 2021-06-01): Price: $48.08 | Net Gain: $9.65 | Percent Gain %25.12 ✅\n",
            "6 Months (target: 2021-09-01, actual: 2021-09-01): Price: $64.25 | Net Gain: $25.82 | Percent Gain %67.20 ✅\n",
            "1 Year (target: 2022-03-01, actual: 2022-03-01): Price: $101.28 | Net Gain: $62.86 | Percent Gain %163.59 ✅\n",
            "\n",
            "Overall Net Gain Occurred? ✅\n",
            "============================================================\n",
            "\n",
            "\n",
            "============================================================\n",
            "Ticker: ONEW | Trade Date: 2020-09-22 | Insider: Troiano John\n",
            "Starting Date Price: $20.17\n",
            "\n",
            "3 Days (target: 2020-09-25, actual: 2020-09-25): Price: $19.39 | Net Gain: $-0.79 | Percent Gain %-3.89 ❌\n",
            "1 Week (target: 2020-09-29, actual: 2020-09-29): Price: $19.94 | Net Gain: $-0.23 | Percent Gain %-1.14 ❌\n",
            "2 Weeks (target: 2020-10-06, actual: 2020-10-06): Price: $20.85 | Net Gain: $0.68 | Percent Gain %3.37 ✅\n",
            "1 Month (target: 2020-10-22, actual: 2020-10-22): Price: $18.51 | Net Gain: $-1.67 | Percent Gain %-8.26 ❌\n",
            "3 Months (target: 2020-12-22, actual: 2020-12-22): Price: $29.06 | Net Gain: $8.89 | Percent Gain %44.06 ✅\n",
            "6 Months (target: 2021-03-22, actual: 2021-03-22): Price: $39.05 | Net Gain: $18.88 | Percent Gain %93.59 ✅\n",
            "1 Year (target: 2021-09-22, actual: 2021-09-22): Price: $39.44 | Net Gain: $19.27 | Percent Gain %95.51 ✅\n",
            "\n",
            "Overall Net Gain Occurred? ✅\n",
            "============================================================\n",
            "\n",
            "\n",
            "============================================================\n",
            "Ticker: BMTX | Trade Date: 2021-01-04 | Insider: Dunklau Andrew J.\n"
          ]
        },
        {
          "output_type": "stream",
          "name": "stderr",
          "text": [
            "\r[*********************100%***********************]  1 of 1 completed\n"
          ]
        },
        {
          "output_type": "stream",
          "name": "stdout",
          "text": [
            "Starting Date Price: $13.67\n",
            "\n",
            "3 Days (target: 2021-01-07, actual: 2021-01-07): Price: $13.67 | Net Gain: $0.00 | Percent Gain %0.00 ❌\n",
            "1 Week (target: 2021-01-11, actual: 2021-01-11): Price: $13.85 | Net Gain: $0.18 | Percent Gain %1.32 ✅\n",
            "2 Weeks (target: 2021-01-18, actual: 2021-01-19): Price: $17.17 | Net Gain: $3.50 | Percent Gain %25.60 ✅\n",
            "1 Month (target: 2021-02-04, actual: 2021-02-04): Price: $14.43 | Net Gain: $0.76 | Percent Gain %5.56 ✅\n",
            "3 Months (target: 2021-04-04, actual: 2021-04-05): Price: $11.89 | Net Gain: $-1.78 | Percent Gain %-13.02 ❌\n",
            "6 Months (target: 2021-07-04, actual: 2021-07-06): Price: $11.95 | Net Gain: $-1.72 | Percent Gain %-12.58 ❌\n",
            "1 Year (target: 2022-01-04, actual: 2022-01-04): Price: $9.42 | Net Gain: $-4.25 | Percent Gain %-31.09 ❌\n",
            "\n",
            "Overall Net Gain Occurred? ✅\n",
            "============================================================\n",
            "\n",
            "\n",
            "============================================================\n",
            "Ticker: SRLP | Trade Date: 2020-11-18 | Insider: Glendon David C.\n"
          ]
        },
        {
          "output_type": "stream",
          "name": "stderr",
          "text": [
            "\r[*********************100%***********************]  1 of 1 completed\n",
            "ERROR:yfinance:\n",
            "1 Failed download:\n",
            "ERROR:yfinance:['SRLP']: YFTzMissingError('$%ticker%: possibly delisted; no timezone found')\n",
            "[*********************100%***********************]  1 of 1 completed\n"
          ]
        },
        {
          "output_type": "stream",
          "name": "stdout",
          "text": [
            "No historical data found for SRLP.\n",
            "\n",
            "============================================================\n",
            "Ticker: BKUH | Trade Date: 2021-01-05 | Insider: Inter-M Traders Fz, Lle\n",
            "Starting Date Price: $8.40\n",
            "\n",
            "3 Days (target: 2021-01-08, actual: 2021-01-08): Price: $8.40 | Net Gain: $0.00 | Percent Gain %0.00 ❌\n",
            "1 Week (target: 2021-01-12, actual: 2021-01-12): Price: $7.40 | Net Gain: $-1.00 | Percent Gain %-11.90 ❌\n",
            "2 Weeks (target: 2021-01-19, actual: 2021-01-19): Price: $7.40 | Net Gain: $-1.00 | Percent Gain %-11.90 ❌\n",
            "1 Month (target: 2021-02-05, actual: 2021-02-05): Price: $7.40 | Net Gain: $-1.00 | Percent Gain %-11.90 ❌\n",
            "3 Months (target: 2021-04-05, actual: 2021-04-05): Price: $12.00 | Net Gain: $3.60 | Percent Gain %42.86 ✅\n",
            "6 Months (target: 2021-07-05, actual: 2021-07-06): Price: $3.40 | Net Gain: $-5.00 | Percent Gain %-59.52 ❌\n",
            "1 Year (target: 2022-01-05, actual: 2022-01-05): Price: $2.60 | Net Gain: $-5.80 | Percent Gain %-69.05 ❌\n",
            "\n",
            "Overall Net Gain Occurred? ✅\n",
            "============================================================\n",
            "\n",
            "\n",
            "============================================================\n",
            "Ticker: EAR | Trade Date: 2020-10-20 | Insider: Wu David James\n"
          ]
        },
        {
          "output_type": "stream",
          "name": "stderr",
          "text": [
            "\r[*********************100%***********************]  1 of 1 completed\n",
            "ERROR:yfinance:\n",
            "1 Failed download:\n",
            "ERROR:yfinance:['EAR']: YFTzMissingError('$%ticker%: possibly delisted; no timezone found')\n",
            "[*********************100%***********************]  1 of 1 completed\n"
          ]
        },
        {
          "output_type": "stream",
          "name": "stdout",
          "text": [
            "No historical data found for EAR.\n",
            "\n",
            "============================================================\n",
            "Ticker: HLLY | Trade Date: 2020-07-16 | Insider: Empower Sponsor Holdings LLC\n",
            "Starting Date Price: $9.75\n",
            "\n",
            "3 Days (target: 2020-07-19, actual: 2020-11-27): Price: $9.75 | Net Gain: $0.00 | Percent Gain %0.00 ❌\n",
            "1 Week (target: 2020-07-23, actual: 2020-11-27): Price: $9.75 | Net Gain: $0.00 | Percent Gain %0.00 ❌\n",
            "2 Weeks (target: 2020-07-30, actual: 2020-11-27): Price: $9.75 | Net Gain: $0.00 | Percent Gain %0.00 ❌\n",
            "1 Month (target: 2020-08-16, actual: 2020-11-27): Price: $9.75 | Net Gain: $0.00 | Percent Gain %0.00 ❌\n",
            "3 Months (target: 2020-10-16, actual: 2020-11-27): Price: $9.75 | Net Gain: $0.00 | Percent Gain %0.00 ❌\n",
            "6 Months (target: 2021-01-16, actual: 2021-01-19): Price: $10.28 | Net Gain: $0.53 | Percent Gain %5.44 ✅\n",
            "1 Year (target: 2021-07-16, actual: 2021-07-16): Price: $9.80 | Net Gain: $0.05 | Percent Gain %0.51 ✅\n",
            "\n",
            "Overall Net Gain Occurred? ✅\n",
            "============================================================\n",
            "\n",
            "\n",
            "============================================================\n",
            "Ticker: LBRDA | Trade Date: 2021-02-23 | Insider: Frist Julie D.\n"
          ]
        },
        {
          "output_type": "stream",
          "name": "stderr",
          "text": [
            "\r[*********************100%***********************]  1 of 1 completed\n"
          ]
        },
        {
          "output_type": "stream",
          "name": "stdout",
          "text": [
            "Starting Date Price: $143.38\n",
            "\n",
            "3 Days (target: 2021-02-26, actual: 2021-02-26): Price: $145.36 | Net Gain: $1.98 | Percent Gain %1.38 ✅\n",
            "1 Week (target: 2021-03-02, actual: 2021-03-02): Price: $146.78 | Net Gain: $3.40 | Percent Gain %2.37 ✅\n",
            "2 Weeks (target: 2021-03-09, actual: 2021-03-09): Price: $146.08 | Net Gain: $2.70 | Percent Gain %1.88 ✅\n",
            "1 Month (target: 2021-03-23, actual: 2021-03-23): Price: $151.22 | Net Gain: $7.84 | Percent Gain %5.47 ✅\n",
            "3 Months (target: 2021-05-23, actual: 2021-05-24): Price: $162.87 | Net Gain: $19.49 | Percent Gain %13.59 ✅\n",
            "6 Months (target: 2021-08-23, actual: 2021-08-23): Price: $182.27 | Net Gain: $38.89 | Percent Gain %27.12 ✅\n",
            "1 Year (target: 2022-02-23, actual: 2022-02-23): Price: $138.37 | Net Gain: $-5.01 | Percent Gain %-3.49 ❌\n",
            "\n",
            "Overall Net Gain Occurred? ✅\n",
            "============================================================\n",
            "\n",
            "\n",
            "============================================================\n",
            "Ticker: DSKE | Trade Date: 2020-09-08 | Insider: Shepko Jonathan\n"
          ]
        },
        {
          "output_type": "stream",
          "name": "stderr",
          "text": [
            "\r[*********************100%***********************]  1 of 1 completed\n",
            "ERROR:yfinance:\n",
            "1 Failed download:\n",
            "ERROR:yfinance:['DSKE']: YFTzMissingError('$%ticker%: possibly delisted; no timezone found')\n",
            "[*********************100%***********************]  1 of 1 completed\n",
            "[*********************100%***********************]  1 of 1 completed"
          ]
        },
        {
          "output_type": "stream",
          "name": "stdout",
          "text": [
            "No historical data found for DSKE.\n",
            "\n",
            "============================================================\n",
            "Ticker: LEGH | Trade Date: 2020-09-08 | Insider: Burt Jeffrey V\n",
            "Starting Date Price: $14.97\n",
            "\n",
            "3 Days (target: 2020-09-11, actual: 2020-09-11): Price: $14.63 | Net Gain: $-0.34 | Percent Gain %-2.27 ❌\n",
            "1 Week (target: 2020-09-15, actual: 2020-09-15): Price: $14.83 | Net Gain: $-0.14 | Percent Gain %-0.94 ❌\n",
            "2 Weeks (target: 2020-09-22, actual: 2020-09-22): Price: $13.33 | Net Gain: $-1.64 | Percent Gain %-10.96 ❌\n",
            "1 Month (target: 2020-10-08, actual: 2020-10-08): Price: $14.57 | Net Gain: $-0.40 | Percent Gain %-2.67 ❌\n",
            "3 Months (target: 2020-12-08, actual: 2020-12-08): Price: $14.95 | Net Gain: $-0.02 | Percent Gain %-0.13 ❌\n",
            "6 Months (target: 2021-03-08, actual: 2021-03-08): Price: $15.49 | Net Gain: $0.52 | Percent Gain %3.47 ✅\n",
            "1 Year (target: 2021-09-08, actual: 2021-09-08): Price: $19.00 | Net Gain: $4.03 | Percent Gain %26.92 ✅\n",
            "\n",
            "Overall Net Gain Occurred? ✅\n",
            "============================================================\n",
            "\n",
            "\n",
            "============================================================\n",
            "Ticker: BILL | Trade Date: 2020-05-27 | Insider: Rettig John R.\n"
          ]
        },
        {
          "output_type": "stream",
          "name": "stderr",
          "text": [
            "\n",
            "[*********************100%***********************]  1 of 1 completed\n"
          ]
        },
        {
          "output_type": "stream",
          "name": "stdout",
          "text": [
            "Starting Date Price: $64.25\n",
            "\n",
            "3 Days (target: 2020-05-30, actual: 2020-06-01): Price: $72.53 | Net Gain: $8.28 | Percent Gain %12.89 ✅\n",
            "1 Week (target: 2020-06-03, actual: 2020-06-03): Price: $72.86 | Net Gain: $8.61 | Percent Gain %13.40 ✅\n",
            "2 Weeks (target: 2020-06-10, actual: 2020-06-10): Price: $75.00 | Net Gain: $10.75 | Percent Gain %16.73 ✅\n",
            "1 Month (target: 2020-06-27, actual: 2020-06-29): Price: $89.76 | Net Gain: $25.51 | Percent Gain %39.70 ✅\n",
            "3 Months (target: 2020-08-27, actual: 2020-08-27): Price: $106.06 | Net Gain: $41.81 | Percent Gain %65.07 ✅\n",
            "6 Months (target: 2020-11-27, actual: 2020-11-27): Price: $118.98 | Net Gain: $54.73 | Percent Gain %85.18 ✅\n",
            "1 Year (target: 2021-05-27, actual: 2021-05-27): Price: $147.40 | Net Gain: $83.15 | Percent Gain %129.42 ✅\n",
            "\n",
            "Overall Net Gain Occurred? ✅\n",
            "============================================================\n",
            "\n",
            "\n",
            "============================================================\n",
            "Ticker: UAVS | Trade Date: 2021-02-01 | Insider: Mooney Barrett\n",
            "Starting Date Price: $11500.00\n",
            "\n",
            "3 Days (target: 2021-02-04, actual: 2021-02-04): Price: $12410.00 | Net Gain: $910.00 | Percent Gain %7.91 ✅\n",
            "1 Week (target: 2021-02-08, actual: 2021-02-08): Price: $12000.00 | Net Gain: $500.00 | Percent Gain %4.35 ✅\n",
            "2 Weeks (target: 2021-02-15, actual: 2021-02-16): Price: $14820.00 | Net Gain: $3320.00 | Percent Gain %28.87 ✅\n",
            "1 Month (target: 2021-03-01, actual: 2021-03-01): Price: $8310.00 | Net Gain: $-3190.00 | Percent Gain %-27.74 ❌\n",
            "3 Months (target: 2021-05-01, actual: 2021-05-03): Price: $5560.00 | Net Gain: $-5940.00 | Percent Gain %-51.65 ❌\n",
            "6 Months (target: 2021-08-01, actual: 2021-08-02): Price: $4010.00 | Net Gain: $-7490.00 | Percent Gain %-65.13 ❌\n",
            "1 Year (target: 2022-02-01, actual: 2022-02-01): Price: $1240.00 | Net Gain: $-10260.00 | Percent Gain %-89.22 ❌\n",
            "\n",
            "Overall Net Gain Occurred? ✅\n",
            "============================================================\n",
            "\n",
            "\n",
            "============================================================\n",
            "Ticker: UAVS | Trade Date: 2021-04-01 | Insider: Gardner Thomas J\n"
          ]
        },
        {
          "output_type": "stream",
          "name": "stderr",
          "text": [
            "[*********************100%***********************]  1 of 1 completed\n",
            "[*********************100%***********************]  1 of 1 completed\n",
            "[*********************100%***********************]  1 of 1 completed\n"
          ]
        },
        {
          "output_type": "stream",
          "name": "stdout",
          "text": [
            "Starting Date Price: $7310.00\n",
            "\n",
            "3 Days (target: 2021-04-04, actual: 2021-04-05): Price: $8350.00 | Net Gain: $1040.00 | Percent Gain %14.23 ✅\n",
            "1 Week (target: 2021-04-08, actual: 2021-04-08): Price: $6830.00 | Net Gain: $-480.00 | Percent Gain %-6.57 ❌\n",
            "2 Weeks (target: 2021-04-15, actual: 2021-04-15): Price: $5040.00 | Net Gain: $-2270.00 | Percent Gain %-31.05 ❌\n",
            "1 Month (target: 2021-05-01, actual: 2021-05-03): Price: $5560.00 | Net Gain: $-1750.00 | Percent Gain %-23.94 ❌\n",
            "3 Months (target: 2021-07-01, actual: 2021-07-01): Price: $4990.00 | Net Gain: $-2320.00 | Percent Gain %-31.74 ❌\n",
            "6 Months (target: 2021-10-01, actual: 2021-10-01): Price: $3050.00 | Net Gain: $-4260.00 | Percent Gain %-58.28 ❌\n",
            "1 Year (target: 2022-04-01, actual: 2022-04-01): Price: $1150.00 | Net Gain: $-6160.00 | Percent Gain %-84.27 ❌\n",
            "\n",
            "Overall Net Gain Occurred? ✅\n",
            "============================================================\n",
            "\n",
            "\n",
            "============================================================\n",
            "Ticker: UAVS | Trade Date: 2021-02-23 | Insider: Begley Grant A\n",
            "Starting Date Price: $8010.00\n",
            "\n",
            "3 Days (target: 2021-02-26, actual: 2021-02-26): Price: $8100.00 | Net Gain: $90.00 | Percent Gain %1.12 ✅\n",
            "1 Week (target: 2021-03-02, actual: 2021-03-02): Price: $8080.00 | Net Gain: $70.00 | Percent Gain %0.87 ✅\n",
            "2 Weeks (target: 2021-03-09, actual: 2021-03-09): Price: $7650.00 | Net Gain: $-360.00 | Percent Gain %-4.49 ❌\n",
            "1 Month (target: 2021-03-23, actual: 2021-03-23): Price: $7150.00 | Net Gain: $-860.00 | Percent Gain %-10.74 ❌\n",
            "3 Months (target: 2021-05-23, actual: 2021-05-24): Price: $4690.00 | Net Gain: $-3320.00 | Percent Gain %-41.45 ❌\n",
            "6 Months (target: 2021-08-23, actual: 2021-08-23): Price: $3290.00 | Net Gain: $-4720.00 | Percent Gain %-58.93 ❌\n",
            "1 Year (target: 2022-02-23, actual: 2022-02-23): Price: $920.00 | Net Gain: $-7090.00 | Percent Gain %-88.51 ❌\n",
            "\n",
            "Overall Net Gain Occurred? ✅\n",
            "============================================================\n",
            "\n",
            "\n",
            "============================================================\n",
            "Ticker: NROM | Trade Date: 2020-06-18 | Insider: Wildman William\n",
            "Starting Date Price: $0.34\n",
            "\n",
            "3 Days (target: 2020-06-21, actual: 2020-06-22): Price: $0.34 | Net Gain: $0.00 | Percent Gain %0.00 ❌\n",
            "1 Week (target: 2020-06-25, actual: 2020-06-25): Price: $0.36 | Net Gain: $0.02 | Percent Gain %5.88 ✅\n",
            "2 Weeks (target: 2020-07-02, actual: 2020-07-02): Price: $0.32 | Net Gain: $-0.02 | Percent Gain %-5.88 ❌\n",
            "1 Month (target: 2020-07-18, actual: 2020-07-20): Price: $0.34 | Net Gain: $0.00 | Percent Gain %0.00 ❌\n",
            "3 Months (target: 2020-09-18, actual: 2020-09-18): Price: $0.36 | Net Gain: $0.02 | Percent Gain %5.88 ✅\n",
            "6 Months (target: 2020-12-18, actual: 2020-12-18): Price: $0.35 | Net Gain: $0.01 | Percent Gain %2.94 ✅\n",
            "1 Year (target: 2021-06-18, actual: 2021-06-18): Price: $0.69 | Net Gain: $0.35 | Percent Gain %102.94 ✅\n",
            "\n",
            "Overall Net Gain Occurred? ✅\n",
            "============================================================\n",
            "\n",
            "\n",
            "============================================================\n",
            "Ticker: SLRX | Trade Date: 2020-08-21 | Insider: Hanish Arnold C\n"
          ]
        },
        {
          "output_type": "stream",
          "name": "stderr",
          "text": [
            "\r[*********************100%***********************]  1 of 1 completed\n"
          ]
        },
        {
          "output_type": "stream",
          "name": "stdout",
          "text": [
            "Starting Date Price: $193.20\n",
            "\n",
            "3 Days (target: 2020-08-24, actual: 2020-08-24): Price: $188.20 | Net Gain: $-5.00 | Percent Gain %-2.59 ❌\n",
            "1 Week (target: 2020-08-28, actual: 2020-08-28): Price: $191.20 | Net Gain: $-2.00 | Percent Gain %-1.04 ❌\n",
            "2 Weeks (target: 2020-09-04, actual: 2020-09-04): Price: $162.00 | Net Gain: $-31.20 | Percent Gain %-16.15 ❌\n",
            "1 Month (target: 2020-09-21, actual: 2020-09-21): Price: $167.00 | Net Gain: $-26.20 | Percent Gain %-13.56 ❌\n",
            "3 Months (target: 2020-11-21, actual: 2020-11-23): Price: $133.20 | Net Gain: $-60.00 | Percent Gain %-31.06 ❌\n",
            "6 Months (target: 2021-02-21, actual: 2021-02-22): Price: $432.00 | Net Gain: $238.80 | Percent Gain %123.60 ✅\n",
            "1 Year (target: 2021-08-21, actual: 2021-08-23): Price: $173.20 | Net Gain: $-20.00 | Percent Gain %-10.35 ❌\n",
            "\n",
            "Overall Net Gain Occurred? ✅\n",
            "============================================================\n",
            "\n",
            "\n",
            "============================================================\n",
            "Ticker: ANGN | Trade Date: 2021-02-09 | Insider: Venkatesan Jay\n"
          ]
        },
        {
          "output_type": "stream",
          "name": "stderr",
          "text": [
            "\r[*********************100%***********************]  1 of 1 completed\n",
            "ERROR:yfinance:\n",
            "1 Failed download:\n",
            "ERROR:yfinance:['ANGN']: YFTzMissingError('$%ticker%: possibly delisted; no timezone found')\n",
            "[*********************100%***********************]  1 of 1 completed\n",
            "ERROR:yfinance:\n",
            "1 Failed download:\n",
            "ERROR:yfinance:['ANGN']: YFTzMissingError('$%ticker%: possibly delisted; no timezone found')\n",
            "[*********************100%***********************]  1 of 1 completed\n"
          ]
        },
        {
          "output_type": "stream",
          "name": "stdout",
          "text": [
            "No historical data found for ANGN.\n",
            "\n",
            "============================================================\n",
            "Ticker: ANGN | Trade Date: 2021-02-09 | Insider: Ganzi Victor F\n",
            "No historical data found for ANGN.\n",
            "\n",
            "============================================================\n",
            "Ticker: SSTI | Trade Date: 2020-11-24 | Insider: Golzadeh Nasim\n",
            "Starting Date Price: $33.30\n",
            "\n",
            "3 Days (target: 2020-11-27, actual: 2020-11-27): Price: $32.35 | Net Gain: $-0.95 | Percent Gain %-2.85 ❌\n",
            "1 Week (target: 2020-12-01, actual: 2020-12-01): Price: $33.52 | Net Gain: $0.22 | Percent Gain %0.66 ✅\n",
            "2 Weeks (target: 2020-12-08, actual: 2020-12-08): Price: $33.92 | Net Gain: $0.62 | Percent Gain %1.86 ✅\n",
            "1 Month (target: 2020-12-24, actual: 2020-12-24): Price: $38.49 | Net Gain: $5.19 | Percent Gain %15.59 ✅\n",
            "3 Months (target: 2021-02-24, actual: 2021-02-24): Price: $46.08 | Net Gain: $12.78 | Percent Gain %38.38 ✅\n",
            "6 Months (target: 2021-05-24, actual: 2021-05-24): Price: $41.96 | Net Gain: $8.66 | Percent Gain %26.01 ✅\n",
            "1 Year (target: 2021-11-24, actual: 2021-11-24): Price: $35.16 | Net Gain: $1.86 | Percent Gain %5.59 ✅\n",
            "\n",
            "Overall Net Gain Occurred? ✅\n",
            "============================================================\n",
            "\n",
            "\n",
            "============================================================\n",
            "Ticker: PRPL | Trade Date: 2020-11-23 | Insider: Anthos Pano\n"
          ]
        },
        {
          "output_type": "stream",
          "name": "stderr",
          "text": [
            "[*********************100%***********************]  1 of 1 completed\n",
            "[*********************100%***********************]  1 of 1 completed\n"
          ]
        },
        {
          "output_type": "stream",
          "name": "stdout",
          "text": [
            "Starting Date Price: $29.58\n",
            "\n",
            "3 Days (target: 2020-11-26, actual: 2020-11-27): Price: $30.66 | Net Gain: $1.08 | Percent Gain %3.65 ✅\n",
            "1 Week (target: 2020-11-30, actual: 2020-11-30): Price: $29.81 | Net Gain: $0.23 | Percent Gain %0.78 ✅\n",
            "2 Weeks (target: 2020-12-07, actual: 2020-12-07): Price: $27.98 | Net Gain: $-1.60 | Percent Gain %-5.41 ❌\n",
            "1 Month (target: 2020-12-23, actual: 2020-12-23): Price: $30.85 | Net Gain: $1.27 | Percent Gain %4.29 ✅\n",
            "3 Months (target: 2021-02-23, actual: 2021-02-23): Price: $37.04 | Net Gain: $7.46 | Percent Gain %25.21 ✅\n",
            "6 Months (target: 2021-05-23, actual: 2021-05-24): Price: $28.89 | Net Gain: $-0.69 | Percent Gain %-2.33 ❌\n",
            "1 Year (target: 2021-11-23, actual: 2021-11-23): Price: $11.32 | Net Gain: $-18.26 | Percent Gain %-61.74 ❌\n",
            "\n",
            "Overall Net Gain Occurred? ✅\n",
            "============================================================\n",
            "\n",
            "\n",
            "============================================================\n",
            "Ticker: SCI | Trade Date: 2020-08-03 | Insider: Ochoa Ellen\n",
            "Starting Date Price: $41.40\n",
            "\n",
            "3 Days (target: 2020-08-06, actual: 2020-08-06): Price: $43.28 | Net Gain: $1.88 | Percent Gain %4.54 ✅\n",
            "1 Week (target: 2020-08-10, actual: 2020-08-10): Price: $44.07 | Net Gain: $2.67 | Percent Gain %6.45 ✅\n",
            "2 Weeks (target: 2020-08-17, actual: 2020-08-17): Price: $43.88 | Net Gain: $2.48 | Percent Gain %6.00 ✅\n",
            "1 Month (target: 2020-09-03, actual: 2020-09-03): Price: $42.26 | Net Gain: $0.86 | Percent Gain %2.07 ✅\n",
            "3 Months (target: 2020-11-03, actual: 2020-11-03): Price: $45.72 | Net Gain: $4.32 | Percent Gain %10.44 ✅\n",
            "6 Months (target: 2021-02-03, actual: 2021-02-03): Price: $47.88 | Net Gain: $6.48 | Percent Gain %15.65 ✅\n",
            "1 Year (target: 2021-08-03, actual: 2021-08-03): Price: $60.17 | Net Gain: $18.77 | Percent Gain %45.34 ✅\n",
            "\n",
            "Overall Net Gain Occurred? ✅\n",
            "============================================================\n",
            "\n",
            "\n",
            "============================================================\n",
            "Ticker: CTO | Trade Date: 2021-02-26 | Insider: Vorakoun Lisa\n"
          ]
        },
        {
          "output_type": "stream",
          "name": "stderr",
          "text": [
            "[*********************100%***********************]  1 of 1 completed\n",
            "[*********************100%***********************]  1 of 1 completed\n"
          ]
        },
        {
          "output_type": "stream",
          "name": "stdout",
          "text": [
            "Starting Date Price: $12.56\n",
            "\n",
            "3 Days (target: 2021-03-01, actual: 2021-03-01): Price: $12.77 | Net Gain: $0.22 | Percent Gain %1.72 ✅\n",
            "1 Week (target: 2021-03-05, actual: 2021-03-05): Price: $13.10 | Net Gain: $0.55 | Percent Gain %4.35 ✅\n",
            "2 Weeks (target: 2021-03-12, actual: 2021-03-12): Price: $13.60 | Net Gain: $1.05 | Percent Gain %8.33 ✅\n",
            "1 Month (target: 2021-03-26, actual: 2021-03-26): Price: $12.66 | Net Gain: $0.10 | Percent Gain %0.79 ✅\n",
            "3 Months (target: 2021-05-26, actual: 2021-05-26): Price: $13.08 | Net Gain: $0.52 | Percent Gain %4.15 ✅\n",
            "6 Months (target: 2021-08-26, actual: 2021-08-26): Price: $13.55 | Net Gain: $0.99 | Percent Gain %7.90 ✅\n",
            "1 Year (target: 2022-02-26, actual: 2022-02-28): Price: $16.35 | Net Gain: $3.79 | Percent Gain %30.21 ✅\n",
            "\n",
            "Overall Net Gain Occurred? ✅\n",
            "============================================================\n",
            "\n",
            "\n",
            "============================================================\n",
            "Ticker: ESTA | Trade Date: 2021-03-17 | Insider: Lewin Nicholas Sheridan\n",
            "Starting Date Price: $59.57\n",
            "\n",
            "3 Days (target: 2021-03-20, actual: 2021-03-22): Price: $63.04 | Net Gain: $3.47 | Percent Gain %5.83 ✅\n",
            "1 Week (target: 2021-03-24, actual: 2021-03-24): Price: $64.64 | Net Gain: $5.07 | Percent Gain %8.51 ✅\n",
            "2 Weeks (target: 2021-03-31, actual: 2021-03-31): Price: $62.53 | Net Gain: $2.96 | Percent Gain %4.97 ✅\n",
            "1 Month (target: 2021-04-17, actual: 2021-04-19): Price: $67.00 | Net Gain: $7.43 | Percent Gain %12.47 ✅\n",
            "3 Months (target: 2021-06-17, actual: 2021-06-17): Price: $81.60 | Net Gain: $22.03 | Percent Gain %36.98 ✅\n",
            "6 Months (target: 2021-09-17, actual: 2021-09-17): Price: $72.70 | Net Gain: $13.13 | Percent Gain %22.04 ✅\n",
            "1 Year (target: 2022-03-17, actual: 2022-03-17): Price: $59.98 | Net Gain: $0.41 | Percent Gain %0.69 ✅\n",
            "\n",
            "Overall Net Gain Occurred? ✅\n",
            "============================================================\n",
            "\n",
            "\n",
            "============================================================\n",
            "Ticker: AMWL | Trade Date: 2020-09-17 | Insider: Slavin Peter L.\n"
          ]
        },
        {
          "output_type": "stream",
          "name": "stderr",
          "text": [
            "[*********************100%***********************]  1 of 1 completed\n",
            "[*********************100%***********************]  1 of 1 completed\n",
            "[*********************100%***********************]  1 of 1 completed\n",
            "[*********************100%***********************]  1 of 1 completed\n",
            "[*********************100%***********************]  1 of 1 completed\n"
          ]
        },
        {
          "output_type": "stream",
          "name": "stdout",
          "text": [
            "Starting Date Price: $461.40\n",
            "\n",
            "3 Days (target: 2020-09-20, actual: 2020-09-21): Price: $456.00 | Net Gain: $-5.40 | Percent Gain %-1.17 ❌\n",
            "1 Week (target: 2020-09-24, actual: 2020-09-24): Price: $554.40 | Net Gain: $93.00 | Percent Gain %20.16 ✅\n",
            "2 Weeks (target: 2020-10-01, actual: 2020-10-01): Price: $584.80 | Net Gain: $123.40 | Percent Gain %26.74 ✅\n",
            "1 Month (target: 2020-10-17, actual: 2020-10-19): Price: $697.60 | Net Gain: $236.20 | Percent Gain %51.19 ✅\n",
            "3 Months (target: 2020-12-17, actual: 2020-12-17): Price: $566.80 | Net Gain: $105.40 | Percent Gain %22.84 ✅\n",
            "6 Months (target: 2021-03-17, actual: 2021-03-17): Price: $420.80 | Net Gain: $-40.60 | Percent Gain %-8.80 ❌\n",
            "1 Year (target: 2021-09-17, actual: 2021-09-17): Price: $225.00 | Net Gain: $-236.40 | Percent Gain %-51.24 ❌\n",
            "\n",
            "Overall Net Gain Occurred? ✅\n",
            "============================================================\n",
            "\n",
            "\n",
            "============================================================\n",
            "Ticker: AMWL | Trade Date: 2020-09-17 | Insider: Schlegel Stephen J.\n",
            "Starting Date Price: $461.40\n",
            "\n",
            "3 Days (target: 2020-09-20, actual: 2020-09-21): Price: $456.00 | Net Gain: $-5.40 | Percent Gain %-1.17 ❌\n",
            "1 Week (target: 2020-09-24, actual: 2020-09-24): Price: $554.40 | Net Gain: $93.00 | Percent Gain %20.16 ✅\n",
            "2 Weeks (target: 2020-10-01, actual: 2020-10-01): Price: $584.80 | Net Gain: $123.40 | Percent Gain %26.74 ✅\n",
            "1 Month (target: 2020-10-17, actual: 2020-10-19): Price: $697.60 | Net Gain: $236.20 | Percent Gain %51.19 ✅\n",
            "3 Months (target: 2020-12-17, actual: 2020-12-17): Price: $566.80 | Net Gain: $105.40 | Percent Gain %22.84 ✅\n",
            "6 Months (target: 2021-03-17, actual: 2021-03-17): Price: $420.80 | Net Gain: $-40.60 | Percent Gain %-8.80 ❌\n",
            "1 Year (target: 2021-09-17, actual: 2021-09-17): Price: $225.00 | Net Gain: $-236.40 | Percent Gain %-51.24 ❌\n",
            "\n",
            "Overall Net Gain Occurred? ✅\n",
            "============================================================\n",
            "\n",
            "\n",
            "============================================================\n",
            "Ticker: AMWL | Trade Date: 2020-09-17 | Insider: Patrick Deval L\n",
            "Starting Date Price: $461.40\n",
            "\n",
            "3 Days (target: 2020-09-20, actual: 2020-09-21): Price: $456.00 | Net Gain: $-5.40 | Percent Gain %-1.17 ❌\n",
            "1 Week (target: 2020-09-24, actual: 2020-09-24): Price: $554.40 | Net Gain: $93.00 | Percent Gain %20.16 ✅\n",
            "2 Weeks (target: 2020-10-01, actual: 2020-10-01): Price: $584.80 | Net Gain: $123.40 | Percent Gain %26.74 ✅\n",
            "1 Month (target: 2020-10-17, actual: 2020-10-19): Price: $697.60 | Net Gain: $236.20 | Percent Gain %51.19 ✅\n",
            "3 Months (target: 2020-12-17, actual: 2020-12-17): Price: $566.80 | Net Gain: $105.40 | Percent Gain %22.84 ✅\n",
            "6 Months (target: 2021-03-17, actual: 2021-03-17): Price: $420.80 | Net Gain: $-40.60 | Percent Gain %-8.80 ❌\n",
            "1 Year (target: 2021-09-17, actual: 2021-09-17): Price: $225.00 | Net Gain: $-236.40 | Percent Gain %-51.24 ❌\n",
            "\n",
            "Overall Net Gain Occurred? ✅\n",
            "============================================================\n",
            "\n",
            "\n",
            "============================================================\n",
            "Ticker: AMWL | Trade Date: 2020-09-17 | Insider: Ogrady Brendan P.\n",
            "Starting Date Price: $461.40\n",
            "\n",
            "3 Days (target: 2020-09-20, actual: 2020-09-21): Price: $456.00 | Net Gain: $-5.40 | Percent Gain %-1.17 ❌\n",
            "1 Week (target: 2020-09-24, actual: 2020-09-24): Price: $554.40 | Net Gain: $93.00 | Percent Gain %20.16 ✅\n",
            "2 Weeks (target: 2020-10-01, actual: 2020-10-01): Price: $584.80 | Net Gain: $123.40 | Percent Gain %26.74 ✅\n",
            "1 Month (target: 2020-10-17, actual: 2020-10-19): Price: $697.60 | Net Gain: $236.20 | Percent Gain %51.19 ✅\n",
            "3 Months (target: 2020-12-17, actual: 2020-12-17): Price: $566.80 | Net Gain: $105.40 | Percent Gain %22.84 ✅\n",
            "6 Months (target: 2021-03-17, actual: 2021-03-17): Price: $420.80 | Net Gain: $-40.60 | Percent Gain %-8.80 ❌\n",
            "1 Year (target: 2021-09-17, actual: 2021-09-17): Price: $225.00 | Net Gain: $-236.40 | Percent Gain %-51.24 ❌\n",
            "\n",
            "Overall Net Gain Occurred? ✅\n",
            "============================================================\n",
            "\n",
            "\n",
            "============================================================\n",
            "Ticker: AMWL | Trade Date: 2020-09-17 | Insider: Cosgrove Delos M.\n",
            "Starting Date Price: $461.40\n",
            "\n",
            "3 Days (target: 2020-09-20, actual: 2020-09-21): Price: $456.00 | Net Gain: $-5.40 | Percent Gain %-1.17 ❌\n",
            "1 Week (target: 2020-09-24, actual: 2020-09-24): Price: $554.40 | Net Gain: $93.00 | Percent Gain %20.16 ✅\n",
            "2 Weeks (target: 2020-10-01, actual: 2020-10-01): Price: $584.80 | Net Gain: $123.40 | Percent Gain %26.74 ✅\n",
            "1 Month (target: 2020-10-17, actual: 2020-10-19): Price: $697.60 | Net Gain: $236.20 | Percent Gain %51.19 ✅\n",
            "3 Months (target: 2020-12-17, actual: 2020-12-17): Price: $566.80 | Net Gain: $105.40 | Percent Gain %22.84 ✅\n",
            "6 Months (target: 2021-03-17, actual: 2021-03-17): Price: $420.80 | Net Gain: $-40.60 | Percent Gain %-8.80 ❌\n",
            "1 Year (target: 2021-09-17, actual: 2021-09-17): Price: $225.00 | Net Gain: $-236.40 | Percent Gain %-51.24 ❌\n",
            "\n",
            "Overall Net Gain Occurred? ✅\n",
            "============================================================\n",
            "\n",
            "\n",
            "============================================================\n",
            "Ticker: SNSE | Trade Date: 2021-03-23 | Insider: Peyer James\n"
          ]
        },
        {
          "output_type": "stream",
          "name": "stderr",
          "text": [
            "[*********************100%***********************]  1 of 1 completed\n",
            "[*********************100%***********************]  1 of 1 completed\n",
            "[*********************100%***********************]  1 of 1 completed\n",
            "[*********************100%***********************]  1 of 1 completed\n"
          ]
        },
        {
          "output_type": "stream",
          "name": "stdout",
          "text": [
            "Starting Date Price: $14.11\n",
            "\n",
            "3 Days (target: 2021-03-26, actual: 2021-03-26): Price: $13.30 | Net Gain: $-0.81 | Percent Gain %-5.74 ❌\n",
            "1 Week (target: 2021-03-30, actual: 2021-03-30): Price: $12.30 | Net Gain: $-1.81 | Percent Gain %-12.83 ❌\n",
            "2 Weeks (target: 2021-04-06, actual: 2021-04-06): Price: $14.24 | Net Gain: $0.13 | Percent Gain %0.92 ✅\n",
            "1 Month (target: 2021-04-23, actual: 2021-04-23): Price: $13.18 | Net Gain: $-0.93 | Percent Gain %-6.59 ❌\n",
            "3 Months (target: 2021-06-23, actual: 2021-06-23): Price: $11.13 | Net Gain: $-2.98 | Percent Gain %-21.12 ❌\n",
            "6 Months (target: 2021-09-23, actual: 2021-09-23): Price: $11.31 | Net Gain: $-2.80 | Percent Gain %-19.84 ❌\n",
            "1 Year (target: 2022-03-23, actual: 2022-03-23): Price: $2.46 | Net Gain: $-11.65 | Percent Gain %-82.57 ❌\n",
            "\n",
            "Overall Net Gain Occurred? ✅\n",
            "============================================================\n",
            "\n",
            "\n",
            "============================================================\n",
            "Ticker: SNSE | Trade Date: 2021-02-18 | Insider: Peyer James\n",
            "Starting Date Price: $19.92\n",
            "\n",
            "3 Days (target: 2021-02-21, actual: 2021-02-22): Price: $18.75 | Net Gain: $-1.17 | Percent Gain %-5.87 ❌\n",
            "1 Week (target: 2021-02-25, actual: 2021-02-25): Price: $16.29 | Net Gain: $-3.63 | Percent Gain %-18.22 ❌\n",
            "2 Weeks (target: 2021-03-04, actual: 2021-03-04): Price: $14.50 | Net Gain: $-5.42 | Percent Gain %-27.21 ❌\n",
            "1 Month (target: 2021-03-18, actual: 2021-03-18): Price: $15.51 | Net Gain: $-4.41 | Percent Gain %-22.14 ❌\n",
            "3 Months (target: 2021-05-18, actual: 2021-05-18): Price: $9.23 | Net Gain: $-10.69 | Percent Gain %-53.66 ❌\n",
            "6 Months (target: 2021-08-18, actual: 2021-08-18): Price: $8.04 | Net Gain: $-11.88 | Percent Gain %-59.64 ❌\n",
            "1 Year (target: 2022-02-18, actual: 2022-02-18): Price: $4.11 | Net Gain: $-15.81 | Percent Gain %-79.37 ❌\n",
            "\n",
            "Overall Net Gain Occurred? ❌\n",
            "============================================================\n",
            "\n",
            "\n",
            "============================================================\n",
            "Ticker: SNSE | Trade Date: 2021-03-23 | Insider: Cambrian Biopharma Inc\n",
            "Starting Date Price: $14.11\n",
            "\n",
            "3 Days (target: 2021-03-26, actual: 2021-03-26): Price: $13.30 | Net Gain: $-0.81 | Percent Gain %-5.74 ❌\n",
            "1 Week (target: 2021-03-30, actual: 2021-03-30): Price: $12.30 | Net Gain: $-1.81 | Percent Gain %-12.83 ❌\n",
            "2 Weeks (target: 2021-04-06, actual: 2021-04-06): Price: $14.24 | Net Gain: $0.13 | Percent Gain %0.92 ✅\n",
            "1 Month (target: 2021-04-23, actual: 2021-04-23): Price: $13.18 | Net Gain: $-0.93 | Percent Gain %-6.59 ❌\n",
            "3 Months (target: 2021-06-23, actual: 2021-06-23): Price: $11.13 | Net Gain: $-2.98 | Percent Gain %-21.12 ❌\n",
            "6 Months (target: 2021-09-23, actual: 2021-09-23): Price: $11.31 | Net Gain: $-2.80 | Percent Gain %-19.84 ❌\n",
            "1 Year (target: 2022-03-23, actual: 2022-03-23): Price: $2.46 | Net Gain: $-11.65 | Percent Gain %-82.57 ❌\n",
            "\n",
            "Overall Net Gain Occurred? ✅\n",
            "============================================================\n",
            "\n",
            "\n",
            "============================================================\n",
            "Ticker: SNSE | Trade Date: 2021-02-18 | Insider: Cambrian Biopharma Inc\n",
            "Starting Date Price: $19.92\n",
            "\n",
            "3 Days (target: 2021-02-21, actual: 2021-02-22): Price: $18.75 | Net Gain: $-1.17 | Percent Gain %-5.87 ❌\n",
            "1 Week (target: 2021-02-25, actual: 2021-02-25): Price: $16.29 | Net Gain: $-3.63 | Percent Gain %-18.22 ❌\n",
            "2 Weeks (target: 2021-03-04, actual: 2021-03-04): Price: $14.50 | Net Gain: $-5.42 | Percent Gain %-27.21 ❌\n",
            "1 Month (target: 2021-03-18, actual: 2021-03-18): Price: $15.51 | Net Gain: $-4.41 | Percent Gain %-22.14 ❌\n",
            "3 Months (target: 2021-05-18, actual: 2021-05-18): Price: $9.23 | Net Gain: $-10.69 | Percent Gain %-53.66 ❌\n",
            "6 Months (target: 2021-08-18, actual: 2021-08-18): Price: $8.04 | Net Gain: $-11.88 | Percent Gain %-59.64 ❌\n",
            "1 Year (target: 2022-02-18, actual: 2022-02-18): Price: $4.11 | Net Gain: $-15.81 | Percent Gain %-79.37 ❌\n",
            "\n",
            "Overall Net Gain Occurred? ❌\n",
            "============================================================\n",
            "\n",
            "\n",
            "============================================================\n",
            "Ticker: HPK | Trade Date: 2020-12-17 | Insider: Gustin Michael H.\n"
          ]
        },
        {
          "output_type": "stream",
          "name": "stderr",
          "text": [
            "[*********************100%***********************]  1 of 1 completed\n",
            "[*********************100%***********************]  1 of 1 completed"
          ]
        },
        {
          "output_type": "stream",
          "name": "stdout",
          "text": [
            "Starting Date Price: $13.66\n",
            "\n",
            "3 Days (target: 2020-12-20, actual: 2020-12-21): Price: $15.09 | Net Gain: $1.43 | Percent Gain %10.43 ✅\n",
            "1 Week (target: 2020-12-24, actual: 2020-12-24): Price: $14.15 | Net Gain: $0.49 | Percent Gain %3.62 ✅\n",
            "2 Weeks (target: 2020-12-31, actual: 2020-12-31): Price: $15.48 | Net Gain: $1.82 | Percent Gain %13.34 ✅\n",
            "1 Month (target: 2021-01-17, actual: 2021-01-19): Price: $18.38 | Net Gain: $4.72 | Percent Gain %34.56 ✅\n",
            "3 Months (target: 2021-03-17, actual: 2021-03-17): Price: $6.56 | Net Gain: $-7.10 | Percent Gain %-51.95 ❌\n",
            "6 Months (target: 2021-06-17, actual: 2021-06-17): Price: $9.69 | Net Gain: $-3.97 | Percent Gain %-29.03 ❌\n",
            "1 Year (target: 2021-12-17, actual: 2021-12-17): Price: $14.31 | Net Gain: $0.65 | Percent Gain %4.78 ✅\n",
            "\n",
            "Overall Net Gain Occurred? ✅\n",
            "============================================================\n",
            "\n",
            "\n",
            "============================================================\n",
            "Ticker: JSDA | Trade Date: 2020-05-20 | Insider: Sirkin Clive M\n",
            "Starting Date Price: $0.18\n",
            "\n",
            "3 Days (target: 2020-05-23, actual: 2020-05-26): Price: $0.17 | Net Gain: $-0.01 | Percent Gain %-7.10 ❌\n",
            "1 Week (target: 2020-05-27, actual: 2020-05-27): Price: $0.17 | Net Gain: $-0.01 | Percent Gain %-6.56 ❌\n",
            "2 Weeks (target: 2020-06-03, actual: 2020-06-03): Price: $0.17 | Net Gain: $-0.01 | Percent Gain %-4.37 ❌\n",
            "1 Month (target: 2020-06-20, actual: 2020-06-22): Price: $0.20 | Net Gain: $0.02 | Percent Gain %11.48 ✅\n",
            "3 Months (target: 2020-08-20, actual: 2020-08-20): Price: $0.18 | Net Gain: $-0.00 | Percent Gain %-1.64 ❌\n",
            "6 Months (target: 2020-11-20, actual: 2020-11-20): Price: $0.14 | Net Gain: $-0.05 | Percent Gain %-25.68 ❌\n",
            "1 Year (target: 2021-05-20, actual: 2021-05-20): Price: $0.58 | Net Gain: $0.40 | Percent Gain %219.13 ✅\n",
            "\n",
            "Overall Net Gain Occurred? ✅\n",
            "============================================================\n",
            "\n"
          ]
        },
        {
          "output_type": "stream",
          "name": "stderr",
          "text": [
            "\n"
          ]
        }
      ]
    }
  ]
}